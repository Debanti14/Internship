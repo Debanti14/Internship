{
 "cells": [
  {
   "cell_type": "code",
   "execution_count": 3,
   "id": "756557fc",
   "metadata": {},
   "outputs": [
    {
     "data": {
      "text/plain": [
       "<bound method WebElement.click of <selenium.webdriver.remote.webelement.WebElement (session=\"f729a2b832b0af5d43899fc316406977\", element=\"c6c5c0e7-3aa2-4490-a019-54be8ef183fe\")>>"
      ]
     },
     "execution_count": 3,
     "metadata": {},
     "output_type": "execute_result"
    }
   ],
   "source": [
    "#Question 1\n",
    "\n",
    "import selenium\n",
    "from selenium import webdriver\n",
    "from selenium.webdriver.common.by import By\n",
    "from selenium.webdriver.common.keys import Keys\n",
    "import pandas as pd\n",
    "import warnings\n",
    "warnings.filterwarnings(\"ignore\")\n",
    "\n",
    "#driver = webdriver.Chrome(r'C:\\Users\\HP\\Downloads\\chromedriver_win32\\chromedriver.exe')\n",
    "\n",
    "browser = webdriver.Chrome()\n",
    "browser.get('https://www.naukri.com/')\n",
    "\n",
    "url = 'https://www.naukri.com/'\n",
    "browser.get(url)\n",
    "\n",
    "search_job = browser.find_element(By.CLASS_NAME,\"suggestor-input \")\n",
    "search_job\n",
    "\n",
    "search_job.send_keys(\"Data Analyst\")\n",
    "\n",
    "search_locn = browser.find_element(By.XPATH,\"/html/body/div[1]/div[2]/div[3]/div/div/div[5]/div/div/div/input\")\n",
    "search_locn\n",
    "\n",
    "search_locn.send_keys(\"Bangalore\")\n",
    "\n",
    "search_btn = browser.find_element(By.XPATH,\"/html/body/div[1]/div[2]/div[3]/div/div/div[6]\")\n",
    "search_btn\n",
    "\n",
    "search_btn.click\n"
   ]
  },
  {
   "cell_type": "code",
   "execution_count": null,
   "id": "62cf41a2",
   "metadata": {},
   "outputs": [],
   "source": []
  }
 ],
 "metadata": {
  "kernelspec": {
   "display_name": "Python 3 (ipykernel)",
   "language": "python",
   "name": "python3"
  },
  "language_info": {
   "codemirror_mode": {
    "name": "ipython",
    "version": 3
   },
   "file_extension": ".py",
   "mimetype": "text/x-python",
   "name": "python",
   "nbconvert_exporter": "python",
   "pygments_lexer": "ipython3",
   "version": "3.9.7"
  }
 },
 "nbformat": 4,
 "nbformat_minor": 5
}
