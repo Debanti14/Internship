{
 "cells": [
  {
   "cell_type": "code",
   "execution_count": 1,
   "id": "23a79a4c",
   "metadata": {},
   "outputs": [],
   "source": [
    "# Import requried libraries\n",
    "import selenium\n",
    "import pandas as pd\n",
    "import numpy as np\n",
    "import time\n",
    "import requests\n",
    "import re\n",
    "from selenium import webdriver \n",
    "from selenium.webdriver.common.by import By\n",
    "from selenium.webdriver.common.keys import Keys\n",
    "from selenium.webdriver.support.ui import WebDriverWait\n",
    "from selenium.webdriver.common.action_chains import ActionChains\n",
    "from selenium.webdriver.support import expected_conditions as EC\n",
    "from selenium.common.exceptions import ElementNotVisibleException\n",
    "from selenium.common.exceptions import StaleElementReferenceException, NoSuchElementException, ElementClickInterceptedException\n",
    "import warnings\n",
    "warnings.filterwarnings('ignore')"
   ]
  },
  {
   "cell_type": "code",
   "execution_count": 2,
   "id": "86ceed7c",
   "metadata": {},
   "outputs": [],
   "source": [
    "#connecting chrome to \n",
    "driver = webdriver.Chrome(r\"C:\\Users\\HP\\Downloads\\chromedriver_win32 (2)\\chromedriver.exe\")"
   ]
  },
  {
   "cell_type": "code",
   "execution_count": 3,
   "id": "ceebd6e7",
   "metadata": {},
   "outputs": [],
   "source": [
    "# to get webpage of mentioned url\n",
    "url = \"https://www.yatra.com/\"\n",
    "driver.get(url)\n",
    "time.sleep(2)"
   ]
  },
  {
   "cell_type": "code",
   "execution_count": 4,
   "id": "efaa1d2a",
   "metadata": {},
   "outputs": [],
   "source": [
    "# Let's make a list of locations to scrap data\n",
    "loc_lst = ['New Delhi', 'Mumbai', 'Bangalore', 'Chennai','Hyderabad ','Goa ','Kolkata ', 'Pune', 'Jaipur ','Lucknow ']"
   ]
  },
  {
   "cell_type": "code",
   "execution_count": 10,
   "id": "ae4cfa69",
   "metadata": {},
   "outputs": [],
   "source": [
    "# Creating empty lists to fetch required data\n",
    "\n",
    "Airline_name=[]      # The name of the airline.\n",
    "Departure_time = []  # The time when the journey starts from the source.\n",
    "Arrival_time = []    # Time of arrival at the destination.\n",
    "Duration=[]          # Total duration taken by the flight to reach the destination from the source.\n",
    "Total_Stops = []           # Total stops between the source and destination.\n",
    "Source = []          # The source from which the service begins.\n",
    "Destination = []     # The destination where the service ends.\n",
    "Meal=[]              # Availability of meals in the flight.\n",
    "Price=[]             # The price of the flight ticket.\n",
    "Location=[]          # The location of the flights \n"
   ]
  },
  {
   "cell_type": "code",
   "execution_count": 11,
   "id": "074daa00",
   "metadata": {},
   "outputs": [],
   "source": [
    "# Scraping the data from the mentioned url\n",
    "\n",
    "# to get  webelement of source \n",
    "for x in loc_lst:\n",
    "    for y in loc_lst:\n",
    "        if x!=y:                 \n",
    "            Source = driver.find_element(By.XPATH,'//input[@class=\"required_field cityPadRight ac_input origin_ac\"]')\n",
    "            time.sleep(2)\n",
    "            Source.clear() \n",
    "            Source.send_keys(x)\n",
    "            time.sleep(2)\n",
    "            \n",
    "             # to get webelement of destination\n",
    "            Destination = driver.find_element(By.XPATH,'//input[@class=\"required_field cityPadLeft ac_input dest_ac\"]')\n",
    "            Destination.click()\n",
    "            Destination.clear()\n",
    "            time.sleep(2)\n",
    "            Destination.send_keys(y)\n",
    "            time.sleep(2)\n",
    "                     \n",
    "            try:\n",
    "                driver.find_element(By.XPATH,'/html/body/section[2]/section/div/div/div/div[1]/div[3]/div[2]/div[1]/input').click()\n",
    "                \n",
    "            except NoSuchElementException:\n",
    "                pass\n",
    "            \n",
    "            # Searching for flights again and clicking in search again button\n",
    "            try:\n",
    "                srch_btn = driver.find_element(By.XPATH,'//button[@class=\"fs-14 btn-submit cursor-pointer bold\"]')\n",
    "                wait = WebDriverWait(driver, 10)\n",
    "                wait.until(EC.visibility_of(srch_btn))\n",
    "                srch_btn.click()\n",
    "            except NoSuchElementException:\n",
    "                pass\n",
    "            time.sleep(2)\n",
    "                        # to get web element of scroll to top button\n",
    "            try:\n",
    "                driver.find_element(By.XPATH,\"//div[@title='scroll to top']\").click()\n",
    "            except NoSuchElementException:\n",
    "                pass\n",
    "            \n",
    "           # to get name of Airline\n",
    "            try:\n",
    "                for i in driver.find_elements(By.XPATH,\"//div[@class='fs-13 airline-name no-pad col-8']/span\"):\n",
    "                    Airline_name.append(i.text)\n",
    "            except NoSuchElementException:\n",
    "                pass\n",
    "            \n",
    "            # to get departure time of the flights\n",
    "            try:\n",
    "                for i in driver.find_elements(By.XPATH,\"//div[@class='i-b pr']\"):\n",
    "                    Departure_time.append(i.text)\n",
    "            except NoSuchElementException:\n",
    "                pass\n",
    "            \n",
    "            # to get arrival time of the flights \n",
    "            try:\n",
    "                for i in driver.find_elements(By.XPATH,\"//div[@class='i-b pdd-0 text-left atime col-5']//p[1]\"):\n",
    "                    Arrival_time.append(i.get_attribute(\"innerHTML\").splitlines()[0][0:5])\n",
    "            except NoSuchElementException:\n",
    "                pass\n",
    "            \n",
    "            # to get Duration of flights journey\n",
    "            try:\n",
    "                for i in driver.find_elements(By.XPATH,\"//div[@class='stop-cont pl-13']/p\"):\n",
    "                    Duration.append(i.text)\n",
    "            except NoSuchElementException:\n",
    "                pass\n",
    "            \n",
    "            # to get number of stops the flights have between source and destination\n",
    "            try:\n",
    "                for i in driver.find_elements(By.XPATH,\"//div[@class=' font-lightgrey fs-10 tipsy i-b fs-10']/span[1]\"):\n",
    "                    Total_Stops.append(i.text)\n",
    "            except NoSuchElementException:\n",
    "                pass\n",
    "            \n",
    "            # to get availability of meal in flights\n",
    "            try:\n",
    "                for i in driver.find_elements(By.XPATH,\"//div[@class='features pull-right fs-12 flex']/div[1]\"):\n",
    "                    Meal.append(i.text)\n",
    "            except NoSuchElementException:\n",
    "                pass\n",
    "            \n",
    "            # to get Locations\n",
    "            try:\n",
    "                for i in driver.find_elements(By.XPATH,\"//p[@class='fs-10 font-lightgrey no-wrap city ellipsis']\"):\n",
    "                    Location.append(i.text)\n",
    "            except NoSuchElementException:\n",
    "                pass\n",
    "            \n",
    "            # to get Prices of flight tickets\n",
    "            try:\n",
    "                for i in driver.find_elements(By.XPATH,\"//div[@class='i-b tipsy fare-summary-tooltip fs-18']\"):\n",
    "                    Price.append(i.text)\n",
    "            except NoSuchElementException:\n",
    "                pass    "
   ]
  },
  {
   "cell_type": "code",
   "execution_count": 12,
   "id": "1b6df8d6",
   "metadata": {},
   "outputs": [
    {
     "ename": "TypeError",
     "evalue": "object of type 'WebElement' has no len()",
     "output_type": "error",
     "traceback": [
      "\u001b[1;31m---------------------------------------------------------------------------\u001b[0m",
      "\u001b[1;31mTypeError\u001b[0m                                 Traceback (most recent call last)",
      "\u001b[1;32m~\\AppData\\Local\\Temp/ipykernel_2692/2454485170.py\u001b[0m in \u001b[0;36m<module>\u001b[1;34m\u001b[0m\n\u001b[0;32m      1\u001b[0m \u001b[1;31m# Checking length of source and destination\u001b[0m\u001b[1;33m\u001b[0m\u001b[1;33m\u001b[0m\u001b[0m\n\u001b[1;32m----> 2\u001b[1;33m \u001b[0mlen\u001b[0m\u001b[1;33m(\u001b[0m\u001b[0mSource\u001b[0m\u001b[1;33m)\u001b[0m\u001b[1;33m,\u001b[0m \u001b[0mlen\u001b[0m\u001b[1;33m(\u001b[0m\u001b[0mDestination\u001b[0m\u001b[1;33m)\u001b[0m\u001b[1;33m\u001b[0m\u001b[1;33m\u001b[0m\u001b[0m\n\u001b[0m",
      "\u001b[1;31mTypeError\u001b[0m: object of type 'WebElement' has no len()"
     ]
    }
   ],
   "source": [
    "# Checking length of source and destination\n",
    "len(Source), len(Destination)"
   ]
  },
  {
   "cell_type": "code",
   "execution_count": 16,
   "id": "c7477e7a",
   "metadata": {},
   "outputs": [
    {
     "ename": "TypeError",
     "evalue": "'WebElement' object is not iterable",
     "output_type": "error",
     "traceback": [
      "\u001b[1;31m---------------------------------------------------------------------------\u001b[0m",
      "\u001b[1;31mTypeError\u001b[0m                                 Traceback (most recent call last)",
      "\u001b[1;32m~\\AppData\\Local\\Temp/ipykernel_2692/2281604340.py\u001b[0m in \u001b[0;36m<module>\u001b[1;34m\u001b[0m\n\u001b[0;32m      1\u001b[0m \u001b[1;31m# Creating a dataframe for scraped data\u001b[0m\u001b[1;33m\u001b[0m\u001b[1;33m\u001b[0m\u001b[0m\n\u001b[1;32m----> 2\u001b[1;33m \u001b[0mdata\u001b[0m \u001b[1;33m=\u001b[0m \u001b[0mlist\u001b[0m\u001b[1;33m(\u001b[0m\u001b[0mzip\u001b[0m\u001b[1;33m(\u001b[0m\u001b[0mAirline_name\u001b[0m\u001b[1;33m,\u001b[0m \u001b[0mDeparture_time\u001b[0m\u001b[1;33m,\u001b[0m \u001b[0mArrival_time\u001b[0m\u001b[1;33m,\u001b[0m \u001b[0mDuration\u001b[0m\u001b[1;33m,\u001b[0m \u001b[0mSource\u001b[0m\u001b[1;33m,\u001b[0m \u001b[0mDestination\u001b[0m\u001b[1;33m,\u001b[0m \u001b[0mMeal\u001b[0m\u001b[1;33m,\u001b[0m \u001b[0mTotal_Stops\u001b[0m\u001b[1;33m,\u001b[0m \u001b[0mPrice\u001b[0m\u001b[1;33m)\u001b[0m\u001b[1;33m)\u001b[0m\u001b[1;33m\u001b[0m\u001b[1;33m\u001b[0m\u001b[0m\n\u001b[0m\u001b[0;32m      3\u001b[0m df = pd.DataFrame(data, columns = [\"Airline_name\",\n\u001b[0;32m      4\u001b[0m                                    \u001b[1;34m\"Departure_time\"\u001b[0m\u001b[1;33m,\u001b[0m\u001b[1;33m\u001b[0m\u001b[1;33m\u001b[0m\u001b[0m\n\u001b[0;32m      5\u001b[0m                                    \u001b[1;34m\"Arrival_time\"\u001b[0m\u001b[1;33m,\u001b[0m\u001b[1;33m\u001b[0m\u001b[1;33m\u001b[0m\u001b[0m\n",
      "\u001b[1;31mTypeError\u001b[0m: 'WebElement' object is not iterable"
     ]
    }
   ],
   "source": [
    "# Creating a dataframe for scraped data\n",
    "data = list(zip(Airline_name, Departure_time, Arrival_time, Duration, Source, Destination, Meal, Total_Stops, Price))\n",
    "df = pd.DataFrame(data, columns = [\"Airline_name\",\n",
    "                                   \"Departure_time\",\n",
    "                                   \"Arrival_time\",\n",
    "                                   \"Duration\", \n",
    "                                   \"Source\",\n",
    "                                   \"Destination\",\n",
    "                                   \"Meal_availability\",\n",
    "                                   \"Total_Stops\",\n",
    "                                   \"Price\"])"
   ]
  },
  {
   "cell_type": "code",
   "execution_count": 17,
   "id": "4c62b16d",
   "metadata": {},
   "outputs": [
    {
     "ename": "NameError",
     "evalue": "name 'df' is not defined",
     "output_type": "error",
     "traceback": [
      "\u001b[1;31m---------------------------------------------------------------------------\u001b[0m",
      "\u001b[1;31mNameError\u001b[0m                                 Traceback (most recent call last)",
      "\u001b[1;32m~\\AppData\\Local\\Temp/ipykernel_2692/1396537375.py\u001b[0m in \u001b[0;36m<module>\u001b[1;34m\u001b[0m\n\u001b[1;32m----> 1\u001b[1;33m \u001b[0mdf\u001b[0m\u001b[1;33m\u001b[0m\u001b[1;33m\u001b[0m\u001b[0m\n\u001b[0m",
      "\u001b[1;31mNameError\u001b[0m: name 'df' is not defined"
     ]
    }
   ],
   "source": [
    "df"
   ]
  },
  {
   "cell_type": "code",
   "execution_count": null,
   "id": "675b5f5e",
   "metadata": {},
   "outputs": [],
   "source": []
  }
 ],
 "metadata": {
  "kernelspec": {
   "display_name": "Python 3 (ipykernel)",
   "language": "python",
   "name": "python3"
  },
  "language_info": {
   "codemirror_mode": {
    "name": "ipython",
    "version": 3
   },
   "file_extension": ".py",
   "mimetype": "text/x-python",
   "name": "python",
   "nbconvert_exporter": "python",
   "pygments_lexer": "ipython3",
   "version": "3.9.7"
  }
 },
 "nbformat": 4,
 "nbformat_minor": 5
}
