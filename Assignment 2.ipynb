{
 "cells": [
  {
   "cell_type": "code",
   "execution_count": null,
   "id": "bb1ba9bc",
   "metadata": {},
   "outputs": [],
   "source": [
    "#Question 1\n",
    "\n",
    "import selenium\n",
    "from selenium import webdriver\n",
    "from selenium.webdriver.common.by import By\n",
    "from selenium.webdriver.common.keys import Keys"
   ]
  },
  {
   "cell_type": "code",
   "execution_count": null,
   "id": "1b959431",
   "metadata": {},
   "outputs": [],
   "source": [
    "import pandas as pd\n",
    "import warnings\n",
    "warnings.filterwarnings(\"ignore\")"
   ]
  },
  {
   "cell_type": "code",
   "execution_count": null,
   "id": "724dd8c8",
   "metadata": {},
   "outputs": [],
   "source": [
    "browser = webdriver.Chrome()\n",
    "browser.get('https://www.naukri.com/')"
   ]
  },
  {
   "cell_type": "code",
   "execution_count": null,
   "id": "af93425e",
   "metadata": {},
   "outputs": [],
   "source": [
    "search_job = browser.find_element(By.CLASS_NAME,\"suggestor-input \")\n",
    "search_job\n"
   ]
  },
  {
   "cell_type": "code",
   "execution_count": null,
   "id": "c1fcb45b",
   "metadata": {},
   "outputs": [],
   "source": [
    "search_job.send_keys(\"Data Analyst\")"
   ]
  },
  {
   "cell_type": "code",
   "execution_count": null,
   "id": "8fe5f5f6",
   "metadata": {},
   "outputs": [],
   "source": [
    "search_locn = browser.find_element(By.XPATH,\"/html/body/div[1]/div[2]/div[3]/div/div/div[5]/div/div/div/input\")\n",
    "search_locn"
   ]
  },
  {
   "cell_type": "code",
   "execution_count": null,
   "id": "91347481",
   "metadata": {},
   "outputs": [],
   "source": [
    "search_locn.send_keys(\"Bangalore\")"
   ]
  },
  {
   "cell_type": "code",
   "execution_count": null,
   "id": "f4e49e16",
   "metadata": {},
   "outputs": [],
   "source": [
    "search_btn = browser.find_element(By.XPATH,\"/html/body/div[1]/div[2]/div[3]/div/div/div[6]\")\n",
    "search_btn"
   ]
  },
  {
   "cell_type": "code",
   "execution_count": null,
   "id": "0234e323",
   "metadata": {},
   "outputs": [],
   "source": [
    "search_btn.click  #click function not working"
   ]
  },
  {
   "cell_type": "code",
   "execution_count": null,
   "id": "8c904a6f",
   "metadata": {},
   "outputs": [],
   "source": []
  },
  {
   "cell_type": "code",
   "execution_count": null,
   "id": "514a336e",
   "metadata": {},
   "outputs": [],
   "source": [
    "#Question 2\n",
    "\n",
    "import selenium\n",
    "from selenium import webdriver\n",
    "from selenium.webdriver.common.by import By\n",
    "from selenium.webdriver.common.keys import Keys\n",
    "\n",
    "import pandas as pd\n",
    "import warnings\n",
    "warnings.filterwarnings(\"ignore\")"
   ]
  },
  {
   "cell_type": "code",
   "execution_count": null,
   "id": "f40162d9",
   "metadata": {},
   "outputs": [],
   "source": [
    "browser = webdriver.Chrome()\n",
    "browser.get('https://www.naukri.com/')"
   ]
  },
  {
   "cell_type": "code",
   "execution_count": null,
   "id": "0bb88ce9",
   "metadata": {},
   "outputs": [],
   "source": [
    "search_job = browser.find_element(By.CLASS_NAME,\"suggestor-input \")\n",
    "search_job\n"
   ]
  },
  {
   "cell_type": "code",
   "execution_count": null,
   "id": "1e766c19",
   "metadata": {},
   "outputs": [],
   "source": [
    "search_job.send_keys(\"Data Scientist\")"
   ]
  },
  {
   "cell_type": "code",
   "execution_count": null,
   "id": "d5ba1688",
   "metadata": {},
   "outputs": [],
   "source": [
    "search_locn = browser.find_element(By.XPATH,\"/html/body/div[1]/div[2]/div[3]/div/div/div[5]/div/div/div/input\")\n",
    "search_locn"
   ]
  },
  {
   "cell_type": "code",
   "execution_count": null,
   "id": "18b523c9",
   "metadata": {},
   "outputs": [],
   "source": [
    "search_locn.send_keys(\"Bangalore\")"
   ]
  },
  {
   "cell_type": "code",
   "execution_count": null,
   "id": "dd9ce5b0",
   "metadata": {},
   "outputs": [],
   "source": [
    "search_btn = browser.find_element(By.XPATH,\"/html/body/div[1]/div[2]/div[3]/div/div/div[6]\")\n",
    "search_btn"
   ]
  },
  {
   "cell_type": "code",
   "execution_count": null,
   "id": "7ca4b734",
   "metadata": {},
   "outputs": [],
   "source": [
    "search_btn.click #click function not working"
   ]
  },
  {
   "cell_type": "code",
   "execution_count": null,
   "id": "146d5193",
   "metadata": {},
   "outputs": [],
   "source": []
  },
  {
   "cell_type": "code",
   "execution_count": null,
   "id": "6579d69b",
   "metadata": {},
   "outputs": [],
   "source": [
    "#Question 3\n",
    "\n",
    "import selenium\n",
    "from selenium import webdriver\n",
    "from selenium.webdriver.common.by import By\n",
    "from selenium.webdriver.common.keys import Keys\n",
    "\n",
    "import pandas as pd\n",
    "import warnings\n",
    "warnings.filterwarnings(\"ignore\")"
   ]
  },
  {
   "cell_type": "code",
   "execution_count": null,
   "id": "71dde052",
   "metadata": {},
   "outputs": [],
   "source": [
    "browser = webdriver.Chrome()\n",
    "browser.get('https://www.naukri.com/')"
   ]
  },
  {
   "cell_type": "code",
   "execution_count": null,
   "id": "9411f2d8",
   "metadata": {},
   "outputs": [],
   "source": [
    "search_job = browser.find_element(By.CLASS_NAME,\"suggestor-input \")\n",
    "search_job"
   ]
  },
  {
   "cell_type": "code",
   "execution_count": null,
   "id": "92636cc9",
   "metadata": {},
   "outputs": [],
   "source": [
    "search_job.send_keys(\"Data Scientist\")"
   ]
  },
  {
   "cell_type": "code",
   "execution_count": null,
   "id": "8e50326c",
   "metadata": {},
   "outputs": [],
   "source": [
    "search_locn = browser.find_element(By.XPATH,'/html/body/div[1]/div[2]/div[3]/div/div/div[5]/div/div/div/input')\n",
    "search_locn"
   ]
  },
  {
   "cell_type": "code",
   "execution_count": null,
   "id": "11dcd30b",
   "metadata": {},
   "outputs": [],
   "source": [
    "search_locn.send_keys(\"Delhi/NCR\")"
   ]
  },
  {
   "cell_type": "code",
   "execution_count": null,
   "id": "b5715680",
   "metadata": {},
   "outputs": [],
   "source": [
    "search_btn = browser.find_element(By.XPATH,'/html/body/div[1]/div[2]/div[3]/div/div/div[6]')\n",
    "search_btn"
   ]
  },
  {
   "cell_type": "code",
   "execution_count": null,
   "id": "e5986977",
   "metadata": {},
   "outputs": [],
   "source": [
    "search_btn.click   #click function not working"
   ]
  },
  {
   "cell_type": "code",
   "execution_count": null,
   "id": "4ba11ab0",
   "metadata": {},
   "outputs": [],
   "source": []
  },
  {
   "cell_type": "code",
   "execution_count": null,
   "id": "82ee0aad",
   "metadata": {},
   "outputs": [],
   "source": [
    "#Ques.4\n",
    "\n",
    "import selenium\n",
    "from selenium import webdriver\n",
    "from selenium.webdriver.common.by import By\n",
    "from selenium.webdriver.common.keys import Keys\n",
    "\n",
    "import pandas as pd\n",
    "import warnings\n",
    "warnings.filterwarnings(\"ignore\")"
   ]
  },
  {
   "cell_type": "code",
   "execution_count": null,
   "id": "432adeee",
   "metadata": {},
   "outputs": [],
   "source": [
    "browser = webdriver.Chrome()\n",
    "browser.get('https://www.flipkart.com/')"
   ]
  },
  {
   "cell_type": "code",
   "execution_count": null,
   "id": "a55a2699",
   "metadata": {},
   "outputs": [],
   "source": [
    "prod_search = browser.find_element(By.XPATH,\"/html/body/div[1]/div/div[1]/div[1]/div[2]/div[2]/form/div/div/input\")\n",
    "prod_search"
   ]
  },
  {
   "cell_type": "code",
   "execution_count": null,
   "id": "7c578cb3",
   "metadata": {},
   "outputs": [],
   "source": [
    "prod_search.send_keys(\"sunglasses\")"
   ]
  },
  {
   "cell_type": "code",
   "execution_count": null,
   "id": "f8de43c7",
   "metadata": {},
   "outputs": [],
   "source": [
    "go_btn = browser.find_element(By.XPATH,\"/html/body/div[1]/div/div[1]/div[1]/div[2]/div[2]/form/div/button/svg\")\n",
    "go_btn"
   ]
  },
  {
   "cell_type": "code",
   "execution_count": null,
   "id": "231f54f9",
   "metadata": {},
   "outputs": [],
   "source": [
    " go_btn.click   #click function not working"
   ]
  },
  {
   "cell_type": "code",
   "execution_count": null,
   "id": "db046ef9",
   "metadata": {},
   "outputs": [],
   "source": []
  },
  {
   "cell_type": "code",
   "execution_count": null,
   "id": "fa4e5bdc",
   "metadata": {},
   "outputs": [],
   "source": [
    "#Ques.5\n",
    "\n",
    "import selenium\n",
    "from selenium import webdriver\n",
    "from selenium.webdriver.common.by import By\n",
    "from selenium.webdriver.common.keys import Keys\n",
    "\n",
    "import pandas as pd\n",
    "import warnings\n",
    "warnings.filterwarnings(\"ignore\")\n"
   ]
  },
  {
   "cell_type": "code",
   "execution_count": null,
   "id": "78f90f8b",
   "metadata": {},
   "outputs": [],
   "source": [
    "browser = webdriver.Chrome()\n",
    "browser.get('https://www.flipkart.com/')"
   ]
  },
  {
   "cell_type": "code",
   "execution_count": null,
   "id": "28cfb768",
   "metadata": {},
   "outputs": [],
   "source": [
    "prod_search = browser.find_element(By.XPATH,\"/html/body/div[1]/div/div[1]/div[1]/div[2]/div[2]/form/div/div/input\")\n",
    "prod_search"
   ]
  },
  {
   "cell_type": "code",
   "execution_count": null,
   "id": "57085040",
   "metadata": {},
   "outputs": [],
   "source": [
    "prod_search.send_keys(\"iphone 11\")\n"
   ]
  },
  {
   "cell_type": "code",
   "execution_count": null,
   "id": "6ed6e8b2",
   "metadata": {},
   "outputs": [],
   "source": [
    "go_btn = browser.find_element(By.XPATH,\"/html/body/div[1]/div/div[1]/div[1]/div[2]/div[2]/form/div/button/svg\")\n",
    "go_btn    "
   ]
  },
  {
   "cell_type": "code",
   "execution_count": null,
   "id": "050af3fd",
   "metadata": {},
   "outputs": [],
   "source": [
    "go_btn.click   #click function not working"
   ]
  },
  {
   "cell_type": "code",
   "execution_count": null,
   "id": "82ba0073",
   "metadata": {},
   "outputs": [],
   "source": []
  },
  {
   "cell_type": "code",
   "execution_count": null,
   "id": "49c088b5",
   "metadata": {},
   "outputs": [],
   "source": [
    "#Ques.6\n",
    "\n",
    "import selenium\n",
    "from selenium import webdriver\n",
    "from selenium.webdriver.common.by import By\n",
    "from selenium.webdriver.common.keys import Keys\n",
    "\n",
    "import pandas as pd\n",
    "import warnings\n",
    "warnings.filterwarnings(\"ignore\")\n"
   ]
  },
  {
   "cell_type": "code",
   "execution_count": null,
   "id": "d3b43247",
   "metadata": {},
   "outputs": [],
   "source": [
    "browser = webdriver.Chrome()\n",
    "browser.get('https://www.flipkart.com/')"
   ]
  },
  {
   "cell_type": "code",
   "execution_count": null,
   "id": "0b0afddc",
   "metadata": {},
   "outputs": [],
   "source": [
    "prod_search = browser.find_element(By.XPATH,\"/html/body/div[1]/div/div[1]/div[1]/div[2]/div[2]/form/div/div/input\")\n",
    "prod_search"
   ]
  },
  {
   "cell_type": "code",
   "execution_count": null,
   "id": "2cd565d6",
   "metadata": {},
   "outputs": [],
   "source": [
    "prod_search.send_keys(\"sneakers\")"
   ]
  },
  {
   "cell_type": "code",
   "execution_count": null,
   "id": "a2459697",
   "metadata": {},
   "outputs": [],
   "source": [
    "go_btn = browser.find_element(By.XPATH,\"/html/body/div[1]/div/div[1]/div[1]/div[2]/div[2]/form/div/button/svg\")\n",
    "go_btn"
   ]
  },
  {
   "cell_type": "code",
   "execution_count": null,
   "id": "dde18c19",
   "metadata": {},
   "outputs": [],
   "source": [
    "go_btn.enter   #click function not working"
   ]
  },
  {
   "cell_type": "code",
   "execution_count": null,
   "id": "7267f37a",
   "metadata": {},
   "outputs": [],
   "source": []
  },
  {
   "cell_type": "code",
   "execution_count": null,
   "id": "67105b79",
   "metadata": {},
   "outputs": [],
   "source": [
    "#Ques.7\n",
    "\n",
    "import selenium\n",
    "from selenium import webdriver\n",
    "from selenium.webdriver.common.by import By\n",
    "from selenium.webdriver.common.keys import Keys\n",
    "\n",
    "import pandas as pd\n",
    "import warnings\n",
    "warnings.filterwarnings(\"ignore\")\n",
    "\n",
    "browser = webdriver.Chrome()\n",
    "browser.get('https://www.myntra.com/shoes')"
   ]
  },
  {
   "cell_type": "code",
   "execution_count": null,
   "id": "1b5300fe",
   "metadata": {},
   "outputs": [],
   "source": [
    "prod_search = browser.find_element(By.XPATH,\"/html/body/div[1]/div/div[1]/div[1]/div[2]/div[2]/form/div/div/input\")\n",
    "prod_search"
   ]
  },
  {
   "cell_type": "code",
   "execution_count": null,
   "id": "28c4f549",
   "metadata": {},
   "outputs": [],
   "source": [
    "prod_search.send_keys(\"sneakers\")"
   ]
  },
  {
   "cell_type": "code",
   "execution_count": null,
   "id": "341ab100",
   "metadata": {},
   "outputs": [],
   "source": [
    "go_btn = browser.find_element(By.XPATH,\"/html/body/div[1]/div/div[1]/div[1]/div[2]/div[2]/form/div/button/svg\")\n",
    "go_btn   #click function not working"
   ]
  },
  {
   "cell_type": "code",
   "execution_count": null,
   "id": "51f5e392",
   "metadata": {},
   "outputs": [],
   "source": [
    "go_btn.enter #click function not working"
   ]
  },
  {
   "cell_type": "code",
   "execution_count": null,
   "id": "bbd0dc20",
   "metadata": {},
   "outputs": [],
   "source": [
    "#for Sneaker prices inspect is not working(checked manually)\n",
    "\n",
    "sneaker_brand = browser.find_element(By.XPATH,\"/html/body/div/div/div[3]/div[1]/div[2]/div[2]/div/div[1]/div/div[2]/div[1]\")\n",
    "len(sneaker_brand)\n",
    "\n",
    "Brand_name = []\n",
    "\n",
    "for i in sneaker_brand:\n",
    "    Brand_name.append(i.text) \n",
    "len(Brand_name)\n",
    "\n",
    "Brand_name\n",
    "\n"
   ]
  },
  {
   "cell_type": "code",
   "execution_count": null,
   "id": "5e9e1f30",
   "metadata": {},
   "outputs": [],
   "source": []
  },
  {
   "cell_type": "code",
   "execution_count": null,
   "id": "3dfcee50",
   "metadata": {},
   "outputs": [],
   "source": [
    "#Ques.8\n",
    "\n",
    "import selenium\n",
    "from selenium import webdriver\n",
    "from selenium.webdriver.common.by import By\n",
    "from selenium.webdriver.common.keys import Keys\n",
    "\n",
    "import pandas as pd\n",
    "import warnings\n",
    "warnings.filterwarnings(\"ignore\")"
   ]
  },
  {
   "cell_type": "code",
   "execution_count": null,
   "id": "dead4680",
   "metadata": {},
   "outputs": [],
   "source": [
    "browser = webdriver.Chrome()\n",
    "browser.get('https://www.amazon.in/')"
   ]
  },
  {
   "cell_type": "code",
   "execution_count": null,
   "id": "ef3f9b82",
   "metadata": {},
   "outputs": [],
   "source": [
    "search_prod = browser.find_element(By.XPATH,\"/html/body/div[1]/header/div/div[1]/div[2]/div/form/div[3]/div/span/input\")\n",
    "search_prod"
   ]
  },
  {
   "cell_type": "code",
   "execution_count": null,
   "id": "7acd902f",
   "metadata": {},
   "outputs": [],
   "source": [
    "search_prod.send_keys(\"Laptop\")"
   ]
  },
  {
   "cell_type": "code",
   "execution_count": null,
   "id": "b4e051b8",
   "metadata": {},
   "outputs": [],
   "source": [
    "go_btn = browser.find_element(By.XPATH,\"/html/body/div[1]/header/div/div[1]/div[2]/div/form/div[3]/div\")\n",
    "go_btn\n"
   ]
  },
  {
   "cell_type": "code",
   "execution_count": null,
   "id": "65672b80",
   "metadata": {},
   "outputs": [],
   "source": [
    "go_btn.click"
   ]
  }
 ],
 "metadata": {
  "kernelspec": {
   "display_name": "Python 3 (ipykernel)",
   "language": "python",
   "name": "python3"
  },
  "language_info": {
   "codemirror_mode": {
    "name": "ipython",
    "version": 3
   },
   "file_extension": ".py",
   "mimetype": "text/x-python",
   "name": "python",
   "nbconvert_exporter": "python",
   "pygments_lexer": "ipython3",
   "version": "3.9.7"
  }
 },
 "nbformat": 4,
 "nbformat_minor": 5
}
