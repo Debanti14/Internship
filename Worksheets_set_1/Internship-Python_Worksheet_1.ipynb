{
 "cells": [
  {
   "cell_type": "code",
   "execution_count": 1,
   "id": "c2f5f2a3",
   "metadata": {},
   "outputs": [],
   "source": [
    "import numpy as np\n",
    "import math"
   ]
  },
  {
   "cell_type": "code",
   "execution_count": 17,
   "id": "2f17d7af",
   "metadata": {},
   "outputs": [
    {
     "name": "stdout",
     "output_type": "stream",
     "text": [
      "Enter any number: 8\n",
      "The factorial of the number is:  40320\n"
     ]
    }
   ],
   "source": [
    "#Ques. 11\n",
    "\n",
    "n = int (input ('Enter any number: '))\n",
    "\n",
    "print ('The factorial of the number is: ', math.factorial (n))"
   ]
  },
  {
   "cell_type": "code",
   "execution_count": 5,
   "id": "d1b26939",
   "metadata": {},
   "outputs": [
    {
     "name": "stdout",
     "output_type": "stream",
     "text": [
      "Enter any number : 7\n",
      "7 is a PRIME number\n"
     ]
    }
   ],
   "source": [
    "#Ques. 12\n",
    "\n",
    "n = int(input(\"Enter any number : \"))\n",
    "if n > 1:\n",
    "    for i in range(2, n):\n",
    "        if (n % i) == 0:\n",
    "            print(n, \"is NOT a prime number\")\n",
    "            break\n",
    "    else:\n",
    "        print(n, \"is a PRIME number\")\n",
    "elif n == 0 or 1:\n",
    "    print(n, \"is a neither prime NOR composite number\")\n",
    "else:\n",
    "    print(n, \"is NOT a prime number it is a COMPOSITE number\")"
   ]
  },
  {
   "cell_type": "code",
   "execution_count": 6,
   "id": "e15bd666",
   "metadata": {},
   "outputs": [
    {
     "name": "stdout",
     "output_type": "stream",
     "text": [
      "Please enter your own text : madam\n",
      "This is a Palindrome String\n"
     ]
    }
   ],
   "source": [
    "#Ques. 13\n",
    "\n",
    "st = input(\"Please enter your own text : \")\n",
    "\n",
    "if(st == st[:: - 1]):\n",
    "   print(\"This is a Palindrome String\")\n",
    "else:\n",
    "   print(\"This is Not\")"
   ]
  },
  {
   "cell_type": "code",
   "execution_count": 9,
   "id": "f957fbcc",
   "metadata": {},
   "outputs": [
    {
     "name": "stdout",
     "output_type": "stream",
     "text": [
      "Enter the height of the triangle :8\n",
      "1 \n",
      "2 2 \n",
      "3 3 3 \n",
      "4 4 4 4 \n",
      "5 5 5 5 5 \n",
      "6 6 6 6 6 6 \n",
      "7 7 7 7 7 7 7 \n",
      "8 8 8 8 8 8 8 8 \n"
     ]
    }
   ],
   "source": [
    "#Ques. 14\n",
    "\n",
    "height = int(input(\"Enter the height of the triangle :\"))\n",
    "for i in range(1,height+1):\n",
    "  for j in range(1,i+1):\n",
    "    print(str(i)+\" \", end='')\n",
    "  print()"
   ]
  },
  {
   "cell_type": "code",
   "execution_count": 12,
   "id": "f58ebad9",
   "metadata": {},
   "outputs": [
    {
     "name": "stdout",
     "output_type": "stream",
     "text": [
      "Please enter your own text : shreemoyee\n",
      "Count of all characters in  shreemoyee  is :\n",
      " {'s': 1, 'h': 1, 'r': 1, 'e': 4, 'm': 1, 'o': 1, 'y': 1}\n"
     ]
    }
   ],
   "source": [
    "#Ques. 15\n",
    "\n",
    "str1 = input(\"Please enter your own text : \")\n",
    "  \n",
    "\n",
    "freq = {}\n",
    "  \n",
    "for i in str1:\n",
    "    if i in freq:\n",
    "        freq[i] += 1\n",
    "    else:\n",
    "        freq[i] = 1\n",
    "  \n",
    "print (\"Count of all characters in \",str1,\" is :\\n \"+  str(freq))"
   ]
  },
  {
   "cell_type": "code",
   "execution_count": null,
   "id": "35d98dd3",
   "metadata": {},
   "outputs": [],
   "source": []
  },
  {
   "cell_type": "code",
   "execution_count": null,
   "id": "df3d6029",
   "metadata": {},
   "outputs": [],
   "source": []
  }
 ],
 "metadata": {
  "kernelspec": {
   "display_name": "Python 3 (ipykernel)",
   "language": "python",
   "name": "python3"
  },
  "language_info": {
   "codemirror_mode": {
    "name": "ipython",
    "version": 3
   },
   "file_extension": ".py",
   "mimetype": "text/x-python",
   "name": "python",
   "nbconvert_exporter": "python",
   "pygments_lexer": "ipython3",
   "version": "3.9.7"
  }
 },
 "nbformat": 4,
 "nbformat_minor": 5
}
