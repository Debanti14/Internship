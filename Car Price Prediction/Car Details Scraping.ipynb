{
 "cells": [
  {
   "cell_type": "code",
   "execution_count": 1,
   "id": "9420797e",
   "metadata": {},
   "outputs": [],
   "source": [
    "import numpy as np\n",
    "import pandas as pd\n",
    "import warnings\n",
    "warnings.filterwarnings(\"ignore\")\n",
    "\n",
    "import selenium\n",
    "from selenium import webdriver\n",
    "import re\n",
    "from selenium.webdriver.common.by import By\n",
    "from selenium.webdriver.common.keys import Keys\n",
    "\n",
    "import time\n",
    "from bs4 import BeautifulSoup\n",
    "\n",
    "from selenium.common.exceptions import ElementNotInteractableException\n",
    "from selenium.common.exceptions import NoSuchElementException\n",
    "from selenium.common.exceptions import StaleElementReferenceException\n",
    "\n",
    "import requests\n",
    "\n"
   ]
  },
  {
   "cell_type": "code",
   "execution_count": 2,
   "id": "52f394c3",
   "metadata": {},
   "outputs": [],
   "source": [
    "#connecting chrome to \n",
    "driver = webdriver.Chrome(r\"C:\\Users\\HP\\Downloads\\chromedriver_win32 (2)\\chromedriver.exe\")"
   ]
  },
  {
   "cell_type": "code",
   "execution_count": 3,
   "id": "90c7bb41",
   "metadata": {},
   "outputs": [],
   "source": [
    "#openning the olx used car webpage\n",
    "driver.get('https://www.olx.in/cars_c84')\n",
    "# give some time to load the webpage\n",
    "time.sleep(2)"
   ]
  },
  {
   "cell_type": "code",
   "execution_count": 4,
   "id": "9d9bb91f",
   "metadata": {},
   "outputs": [],
   "source": [
    "# scrape all product urls\n",
    "car_urls = []\n",
    "start=0\n",
    "end=125\n",
    "for page in range(start,end):#for loop for scrapping 125 pages\n",
    "    url=driver.find_elements(By.XPATH,'//li[@class=\"_31j8e\"]//a')       #scraping urls\n",
    "    for i in url:\n",
    "        car_urls.append(i.get_attribute(\"href\"))                        #appending the urls in car_urls list\n",
    "    nxt_button=driver.find_element(By.XPATH,'//button[@type=\"button\"]')     #scraping the list of buttons from the page\n",
    "    nxt_button.click()\n",
    "    time.sleep(2)"
   ]
  },
  {
   "cell_type": "code",
   "execution_count": 5,
   "id": "3a552830",
   "metadata": {},
   "outputs": [
    {
     "data": {
      "text/plain": [
       "5000"
      ]
     },
     "execution_count": 5,
     "metadata": {},
     "output_type": "execute_result"
    }
   ],
   "source": [
    "len(car_urls)"
   ]
  },
  {
   "cell_type": "code",
   "execution_count": 6,
   "id": "9161dee1",
   "metadata": {},
   "outputs": [],
   "source": [
    "# blank list variables   \n",
    "Brand = []\n",
    "Variant=[]\n",
    "Fuel=[]\n",
    "Km=[]\n",
    "Owner = []\n",
    "Location = []\n",
    "Price=[]\n",
    "\n",
    "\n",
    "\n",
    "for url in car_urls: ##loop for every car in the list\n",
    "    driver.get(url)\n",
    "    \n",
    "    try:\n",
    "        brand= driver.find_element(By.XPATH,'//div[@data-aut-id=\"itemTitle\"]')\n",
    "        Brand.append(brand.text)\n",
    "    except NoSuchElementException:\n",
    "        Brand.append('null') \n",
    "        \n",
    "    try: \n",
    "        owner= driver.find_element(By.XPATH,'//div[@class=\"_1gasz\"]')\n",
    "        Owner.append(owner.text)\n",
    "    except NoSuchElementException:\n",
    "        Owner.append('null') \n",
    "        \n",
    "    try:\n",
    "        fuel= driver.find_element(By.XPATH,'//div[@class=\"_3qDp0\"]')\n",
    "        Fuel.append(fuel.text)\n",
    "    except NoSuchElementException:\n",
    "        Fuel.append('null') \n",
    "        \n",
    "    try:\n",
    "        km= driver.find_element(By.XPATH,'//div[@class=\"aOxkz\"]//div[2]')\n",
    "        Km.append(km.text)\n",
    "    except NoSuchElementException:\n",
    "        Km.append('null') \n",
    "        \n",
    "    try:\n",
    "        variant= driver.find_element(By.XPATH,'//div[@class=\"aOxkz\"]//div[3]/div')\n",
    "        Variant.append(variant.text)\n",
    "    except NoSuchElementException:\n",
    "        Variant.append('null') \n",
    "        \n",
    "        \n",
    "    try:\n",
    "        loc= driver.find_element(By.XPATH,'//div[@class=\"_1l939\"]/div[2]')\n",
    "        Location.append(loc.text)\n",
    "    except NoSuchElementException:\n",
    "        Location.append('null') \n",
    "        \n",
    "    try:\n",
    "        price= driver.find_element(By.XPATH,'//div[@class=\"_3FkyT\"]')\n",
    "        Price.append(price.text)\n",
    "    except NoSuchElementException:\n",
    "        Price.append('null') \n",
    "    \n"
   ]
  },
  {
   "cell_type": "code",
   "execution_count": 7,
   "id": "ae65c6b2",
   "metadata": {},
   "outputs": [
    {
     "name": "stdout",
     "output_type": "stream",
     "text": [
      "5000 5000 5000 5000 5000 5000 5000\n"
     ]
    }
   ],
   "source": [
    "print(len(Brand),len(Variant),len(Fuel),len(Km),len(Owner),len(Location),len(Price))"
   ]
  },
  {
   "cell_type": "code",
   "execution_count": 8,
   "id": "9ed69b77",
   "metadata": {},
   "outputs": [
    {
     "data": {
      "text/html": [
       "<div>\n",
       "<style scoped>\n",
       "    .dataframe tbody tr th:only-of-type {\n",
       "        vertical-align: middle;\n",
       "    }\n",
       "\n",
       "    .dataframe tbody tr th {\n",
       "        vertical-align: top;\n",
       "    }\n",
       "\n",
       "    .dataframe thead th {\n",
       "        text-align: right;\n",
       "    }\n",
       "</style>\n",
       "<table border=\"1\" class=\"dataframe\">\n",
       "  <thead>\n",
       "    <tr style=\"text-align: right;\">\n",
       "      <th></th>\n",
       "      <th>Brand</th>\n",
       "      <th>Variant</th>\n",
       "      <th>Fuel</th>\n",
       "      <th>Km_driven</th>\n",
       "      <th>Owner</th>\n",
       "      <th>Location</th>\n",
       "      <th>Price</th>\n",
       "    </tr>\n",
       "  </thead>\n",
       "  <tbody>\n",
       "    <tr>\n",
       "      <th>0</th>\n",
       "      <td>Honda Amaze (2019)</td>\n",
       "      <td>MANUAL</td>\n",
       "      <td>DIESEL</td>\n",
       "      <td>69511.0 KM</td>\n",
       "      <td>1st</td>\n",
       "      <td>Location\\nRTC Colony, Hyderabad</td>\n",
       "      <td>₹ 7,55,000</td>\n",
       "    </tr>\n",
       "    <tr>\n",
       "      <th>1</th>\n",
       "      <td>Maruti Suzuki Alto K10 (2018)</td>\n",
       "      <td>MANUAL</td>\n",
       "      <td>PETROL</td>\n",
       "      <td>57071.0 KM</td>\n",
       "      <td>1st</td>\n",
       "      <td>Location\\nSindhu Nagar, Bhilwara</td>\n",
       "      <td>₹ 3,30,000</td>\n",
       "    </tr>\n",
       "    <tr>\n",
       "      <th>2</th>\n",
       "      <td>Mahindra Bolero Power Plus (2020)</td>\n",
       "      <td>MANUAL</td>\n",
       "      <td>DIESEL</td>\n",
       "      <td>67000.0 KM</td>\n",
       "      <td>--</td>\n",
       "      <td>Location\\nPolo Field, Tezpur</td>\n",
       "      <td>₹ 8,65,000</td>\n",
       "    </tr>\n",
       "    <tr>\n",
       "      <th>3</th>\n",
       "      <td>Toyota Innova (2008)</td>\n",
       "      <td>MANUAL</td>\n",
       "      <td>DIESEL</td>\n",
       "      <td>120000 KM</td>\n",
       "      <td>Second</td>\n",
       "      <td>Location\\nHussaini Alam, Hyderabad</td>\n",
       "      <td>₹ 2,70,000</td>\n",
       "    </tr>\n",
       "    <tr>\n",
       "      <th>4</th>\n",
       "      <td>Maruti Suzuki 1000 (1999)</td>\n",
       "      <td>MANUAL</td>\n",
       "      <td>PETROL</td>\n",
       "      <td>40000 KM</td>\n",
       "      <td>Second</td>\n",
       "      <td>Location\\nSector 2A, Chandigarh</td>\n",
       "      <td>₹ 50,000</td>\n",
       "    </tr>\n",
       "    <tr>\n",
       "      <th>...</th>\n",
       "      <td>...</td>\n",
       "      <td>...</td>\n",
       "      <td>...</td>\n",
       "      <td>...</td>\n",
       "      <td>...</td>\n",
       "      <td>...</td>\n",
       "      <td>...</td>\n",
       "    </tr>\n",
       "    <tr>\n",
       "      <th>4995</th>\n",
       "      <td>Hyundai Verna (2012)</td>\n",
       "      <td>MANUAL</td>\n",
       "      <td>PETROL</td>\n",
       "      <td>99,000 KM</td>\n",
       "      <td>2nd</td>\n",
       "      <td>Location\\nBenachiti, Durgapur</td>\n",
       "      <td>₹ 3,49,999</td>\n",
       "    </tr>\n",
       "    <tr>\n",
       "      <th>4996</th>\n",
       "      <td>Hyundai Creta (2017)</td>\n",
       "      <td>MANUAL</td>\n",
       "      <td>DIESEL</td>\n",
       "      <td>35000.0 KM</td>\n",
       "      <td>2nd</td>\n",
       "      <td>Location\\nKailash Nagar, Mumbai</td>\n",
       "      <td>₹ 8,99,000</td>\n",
       "    </tr>\n",
       "    <tr>\n",
       "      <th>4997</th>\n",
       "      <td>Hyundai Fluidic Verna (2011)</td>\n",
       "      <td>MANUAL</td>\n",
       "      <td>DIESEL</td>\n",
       "      <td>126000.0 KM</td>\n",
       "      <td>1st</td>\n",
       "      <td>Location\\nKukatpally, Hyderabad</td>\n",
       "      <td>₹ 4,38,000</td>\n",
       "    </tr>\n",
       "    <tr>\n",
       "      <th>4998</th>\n",
       "      <td>Hyundai Verna (2015)</td>\n",
       "      <td>MANUAL</td>\n",
       "      <td>DIESEL</td>\n",
       "      <td>61000.0 KM</td>\n",
       "      <td>1st</td>\n",
       "      <td>Location\\nThane West, Thane</td>\n",
       "      <td>₹ 5,99,000</td>\n",
       "    </tr>\n",
       "    <tr>\n",
       "      <th>4999</th>\n",
       "      <td>Volkswagen Vento (2015)</td>\n",
       "      <td>AUTOMATIC</td>\n",
       "      <td>PETROL</td>\n",
       "      <td>55000.0 KM</td>\n",
       "      <td>2nd</td>\n",
       "      <td>Location\\nKandivali West, Mumbai</td>\n",
       "      <td>₹ 5,55,000</td>\n",
       "    </tr>\n",
       "  </tbody>\n",
       "</table>\n",
       "<p>5000 rows × 7 columns</p>\n",
       "</div>"
      ],
      "text/plain": [
       "                                  Brand    Variant    Fuel    Km_driven  \\\n",
       "0                    Honda Amaze (2019)     MANUAL  DIESEL   69511.0 KM   \n",
       "1         Maruti Suzuki Alto K10 (2018)     MANUAL  PETROL   57071.0 KM   \n",
       "2     Mahindra Bolero Power Plus (2020)     MANUAL  DIESEL   67000.0 KM   \n",
       "3                  Toyota Innova (2008)     MANUAL  DIESEL    120000 KM   \n",
       "4             Maruti Suzuki 1000 (1999)     MANUAL  PETROL     40000 KM   \n",
       "...                                 ...        ...     ...          ...   \n",
       "4995               Hyundai Verna (2012)     MANUAL  PETROL    99,000 KM   \n",
       "4996               Hyundai Creta (2017)     MANUAL  DIESEL   35000.0 KM   \n",
       "4997       Hyundai Fluidic Verna (2011)     MANUAL  DIESEL  126000.0 KM   \n",
       "4998               Hyundai Verna (2015)     MANUAL  DIESEL   61000.0 KM   \n",
       "4999            Volkswagen Vento (2015)  AUTOMATIC  PETROL   55000.0 KM   \n",
       "\n",
       "       Owner                            Location       Price  \n",
       "0        1st     Location\\nRTC Colony, Hyderabad  ₹ 7,55,000  \n",
       "1        1st    Location\\nSindhu Nagar, Bhilwara  ₹ 3,30,000  \n",
       "2         --        Location\\nPolo Field, Tezpur  ₹ 8,65,000  \n",
       "3     Second  Location\\nHussaini Alam, Hyderabad  ₹ 2,70,000  \n",
       "4     Second     Location\\nSector 2A, Chandigarh    ₹ 50,000  \n",
       "...      ...                                 ...         ...  \n",
       "4995     2nd       Location\\nBenachiti, Durgapur  ₹ 3,49,999  \n",
       "4996     2nd     Location\\nKailash Nagar, Mumbai  ₹ 8,99,000  \n",
       "4997     1st     Location\\nKukatpally, Hyderabad  ₹ 4,38,000  \n",
       "4998     1st         Location\\nThane West, Thane  ₹ 5,99,000  \n",
       "4999     2nd    Location\\nKandivali West, Mumbai  ₹ 5,55,000  \n",
       "\n",
       "[5000 rows x 7 columns]"
      ]
     },
     "execution_count": 8,
     "metadata": {},
     "output_type": "execute_result"
    }
   ],
   "source": [
    "df=pd.DataFrame({'Brand':Brand,'Variant':Variant,'Fuel':Fuel,'Km_driven':Km,'Owner':Owner,'Location':Location,'Price':Price})\n",
    "df"
   ]
  },
  {
   "cell_type": "code",
   "execution_count": 9,
   "id": "36e1a726",
   "metadata": {},
   "outputs": [],
   "source": [
    "df.to_csv('Used Car Details')"
   ]
  },
  {
   "cell_type": "code",
   "execution_count": 10,
   "id": "56e83aad",
   "metadata": {},
   "outputs": [
    {
     "name": "stdout",
     "output_type": "stream",
     "text": [
      "Shape of the dataset: (5000, 8)\n"
     ]
    }
   ],
   "source": [
    "#loading the train and test datasets\n",
    "df=pd.read_csv(r\"Used Car Details\")\n",
    "\n",
    "\n",
    "print(\"Shape of the dataset:\", df.shape)"
   ]
  },
  {
   "cell_type": "code",
   "execution_count": null,
   "id": "068b691c",
   "metadata": {},
   "outputs": [],
   "source": []
  },
  {
   "cell_type": "code",
   "execution_count": null,
   "id": "fa4c60cd",
   "metadata": {},
   "outputs": [],
   "source": []
  },
  {
   "cell_type": "code",
   "execution_count": null,
   "id": "271c40b8",
   "metadata": {},
   "outputs": [],
   "source": []
  },
  {
   "cell_type": "code",
   "execution_count": null,
   "id": "7a3d217e",
   "metadata": {},
   "outputs": [],
   "source": []
  },
  {
   "cell_type": "code",
   "execution_count": null,
   "id": "7c8f3146",
   "metadata": {},
   "outputs": [],
   "source": []
  },
  {
   "cell_type": "code",
   "execution_count": null,
   "id": "be213b34",
   "metadata": {},
   "outputs": [],
   "source": []
  },
  {
   "cell_type": "code",
   "execution_count": null,
   "id": "3ea1844b",
   "metadata": {},
   "outputs": [],
   "source": []
  }
 ],
 "metadata": {
  "kernelspec": {
   "display_name": "Python 3 (ipykernel)",
   "language": "python",
   "name": "python3"
  },
  "language_info": {
   "codemirror_mode": {
    "name": "ipython",
    "version": 3
   },
   "file_extension": ".py",
   "mimetype": "text/x-python",
   "name": "python",
   "nbconvert_exporter": "python",
   "pygments_lexer": "ipython3",
   "version": "3.9.7"
  }
 },
 "nbformat": 4,
 "nbformat_minor": 5
}
