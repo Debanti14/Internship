{
 "cells": [
  {
   "cell_type": "code",
   "execution_count": 1,
   "id": "c63e10bb",
   "metadata": {},
   "outputs": [],
   "source": [
    "#Importing the necessaary libraries and packages\n",
    "import numpy as np\n",
    "import pandas as pd\n",
    "import warnings\n",
    "warnings.filterwarnings(\"ignore\")\n",
    "\n",
    "import matplotlib.pyplot as plt\n",
    "import seaborn as sns\n",
    "\n",
    "from sklearn.preprocessing import LabelEncoder"
   ]
  },
  {
   "cell_type": "code",
   "execution_count": 2,
   "id": "d46d406d",
   "metadata": {},
   "outputs": [],
   "source": [
    "from sklearn.model_selection import train_test_split\n",
    "from sklearn.preprocessing import StandardScaler\n",
    "\n",
    "from sklearn.linear_model import LinearRegression\n",
    "import statsmodels.api as sm\n",
    "from sklearn.feature_selection import RFE\n",
    "from statsmodels.stats.outliers_influence import variance_inflation_factor\n",
    "from sklearn.metrics import r2_score\n",
    "from sklearn.metrics import mean_squared_error"
   ]
  },
  {
   "cell_type": "code",
   "execution_count": 3,
   "id": "4fa6219f",
   "metadata": {},
   "outputs": [
    {
     "name": "stdout",
     "output_type": "stream",
     "text": [
      "Shape of the dataset: (5000, 8)\n"
     ]
    }
   ],
   "source": [
    "#loading the train and test datasets\n",
    "car_df=pd.read_csv(r\"Used Car Details\")\n",
    "\n",
    "\n",
    "print(\"Shape of the dataset:\", car_df.shape)"
   ]
  },
  {
   "cell_type": "markdown",
   "id": "de41e6eb",
   "metadata": {},
   "source": [
    "We can see the dataset has 5000 rows and 8 columns. "
   ]
  },
  {
   "cell_type": "code",
   "execution_count": 4,
   "id": "2ba641f4",
   "metadata": {},
   "outputs": [
    {
     "data": {
      "text/html": [
       "<div>\n",
       "<style scoped>\n",
       "    .dataframe tbody tr th:only-of-type {\n",
       "        vertical-align: middle;\n",
       "    }\n",
       "\n",
       "    .dataframe tbody tr th {\n",
       "        vertical-align: top;\n",
       "    }\n",
       "\n",
       "    .dataframe thead th {\n",
       "        text-align: right;\n",
       "    }\n",
       "</style>\n",
       "<table border=\"1\" class=\"dataframe\">\n",
       "  <thead>\n",
       "    <tr style=\"text-align: right;\">\n",
       "      <th></th>\n",
       "      <th>Unnamed: 0</th>\n",
       "      <th>Brand</th>\n",
       "      <th>Variant</th>\n",
       "      <th>Fuel</th>\n",
       "      <th>Km_driven</th>\n",
       "      <th>Owner</th>\n",
       "      <th>Location</th>\n",
       "      <th>Price</th>\n",
       "    </tr>\n",
       "  </thead>\n",
       "  <tbody>\n",
       "    <tr>\n",
       "      <th>0</th>\n",
       "      <td>0</td>\n",
       "      <td>Honda Amaze (2019)</td>\n",
       "      <td>MANUAL</td>\n",
       "      <td>DIESEL</td>\n",
       "      <td>69511.0 KM</td>\n",
       "      <td>1st</td>\n",
       "      <td>Location\\nRTC Colony, Hyderabad</td>\n",
       "      <td>₹ 7,55,000</td>\n",
       "    </tr>\n",
       "    <tr>\n",
       "      <th>1</th>\n",
       "      <td>1</td>\n",
       "      <td>Maruti Suzuki Alto K10 (2018)</td>\n",
       "      <td>MANUAL</td>\n",
       "      <td>PETROL</td>\n",
       "      <td>57071.0 KM</td>\n",
       "      <td>1st</td>\n",
       "      <td>Location\\nSindhu Nagar, Bhilwara</td>\n",
       "      <td>₹ 3,30,000</td>\n",
       "    </tr>\n",
       "    <tr>\n",
       "      <th>2</th>\n",
       "      <td>2</td>\n",
       "      <td>Mahindra Bolero Power Plus (2020)</td>\n",
       "      <td>MANUAL</td>\n",
       "      <td>DIESEL</td>\n",
       "      <td>67000.0 KM</td>\n",
       "      <td>--</td>\n",
       "      <td>Location\\nPolo Field, Tezpur</td>\n",
       "      <td>₹ 8,65,000</td>\n",
       "    </tr>\n",
       "    <tr>\n",
       "      <th>3</th>\n",
       "      <td>3</td>\n",
       "      <td>Toyota Innova (2008)</td>\n",
       "      <td>MANUAL</td>\n",
       "      <td>DIESEL</td>\n",
       "      <td>120000 KM</td>\n",
       "      <td>Second</td>\n",
       "      <td>Location\\nHussaini Alam, Hyderabad</td>\n",
       "      <td>₹ 2,70,000</td>\n",
       "    </tr>\n",
       "    <tr>\n",
       "      <th>4</th>\n",
       "      <td>4</td>\n",
       "      <td>Maruti Suzuki 1000 (1999)</td>\n",
       "      <td>MANUAL</td>\n",
       "      <td>PETROL</td>\n",
       "      <td>40000 KM</td>\n",
       "      <td>Second</td>\n",
       "      <td>Location\\nSector 2A, Chandigarh</td>\n",
       "      <td>₹ 50,000</td>\n",
       "    </tr>\n",
       "  </tbody>\n",
       "</table>\n",
       "</div>"
      ],
      "text/plain": [
       "   Unnamed: 0                              Brand Variant    Fuel   Km_driven  \\\n",
       "0           0                 Honda Amaze (2019)  MANUAL  DIESEL  69511.0 KM   \n",
       "1           1      Maruti Suzuki Alto K10 (2018)  MANUAL  PETROL  57071.0 KM   \n",
       "2           2  Mahindra Bolero Power Plus (2020)  MANUAL  DIESEL  67000.0 KM   \n",
       "3           3               Toyota Innova (2008)  MANUAL  DIESEL   120000 KM   \n",
       "4           4          Maruti Suzuki 1000 (1999)  MANUAL  PETROL    40000 KM   \n",
       "\n",
       "    Owner                            Location       Price  \n",
       "0     1st     Location\\nRTC Colony, Hyderabad  ₹ 7,55,000  \n",
       "1     1st    Location\\nSindhu Nagar, Bhilwara  ₹ 3,30,000  \n",
       "2      --        Location\\nPolo Field, Tezpur  ₹ 8,65,000  \n",
       "3  Second  Location\\nHussaini Alam, Hyderabad  ₹ 2,70,000  \n",
       "4  Second     Location\\nSector 2A, Chandigarh    ₹ 50,000  "
      ]
     },
     "execution_count": 4,
     "metadata": {},
     "output_type": "execute_result"
    }
   ],
   "source": [
    "#printing the head of the dataset\n",
    "car_df.head()"
   ]
  },
  {
   "cell_type": "markdown",
   "id": "0bbc10c3",
   "metadata": {},
   "source": [
    "As we have scraped the data from a site, it means our data is unsupervised and not ready for mahine learning. So, before we move on to make predictions from our data we will have to apply preprocessing techniques to ensure our data is all set for model building and predictions. "
   ]
  },
  {
   "cell_type": "markdown",
   "id": "c19c5dc0",
   "metadata": {},
   "source": [
    "Here we find that the column 'Unnamed: 0' can be dropped as the first one contains the numbers of the rows in the dataset. Thus, we will drop it as it is not necessary for prediction."
   ]
  },
  {
   "cell_type": "code",
   "execution_count": 5,
   "id": "24ffe31a",
   "metadata": {},
   "outputs": [],
   "source": [
    "#Dropping unimportant column\n",
    "car_df.drop(['Unnamed: 0'], axis=1, inplace=True)"
   ]
  },
  {
   "cell_type": "markdown",
   "id": "6b1545a2",
   "metadata": {},
   "source": [
    "We have dropped the 'Unnamed: 0' column. And our dataset now looks good!"
   ]
  },
  {
   "cell_type": "markdown",
   "id": "20e39b0b",
   "metadata": {},
   "source": [
    "Let's check the null values in dataset. "
   ]
  },
  {
   "cell_type": "code",
   "execution_count": 6,
   "id": "b1ed36f2",
   "metadata": {},
   "outputs": [
    {
     "data": {
      "text/plain": [
       "Brand        139\n",
       "Variant      139\n",
       "Fuel         139\n",
       "Km_driven    139\n",
       "Owner        139\n",
       "Location     139\n",
       "Price        139\n",
       "dtype: int64"
      ]
     },
     "execution_count": 6,
     "metadata": {},
     "output_type": "execute_result"
    }
   ],
   "source": [
    "#checking null values\n",
    "car_df.isnull().sum()"
   ]
  },
  {
   "cell_type": "code",
   "execution_count": 7,
   "id": "881dc7c1",
   "metadata": {},
   "outputs": [
    {
     "data": {
      "text/plain": [
       "973"
      ]
     },
     "execution_count": 7,
     "metadata": {},
     "output_type": "execute_result"
    }
   ],
   "source": [
    "#checking the total no. of null values\n",
    "car_df.isnull().sum().sum()"
   ]
  },
  {
   "cell_type": "markdown",
   "id": "fd4c92ec",
   "metadata": {},
   "source": [
    "Here we can see that all the columns have equal number of null values present. Thus, we will first drop them and save our dataset in a new dataframe df. "
   ]
  },
  {
   "cell_type": "code",
   "execution_count": 8,
   "id": "8a51023b",
   "metadata": {},
   "outputs": [],
   "source": [
    "# drop all rows with any null values\n",
    "df = car_df.dropna()"
   ]
  },
  {
   "cell_type": "code",
   "execution_count": 9,
   "id": "a5e1bc9a",
   "metadata": {},
   "outputs": [
    {
     "data": {
      "text/plain": [
       "Brand        0\n",
       "Variant      0\n",
       "Fuel         0\n",
       "Km_driven    0\n",
       "Owner        0\n",
       "Location     0\n",
       "Price        0\n",
       "dtype: int64"
      ]
     },
     "execution_count": 9,
     "metadata": {},
     "output_type": "execute_result"
    }
   ],
   "source": [
    "#rechecking null values\n",
    "df.isnull().sum()"
   ]
  },
  {
   "cell_type": "markdown",
   "id": "7251c8ce",
   "metadata": {},
   "source": [
    "We have dropped all the null values that our dataset had. While carefully checking the data I also found there are '--' in certain cells. We will replace them with 'NA'. Additionally, in the 'Price' column there are ',' and '₹' sign and the 'Km_driven' column has 'KM'. So, we will try to get rid of them using replace functions.\n",
    "\n",
    "We will also try to seperate the year from the Brand column."
   ]
  },
  {
   "cell_type": "code",
   "execution_count": 10,
   "id": "36a1551e",
   "metadata": {},
   "outputs": [],
   "source": [
    "#Extracting Brand name of the car in a new column Car_brand.\n",
    "df['Car_brand'] = df['Brand'].apply(lambda x:x.split('(')[0])"
   ]
  },
  {
   "cell_type": "code",
   "execution_count": 11,
   "id": "9a157e60",
   "metadata": {},
   "outputs": [],
   "source": [
    "#Dropping the original column brand\n",
    "df = df.drop('Brand',axis=1)"
   ]
  },
  {
   "cell_type": "code",
   "execution_count": 12,
   "id": "d34bfd5c",
   "metadata": {},
   "outputs": [
    {
     "data": {
      "text/html": [
       "<div>\n",
       "<style scoped>\n",
       "    .dataframe tbody tr th:only-of-type {\n",
       "        vertical-align: middle;\n",
       "    }\n",
       "\n",
       "    .dataframe tbody tr th {\n",
       "        vertical-align: top;\n",
       "    }\n",
       "\n",
       "    .dataframe thead th {\n",
       "        text-align: right;\n",
       "    }\n",
       "</style>\n",
       "<table border=\"1\" class=\"dataframe\">\n",
       "  <thead>\n",
       "    <tr style=\"text-align: right;\">\n",
       "      <th></th>\n",
       "      <th>Variant</th>\n",
       "      <th>Fuel</th>\n",
       "      <th>Km_driven</th>\n",
       "      <th>Owner</th>\n",
       "      <th>Location</th>\n",
       "      <th>Price</th>\n",
       "      <th>Car_brand</th>\n",
       "    </tr>\n",
       "  </thead>\n",
       "  <tbody>\n",
       "    <tr>\n",
       "      <th>0</th>\n",
       "      <td>MANUAL</td>\n",
       "      <td>DIESEL</td>\n",
       "      <td>69511.0 KM</td>\n",
       "      <td>1st</td>\n",
       "      <td>Location\\nRTC Colony, Hyderabad</td>\n",
       "      <td>₹ 7,55,000</td>\n",
       "      <td>Honda Amaze</td>\n",
       "    </tr>\n",
       "    <tr>\n",
       "      <th>1</th>\n",
       "      <td>MANUAL</td>\n",
       "      <td>PETROL</td>\n",
       "      <td>57071.0 KM</td>\n",
       "      <td>1st</td>\n",
       "      <td>Location\\nSindhu Nagar, Bhilwara</td>\n",
       "      <td>₹ 3,30,000</td>\n",
       "      <td>Maruti Suzuki Alto K10</td>\n",
       "    </tr>\n",
       "    <tr>\n",
       "      <th>2</th>\n",
       "      <td>MANUAL</td>\n",
       "      <td>DIESEL</td>\n",
       "      <td>67000.0 KM</td>\n",
       "      <td>--</td>\n",
       "      <td>Location\\nPolo Field, Tezpur</td>\n",
       "      <td>₹ 8,65,000</td>\n",
       "      <td>Mahindra Bolero Power Plus</td>\n",
       "    </tr>\n",
       "    <tr>\n",
       "      <th>3</th>\n",
       "      <td>MANUAL</td>\n",
       "      <td>DIESEL</td>\n",
       "      <td>120000 KM</td>\n",
       "      <td>Second</td>\n",
       "      <td>Location\\nHussaini Alam, Hyderabad</td>\n",
       "      <td>₹ 2,70,000</td>\n",
       "      <td>Toyota Innova</td>\n",
       "    </tr>\n",
       "    <tr>\n",
       "      <th>4</th>\n",
       "      <td>MANUAL</td>\n",
       "      <td>PETROL</td>\n",
       "      <td>40000 KM</td>\n",
       "      <td>Second</td>\n",
       "      <td>Location\\nSector 2A, Chandigarh</td>\n",
       "      <td>₹ 50,000</td>\n",
       "      <td>Maruti Suzuki 1000</td>\n",
       "    </tr>\n",
       "    <tr>\n",
       "      <th>...</th>\n",
       "      <td>...</td>\n",
       "      <td>...</td>\n",
       "      <td>...</td>\n",
       "      <td>...</td>\n",
       "      <td>...</td>\n",
       "      <td>...</td>\n",
       "      <td>...</td>\n",
       "    </tr>\n",
       "    <tr>\n",
       "      <th>4995</th>\n",
       "      <td>MANUAL</td>\n",
       "      <td>PETROL</td>\n",
       "      <td>99,000 KM</td>\n",
       "      <td>2nd</td>\n",
       "      <td>Location\\nBenachiti, Durgapur</td>\n",
       "      <td>₹ 3,49,999</td>\n",
       "      <td>Hyundai Verna</td>\n",
       "    </tr>\n",
       "    <tr>\n",
       "      <th>4996</th>\n",
       "      <td>MANUAL</td>\n",
       "      <td>DIESEL</td>\n",
       "      <td>35000.0 KM</td>\n",
       "      <td>2nd</td>\n",
       "      <td>Location\\nKailash Nagar, Mumbai</td>\n",
       "      <td>₹ 8,99,000</td>\n",
       "      <td>Hyundai Creta</td>\n",
       "    </tr>\n",
       "    <tr>\n",
       "      <th>4997</th>\n",
       "      <td>MANUAL</td>\n",
       "      <td>DIESEL</td>\n",
       "      <td>126000.0 KM</td>\n",
       "      <td>1st</td>\n",
       "      <td>Location\\nKukatpally, Hyderabad</td>\n",
       "      <td>₹ 4,38,000</td>\n",
       "      <td>Hyundai Fluidic Verna</td>\n",
       "    </tr>\n",
       "    <tr>\n",
       "      <th>4998</th>\n",
       "      <td>MANUAL</td>\n",
       "      <td>DIESEL</td>\n",
       "      <td>61000.0 KM</td>\n",
       "      <td>1st</td>\n",
       "      <td>Location\\nThane West, Thane</td>\n",
       "      <td>₹ 5,99,000</td>\n",
       "      <td>Hyundai Verna</td>\n",
       "    </tr>\n",
       "    <tr>\n",
       "      <th>4999</th>\n",
       "      <td>AUTOMATIC</td>\n",
       "      <td>PETROL</td>\n",
       "      <td>55000.0 KM</td>\n",
       "      <td>2nd</td>\n",
       "      <td>Location\\nKandivali West, Mumbai</td>\n",
       "      <td>₹ 5,55,000</td>\n",
       "      <td>Volkswagen Vento</td>\n",
       "    </tr>\n",
       "  </tbody>\n",
       "</table>\n",
       "<p>4861 rows × 7 columns</p>\n",
       "</div>"
      ],
      "text/plain": [
       "        Variant    Fuel    Km_driven   Owner  \\\n",
       "0        MANUAL  DIESEL   69511.0 KM     1st   \n",
       "1        MANUAL  PETROL   57071.0 KM     1st   \n",
       "2        MANUAL  DIESEL   67000.0 KM      --   \n",
       "3        MANUAL  DIESEL    120000 KM  Second   \n",
       "4        MANUAL  PETROL     40000 KM  Second   \n",
       "...         ...     ...          ...     ...   \n",
       "4995     MANUAL  PETROL    99,000 KM     2nd   \n",
       "4996     MANUAL  DIESEL   35000.0 KM     2nd   \n",
       "4997     MANUAL  DIESEL  126000.0 KM     1st   \n",
       "4998     MANUAL  DIESEL   61000.0 KM     1st   \n",
       "4999  AUTOMATIC  PETROL   55000.0 KM     2nd   \n",
       "\n",
       "                                Location       Price  \\\n",
       "0        Location\\nRTC Colony, Hyderabad  ₹ 7,55,000   \n",
       "1       Location\\nSindhu Nagar, Bhilwara  ₹ 3,30,000   \n",
       "2           Location\\nPolo Field, Tezpur  ₹ 8,65,000   \n",
       "3     Location\\nHussaini Alam, Hyderabad  ₹ 2,70,000   \n",
       "4        Location\\nSector 2A, Chandigarh    ₹ 50,000   \n",
       "...                                  ...         ...   \n",
       "4995       Location\\nBenachiti, Durgapur  ₹ 3,49,999   \n",
       "4996     Location\\nKailash Nagar, Mumbai  ₹ 8,99,000   \n",
       "4997     Location\\nKukatpally, Hyderabad  ₹ 4,38,000   \n",
       "4998         Location\\nThane West, Thane  ₹ 5,99,000   \n",
       "4999    Location\\nKandivali West, Mumbai  ₹ 5,55,000   \n",
       "\n",
       "                        Car_brand  \n",
       "0                    Honda Amaze   \n",
       "1         Maruti Suzuki Alto K10   \n",
       "2     Mahindra Bolero Power Plus   \n",
       "3                  Toyota Innova   \n",
       "4             Maruti Suzuki 1000   \n",
       "...                           ...  \n",
       "4995               Hyundai Verna   \n",
       "4996               Hyundai Creta   \n",
       "4997       Hyundai Fluidic Verna   \n",
       "4998               Hyundai Verna   \n",
       "4999            Volkswagen Vento   \n",
       "\n",
       "[4861 rows x 7 columns]"
      ]
     },
     "execution_count": 12,
     "metadata": {},
     "output_type": "execute_result"
    }
   ],
   "source": [
    "#checking the result\n",
    "df"
   ]
  },
  {
   "cell_type": "code",
   "execution_count": 13,
   "id": "8199bf94",
   "metadata": {},
   "outputs": [],
   "source": [
    "#replace all the  '--' with 'NA'\n",
    "df= df.replace('--', 'NA')"
   ]
  },
  {
   "cell_type": "code",
   "execution_count": 14,
   "id": "25fa07ff",
   "metadata": {},
   "outputs": [],
   "source": [
    "#replacing ',' and '₹' sign with blank in price column and converting the same into integer to make our dataset ready for prediction\n",
    "df['Price'] = df['Price'].str.replace(',', '')\n",
    "df['Price'] = df['Price'].str.replace('₹', '')\n",
    "df['Price'] = df['Price'].astype(int)"
   ]
  },
  {
   "cell_type": "code",
   "execution_count": 15,
   "id": "bf1873a8",
   "metadata": {},
   "outputs": [],
   "source": [
    "#replacing ',' and 'KM' sign with blank in price column \n",
    "df['Km_driven'] = df['Km_driven'].str.replace(',', '')\n",
    "df['Km_driven'] = df['Km_driven'].str.replace('KM', '')"
   ]
  },
  {
   "cell_type": "markdown",
   "id": "19680ede",
   "metadata": {},
   "source": [
    "We observe the 'Owner' column has certain cells that are mentioned as First, Second, Third, Fourth contrary to the usual 1st, 2nd, 3rd, etc. We will thus replace them with the latter values. "
   ]
  },
  {
   "cell_type": "code",
   "execution_count": 16,
   "id": "5a46396f",
   "metadata": {},
   "outputs": [],
   "source": [
    "df['Owner'] = df['Owner'].replace('First', '1st')"
   ]
  },
  {
   "cell_type": "code",
   "execution_count": 17,
   "id": "97b7154a",
   "metadata": {},
   "outputs": [],
   "source": [
    "df['Owner'] = df['Owner'].replace('Second', '2nd')"
   ]
  },
  {
   "cell_type": "code",
   "execution_count": 18,
   "id": "05966476",
   "metadata": {},
   "outputs": [],
   "source": [
    "df['Owner'] = df['Owner'].replace('Third', '3rd')"
   ]
  },
  {
   "cell_type": "code",
   "execution_count": 19,
   "id": "fe3e28ae",
   "metadata": {},
   "outputs": [],
   "source": [
    "df['Owner'] = df['Owner'].replace('Fourth', '4th')"
   ]
  },
  {
   "cell_type": "code",
   "execution_count": 20,
   "id": "1172da37",
   "metadata": {},
   "outputs": [],
   "source": [
    "df['Owner'] = df['Owner'].replace('NA', '4th')"
   ]
  },
  {
   "cell_type": "markdown",
   "id": "f5897d0d",
   "metadata": {},
   "source": [
    "We can see that there are certain cells that have '--' inplace of values, which we will try to replace with 0. "
   ]
  },
  {
   "cell_type": "code",
   "execution_count": 21,
   "id": "923adf5b",
   "metadata": {},
   "outputs": [],
   "source": [
    "df1=df.fillna(0)"
   ]
  },
  {
   "cell_type": "code",
   "execution_count": 22,
   "id": "ef890c88",
   "metadata": {},
   "outputs": [],
   "source": [
    "df1['Km_driven']=df1['Km_driven'].apply(lambda x: x.replace(',','') if x!='-' else '-')"
   ]
  },
  {
   "cell_type": "code",
   "execution_count": 23,
   "id": "6436752a",
   "metadata": {},
   "outputs": [],
   "source": [
    "df1['Km_driven'] = df1['Km_driven'].replace('--', '0')"
   ]
  },
  {
   "cell_type": "code",
   "execution_count": 24,
   "id": "6d90c059",
   "metadata": {},
   "outputs": [],
   "source": [
    "df1['Km_driven'] = df1['Km_driven'].fillna('0')"
   ]
  },
  {
   "cell_type": "code",
   "execution_count": 25,
   "id": "acb409a5",
   "metadata": {},
   "outputs": [
    {
     "data": {
      "text/html": [
       "<div>\n",
       "<style scoped>\n",
       "    .dataframe tbody tr th:only-of-type {\n",
       "        vertical-align: middle;\n",
       "    }\n",
       "\n",
       "    .dataframe tbody tr th {\n",
       "        vertical-align: top;\n",
       "    }\n",
       "\n",
       "    .dataframe thead th {\n",
       "        text-align: right;\n",
       "    }\n",
       "</style>\n",
       "<table border=\"1\" class=\"dataframe\">\n",
       "  <thead>\n",
       "    <tr style=\"text-align: right;\">\n",
       "      <th></th>\n",
       "      <th>Variant</th>\n",
       "      <th>Fuel</th>\n",
       "      <th>Km_driven</th>\n",
       "      <th>Owner</th>\n",
       "      <th>Location</th>\n",
       "      <th>Price</th>\n",
       "      <th>Car_brand</th>\n",
       "    </tr>\n",
       "  </thead>\n",
       "  <tbody>\n",
       "    <tr>\n",
       "      <th>0</th>\n",
       "      <td>MANUAL</td>\n",
       "      <td>DIESEL</td>\n",
       "      <td>69511.0</td>\n",
       "      <td>1st</td>\n",
       "      <td>Location\\nRTC Colony, Hyderabad</td>\n",
       "      <td>755000</td>\n",
       "      <td>Honda Amaze</td>\n",
       "    </tr>\n",
       "    <tr>\n",
       "      <th>1</th>\n",
       "      <td>MANUAL</td>\n",
       "      <td>PETROL</td>\n",
       "      <td>57071.0</td>\n",
       "      <td>1st</td>\n",
       "      <td>Location\\nSindhu Nagar, Bhilwara</td>\n",
       "      <td>330000</td>\n",
       "      <td>Maruti Suzuki Alto K10</td>\n",
       "    </tr>\n",
       "    <tr>\n",
       "      <th>2</th>\n",
       "      <td>MANUAL</td>\n",
       "      <td>DIESEL</td>\n",
       "      <td>67000.0</td>\n",
       "      <td>4th</td>\n",
       "      <td>Location\\nPolo Field, Tezpur</td>\n",
       "      <td>865000</td>\n",
       "      <td>Mahindra Bolero Power Plus</td>\n",
       "    </tr>\n",
       "    <tr>\n",
       "      <th>3</th>\n",
       "      <td>MANUAL</td>\n",
       "      <td>DIESEL</td>\n",
       "      <td>120000</td>\n",
       "      <td>2nd</td>\n",
       "      <td>Location\\nHussaini Alam, Hyderabad</td>\n",
       "      <td>270000</td>\n",
       "      <td>Toyota Innova</td>\n",
       "    </tr>\n",
       "    <tr>\n",
       "      <th>4</th>\n",
       "      <td>MANUAL</td>\n",
       "      <td>PETROL</td>\n",
       "      <td>40000</td>\n",
       "      <td>2nd</td>\n",
       "      <td>Location\\nSector 2A, Chandigarh</td>\n",
       "      <td>50000</td>\n",
       "      <td>Maruti Suzuki 1000</td>\n",
       "    </tr>\n",
       "    <tr>\n",
       "      <th>...</th>\n",
       "      <td>...</td>\n",
       "      <td>...</td>\n",
       "      <td>...</td>\n",
       "      <td>...</td>\n",
       "      <td>...</td>\n",
       "      <td>...</td>\n",
       "      <td>...</td>\n",
       "    </tr>\n",
       "    <tr>\n",
       "      <th>4995</th>\n",
       "      <td>MANUAL</td>\n",
       "      <td>PETROL</td>\n",
       "      <td>99000</td>\n",
       "      <td>2nd</td>\n",
       "      <td>Location\\nBenachiti, Durgapur</td>\n",
       "      <td>349999</td>\n",
       "      <td>Hyundai Verna</td>\n",
       "    </tr>\n",
       "    <tr>\n",
       "      <th>4996</th>\n",
       "      <td>MANUAL</td>\n",
       "      <td>DIESEL</td>\n",
       "      <td>35000.0</td>\n",
       "      <td>2nd</td>\n",
       "      <td>Location\\nKailash Nagar, Mumbai</td>\n",
       "      <td>899000</td>\n",
       "      <td>Hyundai Creta</td>\n",
       "    </tr>\n",
       "    <tr>\n",
       "      <th>4997</th>\n",
       "      <td>MANUAL</td>\n",
       "      <td>DIESEL</td>\n",
       "      <td>126000.0</td>\n",
       "      <td>1st</td>\n",
       "      <td>Location\\nKukatpally, Hyderabad</td>\n",
       "      <td>438000</td>\n",
       "      <td>Hyundai Fluidic Verna</td>\n",
       "    </tr>\n",
       "    <tr>\n",
       "      <th>4998</th>\n",
       "      <td>MANUAL</td>\n",
       "      <td>DIESEL</td>\n",
       "      <td>61000.0</td>\n",
       "      <td>1st</td>\n",
       "      <td>Location\\nThane West, Thane</td>\n",
       "      <td>599000</td>\n",
       "      <td>Hyundai Verna</td>\n",
       "    </tr>\n",
       "    <tr>\n",
       "      <th>4999</th>\n",
       "      <td>AUTOMATIC</td>\n",
       "      <td>PETROL</td>\n",
       "      <td>55000.0</td>\n",
       "      <td>2nd</td>\n",
       "      <td>Location\\nKandivali West, Mumbai</td>\n",
       "      <td>555000</td>\n",
       "      <td>Volkswagen Vento</td>\n",
       "    </tr>\n",
       "  </tbody>\n",
       "</table>\n",
       "<p>4861 rows × 7 columns</p>\n",
       "</div>"
      ],
      "text/plain": [
       "        Variant    Fuel  Km_driven Owner                            Location  \\\n",
       "0        MANUAL  DIESEL   69511.0    1st     Location\\nRTC Colony, Hyderabad   \n",
       "1        MANUAL  PETROL   57071.0    1st    Location\\nSindhu Nagar, Bhilwara   \n",
       "2        MANUAL  DIESEL   67000.0    4th        Location\\nPolo Field, Tezpur   \n",
       "3        MANUAL  DIESEL    120000    2nd  Location\\nHussaini Alam, Hyderabad   \n",
       "4        MANUAL  PETROL     40000    2nd     Location\\nSector 2A, Chandigarh   \n",
       "...         ...     ...        ...   ...                                 ...   \n",
       "4995     MANUAL  PETROL     99000    2nd       Location\\nBenachiti, Durgapur   \n",
       "4996     MANUAL  DIESEL   35000.0    2nd     Location\\nKailash Nagar, Mumbai   \n",
       "4997     MANUAL  DIESEL  126000.0    1st     Location\\nKukatpally, Hyderabad   \n",
       "4998     MANUAL  DIESEL   61000.0    1st         Location\\nThane West, Thane   \n",
       "4999  AUTOMATIC  PETROL   55000.0    2nd    Location\\nKandivali West, Mumbai   \n",
       "\n",
       "       Price                    Car_brand  \n",
       "0     755000                 Honda Amaze   \n",
       "1     330000      Maruti Suzuki Alto K10   \n",
       "2     865000  Mahindra Bolero Power Plus   \n",
       "3     270000               Toyota Innova   \n",
       "4      50000          Maruti Suzuki 1000   \n",
       "...      ...                          ...  \n",
       "4995  349999               Hyundai Verna   \n",
       "4996  899000               Hyundai Creta   \n",
       "4997  438000       Hyundai Fluidic Verna   \n",
       "4998  599000               Hyundai Verna   \n",
       "4999  555000            Volkswagen Vento   \n",
       "\n",
       "[4861 rows x 7 columns]"
      ]
     },
     "execution_count": 25,
     "metadata": {},
     "output_type": "execute_result"
    }
   ],
   "source": [
    "df1"
   ]
  },
  {
   "cell_type": "markdown",
   "id": "1ab99f70",
   "metadata": {},
   "source": [
    "We will now convert the object type 'Km_driven' column into numeric type as it contains numeric values. "
   ]
  },
  {
   "cell_type": "code",
   "execution_count": 26,
   "id": "dfaf0792",
   "metadata": {},
   "outputs": [],
   "source": [
    "df_final = df1.replace('--', '0')"
   ]
  },
  {
   "cell_type": "code",
   "execution_count": 27,
   "id": "91ecf0ec",
   "metadata": {},
   "outputs": [
    {
     "data": {
      "text/plain": [
       "Variant      object\n",
       "Fuel         object\n",
       "Km_driven    object\n",
       "Owner        object\n",
       "Location     object\n",
       "Price         int32\n",
       "Car_brand    object\n",
       "dtype: object"
      ]
     },
     "execution_count": 27,
     "metadata": {},
     "output_type": "execute_result"
    }
   ],
   "source": [
    "#checking data types\n",
    "df_final.dtypes"
   ]
  },
  {
   "cell_type": "markdown",
   "id": "4835e1e3",
   "metadata": {},
   "source": [
    "Now, we can split the dataset into categorical and numerical and proceed with visualization. "
   ]
  },
  {
   "cell_type": "code",
   "execution_count": 28,
   "id": "d3f336dc",
   "metadata": {},
   "outputs": [
    {
     "data": {
      "text/html": [
       "<div>\n",
       "<style scoped>\n",
       "    .dataframe tbody tr th:only-of-type {\n",
       "        vertical-align: middle;\n",
       "    }\n",
       "\n",
       "    .dataframe tbody tr th {\n",
       "        vertical-align: top;\n",
       "    }\n",
       "\n",
       "    .dataframe thead th {\n",
       "        text-align: right;\n",
       "    }\n",
       "</style>\n",
       "<table border=\"1\" class=\"dataframe\">\n",
       "  <thead>\n",
       "    <tr style=\"text-align: right;\">\n",
       "      <th></th>\n",
       "      <th>Variant</th>\n",
       "      <th>Fuel</th>\n",
       "      <th>Km_driven</th>\n",
       "      <th>Owner</th>\n",
       "      <th>Location</th>\n",
       "      <th>Car_brand</th>\n",
       "    </tr>\n",
       "  </thead>\n",
       "  <tbody>\n",
       "    <tr>\n",
       "      <th>0</th>\n",
       "      <td>MANUAL</td>\n",
       "      <td>DIESEL</td>\n",
       "      <td>69511.0</td>\n",
       "      <td>1st</td>\n",
       "      <td>Location\\nRTC Colony, Hyderabad</td>\n",
       "      <td>Honda Amaze</td>\n",
       "    </tr>\n",
       "    <tr>\n",
       "      <th>1</th>\n",
       "      <td>MANUAL</td>\n",
       "      <td>PETROL</td>\n",
       "      <td>57071.0</td>\n",
       "      <td>1st</td>\n",
       "      <td>Location\\nSindhu Nagar, Bhilwara</td>\n",
       "      <td>Maruti Suzuki Alto K10</td>\n",
       "    </tr>\n",
       "    <tr>\n",
       "      <th>2</th>\n",
       "      <td>MANUAL</td>\n",
       "      <td>DIESEL</td>\n",
       "      <td>67000.0</td>\n",
       "      <td>4th</td>\n",
       "      <td>Location\\nPolo Field, Tezpur</td>\n",
       "      <td>Mahindra Bolero Power Plus</td>\n",
       "    </tr>\n",
       "    <tr>\n",
       "      <th>3</th>\n",
       "      <td>MANUAL</td>\n",
       "      <td>DIESEL</td>\n",
       "      <td>120000</td>\n",
       "      <td>2nd</td>\n",
       "      <td>Location\\nHussaini Alam, Hyderabad</td>\n",
       "      <td>Toyota Innova</td>\n",
       "    </tr>\n",
       "    <tr>\n",
       "      <th>4</th>\n",
       "      <td>MANUAL</td>\n",
       "      <td>PETROL</td>\n",
       "      <td>40000</td>\n",
       "      <td>2nd</td>\n",
       "      <td>Location\\nSector 2A, Chandigarh</td>\n",
       "      <td>Maruti Suzuki 1000</td>\n",
       "    </tr>\n",
       "  </tbody>\n",
       "</table>\n",
       "</div>"
      ],
      "text/plain": [
       "  Variant    Fuel Km_driven Owner                            Location  \\\n",
       "0  MANUAL  DIESEL  69511.0    1st     Location\\nRTC Colony, Hyderabad   \n",
       "1  MANUAL  PETROL  57071.0    1st    Location\\nSindhu Nagar, Bhilwara   \n",
       "2  MANUAL  DIESEL  67000.0    4th        Location\\nPolo Field, Tezpur   \n",
       "3  MANUAL  DIESEL   120000    2nd  Location\\nHussaini Alam, Hyderabad   \n",
       "4  MANUAL  PETROL    40000    2nd     Location\\nSector 2A, Chandigarh   \n",
       "\n",
       "                     Car_brand  \n",
       "0                 Honda Amaze   \n",
       "1      Maruti Suzuki Alto K10   \n",
       "2  Mahindra Bolero Power Plus   \n",
       "3               Toyota Innova   \n",
       "4          Maruti Suzuki 1000   "
      ]
     },
     "execution_count": 28,
     "metadata": {},
     "output_type": "execute_result"
    }
   ],
   "source": [
    "categorical_cols = df_final.select_dtypes(include = ['object'])\n",
    "\n",
    "categorical_cols.head()"
   ]
  },
  {
   "cell_type": "code",
   "execution_count": 29,
   "id": "0d56ad13",
   "metadata": {},
   "outputs": [
    {
     "data": {
      "text/html": [
       "<div>\n",
       "<style scoped>\n",
       "    .dataframe tbody tr th:only-of-type {\n",
       "        vertical-align: middle;\n",
       "    }\n",
       "\n",
       "    .dataframe tbody tr th {\n",
       "        vertical-align: top;\n",
       "    }\n",
       "\n",
       "    .dataframe thead th {\n",
       "        text-align: right;\n",
       "    }\n",
       "</style>\n",
       "<table border=\"1\" class=\"dataframe\">\n",
       "  <thead>\n",
       "    <tr style=\"text-align: right;\">\n",
       "      <th></th>\n",
       "      <th>Price</th>\n",
       "    </tr>\n",
       "  </thead>\n",
       "  <tbody>\n",
       "    <tr>\n",
       "      <th>0</th>\n",
       "      <td>755000</td>\n",
       "    </tr>\n",
       "    <tr>\n",
       "      <th>1</th>\n",
       "      <td>330000</td>\n",
       "    </tr>\n",
       "    <tr>\n",
       "      <th>2</th>\n",
       "      <td>865000</td>\n",
       "    </tr>\n",
       "    <tr>\n",
       "      <th>3</th>\n",
       "      <td>270000</td>\n",
       "    </tr>\n",
       "    <tr>\n",
       "      <th>4</th>\n",
       "      <td>50000</td>\n",
       "    </tr>\n",
       "  </tbody>\n",
       "</table>\n",
       "</div>"
      ],
      "text/plain": [
       "    Price\n",
       "0  755000\n",
       "1  330000\n",
       "2  865000\n",
       "3  270000\n",
       "4   50000"
      ]
     },
     "execution_count": 29,
     "metadata": {},
     "output_type": "execute_result"
    }
   ],
   "source": [
    "numerical_cols = df_final.select_dtypes(include = ['int'])\n",
    "\n",
    "numerical_cols.head()"
   ]
  },
  {
   "cell_type": "code",
   "execution_count": 30,
   "id": "ebceb811",
   "metadata": {},
   "outputs": [
    {
     "data": {
      "text/plain": [
       "count    4.861000e+03\n",
       "mean     8.696927e+05\n",
       "std      1.366803e+06\n",
       "min      5.000000e+04\n",
       "25%      2.100000e+05\n",
       "50%      4.750000e+05\n",
       "75%      8.100000e+05\n",
       "max      7.500000e+06\n",
       "Name: Price, dtype: float64"
      ]
     },
     "execution_count": 30,
     "metadata": {},
     "output_type": "execute_result"
    }
   ],
   "source": [
    "numerical_cols['Price'].describe()"
   ]
  },
  {
   "cell_type": "markdown",
   "id": "73b395cb",
   "metadata": {},
   "source": [
    "Let's count the no. of cars based on their brand, variant, owner, fuel type, etc."
   ]
  },
  {
   "cell_type": "code",
   "execution_count": 31,
   "id": "f062a125",
   "metadata": {},
   "outputs": [
    {
     "data": {
      "text/plain": [
       "Hyundai Santro Xing            373\n",
       "Volkswagen Polo                250\n",
       "Hyundai Verna                  249\n",
       "Maruti Suzuki 800              249\n",
       "Hyundai Creta                  249\n",
       "Honda Amaze                    247\n",
       "Ford Figo                      125\n",
       "Maruti Suzuki Swift            125\n",
       "Toyota Etios Liva              125\n",
       "Honda Accord                   125\n",
       "Mahindra Rexton                125\n",
       "Honda City                     125\n",
       "Nissan Micra                   125\n",
       "Hyundai I10                    125\n",
       "Maruti Suzuki Alto K10         125\n",
       "Volkswagen Vento               125\n",
       "Maruti Suzuki Ciaz             125\n",
       "Toyota Etios                   125\n",
       "Maruti Suzuki Alto 800         125\n",
       "Mercedes-Benz Gle Class        125\n",
       "Bmw 5 Series                   125\n",
       "Bmw M2                         125\n",
       "Skoda Superb                   125\n",
       "Maruti Suzuki 1000             125\n",
       "Toyota Innova                  125\n",
       "Mahindra Bolero Power Plus     125\n",
       "Tata Sumo                      124\n",
       "Maruti Suzuki Baleno           124\n",
       "Kia Seltos                     124\n",
       "Hyundai Venue                  124\n",
       "Hyundai Fluidic Verna          124\n",
       "Audi A6                        124\n",
       "Name: Car_brand, dtype: int64"
      ]
     },
     "execution_count": 31,
     "metadata": {},
     "output_type": "execute_result"
    }
   ],
   "source": [
    "# Brand type\n",
    "df_final['Car_brand'].value_counts()"
   ]
  },
  {
   "cell_type": "code",
   "execution_count": 32,
   "id": "b18a0c54",
   "metadata": {},
   "outputs": [
    {
     "data": {
      "text/plain": [
       "PETROL           2494\n",
       "DIESEL           2117\n",
       "CNG & HYBRIDS     125\n",
       "CNG               125\n",
       "Name: Fuel, dtype: int64"
      ]
     },
     "execution_count": 32,
     "metadata": {},
     "output_type": "execute_result"
    }
   ],
   "source": [
    "# fuel type - Car fuel type i.e petrol, diesel, cng & hybrids\n",
    "df_final['Fuel'].value_counts()"
   ]
  },
  {
   "cell_type": "code",
   "execution_count": 33,
   "id": "174e7036",
   "metadata": {},
   "outputs": [],
   "source": [
    "#replacing the CNG with CNG & Hybrids\n",
    "df_final['Fuel'] = df['Fuel'].str.replace('CNG & HYBRIDS', 'CNG')"
   ]
  },
  {
   "cell_type": "code",
   "execution_count": 34,
   "id": "b285a057",
   "metadata": {},
   "outputs": [
    {
     "data": {
      "text/plain": [
       "PETROL    2494\n",
       "DIESEL    2117\n",
       "CNG        250\n",
       "Name: Fuel, dtype: int64"
      ]
     },
     "execution_count": 34,
     "metadata": {},
     "output_type": "execute_result"
    }
   ],
   "source": [
    "df_final['Fuel'].value_counts()"
   ]
  },
  {
   "cell_type": "code",
   "execution_count": 35,
   "id": "680b5fbd",
   "metadata": {},
   "outputs": [
    {
     "data": {
      "text/plain": [
       "MANUAL       3240\n",
       "AUTOMATIC     998\n",
       "NA            623\n",
       "Name: Variant, dtype: int64"
      ]
     },
     "execution_count": 35,
     "metadata": {},
     "output_type": "execute_result"
    }
   ],
   "source": [
    "# variant type - Car variant type i.e manual, automatic\n",
    "df_final['Variant'].value_counts()"
   ]
  },
  {
   "cell_type": "code",
   "execution_count": 36,
   "id": "8e056a88",
   "metadata": {},
   "outputs": [],
   "source": [
    "#replacing the NA with Manual\n",
    "df_final['Variant'] = df['Variant'].str.replace('NA', 'MANUAL')"
   ]
  },
  {
   "cell_type": "code",
   "execution_count": 37,
   "id": "864fa814",
   "metadata": {},
   "outputs": [
    {
     "data": {
      "text/plain": [
       "MANUAL       3863\n",
       "AUTOMATIC     998\n",
       "Name: Variant, dtype: int64"
      ]
     },
     "execution_count": 37,
     "metadata": {},
     "output_type": "execute_result"
    }
   ],
   "source": [
    "df_final['Variant'].value_counts()"
   ]
  },
  {
   "cell_type": "code",
   "execution_count": 38,
   "id": "5fee32cf",
   "metadata": {},
   "outputs": [
    {
     "data": {
      "text/plain": [
       "1st    2493\n",
       "2nd    1495\n",
       "3rd     375\n",
       "4th     250\n",
       "4+      248\n",
       "Name: Owner, dtype: int64"
      ]
     },
     "execution_count": 38,
     "metadata": {},
     "output_type": "execute_result"
    }
   ],
   "source": [
    "# owner type \n",
    "df_final['Owner'].value_counts()"
   ]
  },
  {
   "cell_type": "markdown",
   "id": "52b8d5ab",
   "metadata": {},
   "source": [
    "Visualization"
   ]
  },
  {
   "cell_type": "code",
   "execution_count": 39,
   "id": "53b297ef",
   "metadata": {},
   "outputs": [
    {
     "data": {
      "image/png": "[encoded data removed]",
      "text/plain": [
       "<Figure size 432x288 with 1 Axes>"
      ]
     },
     "metadata": {
      "needs_background": "light"
     },
     "output_type": "display_data"
    }
   ],
   "source": [
    "sns.distplot(df_final['Car_brand'].value_counts())\n",
    "plt.show()"
   ]
  },
  {
   "cell_type": "markdown",
   "id": "3d0c5f0b",
   "metadata": {},
   "source": [
    "Here we can see as per the Car Brand count Hyundai Santro xing is the most available followed by Volkswagen Polo, Hyundai Verna, etc. Tata sumo, Maruti Suzuki Baleno, Kia Seltos, Hyundai Venue, Hyundai Fluidic Verna, Audi A6 has the least count. "
   ]
  },
  {
   "cell_type": "code",
   "execution_count": 40,
   "id": "c369cad7",
   "metadata": {},
   "outputs": [
    {
     "data": {
      "image/png": "[encoded data removed]",
      "text/plain": [
       "<Figure size 432x288 with 1 Axes>"
      ]
     },
     "metadata": {
      "needs_background": "light"
     },
     "output_type": "display_data"
    }
   ],
   "source": [
    "sns.distplot(df_final['Fuel'].value_counts())\n",
    "plt.show()"
   ]
  },
  {
   "cell_type": "markdown",
   "id": "f37ea858",
   "metadata": {},
   "source": [
    "We can see Petrol cars are mostly available followed by diesel and CNG. "
   ]
  },
  {
   "cell_type": "code",
   "execution_count": 41,
   "id": "03230b39",
   "metadata": {},
   "outputs": [
    {
     "data": {
      "image/png": "[encoded data removed]",
      "text/plain": [
       "<Figure size 432x288 with 1 Axes>"
      ]
     },
     "metadata": {
      "needs_background": "light"
     },
     "output_type": "display_data"
    }
   ],
   "source": [
    "sns.distplot(df_final['Variant'].value_counts())\n",
    "plt.show()"
   ]
  },
  {
   "cell_type": "markdown",
   "id": "9a380fdd",
   "metadata": {},
   "source": [
    "We can see more manual cars available followed by automatic. "
   ]
  },
  {
   "cell_type": "code",
   "execution_count": 42,
   "id": "7c891b69",
   "metadata": {},
   "outputs": [
    {
     "data": {
      "image/png": "[encoded data removed]",
      "text/plain": [
       "<Figure size 432x288 with 1 Axes>"
      ]
     },
     "metadata": {
      "needs_background": "light"
     },
     "output_type": "display_data"
    }
   ],
   "source": [
    "sns.distplot(df_final['Owner'].value_counts())\n",
    "plt.show()"
   ]
  },
  {
   "cell_type": "markdown",
   "id": "a69d548e",
   "metadata": {},
   "source": [
    "The cars are mostly sold by first and second owners. "
   ]
  },
  {
   "cell_type": "code",
   "execution_count": 43,
   "id": "ee062132",
   "metadata": {},
   "outputs": [
    {
     "data": {
      "text/plain": [
       "Text(0.5, 1.0, 'Car Price Distribution Plot')"
      ]
     },
     "execution_count": 43,
     "metadata": {},
     "output_type": "execute_result"
    },
    {
     "data": {
      "image/png": "[encoded data removed]",
      "text/plain": [
       "<Figure size 792x360 with 1 Axes>"
      ]
     },
     "metadata": {
      "needs_background": "light"
     },
     "output_type": "display_data"
    }
   ],
   "source": [
    "plt.figure(figsize=[11,5])\n",
    "sns.distplot(df_final['Price'])\n",
    "plt.title('Car Price Distribution Plot')"
   ]
  },
  {
   "cell_type": "markdown",
   "id": "153aa678",
   "metadata": {},
   "source": [
    "This plot shows the distribution of the target feature ‘Price’. We can definitely say that the cost of used cars is definitely high as we see some cars priced at Rs. 3300000 or above. "
   ]
  },
  {
   "cell_type": "markdown",
   "id": "31e1ec62",
   "metadata": {},
   "source": [
    "Applying Label Encoder in the categorical columns to prepare for training and testing"
   ]
  },
  {
   "cell_type": "code",
   "execution_count": 44,
   "id": "e1e7bbe9",
   "metadata": {},
   "outputs": [],
   "source": [
    "#Taking care of categorical columns using label encoder\n",
    "from sklearn.preprocessing import LabelEncoder\n",
    "\n",
    "le=LabelEncoder()\n",
    "for i in df_final.columns:\n",
    "    if df_final[i].dtypes==\"object\":\n",
    "        df_final[i]=le.fit_transform(df_final[i])"
   ]
  },
  {
   "cell_type": "code",
   "execution_count": 45,
   "id": "23e5b182",
   "metadata": {},
   "outputs": [
    {
     "data": {
      "text/html": [
       "<div>\n",
       "<style scoped>\n",
       "    .dataframe tbody tr th:only-of-type {\n",
       "        vertical-align: middle;\n",
       "    }\n",
       "\n",
       "    .dataframe tbody tr th {\n",
       "        vertical-align: top;\n",
       "    }\n",
       "\n",
       "    .dataframe thead th {\n",
       "        text-align: right;\n",
       "    }\n",
       "</style>\n",
       "<table border=\"1\" class=\"dataframe\">\n",
       "  <thead>\n",
       "    <tr style=\"text-align: right;\">\n",
       "      <th></th>\n",
       "      <th>Variant</th>\n",
       "      <th>Fuel</th>\n",
       "      <th>Km_driven</th>\n",
       "      <th>Owner</th>\n",
       "      <th>Location</th>\n",
       "      <th>Price</th>\n",
       "      <th>Car_brand</th>\n",
       "    </tr>\n",
       "  </thead>\n",
       "  <tbody>\n",
       "    <tr>\n",
       "      <th>0</th>\n",
       "      <td>1</td>\n",
       "      <td>1</td>\n",
       "      <td>25</td>\n",
       "      <td>0</td>\n",
       "      <td>29</td>\n",
       "      <td>755000</td>\n",
       "      <td>5</td>\n",
       "    </tr>\n",
       "    <tr>\n",
       "      <th>1</th>\n",
       "      <td>1</td>\n",
       "      <td>2</td>\n",
       "      <td>19</td>\n",
       "      <td>0</td>\n",
       "      <td>31</td>\n",
       "      <td>330000</td>\n",
       "      <td>19</td>\n",
       "    </tr>\n",
       "    <tr>\n",
       "      <th>2</th>\n",
       "      <td>1</td>\n",
       "      <td>1</td>\n",
       "      <td>23</td>\n",
       "      <td>4</td>\n",
       "      <td>26</td>\n",
       "      <td>865000</td>\n",
       "      <td>14</td>\n",
       "    </tr>\n",
       "    <tr>\n",
       "      <th>3</th>\n",
       "      <td>1</td>\n",
       "      <td>1</td>\n",
       "      <td>1</td>\n",
       "      <td>1</td>\n",
       "      <td>14</td>\n",
       "      <td>270000</td>\n",
       "      <td>29</td>\n",
       "    </tr>\n",
       "    <tr>\n",
       "      <th>4</th>\n",
       "      <td>1</td>\n",
       "      <td>2</td>\n",
       "      <td>13</td>\n",
       "      <td>1</td>\n",
       "      <td>30</td>\n",
       "      <td>50000</td>\n",
       "      <td>16</td>\n",
       "    </tr>\n",
       "    <tr>\n",
       "      <th>...</th>\n",
       "      <td>...</td>\n",
       "      <td>...</td>\n",
       "      <td>...</td>\n",
       "      <td>...</td>\n",
       "      <td>...</td>\n",
       "      <td>...</td>\n",
       "      <td>...</td>\n",
       "    </tr>\n",
       "    <tr>\n",
       "      <th>4995</th>\n",
       "      <td>1</td>\n",
       "      <td>2</td>\n",
       "      <td>33</td>\n",
       "      <td>1</td>\n",
       "      <td>2</td>\n",
       "      <td>349999</td>\n",
       "      <td>12</td>\n",
       "    </tr>\n",
       "    <tr>\n",
       "      <th>4996</th>\n",
       "      <td>1</td>\n",
       "      <td>1</td>\n",
       "      <td>12</td>\n",
       "      <td>1</td>\n",
       "      <td>16</td>\n",
       "      <td>899000</td>\n",
       "      <td>7</td>\n",
       "    </tr>\n",
       "    <tr>\n",
       "      <th>4997</th>\n",
       "      <td>1</td>\n",
       "      <td>1</td>\n",
       "      <td>3</td>\n",
       "      <td>0</td>\n",
       "      <td>19</td>\n",
       "      <td>438000</td>\n",
       "      <td>8</td>\n",
       "    </tr>\n",
       "    <tr>\n",
       "      <th>4998</th>\n",
       "      <td>1</td>\n",
       "      <td>1</td>\n",
       "      <td>20</td>\n",
       "      <td>0</td>\n",
       "      <td>32</td>\n",
       "      <td>599000</td>\n",
       "      <td>12</td>\n",
       "    </tr>\n",
       "    <tr>\n",
       "      <th>4999</th>\n",
       "      <td>0</td>\n",
       "      <td>2</td>\n",
       "      <td>17</td>\n",
       "      <td>1</td>\n",
       "      <td>17</td>\n",
       "      <td>555000</td>\n",
       "      <td>31</td>\n",
       "    </tr>\n",
       "  </tbody>\n",
       "</table>\n",
       "<p>4861 rows × 7 columns</p>\n",
       "</div>"
      ],
      "text/plain": [
       "      Variant  Fuel  Km_driven  Owner  Location   Price  Car_brand\n",
       "0           1     1         25      0        29  755000          5\n",
       "1           1     2         19      0        31  330000         19\n",
       "2           1     1         23      4        26  865000         14\n",
       "3           1     1          1      1        14  270000         29\n",
       "4           1     2         13      1        30   50000         16\n",
       "...       ...   ...        ...    ...       ...     ...        ...\n",
       "4995        1     2         33      1         2  349999         12\n",
       "4996        1     1         12      1        16  899000          7\n",
       "4997        1     1          3      0        19  438000          8\n",
       "4998        1     1         20      0        32  599000         12\n",
       "4999        0     2         17      1        17  555000         31\n",
       "\n",
       "[4861 rows x 7 columns]"
      ]
     },
     "execution_count": 45,
     "metadata": {},
     "output_type": "execute_result"
    }
   ],
   "source": [
    "df_final"
   ]
  },
  {
   "cell_type": "markdown",
   "id": "7b791ff5",
   "metadata": {},
   "source": [
    "# Checking Outliers"
   ]
  },
  {
   "cell_type": "code",
   "execution_count": 46,
   "id": "efbf2d52",
   "metadata": {},
   "outputs": [],
   "source": [
    "# Here, the outliers are situated around the higher prices (right side of the graph)\n",
    "# we can deal with the problem easily by removing 0.5%, or 1% of the problematic samples\n",
    "# This is a dataset about used cars, therefore one can imagine how ₹300,000 is an excessive price\n",
    "# Outliers are a great issue for OLS, thus we must deal with them in some way\n",
    "\n",
    "# Let's declare a variable that will be equal to the 99th percentile of the 'Price' variable\n",
    "q = df_final['Price'].quantile(0.99)\n",
    "\n",
    "# Then we can create a new df, with the condition that all prices must be below the 99 percentile of 'Price'\n",
    "data_1 = df_final[df_final['Price']<q]"
   ]
  },
  {
   "cell_type": "code",
   "execution_count": 47,
   "id": "a3549875",
   "metadata": {},
   "outputs": [
    {
     "data": {
      "text/plain": [
       "Text(0.5, 1.0, 'Car Price Distribution Plot')"
      ]
     },
     "execution_count": 47,
     "metadata": {},
     "output_type": "execute_result"
    },
    {
     "data": {
      "image/png": "[encoded data removed]",
      "text/plain": [
       "<Figure size 792x360 with 1 Axes>"
      ]
     },
     "metadata": {
      "needs_background": "light"
     },
     "output_type": "display_data"
    }
   ],
   "source": [
    "plt.figure(figsize=[11,5])\n",
    "sns.distplot(data_1['Price'])\n",
    "plt.title('Car Price Distribution Plot')"
   ]
  },
  {
   "cell_type": "markdown",
   "id": "1faa8b2e",
   "metadata": {},
   "source": [
    "Let's check the linearity using a scatter plot"
   ]
  },
  {
   "cell_type": "code",
   "execution_count": 48,
   "id": "97913dfb",
   "metadata": {},
   "outputs": [
    {
     "data": {
      "text/plain": [
       "<AxesSubplot:title={'center':'Price and Owner'}, xlabel='Owner', ylabel='Price'>"
      ]
     },
     "execution_count": 48,
     "metadata": {},
     "output_type": "execute_result"
    },
    {
     "data": {
      "image/png": "[encoded data removed]",
      "text/plain": [
       "<Figure size 1440x504 with 3 Axes>"
      ]
     },
     "metadata": {
      "needs_background": "light"
     },
     "output_type": "display_data"
    }
   ],
   "source": [
    "#Scatter Plot of independent variables vs dependent variables\n",
    "plt.figure(figsize=[20,7])\n",
    "plt.subplot(1,3,1)\n",
    "plt.title(\"Price and Fuel\")\n",
    "sns.scatterplot(x='Fuel',y='Price',data=data_1)\n",
    "\n",
    "plt.subplot(1,3,2)\n",
    "plt.title(\"Price and Variant\")\n",
    "sns.scatterplot(x='Price',y='Variant',data=data_1)\n",
    "\n",
    "plt.subplot(1,3,3)\n",
    "plt.title(\"Price and Owner\")\n",
    "sns.scatterplot(y='Price',x='Owner',data=data_1)\n"
   ]
  },
  {
   "cell_type": "code",
   "execution_count": 49,
   "id": "63b4cfa3",
   "metadata": {},
   "outputs": [
    {
     "data": {
      "image/png": "[encoded data removed]",
      "text/plain": [
       "<Figure size 576x360 with 2 Axes>"
      ]
     },
     "metadata": {
      "needs_background": "light"
     },
     "output_type": "display_data"
    }
   ],
   "source": [
    "plt.figure(figsize = (8,5))\n",
    "sns.heatmap(data_1.corr(), annot = True ,cmap = 'YlGnBu')\n",
    "plt.show()"
   ]
  },
  {
   "cell_type": "markdown",
   "id": "8f238969",
   "metadata": {},
   "source": [
    "We have used a heatmap to understand the correlation of the data. "
   ]
  },
  {
   "cell_type": "markdown",
   "id": "6d4df464",
   "metadata": {},
   "source": [
    "Price is highly (positively) correlated with km driven.\n",
    "\n",
    "Price is negatively correlated to car brand, variant, owner, fuel, location, etc.\n",
    "\n",
    "This suggest that cars may fall in the 'economy' cars category, and are priced lower.\n"
   ]
  },
  {
   "cell_type": "code",
   "execution_count": 50,
   "id": "fc5d0bca",
   "metadata": {},
   "outputs": [
    {
     "data": {
      "text/plain": [
       "<AxesSubplot:xlabel='Owner', ylabel='Price'>"
      ]
     },
     "execution_count": 50,
     "metadata": {},
     "output_type": "execute_result"
    },
    {
     "data": {
      "image/png": "[encoded data removed]",
      "text/plain": [
       "<Figure size 1080x1080 with 3 Axes>"
      ]
     },
     "metadata": {
      "needs_background": "light"
     },
     "output_type": "display_data"
    }
   ],
   "source": [
    "plt.figure(figsize = (15,15))\n",
    "plt.subplot(1,3,1)\n",
    "sns.boxplot(x = 'Fuel', y = 'Price', data = data_1)\n",
    "plt.subplot(1,3,2)\n",
    "sns.boxplot(x = 'Variant', y = 'Price', data = data_1)\n",
    "plt.subplot(1,3,3)\n",
    "sns.boxplot(x = 'Owner', y = 'Price', data = data_1)\n"
   ]
  },
  {
   "cell_type": "markdown",
   "id": "b6dab490",
   "metadata": {},
   "source": [
    "The above plots show a relation between car fuel, variant, owner vs price. "
   ]
  },
  {
   "cell_type": "code",
   "execution_count": 51,
   "id": "c31b049c",
   "metadata": {},
   "outputs": [
    {
     "data": {
      "text/plain": [
       "<AxesSubplot:xlabel='Km_driven', ylabel='Price'>"
      ]
     },
     "execution_count": 51,
     "metadata": {},
     "output_type": "execute_result"
    },
    {
     "data": {
      "image/png": "[encoded data removed]",
      "text/plain": [
       "<Figure size 1080x1080 with 1 Axes>"
      ]
     },
     "metadata": {
      "needs_background": "light"
     },
     "output_type": "display_data"
    }
   ],
   "source": [
    "plt.figure(figsize = (15,15))\n",
    "sns.boxplot(x = 'Km_driven', y = 'Price', data = data_1)\n"
   ]
  },
  {
   "cell_type": "code",
   "execution_count": 52,
   "id": "bcf6ef05",
   "metadata": {},
   "outputs": [
    {
     "data": {
      "text/plain": [
       "<AxesSubplot:xlabel='Car_brand', ylabel='Price'>"
      ]
     },
     "execution_count": 52,
     "metadata": {},
     "output_type": "execute_result"
    },
    {
     "data": {
      "image/png": "[encoded data removed]",
      "text/plain": [
       "<Figure size 1440x864 with 1 Axes>"
      ]
     },
     "metadata": {
      "needs_background": "light"
     },
     "output_type": "display_data"
    }
   ],
   "source": [
    "plt.figure(figsize = (20,12))\n",
    "sns.boxplot(x = 'Car_brand', y = 'Price', data = data_1)"
   ]
  },
  {
   "cell_type": "markdown",
   "id": "4793e48d",
   "metadata": {},
   "source": [
    "Spliting the data into test and train"
   ]
  },
  {
   "cell_type": "code",
   "execution_count": 53,
   "id": "6f2559f6",
   "metadata": {},
   "outputs": [],
   "source": [
    "from sklearn.model_selection import train_test_split\n",
    "from sklearn.preprocessing import StandardScaler\n",
    "\n",
    "from sklearn.linear_model import LinearRegression\n",
    "import statsmodels.api as sm\n",
    "from sklearn.feature_selection import RFE\n",
    "from statsmodels.stats.outliers_influence import variance_inflation_factor\n",
    "from sklearn.metrics import r2_score\n",
    "from sklearn.metrics import mean_squared_error"
   ]
  },
  {
   "cell_type": "code",
   "execution_count": 54,
   "id": "4a659528",
   "metadata": {},
   "outputs": [],
   "source": [
    "df_train, df_test = train_test_split(df_final, train_size = 0.7, test_size = 0.3, random_state = 100)"
   ]
  },
  {
   "cell_type": "code",
   "execution_count": 55,
   "id": "4e39be4e",
   "metadata": {},
   "outputs": [
    {
     "data": {
      "text/plain": [
       "(3402, 7)"
      ]
     },
     "execution_count": 55,
     "metadata": {},
     "output_type": "execute_result"
    }
   ],
   "source": [
    "df_train.shape"
   ]
  },
  {
   "cell_type": "code",
   "execution_count": 56,
   "id": "b1417a70",
   "metadata": {},
   "outputs": [
    {
     "data": {
      "text/plain": [
       "(1459, 7)"
      ]
     },
     "execution_count": 56,
     "metadata": {},
     "output_type": "execute_result"
    }
   ],
   "source": [
    "df_test.shape"
   ]
  },
  {
   "cell_type": "markdown",
   "id": "41e6f8c4",
   "metadata": {},
   "source": [
    "Rescaling the data:"
   ]
  },
  {
   "cell_type": "code",
   "execution_count": 57,
   "id": "a88e8214",
   "metadata": {},
   "outputs": [
    {
     "data": {
      "text/plain": [
       "Index(['Price'], dtype='object')"
      ]
     },
     "execution_count": 57,
     "metadata": {},
     "output_type": "execute_result"
    }
   ],
   "source": [
    "numerical_cols.columns\n"
   ]
  },
  {
   "cell_type": "code",
   "execution_count": 58,
   "id": "a9594b26",
   "metadata": {},
   "outputs": [],
   "source": [
    "col_list = ['Price']"
   ]
  },
  {
   "cell_type": "code",
   "execution_count": 59,
   "id": "06c99ee6",
   "metadata": {},
   "outputs": [],
   "source": [
    "scaler = StandardScaler()"
   ]
  },
  {
   "cell_type": "code",
   "execution_count": 60,
   "id": "47066ede",
   "metadata": {},
   "outputs": [],
   "source": [
    "df_train[col_list] = scaler.fit_transform(df_train[col_list])"
   ]
  },
  {
   "cell_type": "code",
   "execution_count": 61,
   "id": "3da887fb",
   "metadata": {},
   "outputs": [
    {
     "data": {
      "text/html": [
       "<div>\n",
       "<style scoped>\n",
       "    .dataframe tbody tr th:only-of-type {\n",
       "        vertical-align: middle;\n",
       "    }\n",
       "\n",
       "    .dataframe tbody tr th {\n",
       "        vertical-align: top;\n",
       "    }\n",
       "\n",
       "    .dataframe thead th {\n",
       "        text-align: right;\n",
       "    }\n",
       "</style>\n",
       "<table border=\"1\" class=\"dataframe\">\n",
       "  <thead>\n",
       "    <tr style=\"text-align: right;\">\n",
       "      <th></th>\n",
       "      <th>Variant</th>\n",
       "      <th>Fuel</th>\n",
       "      <th>Km_driven</th>\n",
       "      <th>Owner</th>\n",
       "      <th>Location</th>\n",
       "      <th>Price</th>\n",
       "      <th>Car_brand</th>\n",
       "    </tr>\n",
       "  </thead>\n",
       "  <tbody>\n",
       "    <tr>\n",
       "      <th>count</th>\n",
       "      <td>3402.000000</td>\n",
       "      <td>3402.000000</td>\n",
       "      <td>3402.000000</td>\n",
       "      <td>3402.000000</td>\n",
       "      <td>3402.000000</td>\n",
       "      <td>3.402000e+03</td>\n",
       "      <td>3402.000000</td>\n",
       "    </tr>\n",
       "    <tr>\n",
       "      <th>mean</th>\n",
       "      <td>0.796590</td>\n",
       "      <td>1.456790</td>\n",
       "      <td>17.098471</td>\n",
       "      <td>0.820988</td>\n",
       "      <td>16.327160</td>\n",
       "      <td>2.346415e-17</td>\n",
       "      <td>15.239565</td>\n",
       "    </tr>\n",
       "    <tr>\n",
       "      <th>std</th>\n",
       "      <td>0.402594</td>\n",
       "      <td>0.597984</td>\n",
       "      <td>9.936434</td>\n",
       "      <td>1.102239</td>\n",
       "      <td>10.003364</td>\n",
       "      <td>1.000147e+00</td>\n",
       "      <td>9.004846</td>\n",
       "    </tr>\n",
       "    <tr>\n",
       "      <th>min</th>\n",
       "      <td>0.000000</td>\n",
       "      <td>0.000000</td>\n",
       "      <td>0.000000</td>\n",
       "      <td>0.000000</td>\n",
       "      <td>0.000000</td>\n",
       "      <td>-5.920512e-01</td>\n",
       "      <td>0.000000</td>\n",
       "    </tr>\n",
       "    <tr>\n",
       "      <th>25%</th>\n",
       "      <td>1.000000</td>\n",
       "      <td>1.000000</td>\n",
       "      <td>9.000000</td>\n",
       "      <td>0.000000</td>\n",
       "      <td>8.000000</td>\n",
       "      <td>-4.732562e-01</td>\n",
       "      <td>8.000000</td>\n",
       "    </tr>\n",
       "    <tr>\n",
       "      <th>50%</th>\n",
       "      <td>1.000000</td>\n",
       "      <td>2.000000</td>\n",
       "      <td>17.000000</td>\n",
       "      <td>0.000000</td>\n",
       "      <td>16.000000</td>\n",
       "      <td>-2.987759e-01</td>\n",
       "      <td>14.000000</td>\n",
       "    </tr>\n",
       "    <tr>\n",
       "      <th>75%</th>\n",
       "      <td>1.000000</td>\n",
       "      <td>2.000000</td>\n",
       "      <td>26.000000</td>\n",
       "      <td>1.000000</td>\n",
       "      <td>25.000000</td>\n",
       "      <td>-6.861050e-02</td>\n",
       "      <td>23.000000</td>\n",
       "    </tr>\n",
       "    <tr>\n",
       "      <th>max</th>\n",
       "      <td>1.000000</td>\n",
       "      <td>2.000000</td>\n",
       "      <td>34.000000</td>\n",
       "      <td>4.000000</td>\n",
       "      <td>34.000000</td>\n",
       "      <td>4.939344e+00</td>\n",
       "      <td>31.000000</td>\n",
       "    </tr>\n",
       "  </tbody>\n",
       "</table>\n",
       "</div>"
      ],
      "text/plain": [
       "           Variant         Fuel    Km_driven        Owner     Location  \\\n",
       "count  3402.000000  3402.000000  3402.000000  3402.000000  3402.000000   \n",
       "mean      0.796590     1.456790    17.098471     0.820988    16.327160   \n",
       "std       0.402594     0.597984     9.936434     1.102239    10.003364   \n",
       "min       0.000000     0.000000     0.000000     0.000000     0.000000   \n",
       "25%       1.000000     1.000000     9.000000     0.000000     8.000000   \n",
       "50%       1.000000     2.000000    17.000000     0.000000    16.000000   \n",
       "75%       1.000000     2.000000    26.000000     1.000000    25.000000   \n",
       "max       1.000000     2.000000    34.000000     4.000000    34.000000   \n",
       "\n",
       "              Price    Car_brand  \n",
       "count  3.402000e+03  3402.000000  \n",
       "mean   2.346415e-17    15.239565  \n",
       "std    1.000147e+00     9.004846  \n",
       "min   -5.920512e-01     0.000000  \n",
       "25%   -4.732562e-01     8.000000  \n",
       "50%   -2.987759e-01    14.000000  \n",
       "75%   -6.861050e-02    23.000000  \n",
       "max    4.939344e+00    31.000000  "
      ]
     },
     "execution_count": 61,
     "metadata": {},
     "output_type": "execute_result"
    }
   ],
   "source": [
    "df_train.describe()"
   ]
  },
  {
   "cell_type": "markdown",
   "id": "391fb6de",
   "metadata": {},
   "source": [
    "Model building:"
   ]
  },
  {
   "cell_type": "code",
   "execution_count": 62,
   "id": "8df82ea8",
   "metadata": {},
   "outputs": [],
   "source": [
    "y_train = df_train.pop('Price')\n",
    "X_train = df_train"
   ]
  },
  {
   "cell_type": "markdown",
   "id": "0d40a912",
   "metadata": {},
   "source": [
    "Model building using RFE"
   ]
  },
  {
   "cell_type": "code",
   "execution_count": 63,
   "id": "402ea3ec",
   "metadata": {},
   "outputs": [
    {
     "data": {
      "text/plain": [
       "RFE(estimator=LinearRegression(), n_features_to_select=15)"
      ]
     },
     "execution_count": 63,
     "metadata": {},
     "output_type": "execute_result"
    }
   ],
   "source": [
    "lr = LinearRegression()\n",
    "lr.fit(X_train,y_train)\n",
    "\n",
    "# Subsetting training data for 15 selected columns\n",
    "rfe = RFE(lr,15)\n",
    "rfe.fit(X_train, y_train)"
   ]
  },
  {
   "cell_type": "code",
   "execution_count": 64,
   "id": "890c7f3a",
   "metadata": {},
   "outputs": [
    {
     "data": {
      "text/plain": [
       "[('Variant', True, 1),\n",
       " ('Fuel', True, 1),\n",
       " ('Km_driven', True, 1),\n",
       " ('Owner', True, 1),\n",
       " ('Location', True, 1),\n",
       " ('Car_brand', True, 1)]"
      ]
     },
     "execution_count": 64,
     "metadata": {},
     "output_type": "execute_result"
    }
   ],
   "source": [
    "list(zip(X_train.columns,rfe.support_,rfe.ranking_))"
   ]
  },
  {
   "cell_type": "code",
   "execution_count": 65,
   "id": "200f3323",
   "metadata": {},
   "outputs": [
    {
     "data": {
      "text/plain": [
       "Index(['Variant', 'Fuel', 'Km_driven', 'Owner', 'Location', 'Car_brand'], dtype='object')"
      ]
     },
     "execution_count": 65,
     "metadata": {},
     "output_type": "execute_result"
    }
   ],
   "source": [
    "cols = X_train.columns[rfe.support_]\n",
    "cols"
   ]
  },
  {
   "cell_type": "markdown",
   "id": "320661d6",
   "metadata": {},
   "source": [
    "Model 1:"
   ]
  },
  {
   "cell_type": "code",
   "execution_count": 66,
   "id": "735a8b69",
   "metadata": {},
   "outputs": [],
   "source": [
    "X1 = X_train[cols]\n",
    "X1_sm = sm.add_constant(X1)\n",
    "\n",
    "lr_1 = sm.OLS(y_train,X1_sm).fit()"
   ]
  },
  {
   "cell_type": "code",
   "execution_count": 67,
   "id": "586530f8",
   "metadata": {},
   "outputs": [
    {
     "name": "stdout",
     "output_type": "stream",
     "text": [
      "                            OLS Regression Results                            \n",
      "==============================================================================\n",
      "Dep. Variable:                  Price   R-squared:                       0.165\n",
      "Model:                            OLS   Adj. R-squared:                  0.163\n",
      "Method:                 Least Squares   F-statistic:                     111.4\n",
      "Date:                Sat, 17 Sep 2022   Prob (F-statistic):          1.16e-128\n",
      "Time:                        08:07:39   Log-Likelihood:                -4521.4\n",
      "No. Observations:                3402   AIC:                             9057.\n",
      "Df Residuals:                    3395   BIC:                             9100.\n",
      "Df Model:                           6                                         \n",
      "Covariance Type:            nonrobust                                         \n",
      "==============================================================================\n",
      "                 coef    std err          t      P>|t|      [0.025      0.975]\n",
      "------------------------------------------------------------------------------\n",
      "const          1.1737      0.075     15.554      0.000       1.026       1.322\n",
      "Variant       -0.1475      0.042     -3.515      0.000      -0.230      -0.065\n",
      "Fuel           0.0220      0.026      0.832      0.405      -0.030       0.074\n",
      "Km_driven     -0.0100      0.002     -6.303      0.000      -0.013      -0.007\n",
      "Owner         -0.1885      0.014    -13.085      0.000      -0.217      -0.160\n",
      "Location      -0.0157      0.002     -9.397      0.000      -0.019      -0.012\n",
      "Car_brand     -0.0332      0.002    -18.894      0.000      -0.037      -0.030\n",
      "==============================================================================\n",
      "Omnibus:                     2046.412   Durbin-Watson:                   1.981\n",
      "Prob(Omnibus):                  0.000   Jarque-Bera (JB):            16896.462\n",
      "Skew:                           2.849   Prob(JB):                         0.00\n",
      "Kurtosis:                      12.312   Cond. No.                         155.\n",
      "==============================================================================\n",
      "\n",
      "Notes:\n",
      "[1] Standard Errors assume that the covariance matrix of the errors is correctly specified.\n"
     ]
    }
   ],
   "source": [
    "print(lr_1.summary())"
   ]
  },
  {
   "cell_type": "markdown",
   "id": "4e96ed90",
   "metadata": {},
   "source": [
    "All the p- values are significant. Let us check VIF."
   ]
  },
  {
   "cell_type": "code",
   "execution_count": 68,
   "id": "2308a36b",
   "metadata": {},
   "outputs": [
    {
     "data": {
      "text/html": [
       "<div>\n",
       "<style scoped>\n",
       "    .dataframe tbody tr th:only-of-type {\n",
       "        vertical-align: middle;\n",
       "    }\n",
       "\n",
       "    .dataframe tbody tr th {\n",
       "        vertical-align: top;\n",
       "    }\n",
       "\n",
       "    .dataframe thead th {\n",
       "        text-align: right;\n",
       "    }\n",
       "</style>\n",
       "<table border=\"1\" class=\"dataframe\">\n",
       "  <thead>\n",
       "    <tr style=\"text-align: right;\">\n",
       "      <th></th>\n",
       "      <th>Features</th>\n",
       "      <th>VIF</th>\n",
       "    </tr>\n",
       "  </thead>\n",
       "  <tbody>\n",
       "    <tr>\n",
       "      <th>1</th>\n",
       "      <td>Fuel</td>\n",
       "      <td>5.11</td>\n",
       "    </tr>\n",
       "    <tr>\n",
       "      <th>2</th>\n",
       "      <td>Km_driven</td>\n",
       "      <td>3.77</td>\n",
       "    </tr>\n",
       "    <tr>\n",
       "      <th>0</th>\n",
       "      <td>Variant</td>\n",
       "      <td>3.74</td>\n",
       "    </tr>\n",
       "    <tr>\n",
       "      <th>5</th>\n",
       "      <td>Car_brand</td>\n",
       "      <td>3.51</td>\n",
       "    </tr>\n",
       "    <tr>\n",
       "      <th>4</th>\n",
       "      <td>Location</td>\n",
       "      <td>3.09</td>\n",
       "    </tr>\n",
       "    <tr>\n",
       "      <th>3</th>\n",
       "      <td>Owner</td>\n",
       "      <td>1.50</td>\n",
       "    </tr>\n",
       "  </tbody>\n",
       "</table>\n",
       "</div>"
      ],
      "text/plain": [
       "    Features   VIF\n",
       "1       Fuel  5.11\n",
       "2  Km_driven  3.77\n",
       "0    Variant  3.74\n",
       "5  Car_brand  3.51\n",
       "4   Location  3.09\n",
       "3      Owner  1.50"
      ]
     },
     "execution_count": 68,
     "metadata": {},
     "output_type": "execute_result"
    }
   ],
   "source": [
    "#VIF\n",
    "vif = pd.DataFrame()\n",
    "vif['Features'] = X1.columns\n",
    "vif['VIF'] = [variance_inflation_factor(X1.values, i) for i in range(X1.shape[1])]\n",
    "vif['VIF'] = round(vif['VIF'], 2)\n",
    "vif = vif.sort_values(by = 'VIF', ascending = False)\n",
    "vif\n"
   ]
  },
  {
   "cell_type": "markdown",
   "id": "c3063fc3",
   "metadata": {},
   "source": [
    "We see that there are a few variables which have an infinite/large VIF. These variables aren't of use. But manually elimination is time consuming and makes the code unnecessarily long. So let's try and build a model with 10 features this time using RFE"
   ]
  },
  {
   "cell_type": "markdown",
   "id": "24b85d5c",
   "metadata": {},
   "source": [
    "Building the model with 10 variables:"
   ]
  },
  {
   "cell_type": "code",
   "execution_count": 69,
   "id": "c214a50c",
   "metadata": {},
   "outputs": [
    {
     "data": {
      "text/plain": [
       "RFE(estimator=LinearRegression(), n_features_to_select=10)"
      ]
     },
     "execution_count": 69,
     "metadata": {},
     "output_type": "execute_result"
    }
   ],
   "source": [
    "lr2 = LinearRegression()\n",
    "\n",
    "rfe2 = RFE(lr2,10)\n",
    "rfe2.fit(X_train,y_train)"
   ]
  },
  {
   "cell_type": "code",
   "execution_count": 70,
   "id": "41e8229d",
   "metadata": {},
   "outputs": [
    {
     "data": {
      "text/plain": [
       "[('Variant', True, 1),\n",
       " ('Fuel', True, 1),\n",
       " ('Km_driven', True, 1),\n",
       " ('Owner', True, 1),\n",
       " ('Location', True, 1),\n",
       " ('Car_brand', True, 1)]"
      ]
     },
     "execution_count": 70,
     "metadata": {},
     "output_type": "execute_result"
    }
   ],
   "source": [
    "list(zip(X_train.columns,rfe2.support_,rfe2.ranking_))"
   ]
  },
  {
   "cell_type": "code",
   "execution_count": 71,
   "id": "3f38c655",
   "metadata": {},
   "outputs": [
    {
     "data": {
      "text/plain": [
       "Index(['Variant', 'Fuel', 'Km_driven', 'Owner', 'Location', 'Car_brand'], dtype='object')"
      ]
     },
     "execution_count": 71,
     "metadata": {},
     "output_type": "execute_result"
    }
   ],
   "source": [
    "supported_cols = X_train.columns[rfe2.support_]\n",
    "supported_cols "
   ]
  },
  {
   "cell_type": "markdown",
   "id": "ab2b19e5",
   "metadata": {},
   "source": [
    "Model 2:"
   ]
  },
  {
   "cell_type": "code",
   "execution_count": 72,
   "id": "e6d70f0b",
   "metadata": {},
   "outputs": [],
   "source": [
    "X2 = X_train[supported_cols]\n",
    "X2_sm = sm.add_constant(X2)\n",
    "\n",
    "model_2 = sm.OLS(y_train,X2_sm).fit()"
   ]
  },
  {
   "cell_type": "code",
   "execution_count": 73,
   "id": "4a35f3d9",
   "metadata": {},
   "outputs": [
    {
     "name": "stdout",
     "output_type": "stream",
     "text": [
      "                            OLS Regression Results                            \n",
      "==============================================================================\n",
      "Dep. Variable:                  Price   R-squared:                       0.165\n",
      "Model:                            OLS   Adj. R-squared:                  0.163\n",
      "Method:                 Least Squares   F-statistic:                     111.4\n",
      "Date:                Sat, 17 Sep 2022   Prob (F-statistic):          1.16e-128\n",
      "Time:                        08:07:40   Log-Likelihood:                -4521.4\n",
      "No. Observations:                3402   AIC:                             9057.\n",
      "Df Residuals:                    3395   BIC:                             9100.\n",
      "Df Model:                           6                                         \n",
      "Covariance Type:            nonrobust                                         \n",
      "==============================================================================\n",
      "                 coef    std err          t      P>|t|      [0.025      0.975]\n",
      "------------------------------------------------------------------------------\n",
      "const          1.1737      0.075     15.554      0.000       1.026       1.322\n",
      "Variant       -0.1475      0.042     -3.515      0.000      -0.230      -0.065\n",
      "Fuel           0.0220      0.026      0.832      0.405      -0.030       0.074\n",
      "Km_driven     -0.0100      0.002     -6.303      0.000      -0.013      -0.007\n",
      "Owner         -0.1885      0.014    -13.085      0.000      -0.217      -0.160\n",
      "Location      -0.0157      0.002     -9.397      0.000      -0.019      -0.012\n",
      "Car_brand     -0.0332      0.002    -18.894      0.000      -0.037      -0.030\n",
      "==============================================================================\n",
      "Omnibus:                     2046.412   Durbin-Watson:                   1.981\n",
      "Prob(Omnibus):                  0.000   Jarque-Bera (JB):            16896.462\n",
      "Skew:                           2.849   Prob(JB):                         0.00\n",
      "Kurtosis:                      12.312   Cond. No.                         155.\n",
      "==============================================================================\n",
      "\n",
      "Notes:\n",
      "[1] Standard Errors assume that the covariance matrix of the errors is correctly specified.\n"
     ]
    }
   ],
   "source": [
    "print(model_2.summary())"
   ]
  },
  {
   "cell_type": "markdown",
   "id": "3e135d79",
   "metadata": {},
   "source": [
    "Model looks fine. Let us check the vif."
   ]
  },
  {
   "cell_type": "code",
   "execution_count": 74,
   "id": "ff04ffc5",
   "metadata": {},
   "outputs": [
    {
     "data": {
      "text/html": [
       "<div>\n",
       "<style scoped>\n",
       "    .dataframe tbody tr th:only-of-type {\n",
       "        vertical-align: middle;\n",
       "    }\n",
       "\n",
       "    .dataframe tbody tr th {\n",
       "        vertical-align: top;\n",
       "    }\n",
       "\n",
       "    .dataframe thead th {\n",
       "        text-align: right;\n",
       "    }\n",
       "</style>\n",
       "<table border=\"1\" class=\"dataframe\">\n",
       "  <thead>\n",
       "    <tr style=\"text-align: right;\">\n",
       "      <th></th>\n",
       "      <th>Features</th>\n",
       "      <th>VIF</th>\n",
       "    </tr>\n",
       "  </thead>\n",
       "  <tbody>\n",
       "    <tr>\n",
       "      <th>1</th>\n",
       "      <td>Fuel</td>\n",
       "      <td>5.11</td>\n",
       "    </tr>\n",
       "    <tr>\n",
       "      <th>2</th>\n",
       "      <td>Km_driven</td>\n",
       "      <td>3.77</td>\n",
       "    </tr>\n",
       "    <tr>\n",
       "      <th>0</th>\n",
       "      <td>Variant</td>\n",
       "      <td>3.74</td>\n",
       "    </tr>\n",
       "    <tr>\n",
       "      <th>5</th>\n",
       "      <td>Car_brand</td>\n",
       "      <td>3.51</td>\n",
       "    </tr>\n",
       "    <tr>\n",
       "      <th>4</th>\n",
       "      <td>Location</td>\n",
       "      <td>3.09</td>\n",
       "    </tr>\n",
       "    <tr>\n",
       "      <th>3</th>\n",
       "      <td>Owner</td>\n",
       "      <td>1.50</td>\n",
       "    </tr>\n",
       "  </tbody>\n",
       "</table>\n",
       "</div>"
      ],
      "text/plain": [
       "    Features   VIF\n",
       "1       Fuel  5.11\n",
       "2  Km_driven  3.77\n",
       "0    Variant  3.74\n",
       "5  Car_brand  3.51\n",
       "4   Location  3.09\n",
       "3      Owner  1.50"
      ]
     },
     "execution_count": 74,
     "metadata": {},
     "output_type": "execute_result"
    }
   ],
   "source": [
    "#VIF\n",
    "vif = pd.DataFrame()\n",
    "vif['Features'] = X2.columns\n",
    "vif['VIF'] = [variance_inflation_factor(X2.values, i) for i in range(X2.shape[1])]\n",
    "vif['VIF'] = round(vif['VIF'], 2)\n",
    "vif = vif.sort_values(by = 'VIF', ascending = False)\n",
    "vif"
   ]
  },
  {
   "cell_type": "markdown",
   "id": "ac40b5b1",
   "metadata": {},
   "source": [
    "As we see, still there are columns with high VIF.Let us drop column Fuel."
   ]
  },
  {
   "cell_type": "markdown",
   "id": "ba98802e",
   "metadata": {},
   "source": [
    "\n",
    "Model 3:"
   ]
  },
  {
   "cell_type": "code",
   "execution_count": 75,
   "id": "cc083002",
   "metadata": {},
   "outputs": [],
   "source": [
    "X3 = X2.drop(['Fuel'], axis =1)\n",
    "X3_sm = sm.add_constant(X3)\n",
    "\n",
    "Model_3 = sm.OLS(y_train,X3_sm).fit()"
   ]
  },
  {
   "cell_type": "code",
   "execution_count": 76,
   "id": "11c55f4a",
   "metadata": {},
   "outputs": [
    {
     "name": "stdout",
     "output_type": "stream",
     "text": [
      "                            OLS Regression Results                            \n",
      "==============================================================================\n",
      "Dep. Variable:                  Price   R-squared:                       0.164\n",
      "Model:                            OLS   Adj. R-squared:                  0.163\n",
      "Method:                 Least Squares   F-statistic:                     133.6\n",
      "Date:                Sat, 17 Sep 2022   Prob (F-statistic):          1.34e-129\n",
      "Time:                        08:07:41   Log-Likelihood:                -4521.8\n",
      "No. Observations:                3402   AIC:                             9056.\n",
      "Df Residuals:                    3396   BIC:                             9092.\n",
      "Df Model:                           5                                         \n",
      "Covariance Type:            nonrobust                                         \n",
      "==============================================================================\n",
      "                 coef    std err          t      P>|t|      [0.025      0.975]\n",
      "------------------------------------------------------------------------------\n",
      "const          1.2068      0.064     18.807      0.000       1.081       1.333\n",
      "Variant       -0.1495      0.042     -3.569      0.000      -0.232      -0.067\n",
      "Km_driven     -0.0100      0.002     -6.269      0.000      -0.013      -0.007\n",
      "Owner         -0.1888      0.014    -13.110      0.000      -0.217      -0.161\n",
      "Location      -0.0158      0.002     -9.513      0.000      -0.019      -0.013\n",
      "Car_brand     -0.0330      0.002    -18.889      0.000      -0.036      -0.030\n",
      "==============================================================================\n",
      "Omnibus:                     2054.013   Durbin-Watson:                   1.983\n",
      "Prob(Omnibus):                  0.000   Jarque-Bera (JB):            17157.279\n",
      "Skew:                           2.858   Prob(JB):                         0.00\n",
      "Kurtosis:                      12.400   Cond. No.                         136.\n",
      "==============================================================================\n",
      "\n",
      "Notes:\n",
      "[1] Standard Errors assume that the covariance matrix of the errors is correctly specified.\n"
     ]
    }
   ],
   "source": [
    "print(Model_3.summary())"
   ]
  },
  {
   "cell_type": "code",
   "execution_count": 77,
   "id": "165e4186",
   "metadata": {},
   "outputs": [
    {
     "data": {
      "text/html": [
       "<div>\n",
       "<style scoped>\n",
       "    .dataframe tbody tr th:only-of-type {\n",
       "        vertical-align: middle;\n",
       "    }\n",
       "\n",
       "    .dataframe tbody tr th {\n",
       "        vertical-align: top;\n",
       "    }\n",
       "\n",
       "    .dataframe thead th {\n",
       "        text-align: right;\n",
       "    }\n",
       "</style>\n",
       "<table border=\"1\" class=\"dataframe\">\n",
       "  <thead>\n",
       "    <tr style=\"text-align: right;\">\n",
       "      <th></th>\n",
       "      <th>Features</th>\n",
       "      <th>VIF</th>\n",
       "    </tr>\n",
       "  </thead>\n",
       "  <tbody>\n",
       "    <tr>\n",
       "      <th>1</th>\n",
       "      <td>Km_driven</td>\n",
       "      <td>3.57</td>\n",
       "    </tr>\n",
       "    <tr>\n",
       "      <th>0</th>\n",
       "      <td>Variant</td>\n",
       "      <td>3.25</td>\n",
       "    </tr>\n",
       "    <tr>\n",
       "      <th>4</th>\n",
       "      <td>Car_brand</td>\n",
       "      <td>3.18</td>\n",
       "    </tr>\n",
       "    <tr>\n",
       "      <th>3</th>\n",
       "      <td>Location</td>\n",
       "      <td>2.91</td>\n",
       "    </tr>\n",
       "    <tr>\n",
       "      <th>2</th>\n",
       "      <td>Owner</td>\n",
       "      <td>1.48</td>\n",
       "    </tr>\n",
       "  </tbody>\n",
       "</table>\n",
       "</div>"
      ],
      "text/plain": [
       "    Features   VIF\n",
       "1  Km_driven  3.57\n",
       "0    Variant  3.25\n",
       "4  Car_brand  3.18\n",
       "3   Location  2.91\n",
       "2      Owner  1.48"
      ]
     },
     "execution_count": 77,
     "metadata": {},
     "output_type": "execute_result"
    }
   ],
   "source": [
    "#VIF\n",
    "vif = pd.DataFrame()\n",
    "vif['Features'] = X3.columns\n",
    "vif['VIF'] = [variance_inflation_factor(X3.values, i) for i in range(X3.shape[1])]\n",
    "vif['VIF'] = round(vif['VIF'], 2)\n",
    "vif = vif.sort_values(by = 'VIF', ascending = False)\n",
    "vif"
   ]
  },
  {
   "cell_type": "markdown",
   "id": "16eca78f",
   "metadata": {},
   "source": [
    "Let us drop column -Variant."
   ]
  },
  {
   "cell_type": "markdown",
   "id": "691c7870",
   "metadata": {},
   "source": [
    "Model 4:"
   ]
  },
  {
   "cell_type": "code",
   "execution_count": 78,
   "id": "4a2df214",
   "metadata": {},
   "outputs": [],
   "source": [
    "X4 = X3.drop(['Variant'], axis =1)\n",
    "X4_sm = sm.add_constant(X4)\n",
    "\n",
    "Model_4 = sm.OLS(y_train,X4_sm).fit()"
   ]
  },
  {
   "cell_type": "code",
   "execution_count": 79,
   "id": "1be7bf71",
   "metadata": {},
   "outputs": [
    {
     "name": "stdout",
     "output_type": "stream",
     "text": [
      "                            OLS Regression Results                            \n",
      "==============================================================================\n",
      "Dep. Variable:                  Price   R-squared:                       0.161\n",
      "Model:                            OLS   Adj. R-squared:                  0.160\n",
      "Method:                 Least Squares   F-statistic:                     163.3\n",
      "Date:                Sat, 17 Sep 2022   Prob (F-statistic):          5.52e-128\n",
      "Time:                        08:07:41   Log-Likelihood:                -4528.2\n",
      "No. Observations:                3402   AIC:                             9066.\n",
      "Df Residuals:                    3397   BIC:                             9097.\n",
      "Df Model:                           4                                         \n",
      "Covariance Type:            nonrobust                                         \n",
      "==============================================================================\n",
      "                 coef    std err          t      P>|t|      [0.025      0.975]\n",
      "------------------------------------------------------------------------------\n",
      "const          1.0570      0.049     21.740      0.000       0.962       1.152\n",
      "Km_driven     -0.0106      0.002     -6.698      0.000      -0.014      -0.008\n",
      "Owner         -0.1825      0.014    -12.746      0.000      -0.211      -0.154\n",
      "Location      -0.0139      0.002     -8.818      0.000      -0.017      -0.011\n",
      "Car_brand     -0.0327      0.002    -18.694      0.000      -0.036      -0.029\n",
      "==============================================================================\n",
      "Omnibus:                     2023.601   Durbin-Watson:                   1.975\n",
      "Prob(Omnibus):                  0.000   Jarque-Bera (JB):            16423.583\n",
      "Skew:                           2.814   Prob(JB):                         0.00\n",
      "Kurtosis:                      12.175   Cond. No.                         92.8\n",
      "==============================================================================\n",
      "\n",
      "Notes:\n",
      "[1] Standard Errors assume that the covariance matrix of the errors is correctly specified.\n"
     ]
    }
   ],
   "source": [
    "print(Model_4.summary())"
   ]
  },
  {
   "cell_type": "code",
   "execution_count": 80,
   "id": "8782be79",
   "metadata": {},
   "outputs": [
    {
     "data": {
      "text/html": [
       "<div>\n",
       "<style scoped>\n",
       "    .dataframe tbody tr th:only-of-type {\n",
       "        vertical-align: middle;\n",
       "    }\n",
       "\n",
       "    .dataframe tbody tr th {\n",
       "        vertical-align: top;\n",
       "    }\n",
       "\n",
       "    .dataframe thead th {\n",
       "        text-align: right;\n",
       "    }\n",
       "</style>\n",
       "<table border=\"1\" class=\"dataframe\">\n",
       "  <thead>\n",
       "    <tr style=\"text-align: right;\">\n",
       "      <th></th>\n",
       "      <th>Features</th>\n",
       "      <th>VIF</th>\n",
       "    </tr>\n",
       "  </thead>\n",
       "  <tbody>\n",
       "    <tr>\n",
       "      <th>2</th>\n",
       "      <td>Location</td>\n",
       "      <td>2.90</td>\n",
       "    </tr>\n",
       "    <tr>\n",
       "      <th>3</th>\n",
       "      <td>Car_brand</td>\n",
       "      <td>2.82</td>\n",
       "    </tr>\n",
       "    <tr>\n",
       "      <th>0</th>\n",
       "      <td>Km_driven</td>\n",
       "      <td>2.80</td>\n",
       "    </tr>\n",
       "    <tr>\n",
       "      <th>1</th>\n",
       "      <td>Owner</td>\n",
       "      <td>1.47</td>\n",
       "    </tr>\n",
       "  </tbody>\n",
       "</table>\n",
       "</div>"
      ],
      "text/plain": [
       "    Features   VIF\n",
       "2   Location  2.90\n",
       "3  Car_brand  2.82\n",
       "0  Km_driven  2.80\n",
       "1      Owner  1.47"
      ]
     },
     "execution_count": 80,
     "metadata": {},
     "output_type": "execute_result"
    }
   ],
   "source": [
    "#VIF\n",
    "vif = pd.DataFrame()\n",
    "vif['Features'] = X4.columns\n",
    "vif['VIF'] = [variance_inflation_factor(X4.values, i) for i in range(X4.shape[1])]\n",
    "vif['VIF'] = round(vif['VIF'], 2)\n",
    "vif = vif.sort_values(by = 'VIF', ascending = False)\n",
    "vif"
   ]
  },
  {
   "cell_type": "markdown",
   "id": "fafdd36b",
   "metadata": {},
   "source": [
    "Residual analysis:"
   ]
  },
  {
   "cell_type": "code",
   "execution_count": 81,
   "id": "5c693e6a",
   "metadata": {},
   "outputs": [
    {
     "data": {
      "text/plain": [
       "1720    0.224633\n",
       "2037    0.499007\n",
       "3604   -0.204362\n",
       "344    -0.464788\n",
       "2567    0.820762\n",
       "dtype: float64"
      ]
     },
     "execution_count": 81,
     "metadata": {},
     "output_type": "execute_result"
    }
   ],
   "source": [
    "y_train_pred = Model_4.predict(X4_sm)\n",
    "y_train_pred.head()"
   ]
  },
  {
   "cell_type": "code",
   "execution_count": 82,
   "id": "23544a27",
   "metadata": {},
   "outputs": [],
   "source": [
    "Residual = y_train- y_train_pred"
   ]
  },
  {
   "cell_type": "code",
   "execution_count": 83,
   "id": "f0df534a",
   "metadata": {},
   "outputs": [
    {
     "data": {
      "text/plain": [
       "<AxesSubplot:ylabel='Density'>"
      ]
     },
     "execution_count": 83,
     "metadata": {},
     "output_type": "execute_result"
    },
    {
     "data": {
      "image/png": "[encoded data removed]",
      "text/plain": [
       "<Figure size 432x288 with 1 Axes>"
      ]
     },
     "metadata": {
      "needs_background": "light"
     },
     "output_type": "display_data"
    }
   ],
   "source": [
    "sns.distplot(Residual, bins =15)"
   ]
  },
  {
   "cell_type": "markdown",
   "id": "44a71db5",
   "metadata": {},
   "source": [
    "Error term is normally distributed."
   ]
  },
  {
   "cell_type": "markdown",
   "id": "f2fa1415",
   "metadata": {},
   "source": [
    "Making Predictions:"
   ]
  },
  {
   "cell_type": "code",
   "execution_count": 84,
   "id": "65a3f311",
   "metadata": {},
   "outputs": [],
   "source": [
    "df_test[col_list] = scaler.transform(df_test[col_list])"
   ]
  },
  {
   "cell_type": "code",
   "execution_count": 85,
   "id": "9bb1d523",
   "metadata": {},
   "outputs": [],
   "source": [
    "y_test = df_test.pop('Price')\n",
    "X_test = df_test"
   ]
  },
  {
   "cell_type": "code",
   "execution_count": 86,
   "id": "2632ebc0",
   "metadata": {},
   "outputs": [],
   "source": [
    "final_cols = X4.columns"
   ]
  },
  {
   "cell_type": "code",
   "execution_count": 87,
   "id": "c42f72a8",
   "metadata": {},
   "outputs": [
    {
     "data": {
      "text/html": [
       "<div>\n",
       "<style scoped>\n",
       "    .dataframe tbody tr th:only-of-type {\n",
       "        vertical-align: middle;\n",
       "    }\n",
       "\n",
       "    .dataframe tbody tr th {\n",
       "        vertical-align: top;\n",
       "    }\n",
       "\n",
       "    .dataframe thead th {\n",
       "        text-align: right;\n",
       "    }\n",
       "</style>\n",
       "<table border=\"1\" class=\"dataframe\">\n",
       "  <thead>\n",
       "    <tr style=\"text-align: right;\">\n",
       "      <th></th>\n",
       "      <th>Km_driven</th>\n",
       "      <th>Owner</th>\n",
       "      <th>Location</th>\n",
       "      <th>Car_brand</th>\n",
       "    </tr>\n",
       "  </thead>\n",
       "  <tbody>\n",
       "    <tr>\n",
       "      <th>3564</th>\n",
       "      <td>13</td>\n",
       "      <td>1</td>\n",
       "      <td>30</td>\n",
       "      <td>16</td>\n",
       "    </tr>\n",
       "    <tr>\n",
       "      <th>4117</th>\n",
       "      <td>3</td>\n",
       "      <td>0</td>\n",
       "      <td>19</td>\n",
       "      <td>8</td>\n",
       "    </tr>\n",
       "    <tr>\n",
       "      <th>2757</th>\n",
       "      <td>3</td>\n",
       "      <td>0</td>\n",
       "      <td>19</td>\n",
       "      <td>8</td>\n",
       "    </tr>\n",
       "    <tr>\n",
       "      <th>2264</th>\n",
       "      <td>26</td>\n",
       "      <td>1</td>\n",
       "      <td>20</td>\n",
       "      <td>24</td>\n",
       "    </tr>\n",
       "    <tr>\n",
       "      <th>4561</th>\n",
       "      <td>19</td>\n",
       "      <td>0</td>\n",
       "      <td>31</td>\n",
       "      <td>19</td>\n",
       "    </tr>\n",
       "  </tbody>\n",
       "</table>\n",
       "</div>"
      ],
      "text/plain": [
       "      Km_driven  Owner  Location  Car_brand\n",
       "3564         13      1        30         16\n",
       "4117          3      0        19          8\n",
       "2757          3      0        19          8\n",
       "2264         26      1        20         24\n",
       "4561         19      0        31         19"
      ]
     },
     "execution_count": 87,
     "metadata": {},
     "output_type": "execute_result"
    }
   ],
   "source": [
    "X_test_model4= X_test[final_cols]\n",
    "X_test_model4.head()"
   ]
  },
  {
   "cell_type": "code",
   "execution_count": 88,
   "id": "dee84a69",
   "metadata": {},
   "outputs": [],
   "source": [
    "X_test_sm = sm.add_constant(X_test_model4)"
   ]
  },
  {
   "cell_type": "code",
   "execution_count": 89,
   "id": "79d09878",
   "metadata": {},
   "outputs": [],
   "source": [
    "y_pred = Model_4.predict(X_test_sm)"
   ]
  },
  {
   "cell_type": "code",
   "execution_count": 90,
   "id": "886de5b4",
   "metadata": {},
   "outputs": [
    {
     "data": {
      "text/plain": [
       "3564   -0.204362\n",
       "4117    0.499007\n",
       "2757    0.499007\n",
       "2264   -0.464788\n",
       "4561   -0.197555\n",
       "dtype: float64"
      ]
     },
     "execution_count": 90,
     "metadata": {},
     "output_type": "execute_result"
    }
   ],
   "source": [
    "y_pred.head()"
   ]
  },
  {
   "cell_type": "code",
   "execution_count": 91,
   "id": "54ba89df",
   "metadata": {},
   "outputs": [
    {
     "data": {
      "text/plain": [
       "Text(0, 0.5, 'y_pred')"
      ]
     },
     "execution_count": 91,
     "metadata": {},
     "output_type": "execute_result"
    },
    {
     "data": {
      "image/png": "[encoded data removed]",
      "text/plain": [
       "<Figure size 432x288 with 1 Axes>"
      ]
     },
     "metadata": {
      "needs_background": "light"
     },
     "output_type": "display_data"
    }
   ],
   "source": [
    "plt.scatter(y_test, y_pred)\n",
    "plt.xlabel('y_test')\n",
    "plt.ylabel('y_pred')"
   ]
  },
  {
   "cell_type": "markdown",
   "id": "1811a4d1",
   "metadata": {},
   "source": [
    "Though the model is doing good at the beginning, still there are few high values which model is not able to explain."
   ]
  },
  {
   "cell_type": "markdown",
   "id": "29d290fc",
   "metadata": {},
   "source": [
    "Evaluation:"
   ]
  },
  {
   "cell_type": "code",
   "execution_count": 92,
   "id": "61a0aaf7",
   "metadata": {},
   "outputs": [
    {
     "data": {
      "text/plain": [
       "0.20940264718450252"
      ]
     },
     "execution_count": 92,
     "metadata": {},
     "output_type": "execute_result"
    }
   ],
   "source": [
    "r_squ = r2_score(y_test,y_pred)\n",
    "r_squ"
   ]
  },
  {
   "cell_type": "markdown",
   "id": "d74a8a94",
   "metadata": {},
   "source": [
    "# Which variables are significant in predicting the price of a car?\n",
    "\n",
    "We can see that our models indicated fuel, car brand, km driven are important parameters that can affect the price of a car. "
   ]
  },
  {
   "cell_type": "code",
   "execution_count": null,
   "id": "5e684860",
   "metadata": {},
   "outputs": [],
   "source": []
  },
  {
   "cell_type": "code",
   "execution_count": null,
   "id": "9f3122e0",
   "metadata": {},
   "outputs": [],
   "source": []
  },
  {
   "cell_type": "code",
   "execution_count": null,
   "id": "c90f2aa5",
   "metadata": {},
   "outputs": [],
   "source": []
  }
 ],
 "metadata": {
  "kernelspec": {
   "display_name": "Python 3 (ipykernel)",
   "language": "python",
   "name": "python3"
  },
  "language_info": {
   "codemirror_mode": {
    "name": "ipython",
    "version": 3
   },
   "file_extension": ".py",
   "mimetype": "text/x-python",
   "name": "python",
   "nbconvert_exporter": "python",
   "pygments_lexer": "ipython3",
   "version": "3.9.7"
  }
 },
 "nbformat": 4,
 "nbformat_minor": 5
}
