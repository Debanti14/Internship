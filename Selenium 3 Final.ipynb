{
 "cells": [
  {
   "cell_type": "markdown",
   "id": "8fd55a92",
   "metadata": {},
   "source": [
    "1. Write a python program which searches all the product under a particular product from www.amazon.in. \n",
    "The product to be searched will be taken as input from user. For e.g. If user input is ‘guitar’. Then search \n",
    "for guitars"
   ]
  },
  {
   "cell_type": "code",
   "execution_count": 45,
   "id": "16643831",
   "metadata": {},
   "outputs": [],
   "source": [
    "import selenium\n",
    "from selenium import webdriver\n",
    "import re\n",
    "from selenium.webdriver.common.by import By\n",
    "from selenium.webdriver.common.keys import Keys\n",
    "\n",
    "import time\n",
    "from bs4 import BeautifulSoup\n",
    "\n",
    "from selenium.common.exceptions import ElementNotInteractableException\n",
    "\n",
    "import requests\n",
    "\n",
    "import pandas as pd\n",
    "import warnings\n",
    "warnings.filterwarnings(\"ignore\")"
   ]
  },
  {
   "cell_type": "code",
   "execution_count": 46,
   "id": "360e8cdd",
   "metadata": {},
   "outputs": [],
   "source": [
    "driver = webdriver.Chrome()\n",
    "driver.get('https://www.amazon.in/')\n",
    "\n",
    "# give some time to load the webpage\n",
    "time.sleep(2)"
   ]
  },
  {
   "cell_type": "code",
   "execution_count": 47,
   "id": "366b0091",
   "metadata": {},
   "outputs": [
    {
     "data": {
      "text/plain": [
       "<selenium.webdriver.remote.webelement.WebElement (session=\"7a783dc9d2394fb7472ef9c261d0a8a0\", element=\"614ff126-34a6-4a74-97dd-83061e1b8e0a\")>"
      ]
     },
     "execution_count": 47,
     "metadata": {},
     "output_type": "execute_result"
    }
   ],
   "source": [
    "search_prod = driver.find_element(By.XPATH,'//input[@type=\"text\"]')\n",
    "search_prod"
   ]
  },
  {
   "cell_type": "code",
   "execution_count": 48,
   "id": "5b090288",
   "metadata": {},
   "outputs": [
    {
     "name": "stdout",
     "output_type": "stream",
     "text": [
      "Enter Product:  guitar\n"
     ]
    }
   ],
   "source": [
    "prod=input(\"Enter Product:  \")"
   ]
  },
  {
   "cell_type": "code",
   "execution_count": 49,
   "id": "e2465c81",
   "metadata": {},
   "outputs": [],
   "source": [
    "search_prod.send_keys(prod)"
   ]
  },
  {
   "cell_type": "code",
   "execution_count": 50,
   "id": "0916ad86",
   "metadata": {},
   "outputs": [
    {
     "data": {
      "text/plain": [
       "<selenium.webdriver.remote.webelement.WebElement (session=\"7a783dc9d2394fb7472ef9c261d0a8a0\", element=\"e40ce798-1516-43f8-918d-a7f32832b6ed\")>"
      ]
     },
     "execution_count": 50,
     "metadata": {},
     "output_type": "execute_result"
    }
   ],
   "source": [
    "go_btn = driver.find_element(By.XPATH,\"/html/body/div[1]/header/div/div[1]/div[2]/div/form/div[3]/div\")\n",
    "go_btn"
   ]
  },
  {
   "cell_type": "code",
   "execution_count": 51,
   "id": "723b3993",
   "metadata": {},
   "outputs": [],
   "source": [
    "go_btn.click()"
   ]
  },
  {
   "cell_type": "markdown",
   "id": "6a26c89c",
   "metadata": {},
   "source": [
    "2. In the above question, now scrape the following details of each product listed in first 3 pages of your \n",
    "search results and save it in a data frame and csv. In case if any product has less than 3 pages in search \n",
    "results then scrape all the products available under that product name. Details to be scraped are: \"Brand \n",
    "Name\", \"Name of the Product\", \"Price\", \"Return/Exchange\", \"Expected Delivery\", \"Availability\" and \n",
    "“Product URL”. In case, if any of the details are missing for any of the product then replace it by “-“."
   ]
  },
  {
   "cell_type": "code",
   "execution_count": 53,
   "id": "0081c9fc",
   "metadata": {},
   "outputs": [],
   "source": [
    "prod_opening_url=[]\n",
    "\n",
    "start=0\n",
    "end=2\n",
    "for page in range(start,end):\n",
    "    url=driver.find_elements(By.XPATH,'//a[@class=\"a-link-normal s-underline-text s-underline-link-text s-link-style a-text-normal\"]')\n",
    "    for i in url:\n",
    "        prod_opening_url.append(i.get_attribute('href'))\n",
    "    next_btn=driver.find_elements(By.XPATH,\"/html/body/div[1]/div[2]/div[1]/div[1]/div/span[3]/div[2]/div[66]/div/div/span/a[3]\")"
   ]
  },
  {
   "cell_type": "code",
   "execution_count": 54,
   "id": "894cf265",
   "metadata": {},
   "outputs": [
    {
     "data": {
      "text/plain": [
       "128"
      ]
     },
     "execution_count": 54,
     "metadata": {},
     "output_type": "execute_result"
    }
   ],
   "source": [
    "len(prod_opening_url)"
   ]
  },
  {
   "cell_type": "code",
   "execution_count": 55,
   "id": "e1f04b92",
   "metadata": {},
   "outputs": [
    {
     "data": {
      "text/plain": [
       "['https://www.amazon.in/gp/slredirect/picassoRedirect.html/ref=pa_sp_atf_aps_sr_pg1_1?ie=UTF8&adId=A07547842ON38YVIM47X4&url=%2FKadence-Frontier-Acoustic-Wihtout-strings%2Fdp%2FB08PKJGRJB%2Fref%3Dsr_1_1_sspa%3Fcrid%3D6A0AG3SRDPEU%26keywords%3Dguitar%26qid%3D1658834322%26sprefix%3D%252Caps%252C197%26sr%3D8-1-spons%26psc%3D1%26smid%3DAM04Z7MH4HSDD&qualifier=1658834322&id=8720814167435473&widgetName=sp_atf',\n",
       " 'https://www.amazon.in/gp/slredirect/picassoRedirect.html/ref=pa_sp_atf_aps_sr_pg1_1?ie=UTF8&adId=A0046612372SWJAK5T57D&url=%2FKadence-Frontier-Acoustic-Equalizer-Strings%2Fdp%2FB01HRIHH9E%2Fref%3Dsr_1_2_sspa%3Fcrid%3D6A0AG3SRDPEU%26keywords%3Dguitar%26qid%3D1658834322%26sprefix%3D%252Caps%252C197%26sr%3D8-2-spons%26psc%3D1&qualifier=1658834322&id=8720814167435473&widgetName=sp_atf',\n",
       " 'https://www.amazon.in/gp/slredirect/picassoRedirect.html/ref=pa_sp_atf_aps_sr_pg1_1?ie=UTF8&adId=A06072772I2LJ344EB41Y&url=%2FPhotron-Acoustic-Cutaway-PH38C-BK%2Fdp%2FB076T8V8NB%2Fref%3Dsr_1_3_sspa%3Fcrid%3D6A0AG3SRDPEU%26keywords%3Dguitar%26qid%3D1658834322%26sprefix%3D%252Caps%252C197%26sr%3D8-3-spons%26psc%3D1&qualifier=1658834322&id=8720814167435473&widgetName=sp_atf',\n",
       " 'https://www.amazon.in/gp/slredirect/picassoRedirect.html/ref=pa_sp_atf_aps_sr_pg1_1?ie=UTF8&adId=A0049561XBD14Z9O6GXG&url=%2FBlueberry-38C-Acoustic-Guitar-Strings%2Fdp%2FB08KLMV4XX%2Fref%3Dsr_1_4_sspa%3Fcrid%3D6A0AG3SRDPEU%26keywords%3Dguitar%26qid%3D1658834322%26sprefix%3D%252Caps%252C197%26sr%3D8-4-spons%26psc%3D1&qualifier=1658834322&id=8720814167435473&widgetName=sp_atf',\n",
       " 'https://www.amazon.in/Juarez-Acoustic-Cutaway-038C-Strings/dp/B017NPCSLI/ref=sr_1_5?crid=6A0AG3SRDPEU&keywords=guitar&qid=1658834322&sprefix=%2Caps%2C197&sr=8-5',\n",
       " 'https://www.amazon.in/Intern-INT-38C-Acoustic-Guitar-Black/dp/B073B6TQQY/ref=sr_1_6?crid=6A0AG3SRDPEU&keywords=guitar&qid=1658834322&sprefix=%2Caps%2C197&sr=8-6',\n",
       " 'https://www.amazon.in/Juarez-Acoustic-Guitar-Cutaway-Strings/dp/B076QHZ4HZ/ref=sr_1_7?crid=6A0AG3SRDPEU&keywords=guitar&qid=1658834322&sprefix=%2Caps%2C197&sr=8-7',\n",
       " 'https://www.amazon.in/Fender-Dread-String-Acoustic-Guitar/dp/B07RM4B5LJ/ref=sxin_14?asc_contentid=amzn1.osa.39dd7fbf-afb9-4b33-a89b-5dc1ff018d2f.A21TJRUUN4KGV.en_IN&asc_contenttype=article&ascsubtag=amzn1.osa.39dd7fbf-afb9-4b33-a89b-5dc1ff018d2f.A21TJRUUN4KGV.en_IN&content-id=amzn1.sym.9e10f444-3bae-445e-87e0-7b61ac6588df%3Aamzn1.sym.9e10f444-3bae-445e-87e0-7b61ac6588df&creativeASIN=B07RM4B5LJ&crid=6A0AG3SRDPEU&cv_ct_cx=guitar&cv_ct_id=amzn1.osa.39dd7fbf-afb9-4b33-a89b-5dc1ff018d2f.A21TJRUUN4KGV.en_IN&cv_ct_pg=search&cv_ct_we=asin&cv_ct_wn=osp-single-source-pecos-desktop&keywords=guitar&linkCode=oas&pd_rd_i=B07RM4B5LJ&pd_rd_r=7392470b-18b9-490c-907f-a5abbd26c03f&pd_rd_w=I9dqj&pd_rd_wg=CglhF&pf_rd_p=9e10f444-3bae-445e-87e0-7b61ac6588df&pf_rd_r=DWA9M6SEKZEMTSZPQT6K&qid=1658834322&sprefix=%2Caps%2C197&sr=1-1-c84eb971-91f2-4a4d-acce-811265c24254&tag=sm-content-21',\n",
       " 'https://www.amazon.in/Yamaha-FS100C-Acoustic-Guitars-Natural/dp/B00QKD79QE/ref=sxin_14?asc_contentid=amzn1.osa.39dd7fbf-afb9-4b33-a89b-5dc1ff018d2f.A21TJRUUN4KGV.en_IN&asc_contenttype=article&ascsubtag=amzn1.osa.39dd7fbf-afb9-4b33-a89b-5dc1ff018d2f.A21TJRUUN4KGV.en_IN&content-id=amzn1.sym.9e10f444-3bae-445e-87e0-7b61ac6588df%3Aamzn1.sym.9e10f444-3bae-445e-87e0-7b61ac6588df&creativeASIN=B00QKD79QE&crid=6A0AG3SRDPEU&cv_ct_cx=guitar&cv_ct_id=amzn1.osa.39dd7fbf-afb9-4b33-a89b-5dc1ff018d2f.A21TJRUUN4KGV.en_IN&cv_ct_pg=search&cv_ct_we=asin&cv_ct_wn=osp-single-source-pecos-desktop&keywords=guitar&linkCode=oas&pd_rd_i=B00QKD79QE&pd_rd_r=7392470b-18b9-490c-907f-a5abbd26c03f&pd_rd_w=I9dqj&pd_rd_wg=CglhF&pf_rd_p=9e10f444-3bae-445e-87e0-7b61ac6588df&pf_rd_r=DWA9M6SEKZEMTSZPQT6K&qid=1658834322&sprefix=%2Caps%2C197&sr=1-2-c84eb971-91f2-4a4d-acce-811265c24254&tag=sm-content-21',\n",
       " 'https://www.amazon.in/Rosewood-Fretboard-Acoustic-Strings-K-Retail/dp/B07KLG8C4P/ref=sxin_14?asc_contentid=amzn1.osa.39dd7fbf-afb9-4b33-a89b-5dc1ff018d2f.A21TJRUUN4KGV.en_IN&asc_contenttype=article&ascsubtag=amzn1.osa.39dd7fbf-afb9-4b33-a89b-5dc1ff018d2f.A21TJRUUN4KGV.en_IN&content-id=amzn1.sym.9e10f444-3bae-445e-87e0-7b61ac6588df%3Aamzn1.sym.9e10f444-3bae-445e-87e0-7b61ac6588df&creativeASIN=B07KLG8C4P&crid=6A0AG3SRDPEU&cv_ct_cx=guitar&cv_ct_id=amzn1.osa.39dd7fbf-afb9-4b33-a89b-5dc1ff018d2f.A21TJRUUN4KGV.en_IN&cv_ct_pg=search&cv_ct_we=asin&cv_ct_wn=osp-single-source-pecos-desktop&keywords=guitar&linkCode=oas&pd_rd_i=B07KLG8C4P&pd_rd_r=7392470b-18b9-490c-907f-a5abbd26c03f&pd_rd_w=I9dqj&pd_rd_wg=CglhF&pf_rd_p=9e10f444-3bae-445e-87e0-7b61ac6588df&pf_rd_r=DWA9M6SEKZEMTSZPQT6K&qid=1658834322&sprefix=%2Caps%2C197&sr=1-3-c84eb971-91f2-4a4d-acce-811265c24254&tag=sm-content-21',\n",
       " 'https://www.amazon.in/Kadence-6-strings-Acoustic-Guitar-Natural/dp/B07JKYWGJN/ref=sxin_14?asc_contentid=amzn1.osa.39dd7fbf-afb9-4b33-a89b-5dc1ff018d2f.A21TJRUUN4KGV.en_IN&asc_contenttype=article&ascsubtag=amzn1.osa.39dd7fbf-afb9-4b33-a89b-5dc1ff018d2f.A21TJRUUN4KGV.en_IN&content-id=amzn1.sym.9e10f444-3bae-445e-87e0-7b61ac6588df%3Aamzn1.sym.9e10f444-3bae-445e-87e0-7b61ac6588df&creativeASIN=B07JKYWGJN&crid=6A0AG3SRDPEU&cv_ct_cx=guitar&cv_ct_id=amzn1.osa.39dd7fbf-afb9-4b33-a89b-5dc1ff018d2f.A21TJRUUN4KGV.en_IN&cv_ct_pg=search&cv_ct_we=asin&cv_ct_wn=osp-single-source-pecos-desktop&keywords=guitar&linkCode=oas&pd_rd_i=B07JKYWGJN&pd_rd_r=7392470b-18b9-490c-907f-a5abbd26c03f&pd_rd_w=I9dqj&pd_rd_wg=CglhF&pf_rd_p=9e10f444-3bae-445e-87e0-7b61ac6588df&pf_rd_r=DWA9M6SEKZEMTSZPQT6K&qid=1658834322&sprefix=%2Caps%2C197&sr=1-4-c84eb971-91f2-4a4d-acce-811265c24254&tag=sm-content-21',\n",
       " 'https://www.amazon.in/Henrix-Acoustic-Guitar-Die-cast-Dual-action/dp/B07VNDW6QF/ref=sr_1_8?crid=6A0AG3SRDPEU&keywords=guitar&qid=1658834322&sprefix=%2Caps%2C197&sr=8-8',\n",
       " 'https://www.amazon.in/Intern-38-inch-Cutaway-Design-Acoustic/dp/B07X4PN85R/ref=sr_1_9?crid=6A0AG3SRDPEU&keywords=guitar&qid=1658834322&sprefix=%2Caps%2C197&sr=8-9',\n",
       " 'https://www.amazon.in/Intern-INT-38C-Acoustic-Guitar-Blue/dp/B073B5RZBV/ref=sr_1_10?crid=6A0AG3SRDPEU&keywords=guitar&qid=1658834322&sprefix=%2Caps%2C197&sr=8-10',\n",
       " 'https://www.amazon.in/Yamaha-Classical-Guitar-C40-02/dp/B003UGCUFE/ref=sr_1_11?crid=6A0AG3SRDPEU&keywords=guitar&qid=1658834322&sprefix=%2Caps%2C197&sr=8-11',\n",
       " 'https://www.amazon.in/Rosewood-Fretboard-Acoustic-Strings-K-Retail/dp/B07KLG8C4P/ref=sr_1_12?crid=6A0AG3SRDPEU&keywords=guitar&qid=1658834322&sprefix=%2Caps%2C197&sr=8-12',\n",
       " 'https://www.amazon.in/Intern-INT-38C-BK-G-Guitar-Kit-Black/dp/B07K9497RC/ref=sr_1_13?crid=6A0AG3SRDPEU&keywords=guitar&qid=1658834322&sprefix=%2Caps%2C197&sr=8-13',\n",
       " 'https://www.amazon.in/Kadence-Frontier-Acoustic-Guitar-Strings/dp/B078GTJP5Y/ref=sr_1_14?crid=6A0AG3SRDPEU&keywords=guitar&qid=1658834322&smid=AM04Z7MH4HSDD&sprefix=%2Caps%2C197&sr=8-14',\n",
       " 'https://www.amazon.in/JUAREZ-JRZ38C-Acoustic-Natural-Strings/dp/B01FYYTDWC/ref=sr_1_15?crid=6A0AG3SRDPEU&keywords=guitar&qid=1658834322&sprefix=%2Caps%2C197&sr=8-15',\n",
       " 'https://www.amazon.in/Intern-Acoustic-Steel-string-plectrums-INT-38C-WH/dp/B09LR94Z2X/ref=sr_1_16?crid=6A0AG3SRDPEU&keywords=guitar&qid=1658834322&sprefix=%2Caps%2C197&sr=8-16',\n",
       " 'https://www.amazon.in/Kadence-Frontier-Acoustic-Guitar-Strings/dp/B01GDZ46AA/ref=sr_1_17?crid=6A0AG3SRDPEU&keywords=guitar&qid=1658834322&smid=AM04Z7MH4HSDD&sprefix=%2Caps%2C197&sr=8-17',\n",
       " 'https://www.amazon.in/Photron-Acoustic-Cutaway-PH38C-BK/dp/B076T8V8NB/ref=sr_1_18?crid=6A0AG3SRDPEU&keywords=guitar&qid=1658834322&sprefix=%2Caps%2C197&sr=8-18',\n",
       " 'https://www.amazon.in/JUAREZ-JRZ38C-Acoustic-Sunburst-Strings/dp/B01FYYTDTU/ref=sr_1_19?crid=6A0AG3SRDPEU&keywords=guitar&qid=1658834322&sprefix=%2Caps%2C197&sr=8-19',\n",
       " 'https://www.amazon.in/JUAREZ-JRZ38C-Acoustic-Sunburst-Strings/dp/B01FYYTDS6/ref=sr_1_20?crid=6A0AG3SRDPEU&keywords=guitar&qid=1658834322&sprefix=%2Caps%2C197&sr=8-20',\n",
       " 'https://www.amazon.in/gp/slredirect/picassoRedirect.html/ref=pa_sp_mtf_aps_sr_pg1_1?ie=UTF8&adId=A0781470356P60BY9NFAO&url=%2FHOMME-STORE-Instrument-Educational-Instruments%2Fdp%2FB09MM9NBZC%2Fref%3Dsr_1_21_sspa%3Fcrid%3D6A0AG3SRDPEU%26keywords%3Dguitar%26qid%3D1658834322%26sprefix%3D%252Caps%252C197%26sr%3D8-21-spons%26psc%3D1&qualifier=1658834322&id=8720814167435473&widgetName=sp_mtf',\n",
       " 'https://www.amazon.in/gp/slredirect/picassoRedirect.html/ref=pa_sp_mtf_aps_sr_pg1_1?ie=UTF8&adId=A00993283KLTSGTFA4CJL&url=%2FAK-Empire-4-String-Instrument-Beginners%2Fdp%2FB09QYQS91N%2Fref%3Dsr_1_22_sspa%3Fcrid%3D6A0AG3SRDPEU%26keywords%3Dguitar%26qid%3D1658834322%26sprefix%3D%252Caps%252C197%26sr%3D8-22-spons%26psc%3D1&qualifier=1658834322&id=8720814167435473&widgetName=sp_mtf',\n",
       " 'https://www.amazon.in/gp/slredirect/picassoRedirect.html/ref=pa_sp_mtf_aps_sr_pg1_1?ie=UTF8&adId=A04098222EU7P1SKDZ9AA&url=%2FVault-String-Electric-Guitar-Metallic%2Fdp%2FB08F2JDPWR%2Fref%3Dsr_1_23_sspa%3Fcrid%3D6A0AG3SRDPEU%26keywords%3Dguitar%26qid%3D1658834322%26sprefix%3D%252Caps%252C197%26sr%3D8-23-spons%26psc%3D1&qualifier=1658834322&id=8720814167435473&widgetName=sp_mtf',\n",
       " 'https://www.amazon.in/gp/slredirect/picassoRedirect.html/ref=pa_sp_mtf_aps_sr_pg1_1?ie=UTF8&adId=A08802611ONKSOGJ9HGRR&url=%2FHOMME-STORE-Acoustic-Instrument-Educational%2Fdp%2FB09RK4CWGK%2Fref%3Dsr_1_24_sspa%3Fcrid%3D6A0AG3SRDPEU%26keywords%3Dguitar%26qid%3D1658834322%26sprefix%3D%252Caps%252C197%26sr%3D8-24-spons%26psc%3D1&qualifier=1658834322&id=8720814167435473&widgetName=sp_mtf',\n",
       " 'https://www.amazon.in/JRZ-ST01-6-String-Electric-Sunburst-Without/dp/B01FYZSOEE/ref=sr_1_25?crid=6A0AG3SRDPEU&keywords=guitar&qid=1658834322&sprefix=%2Caps%2C197&sr=8-25',\n",
       " 'https://www.amazon.in/Intern-INT-38C-Sunburst-Acoustic-Guitar/dp/B07X1J4D3Z/ref=sr_1_26?crid=6A0AG3SRDPEU&keywords=guitar&qid=1658834322&sprefix=%2Caps%2C197&sr=8-26',\n",
       " 'https://www.amazon.in/Intern-INT-38C-Brown-Acoustic-Guitar/dp/B07X2HV158/ref=sr_1_27?crid=6A0AG3SRDPEU&keywords=guitar&qid=1658834322&sprefix=%2Caps%2C197&sr=8-27',\n",
       " 'https://www.amazon.in/Acoustic-Cutaway-RDS-Strings-Sunburst/dp/B076QGY91P/ref=sr_1_28?crid=6A0AG3SRDPEU&keywords=guitar&qid=1658834322&sprefix=%2Caps%2C197&sr=8-28',\n",
       " 'https://www.amazon.in/Juarez-JRZ-ST01-6-String-Electric-Without/dp/B01FYZSOGM/ref=sr_1_29?crid=6A0AG3SRDPEU&keywords=guitar&qid=1658834322&sprefix=%2Caps%2C197&sr=8-29',\n",
       " 'https://www.amazon.in/Intern-INT-38C-Acoustic-Guitar-Purple/dp/B073B4CT2F/ref=sr_1_30?crid=6A0AG3SRDPEU&keywords=guitar&qid=1658834322&sprefix=%2Caps%2C197&sr=8-30',\n",
       " 'https://www.amazon.in/Revel-RVL-38C-LGP-NT-Linden-Acoustic-Natural/dp/B085HVRHPS/ref=sr_1_31?crid=6A0AG3SRDPEU&keywords=guitar&qid=1658834322&sprefix=%2Caps%2C197&sr=8-31',\n",
       " 'https://www.amazon.in/Intern-INT-38C-Acoustic-Guitar-Natural/dp/B073B4D22T/ref=sr_1_32?crid=6A0AG3SRDPEU&keywords=guitar&qid=1658834322&sprefix=%2Caps%2C197&sr=8-32',\n",
       " 'https://www.amazon.in/Intern-INT-38C-Natural-Acoustic-Guitar/dp/B07X4LPJ6H/ref=sr_1_33?crid=6A0AG3SRDPEU&keywords=guitar&qid=1658834322&sprefix=%2Caps%2C197&sr=8-33',\n",
       " 'https://www.amazon.in/JRZ38C-Strings-Acoustic-Cutaway-Mahogany/dp/B071JM8C6T/ref=sr_1_34?crid=6A0AG3SRDPEU&keywords=guitar&qid=1658834322&sprefix=%2Caps%2C197&sr=8-34',\n",
       " 'https://www.amazon.in/Intern-INT-38C-Acoustic-Guitar-Sunburst/dp/B073B5MJRM/ref=sr_1_35?crid=6A0AG3SRDPEU&keywords=guitar&qid=1658834322&sprefix=%2Caps%2C197&sr=8-35',\n",
       " 'https://www.amazon.in/Kordz-Luana-Natural-Rosewood-Fretboard/dp/B07V4Y1V9M/ref=sr_1_36?crid=6A0AG3SRDPEU&keywords=guitar&qid=1658834322&sprefix=%2Caps%2C197&sr=8-36',\n",
       " 'https://www.amazon.in/JUAREZ-Arp%C3%A9ggio-Semi-Acoustic-Guitar-Natural/dp/B08KHFJKZK/ref=sr_1_37?crid=6A0AG3SRDPEU&keywords=guitar&qid=1658834322&sprefix=%2Caps%2C197&sr=8-37',\n",
       " 'https://www.amazon.in/Blueberry-B-38C-Brown-Acoustic-Guitar-Strings/dp/B0B71BHDGQ/ref=sr_1_38?crid=6A0AG3SRDPEU&keywords=guitar&qid=1658834322&sprefix=%2Caps%2C197&sr=8-38',\n",
       " 'https://www.amazon.in/4-string-acoustic-guitar-learning-18-Multi/dp/B09BW7CS1D/ref=sr_1_39?crid=6A0AG3SRDPEU&keywords=guitar&qid=1658834322&sprefix=%2Caps%2C197&sr=8-39',\n",
       " 'https://www.amazon.in/JUAREZ-Acoustic-Guitar-String-JRGSE32/dp/B08MW1WPW5/ref=sr_1_40?crid=6A0AG3SRDPEU&keywords=guitar&qid=1658834322&sprefix=%2Caps%2C197&sr=8-40',\n",
       " 'https://www.amazon.in/Yamaha-Acoustic-Guitar-Natural-Bajaao/dp/B08RMP2F6Z/ref=sr_1_41?crid=6A0AG3SRDPEU&keywords=guitar&qid=1658834322&sprefix=%2Caps%2C197&sr=8-41',\n",
       " 'https://www.amazon.in/Acoustic-plectrums-stability-age-groups-Sparkling/dp/B09YH8C4D5/ref=sr_1_42?crid=6A0AG3SRDPEU&keywords=guitar&qid=1658834322&sprefix=%2Caps%2C197&sr=8-42',\n",
       " 'https://www.amazon.in/Guitar-Strings-Straps-String-Polishing/dp/B097N7NGHD/ref=sr_1_43?crid=6A0AG3SRDPEU&keywords=guitar&qid=1658834322&sprefix=%2Caps%2C197&sr=8-43',\n",
       " 'https://www.amazon.in/Medellin-Acoustic-LEARNING-beginners-handrest/dp/B09MSKKHJC/ref=sr_1_44?crid=6A0AG3SRDPEU&keywords=guitar&qid=1658834322&sprefix=%2Caps%2C197&sr=8-44',\n",
       " 'https://www.amazon.in/Intern-INT-38C-SB-G-Guitar-Kit-Sunburst/dp/B07K8WLPLH/ref=sr_1_45?crid=6A0AG3SRDPEU&keywords=guitar&qid=1658834322&sprefix=%2Caps%2C197&sr=8-45',\n",
       " 'https://www.amazon.in/KREEPO-Fretboard-Fingerboard-Acoustic-Electric-Multicolor/dp/B09DWY4ZK2/ref=sr_1_46?crid=6A0AG3SRDPEU&keywords=guitar&qid=1658834322&sprefix=%2Caps%2C197&sr=8-46',\n",
       " 'https://www.amazon.in/Henrix-Handed-Cutway-Acoustic-Polishing/dp/B08R3DKYGM/ref=sr_1_47?crid=6A0AG3SRDPEU&keywords=guitar&qid=1658834322&sprefix=%2Caps%2C197&sr=8-47',\n",
       " 'https://www.amazon.in/Medellin-Acoustic-specailized-learning-beginners/dp/B09MSH3RY1/ref=sr_1_48?crid=6A0AG3SRDPEU&keywords=guitar&qid=1658834322&sprefix=%2Caps%2C197&sr=8-48',\n",
       " 'https://www.amazon.in/DEVICE-URBAN-INFOTECH-Accurate-Acoustic/dp/B08BZXMJTP/ref=sr_1_49?crid=6A0AG3SRDPEU&keywords=guitar&qid=1658834322&sprefix=%2Caps%2C197&sr=8-49',\n",
       " 'https://www.amazon.in/Acoustic-stability-professional-amplificaiton-Sunburst/dp/B09YH8TVW7/ref=sr_1_50?crid=6A0AG3SRDPEU&keywords=guitar&qid=1658834322&sprefix=%2Caps%2C197&sr=8-50',\n",
       " 'https://www.amazon.in/Juarez-Strings-Acoustic-Cutaway-Zebrawood/dp/B072Q9L8DG/ref=sr_1_51?crid=6A0AG3SRDPEU&keywords=guitar&qid=1658834322&sprefix=%2Caps%2C197&sr=8-51',\n",
       " 'https://www.amazon.in/Fender-Classic-Design-Dreadnought-Acoustic/dp/B07HYS18LJ/ref=sr_1_52?crid=6A0AG3SRDPEU&keywords=guitar&qid=1658834322&sprefix=%2Caps%2C197&sr=8-52',\n",
       " 'https://www.amazon.in/JUAREZ-JRZ38C-Handed-Acoustic-Strings/dp/B01FYYTDW2/ref=sr_1_53?crid=6A0AG3SRDPEU&keywords=guitar&qid=1658834322&sprefix=%2Caps%2C197&sr=8-53',\n",
       " 'https://www.amazon.in/Blueberry-Acoustic-Inbuilt-Strings-Classic/dp/B09VLF8B8G/ref=sr_1_54?crid=6A0AG3SRDPEU&keywords=guitar&qid=1658834322&sprefix=%2Caps%2C197&sr=8-54',\n",
       " 'https://www.amazon.in/Blueberry-38C-Acoustic-Guitar-Strings/dp/B08KLMV4XX/ref=sr_1_55?crid=6A0AG3SRDPEU&keywords=guitar&qid=1658834322&sprefix=%2Caps%2C197&sr=8-55',\n",
       " 'https://www.amazon.in/Carlton-Rosewood-Fretboard-Acoustic-K-Retail/dp/B07KK8P9VB/ref=sr_1_56?crid=6A0AG3SRDPEU&keywords=guitar&qid=1658834322&sprefix=%2Caps%2C197&sr=8-56',\n",
       " 'https://www.amazon.in/gp/slredirect/picassoRedirect.html/ref=pa_sp_btf_aps_sr_pg1_1?ie=UTF8&adId=A00513451NPSOUKP9NKFP&url=%2FBlueberry-Acoustic-Inbuilt-Strings-Classic%2Fdp%2FB09VLF7G2D%2Fref%3Dsr_1_57_sspa%3Fcrid%3D6A0AG3SRDPEU%26keywords%3Dguitar%26qid%3D1658834322%26sprefix%3D%252Caps%252C197%26sr%3D8-57-spons%26psc%3D1&qualifier=1658834322&id=8720814167435473&widgetName=sp_btf',\n",
       " 'https://www.amazon.in/gp/slredirect/picassoRedirect.html/ref=pa_sp_btf_aps_sr_pg1_1?ie=UTF8&adId=A0147244MADOPX3B1N69&url=%2FYamaha-6-Strings-Acoustic-Natural-Plectrums%2Fdp%2FB07MK3FNX3%2Fref%3Dsr_1_58_sspa%3Fcrid%3D6A0AG3SRDPEU%26keywords%3Dguitar%26qid%3D1658834322%26sprefix%3D%252Caps%252C197%26sr%3D8-58-spons%26psc%3D1%26smid%3DA132BBHT5BYNA5&qualifier=1658834322&id=8720814167435473&widgetName=sp_btf',\n",
       " 'https://www.amazon.in/gp/slredirect/picassoRedirect.html/ref=pa_sp_btf_aps_sr_pg1_1?ie=UTF8&adId=A08790022Y5TKL7GOFMBU&url=%2FCort-AD810-Dreadnought-Acoustic-Guitar%2Fdp%2FB07KMBVR6V%2Fref%3Dsr_1_59_sspa%3Fcrid%3D6A0AG3SRDPEU%26keywords%3Dguitar%26qid%3D1658834322%26sprefix%3D%252Caps%252C197%26sr%3D8-59-spons%26psc%3D1&qualifier=1658834322&id=8720814167435473&widgetName=sp_btf',\n",
       " 'https://www.amazon.in/gp/slredirect/picassoRedirect.html/ref=pa_sp_btf_aps_sr_pg1_1?ie=UTF8&adId=A0405872A4XB9J6KU616&url=%2FClassical-Childrens-Instrument-Educational-Beginners%2Fdp%2FB0B6R8PV79%2Fref%3Dsr_1_60_sspa%3Fcrid%3D6A0AG3SRDPEU%26keywords%3Dguitar%26qid%3D1658834322%26sprefix%3D%252Caps%252C197%26sr%3D8-60-spons%26psc%3D1&qualifier=1658834322&id=8720814167435473&widgetName=sp_btf',\n",
       " 'https://www.amazon.in/gp/slredirect/picassoRedirect.html/ref=pa_sp_atf_aps_sr_pg1_1?ie=UTF8&adId=A07547842ON38YVIM47X4&url=%2FKadence-Frontier-Acoustic-Wihtout-strings%2Fdp%2FB08PKJGRJB%2Fref%3Dsr_1_1_sspa%3Fcrid%3D6A0AG3SRDPEU%26keywords%3Dguitar%26qid%3D1658834322%26sprefix%3D%252Caps%252C197%26sr%3D8-1-spons%26psc%3D1%26smid%3DAM04Z7MH4HSDD&qualifier=1658834322&id=8720814167435473&widgetName=sp_atf',\n",
       " 'https://www.amazon.in/gp/slredirect/picassoRedirect.html/ref=pa_sp_atf_aps_sr_pg1_1?ie=UTF8&adId=A0046612372SWJAK5T57D&url=%2FKadence-Frontier-Acoustic-Equalizer-Strings%2Fdp%2FB01HRIHH9E%2Fref%3Dsr_1_2_sspa%3Fcrid%3D6A0AG3SRDPEU%26keywords%3Dguitar%26qid%3D1658834322%26sprefix%3D%252Caps%252C197%26sr%3D8-2-spons%26psc%3D1&qualifier=1658834322&id=8720814167435473&widgetName=sp_atf',\n",
       " 'https://www.amazon.in/gp/slredirect/picassoRedirect.html/ref=pa_sp_atf_aps_sr_pg1_1?ie=UTF8&adId=A06072772I2LJ344EB41Y&url=%2FPhotron-Acoustic-Cutaway-PH38C-BK%2Fdp%2FB076T8V8NB%2Fref%3Dsr_1_3_sspa%3Fcrid%3D6A0AG3SRDPEU%26keywords%3Dguitar%26qid%3D1658834322%26sprefix%3D%252Caps%252C197%26sr%3D8-3-spons%26psc%3D1&qualifier=1658834322&id=8720814167435473&widgetName=sp_atf',\n",
       " 'https://www.amazon.in/gp/slredirect/picassoRedirect.html/ref=pa_sp_atf_aps_sr_pg1_1?ie=UTF8&adId=A0049561XBD14Z9O6GXG&url=%2FBlueberry-38C-Acoustic-Guitar-Strings%2Fdp%2FB08KLMV4XX%2Fref%3Dsr_1_4_sspa%3Fcrid%3D6A0AG3SRDPEU%26keywords%3Dguitar%26qid%3D1658834322%26sprefix%3D%252Caps%252C197%26sr%3D8-4-spons%26psc%3D1&qualifier=1658834322&id=8720814167435473&widgetName=sp_atf',\n",
       " 'https://www.amazon.in/Juarez-Acoustic-Cutaway-038C-Strings/dp/B017NPCSLI/ref=sr_1_5?crid=6A0AG3SRDPEU&keywords=guitar&qid=1658834322&sprefix=%2Caps%2C197&sr=8-5',\n",
       " 'https://www.amazon.in/Intern-INT-38C-Acoustic-Guitar-Black/dp/B073B6TQQY/ref=sr_1_6?crid=6A0AG3SRDPEU&keywords=guitar&qid=1658834322&sprefix=%2Caps%2C197&sr=8-6',\n",
       " 'https://www.amazon.in/Juarez-Acoustic-Guitar-Cutaway-Strings/dp/B076QHZ4HZ/ref=sr_1_7?crid=6A0AG3SRDPEU&keywords=guitar&qid=1658834322&sprefix=%2Caps%2C197&sr=8-7',\n",
       " 'https://www.amazon.in/Fender-Dread-String-Acoustic-Guitar/dp/B07RM4B5LJ/ref=sxin_14?asc_contentid=amzn1.osa.39dd7fbf-afb9-4b33-a89b-5dc1ff018d2f.A21TJRUUN4KGV.en_IN&asc_contenttype=article&ascsubtag=amzn1.osa.39dd7fbf-afb9-4b33-a89b-5dc1ff018d2f.A21TJRUUN4KGV.en_IN&content-id=amzn1.sym.9e10f444-3bae-445e-87e0-7b61ac6588df%3Aamzn1.sym.9e10f444-3bae-445e-87e0-7b61ac6588df&creativeASIN=B07RM4B5LJ&crid=6A0AG3SRDPEU&cv_ct_cx=guitar&cv_ct_id=amzn1.osa.39dd7fbf-afb9-4b33-a89b-5dc1ff018d2f.A21TJRUUN4KGV.en_IN&cv_ct_pg=search&cv_ct_we=asin&cv_ct_wn=osp-single-source-pecos-desktop&keywords=guitar&linkCode=oas&pd_rd_i=B07RM4B5LJ&pd_rd_r=7392470b-18b9-490c-907f-a5abbd26c03f&pd_rd_w=I9dqj&pd_rd_wg=CglhF&pf_rd_p=9e10f444-3bae-445e-87e0-7b61ac6588df&pf_rd_r=DWA9M6SEKZEMTSZPQT6K&qid=1658834322&sprefix=%2Caps%2C197&sr=1-1-c84eb971-91f2-4a4d-acce-811265c24254&tag=sm-content-21',\n",
       " 'https://www.amazon.in/Yamaha-FS100C-Acoustic-Guitars-Natural/dp/B00QKD79QE/ref=sxin_14?asc_contentid=amzn1.osa.39dd7fbf-afb9-4b33-a89b-5dc1ff018d2f.A21TJRUUN4KGV.en_IN&asc_contenttype=article&ascsubtag=amzn1.osa.39dd7fbf-afb9-4b33-a89b-5dc1ff018d2f.A21TJRUUN4KGV.en_IN&content-id=amzn1.sym.9e10f444-3bae-445e-87e0-7b61ac6588df%3Aamzn1.sym.9e10f444-3bae-445e-87e0-7b61ac6588df&creativeASIN=B00QKD79QE&crid=6A0AG3SRDPEU&cv_ct_cx=guitar&cv_ct_id=amzn1.osa.39dd7fbf-afb9-4b33-a89b-5dc1ff018d2f.A21TJRUUN4KGV.en_IN&cv_ct_pg=search&cv_ct_we=asin&cv_ct_wn=osp-single-source-pecos-desktop&keywords=guitar&linkCode=oas&pd_rd_i=B00QKD79QE&pd_rd_r=7392470b-18b9-490c-907f-a5abbd26c03f&pd_rd_w=I9dqj&pd_rd_wg=CglhF&pf_rd_p=9e10f444-3bae-445e-87e0-7b61ac6588df&pf_rd_r=DWA9M6SEKZEMTSZPQT6K&qid=1658834322&sprefix=%2Caps%2C197&sr=1-2-c84eb971-91f2-4a4d-acce-811265c24254&tag=sm-content-21',\n",
       " 'https://www.amazon.in/Rosewood-Fretboard-Acoustic-Strings-K-Retail/dp/B07KLG8C4P/ref=sxin_14?asc_contentid=amzn1.osa.39dd7fbf-afb9-4b33-a89b-5dc1ff018d2f.A21TJRUUN4KGV.en_IN&asc_contenttype=article&ascsubtag=amzn1.osa.39dd7fbf-afb9-4b33-a89b-5dc1ff018d2f.A21TJRUUN4KGV.en_IN&content-id=amzn1.sym.9e10f444-3bae-445e-87e0-7b61ac6588df%3Aamzn1.sym.9e10f444-3bae-445e-87e0-7b61ac6588df&creativeASIN=B07KLG8C4P&crid=6A0AG3SRDPEU&cv_ct_cx=guitar&cv_ct_id=amzn1.osa.39dd7fbf-afb9-4b33-a89b-5dc1ff018d2f.A21TJRUUN4KGV.en_IN&cv_ct_pg=search&cv_ct_we=asin&cv_ct_wn=osp-single-source-pecos-desktop&keywords=guitar&linkCode=oas&pd_rd_i=B07KLG8C4P&pd_rd_r=7392470b-18b9-490c-907f-a5abbd26c03f&pd_rd_w=I9dqj&pd_rd_wg=CglhF&pf_rd_p=9e10f444-3bae-445e-87e0-7b61ac6588df&pf_rd_r=DWA9M6SEKZEMTSZPQT6K&qid=1658834322&sprefix=%2Caps%2C197&sr=1-3-c84eb971-91f2-4a4d-acce-811265c24254&tag=sm-content-21',\n",
       " 'https://www.amazon.in/Kadence-6-strings-Acoustic-Guitar-Natural/dp/B07JKYWGJN/ref=sxin_14?asc_contentid=amzn1.osa.39dd7fbf-afb9-4b33-a89b-5dc1ff018d2f.A21TJRUUN4KGV.en_IN&asc_contenttype=article&ascsubtag=amzn1.osa.39dd7fbf-afb9-4b33-a89b-5dc1ff018d2f.A21TJRUUN4KGV.en_IN&content-id=amzn1.sym.9e10f444-3bae-445e-87e0-7b61ac6588df%3Aamzn1.sym.9e10f444-3bae-445e-87e0-7b61ac6588df&creativeASIN=B07JKYWGJN&crid=6A0AG3SRDPEU&cv_ct_cx=guitar&cv_ct_id=amzn1.osa.39dd7fbf-afb9-4b33-a89b-5dc1ff018d2f.A21TJRUUN4KGV.en_IN&cv_ct_pg=search&cv_ct_we=asin&cv_ct_wn=osp-single-source-pecos-desktop&keywords=guitar&linkCode=oas&pd_rd_i=B07JKYWGJN&pd_rd_r=7392470b-18b9-490c-907f-a5abbd26c03f&pd_rd_w=I9dqj&pd_rd_wg=CglhF&pf_rd_p=9e10f444-3bae-445e-87e0-7b61ac6588df&pf_rd_r=DWA9M6SEKZEMTSZPQT6K&qid=1658834322&sprefix=%2Caps%2C197&sr=1-4-c84eb971-91f2-4a4d-acce-811265c24254&tag=sm-content-21',\n",
       " 'https://www.amazon.in/Henrix-Acoustic-Guitar-Die-cast-Dual-action/dp/B07VNDW6QF/ref=sr_1_8?crid=6A0AG3SRDPEU&keywords=guitar&qid=1658834322&sprefix=%2Caps%2C197&sr=8-8',\n",
       " 'https://www.amazon.in/Intern-38-inch-Cutaway-Design-Acoustic/dp/B07X4PN85R/ref=sr_1_9?crid=6A0AG3SRDPEU&keywords=guitar&qid=1658834322&sprefix=%2Caps%2C197&sr=8-9',\n",
       " 'https://www.amazon.in/Intern-INT-38C-Acoustic-Guitar-Blue/dp/B073B5RZBV/ref=sr_1_10?crid=6A0AG3SRDPEU&keywords=guitar&qid=1658834322&sprefix=%2Caps%2C197&sr=8-10',\n",
       " 'https://www.amazon.in/Yamaha-Classical-Guitar-C40-02/dp/B003UGCUFE/ref=sr_1_11?crid=6A0AG3SRDPEU&keywords=guitar&qid=1658834322&sprefix=%2Caps%2C197&sr=8-11',\n",
       " 'https://www.amazon.in/Rosewood-Fretboard-Acoustic-Strings-K-Retail/dp/B07KLG8C4P/ref=sr_1_12?crid=6A0AG3SRDPEU&keywords=guitar&qid=1658834322&sprefix=%2Caps%2C197&sr=8-12',\n",
       " 'https://www.amazon.in/Intern-INT-38C-BK-G-Guitar-Kit-Black/dp/B07K9497RC/ref=sr_1_13?crid=6A0AG3SRDPEU&keywords=guitar&qid=1658834322&sprefix=%2Caps%2C197&sr=8-13',\n",
       " 'https://www.amazon.in/Kadence-Frontier-Acoustic-Guitar-Strings/dp/B078GTJP5Y/ref=sr_1_14?crid=6A0AG3SRDPEU&keywords=guitar&qid=1658834322&smid=AM04Z7MH4HSDD&sprefix=%2Caps%2C197&sr=8-14',\n",
       " 'https://www.amazon.in/JUAREZ-JRZ38C-Acoustic-Natural-Strings/dp/B01FYYTDWC/ref=sr_1_15?crid=6A0AG3SRDPEU&keywords=guitar&qid=1658834322&sprefix=%2Caps%2C197&sr=8-15',\n",
       " 'https://www.amazon.in/Intern-Acoustic-Steel-string-plectrums-INT-38C-WH/dp/B09LR94Z2X/ref=sr_1_16?crid=6A0AG3SRDPEU&keywords=guitar&qid=1658834322&sprefix=%2Caps%2C197&sr=8-16',\n",
       " 'https://www.amazon.in/Kadence-Frontier-Acoustic-Guitar-Strings/dp/B01GDZ46AA/ref=sr_1_17?crid=6A0AG3SRDPEU&keywords=guitar&qid=1658834322&smid=AM04Z7MH4HSDD&sprefix=%2Caps%2C197&sr=8-17',\n",
       " 'https://www.amazon.in/Photron-Acoustic-Cutaway-PH38C-BK/dp/B076T8V8NB/ref=sr_1_18?crid=6A0AG3SRDPEU&keywords=guitar&qid=1658834322&sprefix=%2Caps%2C197&sr=8-18',\n",
       " 'https://www.amazon.in/JUAREZ-JRZ38C-Acoustic-Sunburst-Strings/dp/B01FYYTDTU/ref=sr_1_19?crid=6A0AG3SRDPEU&keywords=guitar&qid=1658834322&sprefix=%2Caps%2C197&sr=8-19',\n",
       " 'https://www.amazon.in/JUAREZ-JRZ38C-Acoustic-Sunburst-Strings/dp/B01FYYTDS6/ref=sr_1_20?crid=6A0AG3SRDPEU&keywords=guitar&qid=1658834322&sprefix=%2Caps%2C197&sr=8-20',\n",
       " 'https://www.amazon.in/gp/slredirect/picassoRedirect.html/ref=pa_sp_mtf_aps_sr_pg1_1?ie=UTF8&adId=A0781470356P60BY9NFAO&url=%2FHOMME-STORE-Instrument-Educational-Instruments%2Fdp%2FB09MM9NBZC%2Fref%3Dsr_1_21_sspa%3Fcrid%3D6A0AG3SRDPEU%26keywords%3Dguitar%26qid%3D1658834322%26sprefix%3D%252Caps%252C197%26sr%3D8-21-spons%26psc%3D1&qualifier=1658834322&id=8720814167435473&widgetName=sp_mtf',\n",
       " 'https://www.amazon.in/gp/slredirect/picassoRedirect.html/ref=pa_sp_mtf_aps_sr_pg1_1?ie=UTF8&adId=A00993283KLTSGTFA4CJL&url=%2FAK-Empire-4-String-Instrument-Beginners%2Fdp%2FB09QYQS91N%2Fref%3Dsr_1_22_sspa%3Fcrid%3D6A0AG3SRDPEU%26keywords%3Dguitar%26qid%3D1658834322%26sprefix%3D%252Caps%252C197%26sr%3D8-22-spons%26psc%3D1&qualifier=1658834322&id=8720814167435473&widgetName=sp_mtf',\n",
       " 'https://www.amazon.in/gp/slredirect/picassoRedirect.html/ref=pa_sp_mtf_aps_sr_pg1_1?ie=UTF8&adId=A04098222EU7P1SKDZ9AA&url=%2FVault-String-Electric-Guitar-Metallic%2Fdp%2FB08F2JDPWR%2Fref%3Dsr_1_23_sspa%3Fcrid%3D6A0AG3SRDPEU%26keywords%3Dguitar%26qid%3D1658834322%26sprefix%3D%252Caps%252C197%26sr%3D8-23-spons%26psc%3D1&qualifier=1658834322&id=8720814167435473&widgetName=sp_mtf',\n",
       " 'https://www.amazon.in/gp/slredirect/picassoRedirect.html/ref=pa_sp_mtf_aps_sr_pg1_1?ie=UTF8&adId=A08802611ONKSOGJ9HGRR&url=%2FHOMME-STORE-Acoustic-Instrument-Educational%2Fdp%2FB09RK4CWGK%2Fref%3Dsr_1_24_sspa%3Fcrid%3D6A0AG3SRDPEU%26keywords%3Dguitar%26qid%3D1658834322%26sprefix%3D%252Caps%252C197%26sr%3D8-24-spons%26psc%3D1&qualifier=1658834322&id=8720814167435473&widgetName=sp_mtf',\n",
       " 'https://www.amazon.in/JRZ-ST01-6-String-Electric-Sunburst-Without/dp/B01FYZSOEE/ref=sr_1_25?crid=6A0AG3SRDPEU&keywords=guitar&qid=1658834322&sprefix=%2Caps%2C197&sr=8-25',\n",
       " 'https://www.amazon.in/Intern-INT-38C-Sunburst-Acoustic-Guitar/dp/B07X1J4D3Z/ref=sr_1_26?crid=6A0AG3SRDPEU&keywords=guitar&qid=1658834322&sprefix=%2Caps%2C197&sr=8-26',\n",
       " 'https://www.amazon.in/Intern-INT-38C-Brown-Acoustic-Guitar/dp/B07X2HV158/ref=sr_1_27?crid=6A0AG3SRDPEU&keywords=guitar&qid=1658834322&sprefix=%2Caps%2C197&sr=8-27',\n",
       " 'https://www.amazon.in/Acoustic-Cutaway-RDS-Strings-Sunburst/dp/B076QGY91P/ref=sr_1_28?crid=6A0AG3SRDPEU&keywords=guitar&qid=1658834322&sprefix=%2Caps%2C197&sr=8-28',\n",
       " 'https://www.amazon.in/Juarez-JRZ-ST01-6-String-Electric-Without/dp/B01FYZSOGM/ref=sr_1_29?crid=6A0AG3SRDPEU&keywords=guitar&qid=1658834322&sprefix=%2Caps%2C197&sr=8-29',\n",
       " 'https://www.amazon.in/Intern-INT-38C-Acoustic-Guitar-Purple/dp/B073B4CT2F/ref=sr_1_30?crid=6A0AG3SRDPEU&keywords=guitar&qid=1658834322&sprefix=%2Caps%2C197&sr=8-30',\n",
       " 'https://www.amazon.in/Revel-RVL-38C-LGP-NT-Linden-Acoustic-Natural/dp/B085HVRHPS/ref=sr_1_31?crid=6A0AG3SRDPEU&keywords=guitar&qid=1658834322&sprefix=%2Caps%2C197&sr=8-31',\n",
       " 'https://www.amazon.in/Intern-INT-38C-Acoustic-Guitar-Natural/dp/B073B4D22T/ref=sr_1_32?crid=6A0AG3SRDPEU&keywords=guitar&qid=1658834322&sprefix=%2Caps%2C197&sr=8-32',\n",
       " 'https://www.amazon.in/Intern-INT-38C-Natural-Acoustic-Guitar/dp/B07X4LPJ6H/ref=sr_1_33?crid=6A0AG3SRDPEU&keywords=guitar&qid=1658834322&sprefix=%2Caps%2C197&sr=8-33',\n",
       " 'https://www.amazon.in/JRZ38C-Strings-Acoustic-Cutaway-Mahogany/dp/B071JM8C6T/ref=sr_1_34?crid=6A0AG3SRDPEU&keywords=guitar&qid=1658834322&sprefix=%2Caps%2C197&sr=8-34',\n",
       " 'https://www.amazon.in/Intern-INT-38C-Acoustic-Guitar-Sunburst/dp/B073B5MJRM/ref=sr_1_35?crid=6A0AG3SRDPEU&keywords=guitar&qid=1658834322&sprefix=%2Caps%2C197&sr=8-35',\n",
       " 'https://www.amazon.in/Kordz-Luana-Natural-Rosewood-Fretboard/dp/B07V4Y1V9M/ref=sr_1_36?crid=6A0AG3SRDPEU&keywords=guitar&qid=1658834322&sprefix=%2Caps%2C197&sr=8-36',\n",
       " 'https://www.amazon.in/JUAREZ-Arp%C3%A9ggio-Semi-Acoustic-Guitar-Natural/dp/B08KHFJKZK/ref=sr_1_37?crid=6A0AG3SRDPEU&keywords=guitar&qid=1658834322&sprefix=%2Caps%2C197&sr=8-37',\n",
       " 'https://www.amazon.in/Blueberry-B-38C-Brown-Acoustic-Guitar-Strings/dp/B0B71BHDGQ/ref=sr_1_38?crid=6A0AG3SRDPEU&keywords=guitar&qid=1658834322&sprefix=%2Caps%2C197&sr=8-38',\n",
       " 'https://www.amazon.in/4-string-acoustic-guitar-learning-18-Multi/dp/B09BW7CS1D/ref=sr_1_39?crid=6A0AG3SRDPEU&keywords=guitar&qid=1658834322&sprefix=%2Caps%2C197&sr=8-39',\n",
       " 'https://www.amazon.in/JUAREZ-Acoustic-Guitar-String-JRGSE32/dp/B08MW1WPW5/ref=sr_1_40?crid=6A0AG3SRDPEU&keywords=guitar&qid=1658834322&sprefix=%2Caps%2C197&sr=8-40',\n",
       " 'https://www.amazon.in/Yamaha-Acoustic-Guitar-Natural-Bajaao/dp/B08RMP2F6Z/ref=sr_1_41?crid=6A0AG3SRDPEU&keywords=guitar&qid=1658834322&sprefix=%2Caps%2C197&sr=8-41',\n",
       " 'https://www.amazon.in/Acoustic-plectrums-stability-age-groups-Sparkling/dp/B09YH8C4D5/ref=sr_1_42?crid=6A0AG3SRDPEU&keywords=guitar&qid=1658834322&sprefix=%2Caps%2C197&sr=8-42',\n",
       " 'https://www.amazon.in/Guitar-Strings-Straps-String-Polishing/dp/B097N7NGHD/ref=sr_1_43?crid=6A0AG3SRDPEU&keywords=guitar&qid=1658834322&sprefix=%2Caps%2C197&sr=8-43',\n",
       " 'https://www.amazon.in/Medellin-Acoustic-LEARNING-beginners-handrest/dp/B09MSKKHJC/ref=sr_1_44?crid=6A0AG3SRDPEU&keywords=guitar&qid=1658834322&sprefix=%2Caps%2C197&sr=8-44',\n",
       " 'https://www.amazon.in/Intern-INT-38C-SB-G-Guitar-Kit-Sunburst/dp/B07K8WLPLH/ref=sr_1_45?crid=6A0AG3SRDPEU&keywords=guitar&qid=1658834322&sprefix=%2Caps%2C197&sr=8-45',\n",
       " 'https://www.amazon.in/KREEPO-Fretboard-Fingerboard-Acoustic-Electric-Multicolor/dp/B09DWY4ZK2/ref=sr_1_46?crid=6A0AG3SRDPEU&keywords=guitar&qid=1658834322&sprefix=%2Caps%2C197&sr=8-46',\n",
       " 'https://www.amazon.in/Henrix-Handed-Cutway-Acoustic-Polishing/dp/B08R3DKYGM/ref=sr_1_47?crid=6A0AG3SRDPEU&keywords=guitar&qid=1658834322&sprefix=%2Caps%2C197&sr=8-47',\n",
       " 'https://www.amazon.in/Medellin-Acoustic-specailized-learning-beginners/dp/B09MSH3RY1/ref=sr_1_48?crid=6A0AG3SRDPEU&keywords=guitar&qid=1658834322&sprefix=%2Caps%2C197&sr=8-48',\n",
       " 'https://www.amazon.in/DEVICE-URBAN-INFOTECH-Accurate-Acoustic/dp/B08BZXMJTP/ref=sr_1_49?crid=6A0AG3SRDPEU&keywords=guitar&qid=1658834322&sprefix=%2Caps%2C197&sr=8-49',\n",
       " 'https://www.amazon.in/Acoustic-stability-professional-amplificaiton-Sunburst/dp/B09YH8TVW7/ref=sr_1_50?crid=6A0AG3SRDPEU&keywords=guitar&qid=1658834322&sprefix=%2Caps%2C197&sr=8-50',\n",
       " 'https://www.amazon.in/Juarez-Strings-Acoustic-Cutaway-Zebrawood/dp/B072Q9L8DG/ref=sr_1_51?crid=6A0AG3SRDPEU&keywords=guitar&qid=1658834322&sprefix=%2Caps%2C197&sr=8-51',\n",
       " 'https://www.amazon.in/Fender-Classic-Design-Dreadnought-Acoustic/dp/B07HYS18LJ/ref=sr_1_52?crid=6A0AG3SRDPEU&keywords=guitar&qid=1658834322&sprefix=%2Caps%2C197&sr=8-52',\n",
       " 'https://www.amazon.in/JUAREZ-JRZ38C-Handed-Acoustic-Strings/dp/B01FYYTDW2/ref=sr_1_53?crid=6A0AG3SRDPEU&keywords=guitar&qid=1658834322&sprefix=%2Caps%2C197&sr=8-53',\n",
       " 'https://www.amazon.in/Blueberry-Acoustic-Inbuilt-Strings-Classic/dp/B09VLF8B8G/ref=sr_1_54?crid=6A0AG3SRDPEU&keywords=guitar&qid=1658834322&sprefix=%2Caps%2C197&sr=8-54',\n",
       " 'https://www.amazon.in/Blueberry-38C-Acoustic-Guitar-Strings/dp/B08KLMV4XX/ref=sr_1_55?crid=6A0AG3SRDPEU&keywords=guitar&qid=1658834322&sprefix=%2Caps%2C197&sr=8-55',\n",
       " 'https://www.amazon.in/Carlton-Rosewood-Fretboard-Acoustic-K-Retail/dp/B07KK8P9VB/ref=sr_1_56?crid=6A0AG3SRDPEU&keywords=guitar&qid=1658834322&sprefix=%2Caps%2C197&sr=8-56',\n",
       " 'https://www.amazon.in/gp/slredirect/picassoRedirect.html/ref=pa_sp_btf_aps_sr_pg1_1?ie=UTF8&adId=A00513451NPSOUKP9NKFP&url=%2FBlueberry-Acoustic-Inbuilt-Strings-Classic%2Fdp%2FB09VLF7G2D%2Fref%3Dsr_1_57_sspa%3Fcrid%3D6A0AG3SRDPEU%26keywords%3Dguitar%26qid%3D1658834322%26sprefix%3D%252Caps%252C197%26sr%3D8-57-spons%26psc%3D1&qualifier=1658834322&id=8720814167435473&widgetName=sp_btf',\n",
       " 'https://www.amazon.in/gp/slredirect/picassoRedirect.html/ref=pa_sp_btf_aps_sr_pg1_1?ie=UTF8&adId=A0147244MADOPX3B1N69&url=%2FYamaha-6-Strings-Acoustic-Natural-Plectrums%2Fdp%2FB07MK3FNX3%2Fref%3Dsr_1_58_sspa%3Fcrid%3D6A0AG3SRDPEU%26keywords%3Dguitar%26qid%3D1658834322%26sprefix%3D%252Caps%252C197%26sr%3D8-58-spons%26psc%3D1%26smid%3DA132BBHT5BYNA5&qualifier=1658834322&id=8720814167435473&widgetName=sp_btf',\n",
       " 'https://www.amazon.in/gp/slredirect/picassoRedirect.html/ref=pa_sp_btf_aps_sr_pg1_1?ie=UTF8&adId=A08790022Y5TKL7GOFMBU&url=%2FCort-AD810-Dreadnought-Acoustic-Guitar%2Fdp%2FB07KMBVR6V%2Fref%3Dsr_1_59_sspa%3Fcrid%3D6A0AG3SRDPEU%26keywords%3Dguitar%26qid%3D1658834322%26sprefix%3D%252Caps%252C197%26sr%3D8-59-spons%26psc%3D1&qualifier=1658834322&id=8720814167435473&widgetName=sp_btf',\n",
       " 'https://www.amazon.in/gp/slredirect/picassoRedirect.html/ref=pa_sp_btf_aps_sr_pg1_1?ie=UTF8&adId=A0405872A4XB9J6KU616&url=%2FClassical-Childrens-Instrument-Educational-Beginners%2Fdp%2FB0B6R8PV79%2Fref%3Dsr_1_60_sspa%3Fcrid%3D6A0AG3SRDPEU%26keywords%3Dguitar%26qid%3D1658834322%26sprefix%3D%252Caps%252C197%26sr%3D8-60-spons%26psc%3D1&qualifier=1658834322&id=8720814167435473&widgetName=sp_btf']"
      ]
     },
     "execution_count": 55,
     "metadata": {},
     "output_type": "execute_result"
    }
   ],
   "source": [
    "prod_opening_url"
   ]
  },
  {
   "cell_type": "code",
   "execution_count": 64,
   "id": "16d05fea",
   "metadata": {},
   "outputs": [
    {
     "data": {
      "text/plain": [
       "['',\n",
       " '',\n",
       " '',\n",
       " '',\n",
       " '',\n",
       " '',\n",
       " '',\n",
       " '',\n",
       " '',\n",
       " '',\n",
       " '',\n",
       " '',\n",
       " '',\n",
       " '',\n",
       " '',\n",
       " '',\n",
       " '',\n",
       " '',\n",
       " '',\n",
       " '']"
      ]
     },
     "execution_count": 64,
     "metadata": {},
     "output_type": "execute_result"
    }
   ],
   "source": [
    "brand_tag=driver.find_elements(By.XPATH,'//span[@class=\"a-size-base\"]')\n",
    "\n",
    "\n",
    "brand_name = []\n",
    "\n",
    "for i in brand_tag:\n",
    "\n",
    "    brand_name.append(i.text)\n",
    "    \n",
    "brand_name"
   ]
  },
  {
   "cell_type": "code",
   "execution_count": 69,
   "id": "650f5c02",
   "metadata": {},
   "outputs": [
    {
     "data": {
      "text/plain": [
       "[]"
      ]
     },
     "execution_count": 69,
     "metadata": {},
     "output_type": "execute_result"
    }
   ],
   "source": [
    "prod_tag=driver.find_elements(By.XPATH,'//p[@class=\"a-text-left a-size-base\"]')\n",
    "\n",
    "\n",
    "prod_name = []\n",
    "\n",
    "for i in prod_tag:\n",
    "\n",
    "    prod_name.append(i.text)\n",
    "    \n",
    "prod_name"
   ]
  },
  {
   "cell_type": "code",
   "execution_count": 59,
   "id": "ff74a2e0",
   "metadata": {},
   "outputs": [
    {
     "data": {
      "text/plain": [
       "['9,999',\n",
       " '4,582',\n",
       " '7,348',\n",
       " '2,490',\n",
       " '2,695',\n",
       " '2,099',\n",
       " '2,190',\n",
       " '2,639',\n",
       " '6,630',\n",
       " '12,800',\n",
       " '9,990',\n",
       " '',\n",
       " '',\n",
       " '2,999',\n",
       " '2,090',\n",
       " '2,350',\n",
       " '7,200',\n",
       " '4,066',\n",
       " '2,374',\n",
       " '5,499',\n",
       " '2,639',\n",
       " '2,350',\n",
       " '4,999',\n",
       " '2,490',\n",
       " '2,119',\n",
       " '2,249',\n",
       " '999',\n",
       " '899',\n",
       " '7,219',\n",
       " '899',\n",
       " '5,699',\n",
       " '2,090',\n",
       " '1,999',\n",
       " '2,269',\n",
       " '5,739',\n",
       " '2,249',\n",
       " '2,230',\n",
       " '2,290',\n",
       " '1,999',\n",
       " '2,249',\n",
       " '2,350',\n",
       " '3,601',\n",
       " '6,649',\n",
       " '2,695',\n",
       " '749',\n",
       " '159',\n",
       " '4,199',\n",
       " '4,799',\n",
       " '2,499',\n",
       " '2,390',\n",
       " '249',\n",
       " '2,849',\n",
       " '2,499',\n",
       " '789',\n",
       " '4,499',\n",
       " '2,249',\n",
       " '18,999',\n",
       " '2,971',\n",
       " '4,295',\n",
       " '2,695',\n",
       " '4,264',\n",
       " '4,295',\n",
       " '11,248',\n",
       " '1,549']"
      ]
     },
     "execution_count": 59,
     "metadata": {},
     "output_type": "execute_result"
    }
   ],
   "source": [
    "price_tag=driver.find_elements(By.XPATH,'//span[@class=\"a-price-whole\"]')\n",
    "\n",
    "\n",
    "prod_price = []\n",
    "\n",
    "for i in price_tag:\n",
    "\n",
    "    prod_price.append(i.text)\n",
    "    \n",
    "prod_price"
   ]
  },
  {
   "cell_type": "code",
   "execution_count": 62,
   "id": "a4c8091e",
   "metadata": {},
   "outputs": [
    {
     "ename": "TypeError",
     "evalue": "'str' object is not callable",
     "output_type": "error",
     "traceback": [
      "\u001b[1;31m---------------------------------------------------------------------------\u001b[0m",
      "\u001b[1;31mTypeError\u001b[0m                                 Traceback (most recent call last)",
      "\u001b[1;32m~\\AppData\\Local\\Temp/ipykernel_10912/2907755410.py\u001b[0m in \u001b[0;36m<module>\u001b[1;34m\u001b[0m\n\u001b[0;32m      5\u001b[0m \u001b[1;32mfor\u001b[0m \u001b[0mi\u001b[0m \u001b[1;32min\u001b[0m \u001b[0murl_tag\u001b[0m\u001b[1;33m:\u001b[0m\u001b[1;33m\u001b[0m\u001b[1;33m\u001b[0m\u001b[0m\n\u001b[0;32m      6\u001b[0m \u001b[1;33m\u001b[0m\u001b[0m\n\u001b[1;32m----> 7\u001b[1;33m     \u001b[0mproduct_url\u001b[0m\u001b[1;33m.\u001b[0m\u001b[0mappend\u001b[0m\u001b[1;33m(\u001b[0m\u001b[0mi\u001b[0m\u001b[1;33m.\u001b[0m\u001b[0mtext\u001b[0m\u001b[1;33m(\u001b[0m\u001b[1;34m'href'\u001b[0m\u001b[1;33m)\u001b[0m\u001b[1;33m)\u001b[0m\u001b[1;33m\u001b[0m\u001b[1;33m\u001b[0m\u001b[0m\n\u001b[0m\u001b[0;32m      8\u001b[0m \u001b[1;33m\u001b[0m\u001b[0m\n\u001b[0;32m      9\u001b[0m \u001b[0mproduct_url\u001b[0m\u001b[1;33m\u001b[0m\u001b[1;33m\u001b[0m\u001b[0m\n",
      "\u001b[1;31mTypeError\u001b[0m: 'str' object is not callable"
     ]
    }
   ],
   "source": [
    "url_tag = driver.find_elements(By.XPATH,'//a[@class=\"a-link-normal s-underline-text s-underline-link-text s-link-style a-text-normal\"]')\n",
    "\n",
    "product_url = []\n",
    "\n",
    "for i in url_tag:\n",
    "\n",
    "    product_url.append(i.text)\n",
    "    \n",
    "product_url"
   ]
  },
  {
   "cell_type": "code",
   "execution_count": 66,
   "id": "d27b93b1",
   "metadata": {},
   "outputs": [
    {
     "data": {
      "text/plain": [
       "[]"
      ]
     },
     "execution_count": 66,
     "metadata": {},
     "output_type": "execute_result"
    }
   ],
   "source": [
    "Retex_tag = driver.find_elements(By.XPATH,'//span[@class=\"a-text-bold\"]')\n",
    "\n",
    "return_exchange = []\n",
    "\n",
    "for i in Retex_tag:\n",
    "\n",
    "    return_exchange.append(i.text)\n",
    "    \n",
    "return_exchange"
   ]
  },
  {
   "cell_type": "code",
   "execution_count": 67,
   "id": "aa44681d",
   "metadata": {},
   "outputs": [
    {
     "data": {
      "text/plain": [
       "[]"
      ]
     },
     "execution_count": 67,
     "metadata": {},
     "output_type": "execute_result"
    }
   ],
   "source": [
    "del_tag = driver.find_elements(By.XPATH,'//span[@class=\"a-text-bold\"]')\n",
    "\n",
    "return_exchange = []\n",
    "\n",
    "for i in Retex_tag:\n",
    "\n",
    "    return_exchange.append(i.text)\n",
    "    \n",
    "return_exchange"
   ]
  },
  {
   "cell_type": "code",
   "execution_count": 68,
   "id": "f5edb06d",
   "metadata": {},
   "outputs": [
    {
     "data": {
      "text/plain": [
       "[]"
      ]
     },
     "execution_count": 68,
     "metadata": {},
     "output_type": "execute_result"
    }
   ],
   "source": [
    "avail_tag = driver.find_elements(By.XPATH,'//span[@class=\"a-size-medium a-color-success\"]')\n",
    "\n",
    "availability = []\n",
    "\n",
    "for i in avail_tag:\n",
    "\n",
    "    availability.append(i.text)\n",
    "    \n",
    "availability"
   ]
  },
  {
   "cell_type": "code",
   "execution_count": null,
   "id": "055669cb",
   "metadata": {},
   "outputs": [],
   "source": []
  }
 ],
 "metadata": {
  "kernelspec": {
   "display_name": "Python 3 (ipykernel)",
   "language": "python",
   "name": "python3"
  },
  "language_info": {
   "codemirror_mode": {
    "name": "ipython",
    "version": 3
   },
   "file_extension": ".py",
   "mimetype": "text/x-python",
   "name": "python",
   "nbconvert_exporter": "python",
   "pygments_lexer": "ipython3",
   "version": "3.9.7"
  }
 },
 "nbformat": 4,
 "nbformat_minor": 5
}
