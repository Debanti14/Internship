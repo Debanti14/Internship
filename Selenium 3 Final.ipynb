{
 "cells": [
  {
   "cell_type": "markdown",
   "id": "280af882",
   "metadata": {},
   "source": [
    "1. Write a python program which searches all the product under a particular product from www.amazon.in. \n",
    "The product to be searched will be taken as input from user. For e.g. If user input is ‘guitar’. Then search \n",
    "for guitars"
   ]
  },
  {
   "cell_type": "code",
   "execution_count": 1,
   "id": "0a74d8f6",
   "metadata": {},
   "outputs": [],
   "source": [
    "import selenium\n",
    "from selenium import webdriver\n",
    "import re\n",
    "from selenium.webdriver.common.by import By\n",
    "from selenium.webdriver.common.keys import Keys\n",
    "\n",
    "import time\n",
    "from bs4 import BeautifulSoup\n",
    "\n",
    "from selenium.common.exceptions import ElementNotInteractableException\n",
    "\n",
    "import requests\n",
    "\n",
    "import pandas as pd\n",
    "import warnings\n",
    "warnings.filterwarnings(\"ignore\")"
   ]
  },
  {
   "cell_type": "code",
   "execution_count": 2,
   "id": "732d8323",
   "metadata": {},
   "outputs": [],
   "source": [
    "driver = webdriver.Chrome()\n",
    "driver.get('https://www.amazon.in/')\n",
    "\n",
    "# give some time to load the webpage\n",
    "time.sleep(2)"
   ]
  },
  {
   "cell_type": "code",
   "execution_count": 3,
   "id": "fe853b62",
   "metadata": {},
   "outputs": [
    {
     "data": {
      "text/plain": [
       "<selenium.webdriver.remote.webelement.WebElement (session=\"f063826baa9277b05728a8236ba3d6c8\", element=\"09a74dd0-54f8-4acd-bd55-9803a36622fd\")>"
      ]
     },
     "execution_count": 3,
     "metadata": {},
     "output_type": "execute_result"
    }
   ],
   "source": [
    "search_prod = driver.find_element(By.XPATH,'//input[@type=\"text\"]')\n",
    "search_prod"
   ]
  },
  {
   "cell_type": "code",
   "execution_count": 4,
   "id": "b3438b15",
   "metadata": {},
   "outputs": [
    {
     "name": "stdout",
     "output_type": "stream",
     "text": [
      "Enter Product:  guitar\n"
     ]
    }
   ],
   "source": [
    "prod=input(\"Enter Product:  \")"
   ]
  },
  {
   "cell_type": "code",
   "execution_count": 5,
   "id": "a86a6e43",
   "metadata": {},
   "outputs": [],
   "source": [
    "search_prod.send_keys(prod)"
   ]
  },
  {
   "cell_type": "code",
   "execution_count": 6,
   "id": "ae4ea27e",
   "metadata": {},
   "outputs": [
    {
     "data": {
      "text/plain": [
       "<selenium.webdriver.remote.webelement.WebElement (session=\"f063826baa9277b05728a8236ba3d6c8\", element=\"92d465f0-c8ad-4d38-af52-466e67d8de12\")>"
      ]
     },
     "execution_count": 6,
     "metadata": {},
     "output_type": "execute_result"
    }
   ],
   "source": [
    "go_btn = driver.find_element(By.XPATH,\"/html/body/div[1]/header/div/div[1]/div[2]/div/form/div[3]/div\")\n",
    "go_btn"
   ]
  },
  {
   "cell_type": "code",
   "execution_count": 7,
   "id": "12cd57d3",
   "metadata": {},
   "outputs": [],
   "source": [
    "go_btn.click()"
   ]
  },
  {
   "cell_type": "markdown",
   "id": "8255732e",
   "metadata": {},
   "source": [
    "2. In the above question, now scrape the following details of each product listed in first 3 pages of your \n",
    "search results and save it in a data frame and csv. In case if any product has less than 3 pages in search \n",
    "results then scrape all the products available under that product name. Details to be scraped are: \"Brand \n",
    "Name\", \"Name of the Product\", \"Price\", \"Return/Exchange\", \"Expected Delivery\", \"Availability\" and \n",
    "“Product URL”. In case, if any of the details are missing for any of the product then replace it by “-“."
   ]
  },
  {
   "cell_type": "code",
   "execution_count": 17,
   "id": "38db61f2",
   "metadata": {},
   "outputs": [],
   "source": [
    "prod_opening_url=[]\n",
    "\n",
    "start=0\n",
    "end=2\n",
    "for page in range(start,end):\n",
    "    url=driver.find_elements(By.XPATH,'//a[@class=\"a-link-normal s-underline-text s-underline-link-text s-link-style a-text-normal\"]')\n",
    "    for i in url:\n",
    "        prod_opening_url.append(i.get_attribute('href'))\n",
    "    \n",
    "    nxt_button=driver.find_elements(By.XPATH,'/html/body/div[1]/div[2]/div[1]/div[1]/div/span[3]/div[2]/div[57]/div/div/span/a[8]')     #scraping the list of buttons from the page\n",
    "\n",
    "    nxt_button"
   ]
  },
  {
   "cell_type": "code",
   "execution_count": 18,
   "id": "0c1f007c",
   "metadata": {},
   "outputs": [
    {
     "data": {
      "text/plain": [
       "102"
      ]
     },
     "execution_count": 18,
     "metadata": {},
     "output_type": "execute_result"
    }
   ],
   "source": [
    "len(prod_opening_url)"
   ]
  },
  {
   "cell_type": "code",
   "execution_count": 19,
   "id": "f04863ed",
   "metadata": {},
   "outputs": [
    {
     "data": {
      "text/plain": [
       "['https://www.amazon.in/gp/slredirect/picassoRedirect.html/ref=pa_sp_atf_next_aps_sr_pg5_1?ie=UTF8&adId=A04293873MEHE1OBRQ1U4&url=%2FFestra-Trussrod-Acoustic-Guitar-Strings%2Fdp%2FB09VLBKD2M%2Fref%3Dsr_1_193_sspa%3Fcrid%3D3FENQPM073WZX%26keywords%3Dguitar%26qid%3D1658932933%26sprefix%3D%252Caps%252C224%26sr%3D8-193-spons%26psc%3D1&qualifier=1658932933&id=352867717866155&widgetName=sp_atf_next',\n",
       " 'https://www.amazon.in/gp/slredirect/picassoRedirect.html/ref=pa_sp_atf_next_aps_sr_pg5_1?ie=UTF8&adId=A079017826XT5B61KZ9NU&url=%2FBlueberry-B-D38-Acoustic-Inbuilt-Sunburst%2Fdp%2FB07PFPRHMG%2Fref%3Dsr_1_194_sspa%3Fcrid%3D3FENQPM073WZX%26keywords%3Dguitar%26qid%3D1658932933%26sprefix%3D%252Caps%252C224%26sr%3D8-194-spons%26psc%3D1&qualifier=1658932933&id=352867717866155&widgetName=sp_atf_next',\n",
       " 'https://www.amazon.in/gp/slredirect/picassoRedirect.html/ref=pa_sp_atf_next_aps_sr_pg5_1?ie=UTF8&adId=A00511333B6LTZW3VVAX9&url=%2FBlueberry-Trussrod-Acoustic-Guitar-Sunburst%2Fdp%2FB08WH5553T%2Fref%3Dsr_1_195_sspa%3Fcrid%3D3FENQPM073WZX%26keywords%3Dguitar%26qid%3D1658932933%26sprefix%3D%252Caps%252C224%26sr%3D8-195-spons%26psc%3D1&qualifier=1658932933&id=352867717866155&widgetName=sp_atf_next',\n",
       " 'https://www.amazon.in/JUAREZ-JRZ-HSS01-ELECTRIC-GUITAR-SUNBURST/dp/B08QNVNM1Z/ref=sr_1_196?crid=3FENQPM073WZX&keywords=guitar&qid=1658932933&sprefix=%2Caps%2C224&sr=8-196',\n",
       " 'https://www.amazon.in/Medellin-Acoustic-Guitar-Online-Learning/dp/B0B3XFYZT6/ref=sr_1_197?crid=3FENQPM073WZX&keywords=guitar&qid=1658932933&sprefix=%2Caps%2C224&sr=8-197',\n",
       " 'https://www.amazon.in/WorldCare%C2%AE-Training-practguzhengstrength-Instrument-Accessories/dp/B09MSC7554/ref=sr_1_198?crid=3FENQPM073WZX&keywords=guitar&qid=1658932933&sprefix=%2Caps%2C224&sr=8-198',\n",
       " 'https://www.amazon.in/Fender-961701006-Dreadnought-Acoustic-Guitar/dp/B01N150KHV/ref=sr_1_199?crid=3FENQPM073WZX&keywords=guitar&qid=1658932933&sprefix=%2Caps%2C224&sr=8-199',\n",
       " 'https://www.amazon.in/KREEPO-Fretboard-Fingerboard-Embossed-Trapezium/dp/B09DWZS1JZ/ref=sr_1_200?crid=3FENQPM073WZX&keywords=guitar&qid=1658932933&sprefix=%2Caps%2C224&sr=8-200',\n",
       " 'https://www.amazon.in/Kadence-Acoustica-Mahagony-Handed-Acoustic/dp/B07GS7N6TG/ref=sr_1_201?crid=3FENQPM073WZX&keywords=guitar&qid=1658932933&sprefix=%2Caps%2C224&sr=8-201',\n",
       " 'https://www.amazon.in/JUAREZ-Arp%C3%A9ggio-Acoustic-Guitar-Spruce/dp/B08KHFGKWJ/ref=sr_1_202?crid=3FENQPM073WZX&keywords=guitar&qid=1658932933&sprefix=%2Caps%2C224&sr=8-202',\n",
       " 'https://www.amazon.in/Mexa-Yamaha-Classic-Guitar-C40/dp/B08N5D8V57/ref=sr_1_193?crid=3FENQPM073WZX&keywords=guitar&qid=1658932933&sprefix=%2Caps%2C224&sr=8-193',\n",
       " 'https://www.amazon.in/Acoustic-plectrums-stability-resistance-Refreshing/dp/B09YH8FGL6/ref=sr_1_194?crid=3FENQPM073WZX&keywords=guitar&qid=1658932933&sprefix=%2Caps%2C224&sr=8-194',\n",
       " 'https://www.amazon.in/Kordz-Rosewood-Fretboard-Acoustic-Strings/dp/B09KGH7M5Q/ref=sr_1_195?crid=3FENQPM073WZX&keywords=guitar&qid=1658932933&sprefix=%2Caps%2C224&sr=8-195',\n",
       " 'https://www.amazon.in/Acoustic-Beginner-Acustica-Guitarra-Packaging/dp/B09JNVCKFR/ref=sr_1_196?crid=3FENQPM073WZX&keywords=guitar&qid=1658932933&sprefix=%2Caps%2C224&sr=8-196',\n",
       " 'https://www.amazon.in/Givsun-Special-6-String-Acoustic-Semi-Electric/dp/B07ZTX544K/ref=sr_1_197?crid=3FENQPM073WZX&keywords=guitar&qid=1658932933&sprefix=%2Caps%2C224&sr=8-197',\n",
       " 'https://www.amazon.in/Fender-Dread-String-Acoustic-Guitar/dp/B07RM21D8X/ref=sr_1_198?crid=3FENQPM073WZX&keywords=guitar&qid=1658932933&sprefix=%2Caps%2C224&sr=8-198',\n",
       " 'https://www.amazon.in/Perlman-Fretboard-Fingerboard-Stickers-Beginner/dp/B096ZDSWJ4/ref=sr_1_199?crid=3FENQPM073WZX&keywords=guitar&qid=1658932933&sprefix=%2Caps%2C224&sr=8-199',\n",
       " 'https://www.amazon.in/Yamaha-FS100C-6-Strings-Acoustic-Plectrums/dp/B085MFW67Z/ref=sr_1_200?crid=3FENQPM073WZX&keywords=guitar&qid=1658932933&sprefix=%2Caps%2C224&sr=8-200',\n",
       " 'https://www.amazon.in/RockJam-RJEG02-SK-BB-Electric-Guitar-Starter/dp/B0747TD557/ref=sr_1_201?crid=3FENQPM073WZX&keywords=guitar&qid=1658932933&sprefix=%2Caps%2C224&sr=8-201',\n",
       " 'https://www.amazon.in/Medellin-Acoustic-Guitar-Purple-Learning/dp/B09MSGPQ43/ref=sr_1_202?crid=3FENQPM073WZX&keywords=guitar&qid=1658932933&sprefix=%2Caps%2C224&sr=8-202',\n",
       " 'https://www.amazon.in/Ibanez-Acoustic-Guitar-Handed-Cutaway/dp/B08FMW8KVY/ref=sr_1_203?crid=3FENQPM073WZX&keywords=guitar&qid=1658932933&sprefix=%2Caps%2C224&sr=8-203',\n",
       " 'https://www.amazon.in/Givson-Ketostics-SUNBRUST-Acoustic-Plectrums/dp/B08KS4F33Q/ref=sr_1_204?crid=3FENQPM073WZX&keywords=guitar&qid=1658932933&sprefix=%2Caps%2C224&sr=8-204',\n",
       " 'https://www.amazon.in/4-string-acoustic-guitar-learning-18-Multi/dp/B09BX2Y9P1/ref=sr_1_205?crid=3FENQPM073WZX&keywords=guitar&qid=1658932933&sprefix=%2Caps%2C224&sr=8-205',\n",
       " 'https://www.amazon.in/Ibanez-RGA42FM-Electric-Guitar/dp/B083TQ6351/ref=sr_1_206?crid=3FENQPM073WZX&keywords=guitar&qid=1658932933&sprefix=%2Caps%2C224&sr=8-206',\n",
       " 'https://www.amazon.in/Kadence-Astro-Man-Electric-Guitar/dp/B07GNL3G5Z/ref=sr_1_207?crid=3FENQPM073WZX&keywords=guitar&qid=1658932933&sprefix=%2Caps%2C224&sr=8-207',\n",
       " 'https://www.amazon.in/NM-Signature-Rosewood-Fretboard-Acoustic/dp/B09X5B99PD/ref=sr_1_208?crid=3FENQPM073WZX&keywords=guitar&qid=1658932933&sprefix=%2Caps%2C224&sr=8-208',\n",
       " 'https://www.amazon.in/Fender-String-Beginner-Acoustic-Guitar/dp/B07BCN6FFH/ref=sr_1_209?crid=3FENQPM073WZX&keywords=guitar&qid=1658932933&sprefix=%2Caps%2C224&sr=8-209',\n",
       " 'https://www.amazon.in/Medellin-Premium-Acoustic-Guitar-Starter/dp/B099MSYF1H/ref=sr_1_210?crid=3FENQPM073WZX&keywords=guitar&qid=1658932933&sprefix=%2Caps%2C224&sr=8-210',\n",
       " 'https://www.amazon.in/Fender-0971110021-Dreadnought-Acoustic-Natural/dp/B07BCTL1MG/ref=sr_1_211?crid=3FENQPM073WZX&keywords=guitar&qid=1658932933&sprefix=%2Caps%2C224&sr=8-211',\n",
       " 'https://www.amazon.in/JUAREZ-Arpeggio-Semi-Acoustic-Rosewood-Fretboard/dp/B08LBG3F36/ref=sr_1_212?crid=3FENQPM073WZX&keywords=guitar&qid=1658932933&sprefix=%2Caps%2C224&sr=8-212',\n",
       " 'https://www.amazon.in/Generic-Shivay-Guitar-Musical/dp/B09RH42V8Z/ref=sr_1_213?crid=3FENQPM073WZX&keywords=guitar&qid=1658932933&sprefix=%2Caps%2C224&sr=8-213',\n",
       " 'https://www.amazon.in/Techno-Acoustic-Guitar-TM-41P-Blue/dp/B0B3TFPJXX/ref=sr_1_214?crid=3FENQPM073WZX&keywords=guitar&qid=1658932933&sprefix=%2Caps%2C224&sr=8-214',\n",
       " 'https://www.amazon.in/215-Rosewood-Fretboard-Acoustic-Strings/dp/B08VHCTC8H/ref=sr_1_215?crid=3FENQPM073WZX&keywords=guitar&qid=1658932933&sprefix=%2Caps%2C224&sr=8-215',\n",
       " 'https://www.amazon.in/JUAREZ-Arpeggio-Guitar-JRA41SP-RD-K-red/dp/B08MW8CWG8/ref=sr_1_216?crid=3FENQPM073WZX&keywords=guitar&qid=1658932933&sprefix=%2Caps%2C224&sr=8-216',\n",
       " 'https://www.amazon.in/Fender-60S-Dreadnought-Acoustic-Guitar/dp/B01N4RZJ5P/ref=sr_1_217?crid=3FENQPM073WZX&keywords=guitar&qid=1658932933&sprefix=%2Caps%2C224&sr=8-217',\n",
       " 'https://www.amazon.in/Cort-AF515CE-Electro-Acoustic-Guitar/dp/B08DP67FKP/ref=sr_1_218?crid=3FENQPM073WZX&keywords=guitar&qid=1658932933&sprefix=%2Caps%2C224&sr=8-218',\n",
       " 'https://www.amazon.in/Laxmi-Musical-Electronics-Acoustic-Instruments/dp/B08X4KD6P1/ref=sr_1_219?crid=3FENQPM073WZX&keywords=guitar&qid=1658932933&sprefix=%2Caps%2C224&sr=8-219',\n",
       " 'https://www.amazon.in/Replacement-Variable-Complete-Excellent-Mandolins/dp/B09KTJMD7D/ref=sr_1_220?crid=3FENQPM073WZX&keywords=guitar&qid=1658932933&sprefix=%2Caps%2C224&sr=8-220',\n",
       " 'https://www.amazon.in/Signature-original-Acoustic-Guitar-Orange/dp/B09WCHJH7T/ref=sr_1_221?crid=3FENQPM073WZX&keywords=guitar&qid=1658932933&sprefix=%2Caps%2C224&sr=8-221',\n",
       " 'https://www.amazon.in/Acoustic-plectrums-stability-age-groups-Refreshing/dp/B09YH89RVZ/ref=sr_1_222?crid=3FENQPM073WZX&keywords=guitar&qid=1658932933&sprefix=%2Caps%2C224&sr=8-222',\n",
       " 'https://www.amazon.in/Ibanez-PF15-BK-Acoustic-Guitar/dp/B00Y9OXOUQ/ref=sr_1_223?crid=3FENQPM073WZX&keywords=guitar&qid=1658932933&sprefix=%2Caps%2C224&sr=8-223',\n",
       " 'https://www.amazon.in/Kadence-A311-6-strings-Acoustic-Guitar/dp/B09BN1MN2T/ref=sr_1_224?crid=3FENQPM073WZX&keywords=guitar&qid=1658932933&sprefix=%2Caps%2C224&sr=8-224',\n",
       " 'https://www.amazon.in/Fender-310005532-Stratocaster-Electric-6-Strings/dp/B003AQ1PZU/ref=sr_1_225?crid=3FENQPM073WZX&keywords=guitar&qid=1658932933&sprefix=%2Caps%2C224&sr=8-225',\n",
       " 'https://www.amazon.in/Vault-Jazz-Bass-4-String-Guitar/dp/B09ZXGM7C3/ref=sr_1_226?crid=3FENQPM073WZX&keywords=guitar&qid=1658932933&sprefix=%2Caps%2C224&sr=8-226',\n",
       " 'https://www.amazon.in/JUAREZ-Arpeggio-Semi-Acoustic-Rosewood-Fretboard/dp/B08LBGWG6P/ref=sr_1_227?crid=3FENQPM073WZX&keywords=guitar&qid=1658932933&sprefix=%2Caps%2C224&sr=8-227',\n",
       " 'https://www.amazon.in/Ketostics-Acoustic-Guitar-string-plactrums/dp/B07SYYQYST/ref=sr_1_228?crid=3FENQPM073WZX&keywords=guitar&qid=1658932933&sprefix=%2Caps%2C224&sr=8-228',\n",
       " 'https://www.amazon.in/Medellin-Acoustic-Guitar-Online-Learning/dp/B0B3XDNWHH/ref=sr_1_229?crid=3FENQPM073WZX&keywords=guitar&qid=1658932933&sprefix=%2Caps%2C224&sr=8-229',\n",
       " 'https://www.amazon.in/Kadence-Classical-Acoustic-Beginner-Professional/dp/B09V2SPSDX/ref=sr_1_230?crid=3FENQPM073WZX&keywords=guitar&qid=1658932933&sprefix=%2Caps%2C224&sr=8-230',\n",
       " 'https://www.amazon.in/HRB-MUSICALS-1saddle-guitar-bridge/dp/B09LKBLT4Q/ref=sr_1_231?crid=3FENQPM073WZX&keywords=guitar&qid=1658932933&sprefix=%2Caps%2C224&sr=8-231',\n",
       " 'https://www.amazon.in/Walden-Acoustic-Auditorium-Tobacco-G570ETB/dp/B086XG5YLJ/ref=sr_1_232?crid=3FENQPM073WZX&keywords=guitar&qid=1658932933&sprefix=%2Caps%2C224&sr=8-232',\n",
       " 'https://www.amazon.in/Hertz-4010-Aoustic-Guitar-Natural/dp/B077MDJXLZ/ref=sr_1_233?crid=3FENQPM073WZX&keywords=guitar&qid=1658932933&sprefix=%2Caps%2C224&sr=8-233',\n",
       " 'https://www.amazon.in/gp/slredirect/picassoRedirect.html/ref=pa_sp_atf_next_aps_sr_pg5_1?ie=UTF8&adId=A04293873MEHE1OBRQ1U4&url=%2FFestra-Trussrod-Acoustic-Guitar-Strings%2Fdp%2FB09VLBKD2M%2Fref%3Dsr_1_193_sspa%3Fcrid%3D3FENQPM073WZX%26keywords%3Dguitar%26qid%3D1658932933%26sprefix%3D%252Caps%252C224%26sr%3D8-193-spons%26psc%3D1&qualifier=1658932933&id=352867717866155&widgetName=sp_atf_next',\n",
       " 'https://www.amazon.in/gp/slredirect/picassoRedirect.html/ref=pa_sp_atf_next_aps_sr_pg5_1?ie=UTF8&adId=A079017826XT5B61KZ9NU&url=%2FBlueberry-B-D38-Acoustic-Inbuilt-Sunburst%2Fdp%2FB07PFPRHMG%2Fref%3Dsr_1_194_sspa%3Fcrid%3D3FENQPM073WZX%26keywords%3Dguitar%26qid%3D1658932933%26sprefix%3D%252Caps%252C224%26sr%3D8-194-spons%26psc%3D1&qualifier=1658932933&id=352867717866155&widgetName=sp_atf_next',\n",
       " 'https://www.amazon.in/gp/slredirect/picassoRedirect.html/ref=pa_sp_atf_next_aps_sr_pg5_1?ie=UTF8&adId=A00511333B6LTZW3VVAX9&url=%2FBlueberry-Trussrod-Acoustic-Guitar-Sunburst%2Fdp%2FB08WH5553T%2Fref%3Dsr_1_195_sspa%3Fcrid%3D3FENQPM073WZX%26keywords%3Dguitar%26qid%3D1658932933%26sprefix%3D%252Caps%252C224%26sr%3D8-195-spons%26psc%3D1&qualifier=1658932933&id=352867717866155&widgetName=sp_atf_next',\n",
       " 'https://www.amazon.in/JUAREZ-JRZ-HSS01-ELECTRIC-GUITAR-SUNBURST/dp/B08QNVNM1Z/ref=sr_1_196?crid=3FENQPM073WZX&keywords=guitar&qid=1658932933&sprefix=%2Caps%2C224&sr=8-196',\n",
       " 'https://www.amazon.in/Medellin-Acoustic-Guitar-Online-Learning/dp/B0B3XFYZT6/ref=sr_1_197?crid=3FENQPM073WZX&keywords=guitar&qid=1658932933&sprefix=%2Caps%2C224&sr=8-197',\n",
       " 'https://www.amazon.in/WorldCare%C2%AE-Training-practguzhengstrength-Instrument-Accessories/dp/B09MSC7554/ref=sr_1_198?crid=3FENQPM073WZX&keywords=guitar&qid=1658932933&sprefix=%2Caps%2C224&sr=8-198',\n",
       " 'https://www.amazon.in/Fender-961701006-Dreadnought-Acoustic-Guitar/dp/B01N150KHV/ref=sr_1_199?crid=3FENQPM073WZX&keywords=guitar&qid=1658932933&sprefix=%2Caps%2C224&sr=8-199',\n",
       " 'https://www.amazon.in/KREEPO-Fretboard-Fingerboard-Embossed-Trapezium/dp/B09DWZS1JZ/ref=sr_1_200?crid=3FENQPM073WZX&keywords=guitar&qid=1658932933&sprefix=%2Caps%2C224&sr=8-200',\n",
       " 'https://www.amazon.in/Kadence-Acoustica-Mahagony-Handed-Acoustic/dp/B07GS7N6TG/ref=sr_1_201?crid=3FENQPM073WZX&keywords=guitar&qid=1658932933&sprefix=%2Caps%2C224&sr=8-201',\n",
       " 'https://www.amazon.in/JUAREZ-Arp%C3%A9ggio-Acoustic-Guitar-Spruce/dp/B08KHFGKWJ/ref=sr_1_202?crid=3FENQPM073WZX&keywords=guitar&qid=1658932933&sprefix=%2Caps%2C224&sr=8-202',\n",
       " 'https://www.amazon.in/Mexa-Yamaha-Classic-Guitar-C40/dp/B08N5D8V57/ref=sr_1_193?crid=3FENQPM073WZX&keywords=guitar&qid=1658932933&sprefix=%2Caps%2C224&sr=8-193',\n",
       " 'https://www.amazon.in/Acoustic-plectrums-stability-resistance-Refreshing/dp/B09YH8FGL6/ref=sr_1_194?crid=3FENQPM073WZX&keywords=guitar&qid=1658932933&sprefix=%2Caps%2C224&sr=8-194',\n",
       " 'https://www.amazon.in/Kordz-Rosewood-Fretboard-Acoustic-Strings/dp/B09KGH7M5Q/ref=sr_1_195?crid=3FENQPM073WZX&keywords=guitar&qid=1658932933&sprefix=%2Caps%2C224&sr=8-195',\n",
       " 'https://www.amazon.in/Acoustic-Beginner-Acustica-Guitarra-Packaging/dp/B09JNVCKFR/ref=sr_1_196?crid=3FENQPM073WZX&keywords=guitar&qid=1658932933&sprefix=%2Caps%2C224&sr=8-196',\n",
       " 'https://www.amazon.in/Givsun-Special-6-String-Acoustic-Semi-Electric/dp/B07ZTX544K/ref=sr_1_197?crid=3FENQPM073WZX&keywords=guitar&qid=1658932933&sprefix=%2Caps%2C224&sr=8-197',\n",
       " 'https://www.amazon.in/Fender-Dread-String-Acoustic-Guitar/dp/B07RM21D8X/ref=sr_1_198?crid=3FENQPM073WZX&keywords=guitar&qid=1658932933&sprefix=%2Caps%2C224&sr=8-198',\n",
       " 'https://www.amazon.in/Perlman-Fretboard-Fingerboard-Stickers-Beginner/dp/B096ZDSWJ4/ref=sr_1_199?crid=3FENQPM073WZX&keywords=guitar&qid=1658932933&sprefix=%2Caps%2C224&sr=8-199',\n",
       " 'https://www.amazon.in/Yamaha-FS100C-6-Strings-Acoustic-Plectrums/dp/B085MFW67Z/ref=sr_1_200?crid=3FENQPM073WZX&keywords=guitar&qid=1658932933&sprefix=%2Caps%2C224&sr=8-200',\n",
       " 'https://www.amazon.in/RockJam-RJEG02-SK-BB-Electric-Guitar-Starter/dp/B0747TD557/ref=sr_1_201?crid=3FENQPM073WZX&keywords=guitar&qid=1658932933&sprefix=%2Caps%2C224&sr=8-201',\n",
       " 'https://www.amazon.in/Medellin-Acoustic-Guitar-Purple-Learning/dp/B09MSGPQ43/ref=sr_1_202?crid=3FENQPM073WZX&keywords=guitar&qid=1658932933&sprefix=%2Caps%2C224&sr=8-202',\n",
       " 'https://www.amazon.in/Ibanez-Acoustic-Guitar-Handed-Cutaway/dp/B08FMW8KVY/ref=sr_1_203?crid=3FENQPM073WZX&keywords=guitar&qid=1658932933&sprefix=%2Caps%2C224&sr=8-203',\n",
       " 'https://www.amazon.in/Givson-Ketostics-SUNBRUST-Acoustic-Plectrums/dp/B08KS4F33Q/ref=sr_1_204?crid=3FENQPM073WZX&keywords=guitar&qid=1658932933&sprefix=%2Caps%2C224&sr=8-204',\n",
       " 'https://www.amazon.in/4-string-acoustic-guitar-learning-18-Multi/dp/B09BX2Y9P1/ref=sr_1_205?crid=3FENQPM073WZX&keywords=guitar&qid=1658932933&sprefix=%2Caps%2C224&sr=8-205',\n",
       " 'https://www.amazon.in/Ibanez-RGA42FM-Electric-Guitar/dp/B083TQ6351/ref=sr_1_206?crid=3FENQPM073WZX&keywords=guitar&qid=1658932933&sprefix=%2Caps%2C224&sr=8-206',\n",
       " 'https://www.amazon.in/Kadence-Astro-Man-Electric-Guitar/dp/B07GNL3G5Z/ref=sr_1_207?crid=3FENQPM073WZX&keywords=guitar&qid=1658932933&sprefix=%2Caps%2C224&sr=8-207',\n",
       " 'https://www.amazon.in/NM-Signature-Rosewood-Fretboard-Acoustic/dp/B09X5B99PD/ref=sr_1_208?crid=3FENQPM073WZX&keywords=guitar&qid=1658932933&sprefix=%2Caps%2C224&sr=8-208',\n",
       " 'https://www.amazon.in/Fender-String-Beginner-Acoustic-Guitar/dp/B07BCN6FFH/ref=sr_1_209?crid=3FENQPM073WZX&keywords=guitar&qid=1658932933&sprefix=%2Caps%2C224&sr=8-209',\n",
       " 'https://www.amazon.in/Medellin-Premium-Acoustic-Guitar-Starter/dp/B099MSYF1H/ref=sr_1_210?crid=3FENQPM073WZX&keywords=guitar&qid=1658932933&sprefix=%2Caps%2C224&sr=8-210',\n",
       " 'https://www.amazon.in/Fender-0971110021-Dreadnought-Acoustic-Natural/dp/B07BCTL1MG/ref=sr_1_211?crid=3FENQPM073WZX&keywords=guitar&qid=1658932933&sprefix=%2Caps%2C224&sr=8-211',\n",
       " 'https://www.amazon.in/JUAREZ-Arpeggio-Semi-Acoustic-Rosewood-Fretboard/dp/B08LBG3F36/ref=sr_1_212?crid=3FENQPM073WZX&keywords=guitar&qid=1658932933&sprefix=%2Caps%2C224&sr=8-212',\n",
       " 'https://www.amazon.in/Generic-Shivay-Guitar-Musical/dp/B09RH42V8Z/ref=sr_1_213?crid=3FENQPM073WZX&keywords=guitar&qid=1658932933&sprefix=%2Caps%2C224&sr=8-213',\n",
       " 'https://www.amazon.in/Techno-Acoustic-Guitar-TM-41P-Blue/dp/B0B3TFPJXX/ref=sr_1_214?crid=3FENQPM073WZX&keywords=guitar&qid=1658932933&sprefix=%2Caps%2C224&sr=8-214',\n",
       " 'https://www.amazon.in/215-Rosewood-Fretboard-Acoustic-Strings/dp/B08VHCTC8H/ref=sr_1_215?crid=3FENQPM073WZX&keywords=guitar&qid=1658932933&sprefix=%2Caps%2C224&sr=8-215',\n",
       " 'https://www.amazon.in/JUAREZ-Arpeggio-Guitar-JRA41SP-RD-K-red/dp/B08MW8CWG8/ref=sr_1_216?crid=3FENQPM073WZX&keywords=guitar&qid=1658932933&sprefix=%2Caps%2C224&sr=8-216',\n",
       " 'https://www.amazon.in/Fender-60S-Dreadnought-Acoustic-Guitar/dp/B01N4RZJ5P/ref=sr_1_217?crid=3FENQPM073WZX&keywords=guitar&qid=1658932933&sprefix=%2Caps%2C224&sr=8-217',\n",
       " 'https://www.amazon.in/Cort-AF515CE-Electro-Acoustic-Guitar/dp/B08DP67FKP/ref=sr_1_218?crid=3FENQPM073WZX&keywords=guitar&qid=1658932933&sprefix=%2Caps%2C224&sr=8-218',\n",
       " 'https://www.amazon.in/Laxmi-Musical-Electronics-Acoustic-Instruments/dp/B08X4KD6P1/ref=sr_1_219?crid=3FENQPM073WZX&keywords=guitar&qid=1658932933&sprefix=%2Caps%2C224&sr=8-219',\n",
       " 'https://www.amazon.in/Replacement-Variable-Complete-Excellent-Mandolins/dp/B09KTJMD7D/ref=sr_1_220?crid=3FENQPM073WZX&keywords=guitar&qid=1658932933&sprefix=%2Caps%2C224&sr=8-220',\n",
       " 'https://www.amazon.in/Signature-original-Acoustic-Guitar-Orange/dp/B09WCHJH7T/ref=sr_1_221?crid=3FENQPM073WZX&keywords=guitar&qid=1658932933&sprefix=%2Caps%2C224&sr=8-221',\n",
       " 'https://www.amazon.in/Acoustic-plectrums-stability-age-groups-Refreshing/dp/B09YH89RVZ/ref=sr_1_222?crid=3FENQPM073WZX&keywords=guitar&qid=1658932933&sprefix=%2Caps%2C224&sr=8-222',\n",
       " 'https://www.amazon.in/Ibanez-PF15-BK-Acoustic-Guitar/dp/B00Y9OXOUQ/ref=sr_1_223?crid=3FENQPM073WZX&keywords=guitar&qid=1658932933&sprefix=%2Caps%2C224&sr=8-223',\n",
       " 'https://www.amazon.in/Kadence-A311-6-strings-Acoustic-Guitar/dp/B09BN1MN2T/ref=sr_1_224?crid=3FENQPM073WZX&keywords=guitar&qid=1658932933&sprefix=%2Caps%2C224&sr=8-224',\n",
       " 'https://www.amazon.in/Fender-310005532-Stratocaster-Electric-6-Strings/dp/B003AQ1PZU/ref=sr_1_225?crid=3FENQPM073WZX&keywords=guitar&qid=1658932933&sprefix=%2Caps%2C224&sr=8-225',\n",
       " 'https://www.amazon.in/Vault-Jazz-Bass-4-String-Guitar/dp/B09ZXGM7C3/ref=sr_1_226?crid=3FENQPM073WZX&keywords=guitar&qid=1658932933&sprefix=%2Caps%2C224&sr=8-226',\n",
       " 'https://www.amazon.in/JUAREZ-Arpeggio-Semi-Acoustic-Rosewood-Fretboard/dp/B08LBGWG6P/ref=sr_1_227?crid=3FENQPM073WZX&keywords=guitar&qid=1658932933&sprefix=%2Caps%2C224&sr=8-227',\n",
       " 'https://www.amazon.in/Ketostics-Acoustic-Guitar-string-plactrums/dp/B07SYYQYST/ref=sr_1_228?crid=3FENQPM073WZX&keywords=guitar&qid=1658932933&sprefix=%2Caps%2C224&sr=8-228',\n",
       " 'https://www.amazon.in/Medellin-Acoustic-Guitar-Online-Learning/dp/B0B3XDNWHH/ref=sr_1_229?crid=3FENQPM073WZX&keywords=guitar&qid=1658932933&sprefix=%2Caps%2C224&sr=8-229',\n",
       " 'https://www.amazon.in/Kadence-Classical-Acoustic-Beginner-Professional/dp/B09V2SPSDX/ref=sr_1_230?crid=3FENQPM073WZX&keywords=guitar&qid=1658932933&sprefix=%2Caps%2C224&sr=8-230',\n",
       " 'https://www.amazon.in/HRB-MUSICALS-1saddle-guitar-bridge/dp/B09LKBLT4Q/ref=sr_1_231?crid=3FENQPM073WZX&keywords=guitar&qid=1658932933&sprefix=%2Caps%2C224&sr=8-231',\n",
       " 'https://www.amazon.in/Walden-Acoustic-Auditorium-Tobacco-G570ETB/dp/B086XG5YLJ/ref=sr_1_232?crid=3FENQPM073WZX&keywords=guitar&qid=1658932933&sprefix=%2Caps%2C224&sr=8-232',\n",
       " 'https://www.amazon.in/Hertz-4010-Aoustic-Guitar-Natural/dp/B077MDJXLZ/ref=sr_1_233?crid=3FENQPM073WZX&keywords=guitar&qid=1658932933&sprefix=%2Caps%2C224&sr=8-233']"
      ]
     },
     "execution_count": 19,
     "metadata": {},
     "output_type": "execute_result"
    }
   ],
   "source": [
    "prod_opening_url"
   ]
  },
  {
   "cell_type": "code",
   "execution_count": 24,
   "id": "a26fb1ef",
   "metadata": {},
   "outputs": [],
   "source": [
    "product_urls=[]\n",
    "\n",
    "# Extracting Brand from xpath\n",
    "\n",
    "for url in product_urls[0:10]:\n",
    "\n",
    "    driver.get(url)\n",
    "\n",
    "    time.sleep(10)\n",
    "\n",
    "    try:\n",
    "\n",
    "        brand = driver.find_element(By.XPATH,'//td[@class=\"a-span9\"]')      \n",
    "\n",
    "        Brand.append(brand.text)\n",
    "\n",
    "    except NoSuchElementException:\n",
    "\n",
    "        Brand.append('-') "
   ]
  },
  {
   "cell_type": "code",
   "execution_count": null,
   "id": "76f9b37b",
   "metadata": {},
   "outputs": [],
   "source": [
    "product_urls"
   ]
  },
  {
   "cell_type": "code",
   "execution_count": 25,
   "id": "f4dcacfb",
   "metadata": {},
   "outputs": [
    {
     "data": {
      "text/plain": [
       "[]"
      ]
     },
     "execution_count": 25,
     "metadata": {},
     "output_type": "execute_result"
    }
   ],
   "source": [
    "brand_tag=driver.find_elements(By.XPATH,'//span[@class=\"a-size-base\"]')\n",
    "\n",
    "\n",
    "brand_name = []\n",
    "\n",
    "for i in brand_tag:\n",
    "\n",
    "    brand_name.append(i.text)\n",
    "    \n",
    "brand_name"
   ]
  },
  {
   "cell_type": "code",
   "execution_count": 26,
   "id": "c524948f",
   "metadata": {},
   "outputs": [
    {
     "data": {
      "text/plain": [
       "[]"
      ]
     },
     "execution_count": 26,
     "metadata": {},
     "output_type": "execute_result"
    }
   ],
   "source": [
    "prod_tag=driver.find_elements(By.XPATH,'//p[@class=\"a-text-left a-size-base\"]')\n",
    "\n",
    "\n",
    "prod_name = []\n",
    "\n",
    "for i in prod_tag:\n",
    "\n",
    "    prod_name.append(i.text)\n",
    "    \n",
    "prod_name"
   ]
  },
  {
   "cell_type": "code",
   "execution_count": 27,
   "id": "7b8faf31",
   "metadata": {},
   "outputs": [
    {
     "data": {
      "text/plain": [
       "['6,999',\n",
       " '6,999',\n",
       " '',\n",
       " '4,295',\n",
       " '2,995',\n",
       " '2,895',\n",
       " '6,189',\n",
       " '3,299',\n",
       " '6,499',\n",
       " '18,999',\n",
       " '299',\n",
       " '6,499',\n",
       " '6,719',\n",
       " '9,699',\n",
       " '3,599',\n",
       " '3,690',\n",
       " '37,917',\n",
       " '4,289',\n",
       " '11,040',\n",
       " '399',\n",
       " '12,831',\n",
       " '8,630',\n",
       " '2,699',\n",
       " '8,799',\n",
       " '3,999',\n",
       " '799',\n",
       " '33,990',\n",
       " '6,999',\n",
       " '3,790',\n",
       " '12,644',\n",
       " '2,999',\n",
       " '12,002',\n",
       " '6,488',\n",
       " '240',\n",
       " '7,695',\n",
       " '4,066',\n",
       " '6,719',\n",
       " '18,620',\n",
       " '13,450',\n",
       " '699',\n",
       " '4,199',\n",
       " '12,715',\n",
       " '5,248',\n",
       " '11,900',\n",
       " '9,999',\n",
       " '6,488',\n",
       " '4,199',\n",
       " '3,299',\n",
       " '6,399',\n",
       " '179',\n",
       " '21,290',\n",
       " '6,800']"
      ]
     },
     "execution_count": 27,
     "metadata": {},
     "output_type": "execute_result"
    }
   ],
   "source": [
    "price_tag=driver.find_elements(By.XPATH,'//span[@class=\"a-price-whole\"]')\n",
    "\n",
    "\n",
    "prod_price = []\n",
    "\n",
    "for i in price_tag:\n",
    "\n",
    "    prod_price.append(i.text)\n",
    "    \n",
    "prod_price"
   ]
  },
  {
   "cell_type": "code",
   "execution_count": 28,
   "id": "336991e8",
   "metadata": {},
   "outputs": [
    {
     "ename": "TimeoutException",
     "evalue": "Message: timeout: Timed out receiving message from renderer: 300.000\n  (Session info: chrome=103.0.5060.134)\nStacktrace:\nBacktrace:\n\tOrdinal0 [0x00E56463+2188387]\n\tOrdinal0 [0x00DEE461+1762401]\n\tOrdinal0 [0x00D03D78+802168]\n\tOrdinal0 [0x00CF5E3A+745018]\n\tOrdinal0 [0x00CF4C28+740392]\n\tOrdinal0 [0x00CF5228+741928]\n\tOrdinal0 [0x00CFEF2F+782127]\n\tOrdinal0 [0x00D09FBB+827323]\n\tOrdinal0 [0x00D0D310+840464]\n\tOrdinal0 [0x00CF54F6+742646]\n\tOrdinal0 [0x00D09E05+826885]\n\tOrdinal0 [0x00D5CF6D+1167213]\n\tOrdinal0 [0x00D4C5F6+1099254]\n\tOrdinal0 [0x00D26BE0+945120]\n\tOrdinal0 [0x00D27AD6+948950]\n\tGetHandleVerifier [0x010F71F2+2712546]\n\tGetHandleVerifier [0x010E886D+2652765]\n\tGetHandleVerifier [0x00EE002A+520730]\n\tGetHandleVerifier [0x00EDEE06+516086]\n\tOrdinal0 [0x00DF468B+1787531]\n\tOrdinal0 [0x00DF8E88+1805960]\n\tOrdinal0 [0x00DF8F75+1806197]\n\tOrdinal0 [0x00E01DF1+1842673]\n\tBaseThreadInitThunk [0x75B36739+25]\n\tRtlGetFullPathName_UEx [0x77DE8FEF+1215]\n\tRtlGetFullPathName_UEx [0x77DE8FBD+1165]\n",
     "output_type": "error",
     "traceback": [
      "\u001b[1;31m---------------------------------------------------------------------------\u001b[0m",
      "\u001b[1;31mTimeoutException\u001b[0m                          Traceback (most recent call last)",
      "\u001b[1;32m~\\AppData\\Local\\Temp/ipykernel_13456/3040191795.py\u001b[0m in \u001b[0;36m<module>\u001b[1;34m\u001b[0m\n\u001b[0;32m      7\u001b[0m     \u001b[1;32mfor\u001b[0m \u001b[0murl\u001b[0m \u001b[1;32min\u001b[0m \u001b[0murls\u001b[0m\u001b[1;33m:\u001b[0m\u001b[1;33m\u001b[0m\u001b[1;33m\u001b[0m\u001b[0m\n\u001b[0;32m      8\u001b[0m \u001b[1;33m\u001b[0m\u001b[0m\n\u001b[1;32m----> 9\u001b[1;33m         \u001b[0mproduct_url\u001b[0m\u001b[1;33m.\u001b[0m\u001b[0mappend\u001b[0m\u001b[1;33m(\u001b[0m\u001b[0murl\u001b[0m\u001b[1;33m.\u001b[0m\u001b[0mget_attribute\u001b[0m\u001b[1;33m(\u001b[0m\u001b[1;34m\"href\"\u001b[0m\u001b[1;33m)\u001b[0m\u001b[1;33m)\u001b[0m\u001b[1;33m\u001b[0m\u001b[1;33m\u001b[0m\u001b[0m\n\u001b[0m\u001b[0;32m     10\u001b[0m \u001b[1;33m\u001b[0m\u001b[0m\n\u001b[0;32m     11\u001b[0m     \u001b[0mtime\u001b[0m\u001b[1;33m.\u001b[0m\u001b[0msleep\u001b[0m\u001b[1;33m(\u001b[0m\u001b[1;36m2\u001b[0m\u001b[1;33m)\u001b[0m\u001b[1;33m\u001b[0m\u001b[1;33m\u001b[0m\u001b[0m\n",
      "\u001b[1;32m~\\anaconda3\\lib\\site-packages\\selenium\\webdriver\\remote\\webelement.py\u001b[0m in \u001b[0;36mget_attribute\u001b[1;34m(self, name)\u001b[0m\n\u001b[0;32m    170\u001b[0m         \u001b[1;32mif\u001b[0m \u001b[0mgetAttribute_js\u001b[0m \u001b[1;32mis\u001b[0m \u001b[1;32mNone\u001b[0m\u001b[1;33m:\u001b[0m\u001b[1;33m\u001b[0m\u001b[1;33m\u001b[0m\u001b[0m\n\u001b[0;32m    171\u001b[0m             \u001b[0m_load_js\u001b[0m\u001b[1;33m(\u001b[0m\u001b[1;33m)\u001b[0m\u001b[1;33m\u001b[0m\u001b[1;33m\u001b[0m\u001b[0m\n\u001b[1;32m--> 172\u001b[1;33m         attribute_value = self.parent.execute_script(\n\u001b[0m\u001b[0;32m    173\u001b[0m             \u001b[1;34m\"return (%s).apply(null, arguments);\"\u001b[0m \u001b[1;33m%\u001b[0m \u001b[0mgetAttribute_js\u001b[0m\u001b[1;33m,\u001b[0m\u001b[1;33m\u001b[0m\u001b[1;33m\u001b[0m\u001b[0m\n\u001b[0;32m    174\u001b[0m             self, name)\n",
      "\u001b[1;32m~\\anaconda3\\lib\\site-packages\\selenium\\webdriver\\remote\\webdriver.py\u001b[0m in \u001b[0;36mexecute_script\u001b[1;34m(self, script, *args)\u001b[0m\n\u001b[0;32m    491\u001b[0m         \u001b[0mcommand\u001b[0m \u001b[1;33m=\u001b[0m \u001b[0mCommand\u001b[0m\u001b[1;33m.\u001b[0m\u001b[0mW3C_EXECUTE_SCRIPT\u001b[0m\u001b[1;33m\u001b[0m\u001b[1;33m\u001b[0m\u001b[0m\n\u001b[0;32m    492\u001b[0m \u001b[1;33m\u001b[0m\u001b[0m\n\u001b[1;32m--> 493\u001b[1;33m         return self.execute(command, {\n\u001b[0m\u001b[0;32m    494\u001b[0m             \u001b[1;34m'script'\u001b[0m\u001b[1;33m:\u001b[0m \u001b[0mscript\u001b[0m\u001b[1;33m,\u001b[0m\u001b[1;33m\u001b[0m\u001b[1;33m\u001b[0m\u001b[0m\n\u001b[0;32m    495\u001b[0m             'args': converted_args})['value']\n",
      "\u001b[1;32m~\\anaconda3\\lib\\site-packages\\selenium\\webdriver\\remote\\webdriver.py\u001b[0m in \u001b[0;36mexecute\u001b[1;34m(self, driver_command, params)\u001b[0m\n\u001b[0;32m    433\u001b[0m         \u001b[0mresponse\u001b[0m \u001b[1;33m=\u001b[0m \u001b[0mself\u001b[0m\u001b[1;33m.\u001b[0m\u001b[0mcommand_executor\u001b[0m\u001b[1;33m.\u001b[0m\u001b[0mexecute\u001b[0m\u001b[1;33m(\u001b[0m\u001b[0mdriver_command\u001b[0m\u001b[1;33m,\u001b[0m \u001b[0mparams\u001b[0m\u001b[1;33m)\u001b[0m\u001b[1;33m\u001b[0m\u001b[1;33m\u001b[0m\u001b[0m\n\u001b[0;32m    434\u001b[0m         \u001b[1;32mif\u001b[0m \u001b[0mresponse\u001b[0m\u001b[1;33m:\u001b[0m\u001b[1;33m\u001b[0m\u001b[1;33m\u001b[0m\u001b[0m\n\u001b[1;32m--> 435\u001b[1;33m             \u001b[0mself\u001b[0m\u001b[1;33m.\u001b[0m\u001b[0merror_handler\u001b[0m\u001b[1;33m.\u001b[0m\u001b[0mcheck_response\u001b[0m\u001b[1;33m(\u001b[0m\u001b[0mresponse\u001b[0m\u001b[1;33m)\u001b[0m\u001b[1;33m\u001b[0m\u001b[1;33m\u001b[0m\u001b[0m\n\u001b[0m\u001b[0;32m    436\u001b[0m             response['value'] = self._unwrap_value(\n\u001b[0;32m    437\u001b[0m                 response.get('value', None))\n",
      "\u001b[1;32m~\\anaconda3\\lib\\site-packages\\selenium\\webdriver\\remote\\errorhandler.py\u001b[0m in \u001b[0;36mcheck_response\u001b[1;34m(self, response)\u001b[0m\n\u001b[0;32m    245\u001b[0m                 \u001b[0malert_text\u001b[0m \u001b[1;33m=\u001b[0m \u001b[0mvalue\u001b[0m\u001b[1;33m[\u001b[0m\u001b[1;34m'alert'\u001b[0m\u001b[1;33m]\u001b[0m\u001b[1;33m.\u001b[0m\u001b[0mget\u001b[0m\u001b[1;33m(\u001b[0m\u001b[1;34m'text'\u001b[0m\u001b[1;33m)\u001b[0m\u001b[1;33m\u001b[0m\u001b[1;33m\u001b[0m\u001b[0m\n\u001b[0;32m    246\u001b[0m             \u001b[1;32mraise\u001b[0m \u001b[0mexception_class\u001b[0m\u001b[1;33m(\u001b[0m\u001b[0mmessage\u001b[0m\u001b[1;33m,\u001b[0m \u001b[0mscreen\u001b[0m\u001b[1;33m,\u001b[0m \u001b[0mstacktrace\u001b[0m\u001b[1;33m,\u001b[0m \u001b[0malert_text\u001b[0m\u001b[1;33m)\u001b[0m  \u001b[1;31m# type: ignore[call-arg]  # mypy is not smart enough here\u001b[0m\u001b[1;33m\u001b[0m\u001b[1;33m\u001b[0m\u001b[0m\n\u001b[1;32m--> 247\u001b[1;33m         \u001b[1;32mraise\u001b[0m \u001b[0mexception_class\u001b[0m\u001b[1;33m(\u001b[0m\u001b[0mmessage\u001b[0m\u001b[1;33m,\u001b[0m \u001b[0mscreen\u001b[0m\u001b[1;33m,\u001b[0m \u001b[0mstacktrace\u001b[0m\u001b[1;33m)\u001b[0m\u001b[1;33m\u001b[0m\u001b[1;33m\u001b[0m\u001b[0m\n\u001b[0m\u001b[0;32m    248\u001b[0m \u001b[1;33m\u001b[0m\u001b[0m\n\u001b[0;32m    249\u001b[0m     \u001b[1;32mdef\u001b[0m \u001b[0m_value_or_default\u001b[0m\u001b[1;33m(\u001b[0m\u001b[0mself\u001b[0m\u001b[1;33m,\u001b[0m \u001b[0mobj\u001b[0m\u001b[1;33m:\u001b[0m \u001b[0mMapping\u001b[0m\u001b[1;33m[\u001b[0m\u001b[0m_KT\u001b[0m\u001b[1;33m,\u001b[0m \u001b[0m_VT\u001b[0m\u001b[1;33m]\u001b[0m\u001b[1;33m,\u001b[0m \u001b[0mkey\u001b[0m\u001b[1;33m:\u001b[0m \u001b[0m_KT\u001b[0m\u001b[1;33m,\u001b[0m \u001b[0mdefault\u001b[0m\u001b[1;33m:\u001b[0m \u001b[0m_VT\u001b[0m\u001b[1;33m)\u001b[0m \u001b[1;33m->\u001b[0m \u001b[0m_VT\u001b[0m\u001b[1;33m:\u001b[0m\u001b[1;33m\u001b[0m\u001b[1;33m\u001b[0m\u001b[0m\n",
      "\u001b[1;31mTimeoutException\u001b[0m: Message: timeout: Timed out receiving message from renderer: 300.000\n  (Session info: chrome=103.0.5060.134)\nStacktrace:\nBacktrace:\n\tOrdinal0 [0x00E56463+2188387]\n\tOrdinal0 [0x00DEE461+1762401]\n\tOrdinal0 [0x00D03D78+802168]\n\tOrdinal0 [0x00CF5E3A+745018]\n\tOrdinal0 [0x00CF4C28+740392]\n\tOrdinal0 [0x00CF5228+741928]\n\tOrdinal0 [0x00CFEF2F+782127]\n\tOrdinal0 [0x00D09FBB+827323]\n\tOrdinal0 [0x00D0D310+840464]\n\tOrdinal0 [0x00CF54F6+742646]\n\tOrdinal0 [0x00D09E05+826885]\n\tOrdinal0 [0x00D5CF6D+1167213]\n\tOrdinal0 [0x00D4C5F6+1099254]\n\tOrdinal0 [0x00D26BE0+945120]\n\tOrdinal0 [0x00D27AD6+948950]\n\tGetHandleVerifier [0x010F71F2+2712546]\n\tGetHandleVerifier [0x010E886D+2652765]\n\tGetHandleVerifier [0x00EE002A+520730]\n\tGetHandleVerifier [0x00EDEE06+516086]\n\tOrdinal0 [0x00DF468B+1787531]\n\tOrdinal0 [0x00DF8E88+1805960]\n\tOrdinal0 [0x00DF8F75+1806197]\n\tOrdinal0 [0x00E01DF1+1842673]\n\tBaseThreadInitThunk [0x75B36739+25]\n\tRtlGetFullPathName_UEx [0x77DE8FEF+1215]\n\tRtlGetFullPathName_UEx [0x77DE8FBD+1165]\n"
     ]
    }
   ],
   "source": [
    "product_url = []\n",
    "\n",
    "while(True):\n",
    "    \n",
    "    urls = driver.find_elements(By.XPATH,'//a[@class=\"a-link-normal s-underline-text s-underline-link-text s-link-style a-text-normal\"]')\n",
    "\n",
    "    for url in urls:\n",
    "\n",
    "        product_url.append(url.get_attribute(\"href\"))\n",
    "    \n",
    "    time.sleep(2)  \n",
    "    \n",
    "try:\n",
    "\n",
    "        next_button = driver.find_elements(By.XPATH,\"/html/body/div[1]/div[2]/div[1]/div[1]/div/span[3]/div[2]/div[66]/div/div/span/a[3]\")\n",
    "\n",
    "        next_button.click()\n",
    "\n",
    "except:\n",
    "\n",
    "        break"
   ]
  },
  {
   "cell_type": "code",
   "execution_count": null,
   "id": "dffc2db5",
   "metadata": {},
   "outputs": [],
   "source": [
    "product_url"
   ]
  },
  {
   "cell_type": "code",
   "execution_count": null,
   "id": "40a87e4a",
   "metadata": {},
   "outputs": [],
   "source": [
    "Retex_tag = driver.find_elements(By.XPATH,'//span[@class=\"a-text-bold\"]')\n",
    "\n",
    "return_exchange = []\n",
    "\n",
    "for i in Retex_tag:\n",
    "\n",
    "    return_exchange.append(i.text)\n",
    "    \n",
    "return_exchange"
   ]
  },
  {
   "cell_type": "code",
   "execution_count": null,
   "id": "b922d4ee",
   "metadata": {},
   "outputs": [],
   "source": [
    "del_tag = driver.find_elements(By.XPATH,'//span[@class=\"a-text-bold\"]')\n",
    "\n",
    "return_exchange = []\n",
    "\n",
    "for i in Retex_tag:\n",
    "\n",
    "    return_exchange.append(i.text)\n",
    "    \n",
    "return_exchange"
   ]
  },
  {
   "cell_type": "code",
   "execution_count": null,
   "id": "11198bd7",
   "metadata": {},
   "outputs": [],
   "source": [
    "avail_tag = driver.find_elements(By.XPATH,'//span[@class=\"a-size-medium a-color-success\"]')\n",
    "\n",
    "availability = []\n",
    "\n",
    "for i in avail_tag:\n",
    "\n",
    "    availability.append(i.text)\n",
    "    \n",
    "availability"
   ]
  },
  {
   "cell_type": "code",
   "execution_count": null,
   "id": "9421359e",
   "metadata": {},
   "outputs": [],
   "source": []
  }
 ],
 "metadata": {
  "kernelspec": {
   "display_name": "Python 3 (ipykernel)",
   "language": "python",
   "name": "python3"
  },
  "language_info": {
   "codemirror_mode": {
    "name": "ipython",
    "version": 3
   },
   "file_extension": ".py",
   "mimetype": "text/x-python",
   "name": "python",
   "nbconvert_exporter": "python",
   "pygments_lexer": "ipython3",
   "version": "3.9.7"
  }
 },
 "nbformat": 4,
 "nbformat_minor": 5
}
