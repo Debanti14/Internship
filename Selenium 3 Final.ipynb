{
 "cells": [
  {
   "cell_type": "markdown",
   "id": "b67be87e",
   "metadata": {},
   "source": [
    "1. Write a python program which searches all the product under a particular product from www.amazon.in. \n",
    "The product to be searched will be taken as input from user. For e.g. If user input is ‘guitar’. Then search \n",
    "for guitars"
   ]
  },
  {
   "cell_type": "code",
   "execution_count": null,
   "id": "d4247b76",
   "metadata": {},
   "outputs": [],
   "source": [
    "import selenium\n",
    "from selenium import webdriver\n",
    "import re\n",
    "from selenium.webdriver.common.by import By\n",
    "from selenium.webdriver.common.keys import Keys\n",
    "\n",
    "import time\n",
    "from bs4 import BeautifulSoup\n",
    "\n",
    "from selenium.common.exceptions import ElementNotInteractableException\n",
    "\n",
    "import requests\n",
    "\n",
    "import pandas as pd\n",
    "import warnings\n",
    "warnings.filterwarnings(\"ignore\")"
   ]
  },
  {
   "cell_type": "code",
   "execution_count": 29,
   "id": "219080d2",
   "metadata": {},
   "outputs": [],
   "source": [
    "driver = webdriver.Chrome()\n",
    "driver.get('https://www.amazon.in/')\n",
    "\n",
    "# give some time to load the webpage\n",
    "time.sleep(2)"
   ]
  },
  {
   "cell_type": "code",
   "execution_count": 30,
   "id": "b642e020",
   "metadata": {},
   "outputs": [
    {
     "data": {
      "text/plain": [
       "<selenium.webdriver.remote.webelement.WebElement (session=\"354130a2c4f826511d6b9795aa94a0ff\", element=\"b251cb23-8fdb-4c27-90b0-5ef24a4879ea\")>"
      ]
     },
     "execution_count": 30,
     "metadata": {},
     "output_type": "execute_result"
    }
   ],
   "source": [
    "search_prod = driver.find_element(By.XPATH,'//input[@type=\"text\"]')\n",
    "search_prod"
   ]
  },
  {
   "cell_type": "code",
   "execution_count": 31,
   "id": "8c3255fe",
   "metadata": {},
   "outputs": [
    {
     "name": "stdout",
     "output_type": "stream",
     "text": [
      "Enter Product:  guitar\n"
     ]
    }
   ],
   "source": [
    "prod=input(\"Enter Product:  \")"
   ]
  },
  {
   "cell_type": "code",
   "execution_count": 32,
   "id": "fe5e462b",
   "metadata": {},
   "outputs": [],
   "source": [
    "search_prod.send_keys(prod)"
   ]
  },
  {
   "cell_type": "code",
   "execution_count": 34,
   "id": "c9615dd9",
   "metadata": {},
   "outputs": [
    {
     "data": {
      "text/plain": [
       "<selenium.webdriver.remote.webelement.WebElement (session=\"354130a2c4f826511d6b9795aa94a0ff\", element=\"de598abe-9591-44b9-9224-b5df8820ade7\")>"
      ]
     },
     "execution_count": 34,
     "metadata": {},
     "output_type": "execute_result"
    }
   ],
   "source": [
    "go_btn = driver.find_element(By.XPATH,\"/html/body/div[1]/header/div/div[1]/div[2]/div/form/div[3]/div\")\n",
    "go_btn"
   ]
  },
  {
   "cell_type": "code",
   "execution_count": 35,
   "id": "0f10ad92",
   "metadata": {},
   "outputs": [],
   "source": [
    "go_btn.click()"
   ]
  },
  {
   "cell_type": "markdown",
   "id": "f2f049ae",
   "metadata": {},
   "source": [
    "2. In the above question, now scrape the following details of each product listed in first 3 pages of your \n",
    "search results and save it in a data frame and csv. In case if any product has less than 3 pages in search \n",
    "results then scrape all the products available under that product name. Details to be scraped are: \"Brand \n",
    "Name\", \"Name of the Product\", \"Price\", \"Return/Exchange\", \"Expected Delivery\", \"Availability\" and \n",
    "“Product URL”. In case, if any of the details are missing for any of the product then replace it by “-“."
   ]
  },
  {
   "cell_type": "code",
   "execution_count": 39,
   "id": "8a812c9b",
   "metadata": {},
   "outputs": [],
   "source": [
    "prod_opening_url=[]\n",
    "start=0\n",
    "end=2\n",
    "for page in range(start,end):\n",
    "    url=driver.find_elements(By.XPATH,'h2[@class=\"a-size-mini a-spacing-none a-color-base s-line-clamp-4\"]')\n",
    "    for i in url:\n",
    "        page_open_url.append(i.get_attribute('href'))\n",
    "    next_btn=driver.find_elements(By.XPATH,\"/html/body/div[1]/div[2]/div[1]/div[1]/div/span[3]/div[2]/div[66]/div/div/span/a[3]\")"
   ]
  },
  {
   "cell_type": "code",
   "execution_count": 40,
   "id": "cbbaa3b7",
   "metadata": {},
   "outputs": [
    {
     "data": {
      "text/plain": [
       "0"
      ]
     },
     "execution_count": 40,
     "metadata": {},
     "output_type": "execute_result"
    }
   ],
   "source": [
    "len(prod_opening_url)"
   ]
  },
  {
   "cell_type": "code",
   "execution_count": 41,
   "id": "3c59d0fb",
   "metadata": {},
   "outputs": [
    {
     "data": {
      "text/plain": [
       "[]"
      ]
     },
     "execution_count": 41,
     "metadata": {},
     "output_type": "execute_result"
    }
   ],
   "source": [
    "prod_opening_url"
   ]
  },
  {
   "cell_type": "code",
   "execution_count": null,
   "id": "7e1e4d77",
   "metadata": {},
   "outputs": [],
   "source": []
  }
 ],
 "metadata": {
  "kernelspec": {
   "display_name": "Python 3 (ipykernel)",
   "language": "python",
   "name": "python3"
  },
  "language_info": {
   "codemirror_mode": {
    "name": "ipython",
    "version": 3
   },
   "file_extension": ".py",
   "mimetype": "text/x-python",
   "name": "python",
   "nbconvert_exporter": "python",
   "pygments_lexer": "ipython3",
   "version": "3.9.7"
  }
 },
 "nbformat": 4,
 "nbformat_minor": 5
}
