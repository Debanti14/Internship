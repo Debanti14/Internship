{
 "cells": [
  {
   "cell_type": "code",
   "execution_count": 1,
   "id": "cbabe5ed",
   "metadata": {},
   "outputs": [],
   "source": [
    "#Question 1\n",
    "\n",
    "import selenium\n",
    "from selenium import webdriver\n",
    "from selenium.webdriver.common.by import By\n",
    "from selenium.webdriver.common.keys import Keys\n",
    "\n",
    "import pandas as pd\n",
    "import warnings\n",
    "warnings.filterwarnings(\"ignore\")"
   ]
  },
  {
   "cell_type": "code",
   "execution_count": 2,
   "id": "28c777b3",
   "metadata": {},
   "outputs": [],
   "source": [
    "browser = webdriver.Chrome()\n",
    "browser.get('https://www.naukri.com/')"
   ]
  },
  {
   "cell_type": "code",
   "execution_count": 3,
   "id": "896b256e",
   "metadata": {},
   "outputs": [
    {
     "data": {
      "text/plain": [
       "<selenium.webdriver.remote.webelement.WebElement (session=\"fa336643a0a3baa63b6fc64b9e7efb4c\", element=\"dfb2f67a-f06c-4c9c-9a6c-d732133aab2e\")>"
      ]
     },
     "execution_count": 3,
     "metadata": {},
     "output_type": "execute_result"
    }
   ],
   "source": [
    "search_job = browser.find_element(By.CLASS_NAME,\"suggestor-input \")\n",
    "search_job\n"
   ]
  },
  {
   "cell_type": "code",
   "execution_count": 4,
   "id": "9a4d31a4",
   "metadata": {},
   "outputs": [],
   "source": [
    "search_job.send_keys(\"Data Analyst\")"
   ]
  },
  {
   "cell_type": "code",
   "execution_count": 5,
   "id": "800cb616",
   "metadata": {},
   "outputs": [
    {
     "data": {
      "text/plain": [
       "<selenium.webdriver.remote.webelement.WebElement (session=\"fa336643a0a3baa63b6fc64b9e7efb4c\", element=\"a162db8f-9526-4d69-9c46-fe7df806926e\")>"
      ]
     },
     "execution_count": 5,
     "metadata": {},
     "output_type": "execute_result"
    }
   ],
   "source": [
    "search_locn = browser.find_element(By.XPATH,\"/html/body/div[1]/div[2]/div[3]/div/div/div[5]/div/div/div/input\")\n",
    "search_locn"
   ]
  },
  {
   "cell_type": "code",
   "execution_count": 6,
   "id": "53b33774",
   "metadata": {},
   "outputs": [],
   "source": [
    "search_locn.send_keys(\"Bangalore\")"
   ]
  },
  {
   "cell_type": "code",
   "execution_count": 7,
   "id": "58c4996c",
   "metadata": {},
   "outputs": [
    {
     "data": {
      "text/plain": [
       "<selenium.webdriver.remote.webelement.WebElement (session=\"fa336643a0a3baa63b6fc64b9e7efb4c\", element=\"a5fb10db-0b27-4637-a680-e83831dfd55a\")>"
      ]
     },
     "execution_count": 7,
     "metadata": {},
     "output_type": "execute_result"
    }
   ],
   "source": [
    "search_btn = browser.find_element(By.XPATH,\"/html/body/div[1]/div[2]/div[3]/div/div/div[6]\")\n",
    "search_btn"
   ]
  },
  {
   "cell_type": "code",
   "execution_count": 8,
   "id": "d8d6e778",
   "metadata": {},
   "outputs": [],
   "source": [
    "search_btn.click()  "
   ]
  },
  {
   "cell_type": "code",
   "execution_count": 15,
   "id": "c584d3db",
   "metadata": {},
   "outputs": [
    {
     "data": {
      "text/plain": [
       "['Sr.Business Data Analyst',\n",
       " 'Sr Data Analyst',\n",
       " 'Senior Data Analysis Analyst',\n",
       " 'Job opportunity For Data Analyst at Trellance - India',\n",
       " 'Data Analyst',\n",
       " 'Senior Data Analyst',\n",
       " 'Associate Data Analyst',\n",
       " 'Associate Data Analyst',\n",
       " 'Data Analyst/Senior Data Analyst',\n",
       " 'Financial Data Analyst']"
      ]
     },
     "execution_count": 15,
     "metadata": {},
     "output_type": "execute_result"
    }
   ],
   "source": [
    "title_tags=browser.find_elements(By.XPATH,'//a[@class=\"title fw500 ellipsis\"]')\n",
    "\n",
    "\n",
    "job_title = []\n",
    "\n",
    "for i in title_tags[0:10]:\n",
    "\n",
    "    title=i.text\n",
    "\n",
    "    job_title.append(title)\n",
    "    \n",
    "job_title"
   ]
  },
  {
   "cell_type": "code",
   "execution_count": 16,
   "id": "88ac7e50",
   "metadata": {},
   "outputs": [
    {
     "data": {
      "text/plain": [
       "['Collabera',\n",
       " 'Thomson Reuters',\n",
       " 'Capco',\n",
       " 'CURise Analytics Pvt. Ltd.',\n",
       " 'Thomson Reuters',\n",
       " 'KrazyBee',\n",
       " 'Optum',\n",
       " 'Optum',\n",
       " 'Meesho',\n",
       " 'Nuance India']"
      ]
     },
     "execution_count": 16,
     "metadata": {},
     "output_type": "execute_result"
    }
   ],
   "source": [
    "comp_name = browser.find_elements(By.XPATH,'//a[@class=\"subTitle ellipsis fleft\"]')\n",
    "\n",
    "companies=[]\n",
    "\n",
    "for i in comp_name[0:10]:\n",
    "\n",
    "    companies.append(i.text)\n",
    "    \n",
    "companies"
   ]
  },
  {
   "cell_type": "code",
   "execution_count": 17,
   "id": "33f4b190",
   "metadata": {},
   "outputs": [
    {
     "data": {
      "text/plain": [
       "['Bangalore/Bengaluru, karnataka\\n(WFH during Covid)',\n",
       " 'Bangalore/Bengaluru',\n",
       " 'Bangalore/Bengaluru, Pune, Chennai',\n",
       " 'Bangalore/Bengaluru, Ahmedabad',\n",
       " 'Bangalore/Bengaluru',\n",
       " 'Bangalore/Bengaluru(Old Madras Road)',\n",
       " 'Bangalore/Bengaluru',\n",
       " 'Bangalore/Bengaluru',\n",
       " 'Bangalore/Bengaluru',\n",
       " 'Bangalore/Bengaluru']"
      ]
     },
     "execution_count": 17,
     "metadata": {},
     "output_type": "execute_result"
    }
   ],
   "source": [
    "loc_name = browser.find_elements(By.XPATH,'//li[@class=\"fleft grey-text br2 placeHolderLi location\"]')\n",
    "\n",
    "location = []\n",
    "\n",
    "for i in loc_name[0:10]:\n",
    "\n",
    "\n",
    "    location.append(i.text)\n",
    "    \n",
    "location"
   ]
  },
  {
   "cell_type": "code",
   "execution_count": 23,
   "id": "cdd77cde",
   "metadata": {},
   "outputs": [
    {
     "data": {
      "text/plain": [
       "['6-11 Yrs',\n",
       " '5-8 Yrs',\n",
       " '7-12 Yrs',\n",
       " '0-2 Yrs',\n",
       " '2-3 Yrs',\n",
       " '3-6 Yrs',\n",
       " '2-7 Yrs',\n",
       " '1-4 Yrs',\n",
       " '3-6 Yrs',\n",
       " '3-8 Yrs']"
      ]
     },
     "execution_count": 23,
     "metadata": {},
     "output_type": "execute_result"
    }
   ],
   "source": [
    "exp_tags = browser.find_elements(By.XPATH,'//li[@class=\"fleft grey-text br2 placeHolderLi experience\"]')\n",
    "\n",
    "experience = []\n",
    "\n",
    "for i in exp_tags[0:10]:\n",
    "\n",
    "    experience.append(i.text)\n",
    "\n",
    "experience"
   ]
  },
  {
   "cell_type": "code",
   "execution_count": 24,
   "id": "a5d0ee35",
   "metadata": {},
   "outputs": [],
   "source": [
    "df=pd.DataFrame()\n",
    "\n",
    "df['Job Title'] = job_title\n",
    "df['Company'] = companies\n",
    "df['Experience'] = experience\n",
    "df['Location'] = location\n"
   ]
  },
  {
   "cell_type": "code",
   "execution_count": 25,
   "id": "edaf7d35",
   "metadata": {},
   "outputs": [
    {
     "data": {
      "text/html": [
       "<div>\n",
       "<style scoped>\n",
       "    .dataframe tbody tr th:only-of-type {\n",
       "        vertical-align: middle;\n",
       "    }\n",
       "\n",
       "    .dataframe tbody tr th {\n",
       "        vertical-align: top;\n",
       "    }\n",
       "\n",
       "    .dataframe thead th {\n",
       "        text-align: right;\n",
       "    }\n",
       "</style>\n",
       "<table border=\"1\" class=\"dataframe\">\n",
       "  <thead>\n",
       "    <tr style=\"text-align: right;\">\n",
       "      <th></th>\n",
       "      <th>Job Title</th>\n",
       "      <th>Company</th>\n",
       "      <th>Experience</th>\n",
       "      <th>Location</th>\n",
       "    </tr>\n",
       "  </thead>\n",
       "  <tbody>\n",
       "    <tr>\n",
       "      <th>0</th>\n",
       "      <td>Sr.Business Data Analyst</td>\n",
       "      <td>Collabera</td>\n",
       "      <td>6-11 Yrs</td>\n",
       "      <td>Bangalore/Bengaluru, karnataka\\n(WFH during Co...</td>\n",
       "    </tr>\n",
       "    <tr>\n",
       "      <th>1</th>\n",
       "      <td>Sr Data Analyst</td>\n",
       "      <td>Thomson Reuters</td>\n",
       "      <td>5-8 Yrs</td>\n",
       "      <td>Bangalore/Bengaluru</td>\n",
       "    </tr>\n",
       "    <tr>\n",
       "      <th>2</th>\n",
       "      <td>Senior Data Analysis Analyst</td>\n",
       "      <td>Capco</td>\n",
       "      <td>7-12 Yrs</td>\n",
       "      <td>Bangalore/Bengaluru, Pune, Chennai</td>\n",
       "    </tr>\n",
       "    <tr>\n",
       "      <th>3</th>\n",
       "      <td>Job opportunity For Data Analyst at Trellance ...</td>\n",
       "      <td>CURise Analytics Pvt. Ltd.</td>\n",
       "      <td>0-2 Yrs</td>\n",
       "      <td>Bangalore/Bengaluru, Ahmedabad</td>\n",
       "    </tr>\n",
       "    <tr>\n",
       "      <th>4</th>\n",
       "      <td>Data Analyst</td>\n",
       "      <td>Thomson Reuters</td>\n",
       "      <td>2-3 Yrs</td>\n",
       "      <td>Bangalore/Bengaluru</td>\n",
       "    </tr>\n",
       "    <tr>\n",
       "      <th>5</th>\n",
       "      <td>Senior Data Analyst</td>\n",
       "      <td>KrazyBee</td>\n",
       "      <td>3-6 Yrs</td>\n",
       "      <td>Bangalore/Bengaluru(Old Madras Road)</td>\n",
       "    </tr>\n",
       "    <tr>\n",
       "      <th>6</th>\n",
       "      <td>Associate Data Analyst</td>\n",
       "      <td>Optum</td>\n",
       "      <td>2-7 Yrs</td>\n",
       "      <td>Bangalore/Bengaluru</td>\n",
       "    </tr>\n",
       "    <tr>\n",
       "      <th>7</th>\n",
       "      <td>Associate Data Analyst</td>\n",
       "      <td>Optum</td>\n",
       "      <td>1-4 Yrs</td>\n",
       "      <td>Bangalore/Bengaluru</td>\n",
       "    </tr>\n",
       "    <tr>\n",
       "      <th>8</th>\n",
       "      <td>Data Analyst/Senior Data Analyst</td>\n",
       "      <td>Meesho</td>\n",
       "      <td>3-6 Yrs</td>\n",
       "      <td>Bangalore/Bengaluru</td>\n",
       "    </tr>\n",
       "    <tr>\n",
       "      <th>9</th>\n",
       "      <td>Financial Data Analyst</td>\n",
       "      <td>Nuance India</td>\n",
       "      <td>3-8 Yrs</td>\n",
       "      <td>Bangalore/Bengaluru</td>\n",
       "    </tr>\n",
       "  </tbody>\n",
       "</table>\n",
       "</div>"
      ],
      "text/plain": [
       "                                           Job Title  \\\n",
       "0                           Sr.Business Data Analyst   \n",
       "1                                    Sr Data Analyst   \n",
       "2                       Senior Data Analysis Analyst   \n",
       "3  Job opportunity For Data Analyst at Trellance ...   \n",
       "4                                       Data Analyst   \n",
       "5                                Senior Data Analyst   \n",
       "6                             Associate Data Analyst   \n",
       "7                             Associate Data Analyst   \n",
       "8                   Data Analyst/Senior Data Analyst   \n",
       "9                             Financial Data Analyst   \n",
       "\n",
       "                      Company Experience  \\\n",
       "0                   Collabera   6-11 Yrs   \n",
       "1             Thomson Reuters    5-8 Yrs   \n",
       "2                       Capco   7-12 Yrs   \n",
       "3  CURise Analytics Pvt. Ltd.    0-2 Yrs   \n",
       "4             Thomson Reuters    2-3 Yrs   \n",
       "5                    KrazyBee    3-6 Yrs   \n",
       "6                       Optum    2-7 Yrs   \n",
       "7                       Optum    1-4 Yrs   \n",
       "8                      Meesho    3-6 Yrs   \n",
       "9                Nuance India    3-8 Yrs   \n",
       "\n",
       "                                            Location  \n",
       "0  Bangalore/Bengaluru, karnataka\\n(WFH during Co...  \n",
       "1                                Bangalore/Bengaluru  \n",
       "2                 Bangalore/Bengaluru, Pune, Chennai  \n",
       "3                     Bangalore/Bengaluru, Ahmedabad  \n",
       "4                                Bangalore/Bengaluru  \n",
       "5               Bangalore/Bengaluru(Old Madras Road)  \n",
       "6                                Bangalore/Bengaluru  \n",
       "7                                Bangalore/Bengaluru  \n",
       "8                                Bangalore/Bengaluru  \n",
       "9                                Bangalore/Bengaluru  "
      ]
     },
     "execution_count": 25,
     "metadata": {},
     "output_type": "execute_result"
    }
   ],
   "source": [
    "df"
   ]
  },
  {
   "cell_type": "code",
   "execution_count": null,
   "id": "b29169c2",
   "metadata": {},
   "outputs": [],
   "source": []
  },
  {
   "cell_type": "code",
   "execution_count": null,
   "id": "5dc269e7",
   "metadata": {},
   "outputs": [],
   "source": []
  },
  {
   "cell_type": "code",
   "execution_count": null,
   "id": "f5102d46",
   "metadata": {},
   "outputs": [],
   "source": []
  },
  {
   "cell_type": "code",
   "execution_count": null,
   "id": "9fe63d35",
   "metadata": {},
   "outputs": [],
   "source": []
  },
  {
   "cell_type": "code",
   "execution_count": 35,
   "id": "fb47b32e",
   "metadata": {},
   "outputs": [],
   "source": [
    "#Question 2\n",
    "\n",
    "import selenium\n",
    "from selenium import webdriver\n",
    "from selenium.webdriver.common.by import By\n",
    "from selenium.webdriver.common.keys import Keys\n",
    "\n",
    "import pandas as pd\n",
    "import warnings\n",
    "warnings.filterwarnings(\"ignore\")"
   ]
  },
  {
   "cell_type": "code",
   "execution_count": 36,
   "id": "461f5ae2",
   "metadata": {},
   "outputs": [],
   "source": [
    "browser = webdriver.Chrome()\n",
    "browser.get('https://www.naukri.com/')"
   ]
  },
  {
   "cell_type": "code",
   "execution_count": 37,
   "id": "c962ae4a",
   "metadata": {},
   "outputs": [
    {
     "data": {
      "text/plain": [
       "<selenium.webdriver.remote.webelement.WebElement (session=\"2ccab2a66373bd7bc4899af1d7fb07c3\", element=\"39f1ac70-e43d-4720-ae7d-5d521f1bb52f\")>"
      ]
     },
     "execution_count": 37,
     "metadata": {},
     "output_type": "execute_result"
    }
   ],
   "source": [
    "search_job = browser.find_element(By.CLASS_NAME,\"suggestor-input \")\n",
    "search_job\n"
   ]
  },
  {
   "cell_type": "code",
   "execution_count": 38,
   "id": "5430ef47",
   "metadata": {},
   "outputs": [],
   "source": [
    "search_job.send_keys(\"Data Scientist\")"
   ]
  },
  {
   "cell_type": "code",
   "execution_count": 39,
   "id": "25406a04",
   "metadata": {},
   "outputs": [
    {
     "data": {
      "text/plain": [
       "<selenium.webdriver.remote.webelement.WebElement (session=\"2ccab2a66373bd7bc4899af1d7fb07c3\", element=\"9ad12fca-3602-4ce4-ab30-14f6a1ebb283\")>"
      ]
     },
     "execution_count": 39,
     "metadata": {},
     "output_type": "execute_result"
    }
   ],
   "source": [
    "search_locn = browser.find_element(By.XPATH,\"/html/body/div[1]/div[2]/div[3]/div/div/div[5]/div/div/div/input\")\n",
    "search_locn"
   ]
  },
  {
   "cell_type": "code",
   "execution_count": 40,
   "id": "ae52df0c",
   "metadata": {},
   "outputs": [],
   "source": [
    "search_locn.send_keys(\"Bangalore\")"
   ]
  },
  {
   "cell_type": "code",
   "execution_count": 41,
   "id": "c56292c0",
   "metadata": {},
   "outputs": [
    {
     "data": {
      "text/plain": [
       "<selenium.webdriver.remote.webelement.WebElement (session=\"2ccab2a66373bd7bc4899af1d7fb07c3\", element=\"21a99530-c863-4620-82cd-13b4ad98cc14\")>"
      ]
     },
     "execution_count": 41,
     "metadata": {},
     "output_type": "execute_result"
    }
   ],
   "source": [
    "search_btn = browser.find_element(By.XPATH,\"/html/body/div[1]/div[2]/div[3]/div/div/div[6]\")\n",
    "search_btn"
   ]
  },
  {
   "cell_type": "code",
   "execution_count": 42,
   "id": "055c275d",
   "metadata": {},
   "outputs": [],
   "source": [
    "search_btn.click()"
   ]
  },
  {
   "cell_type": "code",
   "execution_count": 43,
   "id": "1ae959c2",
   "metadata": {},
   "outputs": [
    {
     "data": {
      "text/plain": [
       "['Urgent Job Opening For AI Practitioner - Data Science at Wipro Holmes',\n",
       " 'Dataiku Consultant',\n",
       " 'Opportunity For Data Scientist - Female Candidates ONLY',\n",
       " 'Data Science - Senior Data Scientist - Analytics',\n",
       " 'Principal - Data Scientist',\n",
       " 'Research and Development -AI/ML -(PhD )',\n",
       " 'Senior Data Science Engineer',\n",
       " 'Data Science - Engineering Manager',\n",
       " 'Data Scientist',\n",
       " 'Data Scientist- Assistant Manager/Manager']"
      ]
     },
     "execution_count": 43,
     "metadata": {},
     "output_type": "execute_result"
    }
   ],
   "source": [
    "title_tags=browser.find_elements(By.XPATH,'//a[@class=\"title fw500 ellipsis\"]')\n",
    "\n",
    "\n",
    "job_title = []\n",
    "\n",
    "for i in title_tags[0:10]:\n",
    "\n",
    "    job_title.append(i.text)\n",
    "    \n",
    "job_title"
   ]
  },
  {
   "cell_type": "code",
   "execution_count": 44,
   "id": "1b84759f",
   "metadata": {},
   "outputs": [
    {
     "data": {
      "text/plain": [
       "['Bangalore/Bengaluru, Kochi/Cochin, New Delhi, Coimbatore, Chennai, Pune, Mumbai, Hyderabad',\n",
       " 'Bangalore/Bengaluru, Pune, Chennai',\n",
       " 'Bangalore/Bengaluru, Gurgaon/Gurugram, Mumbai (All Areas)',\n",
       " 'Bangalore/Bengaluru, Noida',\n",
       " 'Bangalore/Bengaluru',\n",
       " 'Bangalore/Bengaluru, Noida, Hyderabad/Secunderabad, Pune, Gurgaon/Gurugram, Chennai, Delhi / NCR',\n",
       " 'Bangalore/Bengaluru, Gurgaon/Gurugram, Mumbai (All Areas)',\n",
       " 'Bangalore/Bengaluru, Noida, Mumbai',\n",
       " 'Bangalore/Bengaluru, Mumbai (All Areas)',\n",
       " 'Bangalore/Bengaluru']"
      ]
     },
     "execution_count": 44,
     "metadata": {},
     "output_type": "execute_result"
    }
   ],
   "source": [
    "loc_name = browser.find_elements(By.XPATH,'//li[@class=\"fleft grey-text br2 placeHolderLi location\"]')\n",
    "\n",
    "location = []\n",
    "\n",
    "for i in loc_name[0:10]:\n",
    "\n",
    "\n",
    "    location.append(i.text)\n",
    "    \n",
    "location"
   ]
  },
  {
   "cell_type": "code",
   "execution_count": 45,
   "id": "29e4cc6d",
   "metadata": {},
   "outputs": [
    {
     "data": {
      "text/plain": [
       "['Wipro',\n",
       " 'Wipro',\n",
       " 'PayU',\n",
       " 'Paytm',\n",
       " 'Schneider Electric',\n",
       " 'EXL',\n",
       " 'Fractal Analytics',\n",
       " 'Paytm',\n",
       " 'UPL',\n",
       " 'Genpact']"
      ]
     },
     "execution_count": 45,
     "metadata": {},
     "output_type": "execute_result"
    }
   ],
   "source": [
    "comp_name = browser.find_elements(By.XPATH,'//a[@class=\"subTitle ellipsis fleft\"]')\n",
    "\n",
    "companies=[]\n",
    "\n",
    "for i in comp_name[0:10]:\n",
    "\n",
    "    companies.append(i.text)\n",
    "    \n",
    "companies"
   ]
  },
  {
   "cell_type": "code",
   "execution_count": 46,
   "id": "2c68f891",
   "metadata": {},
   "outputs": [
    {
     "data": {
      "text/html": [
       "<div>\n",
       "<style scoped>\n",
       "    .dataframe tbody tr th:only-of-type {\n",
       "        vertical-align: middle;\n",
       "    }\n",
       "\n",
       "    .dataframe tbody tr th {\n",
       "        vertical-align: top;\n",
       "    }\n",
       "\n",
       "    .dataframe thead th {\n",
       "        text-align: right;\n",
       "    }\n",
       "</style>\n",
       "<table border=\"1\" class=\"dataframe\">\n",
       "  <thead>\n",
       "    <tr style=\"text-align: right;\">\n",
       "      <th></th>\n",
       "      <th>Job Title</th>\n",
       "      <th>Company</th>\n",
       "      <th>Location</th>\n",
       "    </tr>\n",
       "  </thead>\n",
       "  <tbody>\n",
       "    <tr>\n",
       "      <th>0</th>\n",
       "      <td>Urgent Job Opening For AI Practitioner - Data ...</td>\n",
       "      <td>Wipro</td>\n",
       "      <td>Bangalore/Bengaluru, Kochi/Cochin, New Delhi, ...</td>\n",
       "    </tr>\n",
       "    <tr>\n",
       "      <th>1</th>\n",
       "      <td>Dataiku Consultant</td>\n",
       "      <td>Wipro</td>\n",
       "      <td>Bangalore/Bengaluru, Pune, Chennai</td>\n",
       "    </tr>\n",
       "    <tr>\n",
       "      <th>2</th>\n",
       "      <td>Opportunity For Data Scientist - Female Candid...</td>\n",
       "      <td>PayU</td>\n",
       "      <td>Bangalore/Bengaluru, Gurgaon/Gurugram, Mumbai ...</td>\n",
       "    </tr>\n",
       "    <tr>\n",
       "      <th>3</th>\n",
       "      <td>Data Science - Senior Data Scientist - Analytics</td>\n",
       "      <td>Paytm</td>\n",
       "      <td>Bangalore/Bengaluru, Noida</td>\n",
       "    </tr>\n",
       "    <tr>\n",
       "      <th>4</th>\n",
       "      <td>Principal - Data Scientist</td>\n",
       "      <td>Schneider Electric</td>\n",
       "      <td>Bangalore/Bengaluru</td>\n",
       "    </tr>\n",
       "    <tr>\n",
       "      <th>5</th>\n",
       "      <td>Research and Development -AI/ML -(PhD )</td>\n",
       "      <td>EXL</td>\n",
       "      <td>Bangalore/Bengaluru, Noida, Hyderabad/Secunder...</td>\n",
       "    </tr>\n",
       "    <tr>\n",
       "      <th>6</th>\n",
       "      <td>Senior Data Science Engineer</td>\n",
       "      <td>Fractal Analytics</td>\n",
       "      <td>Bangalore/Bengaluru, Gurgaon/Gurugram, Mumbai ...</td>\n",
       "    </tr>\n",
       "    <tr>\n",
       "      <th>7</th>\n",
       "      <td>Data Science - Engineering Manager</td>\n",
       "      <td>Paytm</td>\n",
       "      <td>Bangalore/Bengaluru, Noida, Mumbai</td>\n",
       "    </tr>\n",
       "    <tr>\n",
       "      <th>8</th>\n",
       "      <td>Data Scientist</td>\n",
       "      <td>UPL</td>\n",
       "      <td>Bangalore/Bengaluru, Mumbai (All Areas)</td>\n",
       "    </tr>\n",
       "    <tr>\n",
       "      <th>9</th>\n",
       "      <td>Data Scientist- Assistant Manager/Manager</td>\n",
       "      <td>Genpact</td>\n",
       "      <td>Bangalore/Bengaluru</td>\n",
       "    </tr>\n",
       "  </tbody>\n",
       "</table>\n",
       "</div>"
      ],
      "text/plain": [
       "                                           Job Title             Company  \\\n",
       "0  Urgent Job Opening For AI Practitioner - Data ...               Wipro   \n",
       "1                                 Dataiku Consultant               Wipro   \n",
       "2  Opportunity For Data Scientist - Female Candid...                PayU   \n",
       "3   Data Science - Senior Data Scientist - Analytics               Paytm   \n",
       "4                         Principal - Data Scientist  Schneider Electric   \n",
       "5            Research and Development -AI/ML -(PhD )                 EXL   \n",
       "6                       Senior Data Science Engineer   Fractal Analytics   \n",
       "7                 Data Science - Engineering Manager               Paytm   \n",
       "8                                     Data Scientist                 UPL   \n",
       "9          Data Scientist- Assistant Manager/Manager             Genpact   \n",
       "\n",
       "                                            Location  \n",
       "0  Bangalore/Bengaluru, Kochi/Cochin, New Delhi, ...  \n",
       "1                 Bangalore/Bengaluru, Pune, Chennai  \n",
       "2  Bangalore/Bengaluru, Gurgaon/Gurugram, Mumbai ...  \n",
       "3                         Bangalore/Bengaluru, Noida  \n",
       "4                                Bangalore/Bengaluru  \n",
       "5  Bangalore/Bengaluru, Noida, Hyderabad/Secunder...  \n",
       "6  Bangalore/Bengaluru, Gurgaon/Gurugram, Mumbai ...  \n",
       "7                 Bangalore/Bengaluru, Noida, Mumbai  \n",
       "8            Bangalore/Bengaluru, Mumbai (All Areas)  \n",
       "9                                Bangalore/Bengaluru  "
      ]
     },
     "execution_count": 46,
     "metadata": {},
     "output_type": "execute_result"
    }
   ],
   "source": [
    "df=pd.DataFrame()\n",
    "\n",
    "df['Job Title'] = job_title\n",
    "df['Company'] = companies\n",
    "df['Location'] = location\n",
    "\n",
    "df"
   ]
  },
  {
   "cell_type": "code",
   "execution_count": null,
   "id": "511fe4b5",
   "metadata": {},
   "outputs": [],
   "source": []
  },
  {
   "cell_type": "code",
   "execution_count": null,
   "id": "07b7aee5",
   "metadata": {},
   "outputs": [],
   "source": []
  },
  {
   "cell_type": "code",
   "execution_count": 26,
   "id": "f5127a62",
   "metadata": {},
   "outputs": [],
   "source": [
    "#Question 3\n",
    "\n",
    "import selenium\n",
    "from selenium import webdriver\n",
    "from selenium.webdriver.common.by import By\n",
    "from selenium.webdriver.common.keys import Keys\n",
    "\n",
    "import pandas as pd\n",
    "import warnings\n",
    "warnings.filterwarnings(\"ignore\")"
   ]
  },
  {
   "cell_type": "code",
   "execution_count": 27,
   "id": "86864879",
   "metadata": {},
   "outputs": [],
   "source": [
    "browser = webdriver.Chrome()\n",
    "browser.get('https://www.naukri.com/')"
   ]
  },
  {
   "cell_type": "code",
   "execution_count": 28,
   "id": "03c15535",
   "metadata": {},
   "outputs": [
    {
     "data": {
      "text/plain": [
       "<selenium.webdriver.remote.webelement.WebElement (session=\"ba4a33371b8cfd32426f3a63886b2cfe\", element=\"4d7838aa-0cf1-4467-98f7-a2dccd5f14a9\")>"
      ]
     },
     "execution_count": 28,
     "metadata": {},
     "output_type": "execute_result"
    }
   ],
   "source": [
    "search_job = browser.find_element(By.CLASS_NAME,\"suggestor-input \")\n",
    "search_job"
   ]
  },
  {
   "cell_type": "code",
   "execution_count": 29,
   "id": "f7158901",
   "metadata": {},
   "outputs": [],
   "source": [
    "search_job.send_keys(\"Data Scientist\")"
   ]
  },
  {
   "cell_type": "code",
   "execution_count": 30,
   "id": "a70fbf43",
   "metadata": {},
   "outputs": [
    {
     "data": {
      "text/plain": [
       "<selenium.webdriver.remote.webelement.WebElement (session=\"ba4a33371b8cfd32426f3a63886b2cfe\", element=\"04d1589c-1a1f-4a31-bf2c-25bd25d459a3\")>"
      ]
     },
     "execution_count": 30,
     "metadata": {},
     "output_type": "execute_result"
    }
   ],
   "source": [
    "search_locn = browser.find_element(By.XPATH,'/html/body/div[1]/div[2]/div[3]/div/div/div[5]/div/div/div/input')\n",
    "search_locn"
   ]
  },
  {
   "cell_type": "code",
   "execution_count": 31,
   "id": "b79e8633",
   "metadata": {},
   "outputs": [],
   "source": [
    "search_locn.send_keys(\"Delhi/NCR\")"
   ]
  },
  {
   "cell_type": "code",
   "execution_count": 32,
   "id": "8f34af1f",
   "metadata": {},
   "outputs": [
    {
     "data": {
      "text/plain": [
       "<selenium.webdriver.remote.webelement.WebElement (session=\"ba4a33371b8cfd32426f3a63886b2cfe\", element=\"0df89435-6938-4f5a-b11d-52331fcb46e8\")>"
      ]
     },
     "execution_count": 32,
     "metadata": {},
     "output_type": "execute_result"
    }
   ],
   "source": [
    "search_btn = browser.find_element(By.XPATH,'/html/body/div[1]/div[2]/div[3]/div/div/div[6]')\n",
    "search_btn"
   ]
  },
  {
   "cell_type": "code",
   "execution_count": 33,
   "id": "90af57f6",
   "metadata": {},
   "outputs": [],
   "source": [
    "search_btn.click()"
   ]
  },
  {
   "cell_type": "code",
   "execution_count": 34,
   "id": "ed1ab801",
   "metadata": {},
   "outputs": [],
   "source": [
    "salary_filter = browser.find_element(By.XPATH, '//span[@title=\"3-6 Lakhs\"]')\n",
    "\n",
    "salary_filter.click()"
   ]
  },
  {
   "cell_type": "code",
   "execution_count": 40,
   "id": "453bafd8",
   "metadata": {},
   "outputs": [
    {
     "data": {
      "text/plain": [
       "['Data Scientist - IN3',\n",
       " 'Artificial Intelligence, Virtual Reality Developer - L1',\n",
       " 'DigitalBCG GAMMA Data Scientist',\n",
       " 'Data Scientist',\n",
       " 'Senior Associate - Data Science',\n",
       " 'Data Scientist - Noida/Bangalore',\n",
       " 'Data Scientist',\n",
       " 'Data Scientist',\n",
       " 'DATA Scientist with Fraud Analytics Experience',\n",
       " 'Senior Data Scientist']"
      ]
     },
     "execution_count": 40,
     "metadata": {},
     "output_type": "execute_result"
    }
   ],
   "source": [
    "title_tags=browser.find_elements(By.XPATH,'//a[@class=\"title fw500 ellipsis\"]')\n",
    "\n",
    "\n",
    "job_title = []\n",
    "\n",
    "for i in title_tags[0:10]:\n",
    "\n",
    "    job_title.append(i.text)\n",
    "    \n",
    "job_title"
   ]
  },
  {
   "cell_type": "code",
   "execution_count": 41,
   "id": "2ad4b3d8",
   "metadata": {},
   "outputs": [
    {
     "data": {
      "text/plain": [
       "['Bangalore/Bengaluru',\n",
       " 'Mumbai, Hyderabad/Secunderabad, Bangalore/Bengaluru',\n",
       " 'New Delhi, Bangalore/Bengaluru',\n",
       " 'Bangalore/Bengaluru',\n",
       " 'Mumbai, Hyderabad/Secunderabad, Gurgaon/Gurugram, Bangalore/Bengaluru',\n",
       " 'Noida, Bangalore/Bengaluru',\n",
       " 'Bangalore/Bengaluru',\n",
       " 'Bangalore/Bengaluru',\n",
       " 'Bangalore/Bengaluru',\n",
       " 'Bangalore/Bengaluru']"
      ]
     },
     "execution_count": 41,
     "metadata": {},
     "output_type": "execute_result"
    }
   ],
   "source": [
    "loc_name = browser.find_elements(By.XPATH,'//li[@class=\"fleft grey-text br2 placeHolderLi location\"]')\n",
    "\n",
    "location = []\n",
    "\n",
    "for i in loc_name[0:10]:\n",
    "\n",
    "\n",
    "    location.append(i.text)\n",
    "    \n",
    "location"
   ]
  },
  {
   "cell_type": "code",
   "execution_count": 42,
   "id": "e334a76d",
   "metadata": {},
   "outputs": [
    {
     "data": {
      "text/plain": [
       "['Walmart',\n",
       " 'ATG Business Solutions',\n",
       " 'Boston Consulting Group',\n",
       " 'Infosys',\n",
       " 'Black Turtle',\n",
       " 'EXL',\n",
       " 'Applied Materials',\n",
       " 'Applied Materials',\n",
       " 'Concentrix',\n",
       " 'PayU']"
      ]
     },
     "execution_count": 42,
     "metadata": {},
     "output_type": "execute_result"
    }
   ],
   "source": [
    "comp_name = browser.find_elements(By.XPATH,'//a[@class=\"subTitle ellipsis fleft\"]')\n",
    "\n",
    "companies=[]\n",
    "\n",
    "for i in comp_name[0:10]:\n",
    "\n",
    "    companies.append(i.text)\n",
    "    \n",
    "companies"
   ]
  },
  {
   "cell_type": "code",
   "execution_count": 46,
   "id": "cbe9ce84",
   "metadata": {},
   "outputs": [
    {
     "data": {
      "text/plain": [
       "['2-5 Yrs',\n",
       " '1-5 Yrs',\n",
       " '2-5 Yrs',\n",
       " '2-7 Yrs',\n",
       " '4-7 Yrs',\n",
       " '5-10 Yrs',\n",
       " '2-4 Yrs',\n",
       " '4-7 Yrs',\n",
       " '2-4 Yrs',\n",
       " '3-7 Yrs']"
      ]
     },
     "execution_count": 46,
     "metadata": {},
     "output_type": "execute_result"
    }
   ],
   "source": [
    "exp_tags = browser.find_elements(By.XPATH,'//li[@class=\"fleft grey-text br2 placeHolderLi experience\"]')\n",
    "\n",
    "\n",
    "experience = []\n",
    "\n",
    "for i in exp_tags[0:10]:\n",
    "    \n",
    "    experience.append(i.text)\n",
    "\n",
    "experience"
   ]
  },
  {
   "cell_type": "code",
   "execution_count": 47,
   "id": "728bd9d5",
   "metadata": {},
   "outputs": [
    {
     "data": {
      "text/html": [
       "<div>\n",
       "<style scoped>\n",
       "    .dataframe tbody tr th:only-of-type {\n",
       "        vertical-align: middle;\n",
       "    }\n",
       "\n",
       "    .dataframe tbody tr th {\n",
       "        vertical-align: top;\n",
       "    }\n",
       "\n",
       "    .dataframe thead th {\n",
       "        text-align: right;\n",
       "    }\n",
       "</style>\n",
       "<table border=\"1\" class=\"dataframe\">\n",
       "  <thead>\n",
       "    <tr style=\"text-align: right;\">\n",
       "      <th></th>\n",
       "      <th>Job Title</th>\n",
       "      <th>Company</th>\n",
       "      <th>Location</th>\n",
       "      <th>Experience</th>\n",
       "    </tr>\n",
       "  </thead>\n",
       "  <tbody>\n",
       "    <tr>\n",
       "      <th>0</th>\n",
       "      <td>Data Scientist - IN3</td>\n",
       "      <td>Walmart</td>\n",
       "      <td>Bangalore/Bengaluru</td>\n",
       "      <td>2-5 Yrs</td>\n",
       "    </tr>\n",
       "    <tr>\n",
       "      <th>1</th>\n",
       "      <td>Artificial Intelligence, Virtual Reality Devel...</td>\n",
       "      <td>ATG Business Solutions</td>\n",
       "      <td>Mumbai, Hyderabad/Secunderabad, Bangalore/Beng...</td>\n",
       "      <td>1-5 Yrs</td>\n",
       "    </tr>\n",
       "    <tr>\n",
       "      <th>2</th>\n",
       "      <td>DigitalBCG GAMMA Data Scientist</td>\n",
       "      <td>Boston Consulting Group</td>\n",
       "      <td>New Delhi, Bangalore/Bengaluru</td>\n",
       "      <td>2-5 Yrs</td>\n",
       "    </tr>\n",
       "    <tr>\n",
       "      <th>3</th>\n",
       "      <td>Data Scientist</td>\n",
       "      <td>Infosys</td>\n",
       "      <td>Bangalore/Bengaluru</td>\n",
       "      <td>2-7 Yrs</td>\n",
       "    </tr>\n",
       "    <tr>\n",
       "      <th>4</th>\n",
       "      <td>Senior Associate - Data Science</td>\n",
       "      <td>Black Turtle</td>\n",
       "      <td>Mumbai, Hyderabad/Secunderabad, Gurgaon/Gurugr...</td>\n",
       "      <td>4-7 Yrs</td>\n",
       "    </tr>\n",
       "    <tr>\n",
       "      <th>5</th>\n",
       "      <td>Data Scientist - Noida/Bangalore</td>\n",
       "      <td>EXL</td>\n",
       "      <td>Noida, Bangalore/Bengaluru</td>\n",
       "      <td>5-10 Yrs</td>\n",
       "    </tr>\n",
       "    <tr>\n",
       "      <th>6</th>\n",
       "      <td>Data Scientist</td>\n",
       "      <td>Applied Materials</td>\n",
       "      <td>Bangalore/Bengaluru</td>\n",
       "      <td>2-4 Yrs</td>\n",
       "    </tr>\n",
       "    <tr>\n",
       "      <th>7</th>\n",
       "      <td>Data Scientist</td>\n",
       "      <td>Applied Materials</td>\n",
       "      <td>Bangalore/Bengaluru</td>\n",
       "      <td>4-7 Yrs</td>\n",
       "    </tr>\n",
       "    <tr>\n",
       "      <th>8</th>\n",
       "      <td>DATA Scientist with Fraud Analytics Experience</td>\n",
       "      <td>Concentrix</td>\n",
       "      <td>Bangalore/Bengaluru</td>\n",
       "      <td>2-4 Yrs</td>\n",
       "    </tr>\n",
       "    <tr>\n",
       "      <th>9</th>\n",
       "      <td>Senior Data Scientist</td>\n",
       "      <td>PayU</td>\n",
       "      <td>Bangalore/Bengaluru</td>\n",
       "      <td>3-7 Yrs</td>\n",
       "    </tr>\n",
       "  </tbody>\n",
       "</table>\n",
       "</div>"
      ],
      "text/plain": [
       "                                           Job Title                  Company  \\\n",
       "0                               Data Scientist - IN3                  Walmart   \n",
       "1  Artificial Intelligence, Virtual Reality Devel...   ATG Business Solutions   \n",
       "2                    DigitalBCG GAMMA Data Scientist  Boston Consulting Group   \n",
       "3                                     Data Scientist                  Infosys   \n",
       "4                    Senior Associate - Data Science             Black Turtle   \n",
       "5                   Data Scientist - Noida/Bangalore                      EXL   \n",
       "6                                     Data Scientist        Applied Materials   \n",
       "7                                     Data Scientist        Applied Materials   \n",
       "8     DATA Scientist with Fraud Analytics Experience               Concentrix   \n",
       "9                              Senior Data Scientist                     PayU   \n",
       "\n",
       "                                            Location Experience  \n",
       "0                                Bangalore/Bengaluru    2-5 Yrs  \n",
       "1  Mumbai, Hyderabad/Secunderabad, Bangalore/Beng...    1-5 Yrs  \n",
       "2                     New Delhi, Bangalore/Bengaluru    2-5 Yrs  \n",
       "3                                Bangalore/Bengaluru    2-7 Yrs  \n",
       "4  Mumbai, Hyderabad/Secunderabad, Gurgaon/Gurugr...    4-7 Yrs  \n",
       "5                         Noida, Bangalore/Bengaluru   5-10 Yrs  \n",
       "6                                Bangalore/Bengaluru    2-4 Yrs  \n",
       "7                                Bangalore/Bengaluru    4-7 Yrs  \n",
       "8                                Bangalore/Bengaluru    2-4 Yrs  \n",
       "9                                Bangalore/Bengaluru    3-7 Yrs  "
      ]
     },
     "execution_count": 47,
     "metadata": {},
     "output_type": "execute_result"
    }
   ],
   "source": [
    "df=pd.DataFrame()\n",
    "\n",
    "df['Job Title'] = job_title\n",
    "df['Company'] = companies\n",
    "df['Location'] = location\n",
    "df['Experience'] = experience\n",
    "df"
   ]
  },
  {
   "cell_type": "code",
   "execution_count": null,
   "id": "7996cd0c",
   "metadata": {},
   "outputs": [],
   "source": []
  },
  {
   "cell_type": "code",
   "execution_count": null,
   "id": "98552bf8",
   "metadata": {},
   "outputs": [],
   "source": []
  },
  {
   "cell_type": "code",
   "execution_count": null,
   "id": "03f81c16",
   "metadata": {},
   "outputs": [],
   "source": []
  },
  {
   "cell_type": "code",
   "execution_count": 6,
   "id": "54529f80",
   "metadata": {},
   "outputs": [],
   "source": [
    "#Ques.4\n",
    "\n",
    "import selenium\n",
    "from selenium import webdriver\n",
    "from selenium.webdriver.common.by import By\n",
    "from selenium.webdriver.common.keys import Keys\n",
    "\n",
    "import pandas as pd\n",
    "import warnings\n",
    "warnings.filterwarnings(\"ignore\")"
   ]
  },
  {
   "cell_type": "code",
   "execution_count": 7,
   "id": "8a369f67",
   "metadata": {},
   "outputs": [],
   "source": [
    "browser = webdriver.Chrome()\n",
    "browser.get('https://www.flipkart.com/')"
   ]
  },
  {
   "cell_type": "code",
   "execution_count": 8,
   "id": "a06784dc",
   "metadata": {},
   "outputs": [
    {
     "data": {
      "text/plain": [
       "<selenium.webdriver.remote.webelement.WebElement (session=\"33adcbd8890f54a0a0963272f21707e4\", element=\"9da46fbe-afa8-4b39-8f89-a5eb3d8c01f6\")>"
      ]
     },
     "execution_count": 8,
     "metadata": {},
     "output_type": "execute_result"
    }
   ],
   "source": [
    "prod_search = browser.find_element(By.CLASS_NAME,\"_3704LK\")\n",
    "prod_search"
   ]
  },
  {
   "cell_type": "code",
   "execution_count": 9,
   "id": "66567089",
   "metadata": {},
   "outputs": [],
   "source": [
    "prod_search.send_keys(\"sunglasses\")"
   ]
  },
  {
   "cell_type": "code",
   "execution_count": 10,
   "id": "6074fd9f",
   "metadata": {},
   "outputs": [
    {
     "data": {
      "text/plain": [
       "<selenium.webdriver.remote.webelement.WebElement (session=\"33adcbd8890f54a0a0963272f21707e4\", element=\"5365978d-6e62-475f-aeba-91d69b2c13a3\")>"
      ]
     },
     "execution_count": 10,
     "metadata": {},
     "output_type": "execute_result"
    }
   ],
   "source": [
    "cross_page = browser.find_element(By.XPATH,\"/html/body/div[2]/div/div/button\")\n",
    "cross_page"
   ]
  },
  {
   "cell_type": "code",
   "execution_count": 11,
   "id": "43127395",
   "metadata": {},
   "outputs": [],
   "source": [
    "cross_page.click()"
   ]
  },
  {
   "cell_type": "code",
   "execution_count": 12,
   "id": "66784eee",
   "metadata": {},
   "outputs": [],
   "source": [
    "search_btn = browser.find_element(By.XPATH,\"/html/body/div[1]/div/div[1]/div[1]/div[2]/div[2]/form/div/button\")\n",
    "search_btn\n",
    "\n",
    "search_btn.click() "
   ]
  },
  {
   "cell_type": "code",
   "execution_count": 16,
   "id": "55dcda55",
   "metadata": {},
   "outputs": [
    {
     "data": {
      "text/plain": [
       "['VINCENT CHASE',\n",
       " 'ROZZETTA CRAFT',\n",
       " 'DAHAAZIL',\n",
       " 'New Specs',\n",
       " 'Fastrack',\n",
       " 'Elligator',\n",
       " 'SUNBEE',\n",
       " 'AISLIN',\n",
       " 'SUNBEE',\n",
       " 'PIRASO',\n",
       " 'SRPM',\n",
       " 'elegante',\n",
       " 'SHAAH COLLECTIONS',\n",
       " 'Fastrack',\n",
       " 'PIRASO',\n",
       " 'ROYAL SON',\n",
       " 'Fastrack',\n",
       " 'PIRASO',\n",
       " 'PIRASO',\n",
       " 'ROZZETTA CRAFT',\n",
       " 'Lee Topper',\n",
       " 'Lee Topper',\n",
       " 'ROZZETTA CRAFT',\n",
       " 'ROYAL SON',\n",
       " 'PIRASO',\n",
       " 'PIRASO',\n",
       " 'PIRASO',\n",
       " 'elegante',\n",
       " 'SHAAH COLLECTIONS',\n",
       " 'Fastrack',\n",
       " 'NuVew',\n",
       " 'GANSTA',\n",
       " 'Fastrack',\n",
       " 'Sewell',\n",
       " 'ROZZETTA CRAFT',\n",
       " 'hipe',\n",
       " 'ROZZETTA CRAFT',\n",
       " 'SRPM',\n",
       " 'New Specs',\n",
       " 'VINCENT CHASE']"
      ]
     },
     "execution_count": 16,
     "metadata": {},
     "output_type": "execute_result"
    }
   ],
   "source": [
    "brand_tag = browser.find_elements(By.XPATH,'//div[@class=\"_2WkVRV\"]')\n",
    "\n",
    "\n",
    "brand = []\n",
    "\n",
    "for i in brand_tag[0:100]:\n",
    "    \n",
    "    brand.append(i.text)\n",
    "    \n",
    "    \n",
    "brand"
   ]
  },
  {
   "cell_type": "code",
   "execution_count": 25,
   "id": "ea4b4dfb",
   "metadata": {},
   "outputs": [
    {
     "data": {
      "text/plain": [
       "['Polarized, UV Protection Round Sunglasses (51)',\n",
       " 'UV Protection, Gradient Round Sunglasses (Free Size)',\n",
       " 'UV Protection, Night Vision, Riding Glasses Wayfarer, W...',\n",
       " 'UV Protection Rectangular Sunglasses (Free Size)',\n",
       " 'UV Protection Rectangular Sunglasses (Free Size)',\n",
       " 'UV Protection Round Sunglasses (54)',\n",
       " 'UV Protection, Polarized, Mirrored Retro Square Sunglas...',\n",
       " 'Toughened Glass Lens, UV Protection Aviator, Wayfarer S...',\n",
       " 'UV Protection, Polarized Wayfarer Sunglasses (Free Size...',\n",
       " 'UV Protection Aviator Sunglasses (54)',\n",
       " 'UV Protection Wayfarer Sunglasses (50)',\n",
       " 'Polarized, Riding Glasses, Night Vision Sports Sunglass...',\n",
       " 'UV Protection, Polarized, Mirrored Rectangular Sunglass...',\n",
       " 'UV Protection Wayfarer Sunglasses (Free Size)',\n",
       " 'UV Protection Aviator Sunglasses (54)',\n",
       " 'UV Protection, Polarized Wayfarer Sunglasses (54)',\n",
       " 'UV Protection Aviator Sunglasses (Free Size)',\n",
       " 'UV Protection Aviator Sunglasses (58)',\n",
       " 'UV Protection Retro Square Sunglasses (52)',\n",
       " 'UV Protection Spectacle Sunglasses (Free Size)',\n",
       " 'Riding Glasses Wrap-around Sunglasses (Free Size)',\n",
       " 'UV Protection Cat-eye Sunglasses (Free Size)',\n",
       " 'Polarized, Riding Glasses Sports, Wrap-around Sunglasse...',\n",
       " 'UV Protection, Polarized Wayfarer Sunglasses (54)',\n",
       " 'UV Protection Wayfarer Sunglasses (32)',\n",
       " 'UV Protection Aviator Sunglasses (54)',\n",
       " 'UV Protection Over-sized Sunglasses (65)',\n",
       " 'Polarized, Riding Glasses, Night Vision Sports Sunglass...',\n",
       " 'UV Protection Round Sunglasses (Free Size)',\n",
       " 'UV Protection Aviator Sunglasses (58)',\n",
       " 'UV Protection Sports Sunglasses (62)',\n",
       " 'UV Protection Aviator Sunglasses (57)',\n",
       " 'Gradient, UV Protection Wayfarer Sunglasses (Free Size)',\n",
       " 'Mirrored, Night Vision, UV Protection, Riding Glasses S...',\n",
       " 'UV Protection, Gradient Retro Square Sunglasses (Free S...',\n",
       " 'Mirrored Wayfarer Sunglasses (55)',\n",
       " 'UV Protection Rectangular Sunglasses (Free Size)',\n",
       " 'Others Wayfarer, Retro Square Sunglasses (50)',\n",
       " 'Mirrored, UV Protection, Riding Glasses, Others Round S...',\n",
       " 'by Lenskart Polarized, UV Protection Cat-eye Sunglasses...']"
      ]
     },
     "execution_count": 25,
     "metadata": {},
     "output_type": "execute_result"
    }
   ],
   "source": [
    "prod_des = browser.find_elements(By.XPATH,'//a[@class=\"IRpwTa\"]')\n",
    "\n",
    "description = []\n",
    "\n",
    "for i in prod_des[0:100]:\n",
    "    \n",
    "    description.append(i.text) \n",
    "\n",
    "description"
   ]
  },
  {
   "cell_type": "code",
   "execution_count": 28,
   "id": "fbebe0f2",
   "metadata": {},
   "outputs": [
    {
     "data": {
      "text/plain": [
       "['₹1,533',\n",
       " '₹379',\n",
       " '₹177',\n",
       " '₹264',\n",
       " '₹639',\n",
       " '₹315',\n",
       " '₹259',\n",
       " '₹975',\n",
       " '₹283',\n",
       " '₹224',\n",
       " '₹224',\n",
       " '₹499',\n",
       " '₹195',\n",
       " '₹799',\n",
       " '₹224',\n",
       " '₹759',\n",
       " '₹639',\n",
       " '₹359',\n",
       " '₹306',\n",
       " '₹379',\n",
       " '₹299',\n",
       " '₹229',\n",
       " '₹474',\n",
       " '₹759',\n",
       " '₹226',\n",
       " '₹246',\n",
       " '₹410',\n",
       " '₹499',\n",
       " '₹279',\n",
       " '₹1,039',\n",
       " '₹291',\n",
       " '₹314',\n",
       " '₹719',\n",
       " '₹265',\n",
       " '₹331',\n",
       " '₹233',\n",
       " '₹303',\n",
       " '₹219',\n",
       " '₹299',\n",
       " '₹799']"
      ]
     },
     "execution_count": 28,
     "metadata": {},
     "output_type": "execute_result"
    }
   ],
   "source": [
    "next_button=browser.find_elements(By.XPATH,\"//a[@class='_1LKTO3']\")\n",
    "    \n",
    "price_tag = browser.find_elements(By.XPATH,'//div[@class=\"_30jeq3\"]')\n",
    "\n",
    "\n",
    "price = []\n",
    "\n",
    "for i in price_tag[0:100]:\n",
    "    \n",
    "    price.append(i.text) \n",
    "\n",
    "price"
   ]
  },
  {
   "cell_type": "code",
   "execution_count": 39,
   "id": "a92cec94",
   "metadata": {},
   "outputs": [
    {
     "data": {
      "text/plain": [
       "['81% off',\n",
       " '57% off',\n",
       " '10% off',\n",
       " '84% off',\n",
       " '15% off',\n",
       " '85% off',\n",
       " '85% off',\n",
       " '83% off',\n",
       " '52% off',\n",
       " '80% off',\n",
       " '62% off',\n",
       " '69% off',\n",
       " '75% off',\n",
       " '79% off',\n",
       " '10% off',\n",
       " '52% off',\n",
       " '79% off',\n",
       " '79% off',\n",
       " '67% off',\n",
       " '69% off',\n",
       " '52% off',\n",
       " '25% off',\n",
       " '82% off',\n",
       " '55% off',\n",
       " '25% off',\n",
       " '82% off',\n",
       " '86% off',\n",
       " '74% off',\n",
       " '67% off',\n",
       " '81% off',\n",
       " '80% off',\n",
       " '65% off',\n",
       " '75% off',\n",
       " '8% off',\n",
       " '10% off',\n",
       " '64% off',\n",
       " '78% off',\n",
       " '84% off',\n",
       " '20% off',\n",
       " '50% off']"
      ]
     },
     "execution_count": 39,
     "metadata": {},
     "output_type": "execute_result"
    }
   ],
   "source": [
    "disc_tag = browser.find_elements(By.XPATH,'//div[@class=\"_3Ay6Sb\"]')\n",
    "\n",
    "\n",
    "discount = []\n",
    "\n",
    "for i in disc_tag[0:100]:\n",
    "    \n",
    "    discount.append(i.text) \n",
    "\n",
    "discount"
   ]
  },
  {
   "cell_type": "code",
   "execution_count": 40,
   "id": "65ce8a9e",
   "metadata": {},
   "outputs": [
    {
     "data": {
      "text/plain": [
       "['₹379',\n",
       " '₹849',\n",
       " '₹899',\n",
       " '₹314',\n",
       " '₹759',\n",
       " '₹269',\n",
       " '₹289',\n",
       " '₹330',\n",
       " '₹949',\n",
       " '₹598',\n",
       " '₹265',\n",
       " '₹616',\n",
       " '₹245',\n",
       " '₹268',\n",
       " '₹899',\n",
       " '₹949',\n",
       " '₹329',\n",
       " '₹664',\n",
       " '₹260',\n",
       " '₹616',\n",
       " '₹949',\n",
       " '₹599',\n",
       " '₹269',\n",
       " '₹530',\n",
       " '₹899',\n",
       " '₹269',\n",
       " '₹214',\n",
       " '₹379',\n",
       " '₹498',\n",
       " '₹379',\n",
       " '₹324',\n",
       " '₹699',\n",
       " '₹249',\n",
       " '₹735',\n",
       " '₹809',\n",
       " '₹711',\n",
       " '₹217',\n",
       " '₹405',\n",
       " '₹639',\n",
       " '₹1,234']"
      ]
     },
     "execution_count": 40,
     "metadata": {},
     "output_type": "execute_result"
    }
   ],
   "source": [
    "price_tag = browser.find_elements(By.XPATH,'//div[@class=\"_30jeq3\"]')\n",
    "\n",
    "\n",
    "price = []\n",
    "\n",
    "for i in price_tag[0:100]:\n",
    "    \n",
    "    price.append(i.text) \n",
    "    \n",
    "price"
   ]
  },
  {
   "cell_type": "code",
   "execution_count": 41,
   "id": "6503ac50",
   "metadata": {},
   "outputs": [
    {
     "data": {
      "text/html": [
       "<div>\n",
       "<style scoped>\n",
       "    .dataframe tbody tr th:only-of-type {\n",
       "        vertical-align: middle;\n",
       "    }\n",
       "\n",
       "    .dataframe tbody tr th {\n",
       "        vertical-align: top;\n",
       "    }\n",
       "\n",
       "    .dataframe thead th {\n",
       "        text-align: right;\n",
       "    }\n",
       "</style>\n",
       "<table border=\"1\" class=\"dataframe\">\n",
       "  <thead>\n",
       "    <tr style=\"text-align: right;\">\n",
       "      <th></th>\n",
       "      <th>Sunglass Brand</th>\n",
       "      <th>Description</th>\n",
       "      <th>% Discount</th>\n",
       "      <th>Price</th>\n",
       "    </tr>\n",
       "  </thead>\n",
       "  <tbody>\n",
       "    <tr>\n",
       "      <th>0</th>\n",
       "      <td>VINCENT CHASE</td>\n",
       "      <td>Polarized, UV Protection Round Sunglasses (51)</td>\n",
       "      <td>81% off</td>\n",
       "      <td>₹379</td>\n",
       "    </tr>\n",
       "    <tr>\n",
       "      <th>1</th>\n",
       "      <td>ROZZETTA CRAFT</td>\n",
       "      <td>UV Protection, Gradient Round Sunglasses (Free...</td>\n",
       "      <td>57% off</td>\n",
       "      <td>₹849</td>\n",
       "    </tr>\n",
       "    <tr>\n",
       "      <th>2</th>\n",
       "      <td>DAHAAZIL</td>\n",
       "      <td>UV Protection, Night Vision, Riding Glasses Wa...</td>\n",
       "      <td>10% off</td>\n",
       "      <td>₹899</td>\n",
       "    </tr>\n",
       "    <tr>\n",
       "      <th>3</th>\n",
       "      <td>New Specs</td>\n",
       "      <td>UV Protection Rectangular Sunglasses (Free Size)</td>\n",
       "      <td>84% off</td>\n",
       "      <td>₹314</td>\n",
       "    </tr>\n",
       "    <tr>\n",
       "      <th>4</th>\n",
       "      <td>Fastrack</td>\n",
       "      <td>UV Protection Rectangular Sunglasses (Free Size)</td>\n",
       "      <td>15% off</td>\n",
       "      <td>₹759</td>\n",
       "    </tr>\n",
       "    <tr>\n",
       "      <th>5</th>\n",
       "      <td>Elligator</td>\n",
       "      <td>UV Protection Round Sunglasses (54)</td>\n",
       "      <td>85% off</td>\n",
       "      <td>₹269</td>\n",
       "    </tr>\n",
       "    <tr>\n",
       "      <th>6</th>\n",
       "      <td>SUNBEE</td>\n",
       "      <td>UV Protection, Polarized, Mirrored Retro Squar...</td>\n",
       "      <td>85% off</td>\n",
       "      <td>₹289</td>\n",
       "    </tr>\n",
       "    <tr>\n",
       "      <th>7</th>\n",
       "      <td>AISLIN</td>\n",
       "      <td>Toughened Glass Lens, UV Protection Aviator, W...</td>\n",
       "      <td>83% off</td>\n",
       "      <td>₹330</td>\n",
       "    </tr>\n",
       "    <tr>\n",
       "      <th>8</th>\n",
       "      <td>SUNBEE</td>\n",
       "      <td>UV Protection, Polarized Wayfarer Sunglasses (...</td>\n",
       "      <td>52% off</td>\n",
       "      <td>₹949</td>\n",
       "    </tr>\n",
       "    <tr>\n",
       "      <th>9</th>\n",
       "      <td>PIRASO</td>\n",
       "      <td>UV Protection Aviator Sunglasses (54)</td>\n",
       "      <td>80% off</td>\n",
       "      <td>₹598</td>\n",
       "    </tr>\n",
       "    <tr>\n",
       "      <th>10</th>\n",
       "      <td>SRPM</td>\n",
       "      <td>UV Protection Wayfarer Sunglasses (50)</td>\n",
       "      <td>62% off</td>\n",
       "      <td>₹265</td>\n",
       "    </tr>\n",
       "    <tr>\n",
       "      <th>11</th>\n",
       "      <td>elegante</td>\n",
       "      <td>Polarized, Riding Glasses, Night Vision Sports...</td>\n",
       "      <td>69% off</td>\n",
       "      <td>₹616</td>\n",
       "    </tr>\n",
       "    <tr>\n",
       "      <th>12</th>\n",
       "      <td>SHAAH COLLECTIONS</td>\n",
       "      <td>UV Protection, Polarized, Mirrored Rectangular...</td>\n",
       "      <td>75% off</td>\n",
       "      <td>₹245</td>\n",
       "    </tr>\n",
       "    <tr>\n",
       "      <th>13</th>\n",
       "      <td>Fastrack</td>\n",
       "      <td>UV Protection Wayfarer Sunglasses (Free Size)</td>\n",
       "      <td>79% off</td>\n",
       "      <td>₹268</td>\n",
       "    </tr>\n",
       "    <tr>\n",
       "      <th>14</th>\n",
       "      <td>PIRASO</td>\n",
       "      <td>UV Protection Aviator Sunglasses (54)</td>\n",
       "      <td>10% off</td>\n",
       "      <td>₹899</td>\n",
       "    </tr>\n",
       "    <tr>\n",
       "      <th>15</th>\n",
       "      <td>ROYAL SON</td>\n",
       "      <td>UV Protection, Polarized Wayfarer Sunglasses (54)</td>\n",
       "      <td>52% off</td>\n",
       "      <td>₹949</td>\n",
       "    </tr>\n",
       "    <tr>\n",
       "      <th>16</th>\n",
       "      <td>Fastrack</td>\n",
       "      <td>UV Protection Aviator Sunglasses (Free Size)</td>\n",
       "      <td>79% off</td>\n",
       "      <td>₹329</td>\n",
       "    </tr>\n",
       "    <tr>\n",
       "      <th>17</th>\n",
       "      <td>PIRASO</td>\n",
       "      <td>UV Protection Aviator Sunglasses (58)</td>\n",
       "      <td>79% off</td>\n",
       "      <td>₹664</td>\n",
       "    </tr>\n",
       "    <tr>\n",
       "      <th>18</th>\n",
       "      <td>PIRASO</td>\n",
       "      <td>UV Protection Retro Square Sunglasses (52)</td>\n",
       "      <td>67% off</td>\n",
       "      <td>₹260</td>\n",
       "    </tr>\n",
       "    <tr>\n",
       "      <th>19</th>\n",
       "      <td>ROZZETTA CRAFT</td>\n",
       "      <td>UV Protection Spectacle Sunglasses (Free Size)</td>\n",
       "      <td>69% off</td>\n",
       "      <td>₹616</td>\n",
       "    </tr>\n",
       "    <tr>\n",
       "      <th>20</th>\n",
       "      <td>Lee Topper</td>\n",
       "      <td>Riding Glasses Wrap-around Sunglasses (Free Size)</td>\n",
       "      <td>52% off</td>\n",
       "      <td>₹949</td>\n",
       "    </tr>\n",
       "    <tr>\n",
       "      <th>21</th>\n",
       "      <td>Lee Topper</td>\n",
       "      <td>UV Protection Cat-eye Sunglasses (Free Size)</td>\n",
       "      <td>25% off</td>\n",
       "      <td>₹599</td>\n",
       "    </tr>\n",
       "    <tr>\n",
       "      <th>22</th>\n",
       "      <td>ROZZETTA CRAFT</td>\n",
       "      <td>Polarized, Riding Glasses Sports, Wrap-around ...</td>\n",
       "      <td>82% off</td>\n",
       "      <td>₹269</td>\n",
       "    </tr>\n",
       "    <tr>\n",
       "      <th>23</th>\n",
       "      <td>ROYAL SON</td>\n",
       "      <td>UV Protection, Polarized Wayfarer Sunglasses (54)</td>\n",
       "      <td>55% off</td>\n",
       "      <td>₹530</td>\n",
       "    </tr>\n",
       "    <tr>\n",
       "      <th>24</th>\n",
       "      <td>PIRASO</td>\n",
       "      <td>UV Protection Wayfarer Sunglasses (32)</td>\n",
       "      <td>25% off</td>\n",
       "      <td>₹899</td>\n",
       "    </tr>\n",
       "    <tr>\n",
       "      <th>25</th>\n",
       "      <td>PIRASO</td>\n",
       "      <td>UV Protection Aviator Sunglasses (54)</td>\n",
       "      <td>82% off</td>\n",
       "      <td>₹269</td>\n",
       "    </tr>\n",
       "    <tr>\n",
       "      <th>26</th>\n",
       "      <td>PIRASO</td>\n",
       "      <td>UV Protection Over-sized Sunglasses (65)</td>\n",
       "      <td>86% off</td>\n",
       "      <td>₹214</td>\n",
       "    </tr>\n",
       "    <tr>\n",
       "      <th>27</th>\n",
       "      <td>elegante</td>\n",
       "      <td>Polarized, Riding Glasses, Night Vision Sports...</td>\n",
       "      <td>74% off</td>\n",
       "      <td>₹379</td>\n",
       "    </tr>\n",
       "    <tr>\n",
       "      <th>28</th>\n",
       "      <td>SHAAH COLLECTIONS</td>\n",
       "      <td>UV Protection Round Sunglasses (Free Size)</td>\n",
       "      <td>67% off</td>\n",
       "      <td>₹498</td>\n",
       "    </tr>\n",
       "    <tr>\n",
       "      <th>29</th>\n",
       "      <td>Fastrack</td>\n",
       "      <td>UV Protection Aviator Sunglasses (58)</td>\n",
       "      <td>81% off</td>\n",
       "      <td>₹379</td>\n",
       "    </tr>\n",
       "    <tr>\n",
       "      <th>30</th>\n",
       "      <td>NuVew</td>\n",
       "      <td>UV Protection Sports Sunglasses (62)</td>\n",
       "      <td>80% off</td>\n",
       "      <td>₹324</td>\n",
       "    </tr>\n",
       "    <tr>\n",
       "      <th>31</th>\n",
       "      <td>GANSTA</td>\n",
       "      <td>UV Protection Aviator Sunglasses (57)</td>\n",
       "      <td>65% off</td>\n",
       "      <td>₹699</td>\n",
       "    </tr>\n",
       "    <tr>\n",
       "      <th>32</th>\n",
       "      <td>Fastrack</td>\n",
       "      <td>Gradient, UV Protection Wayfarer Sunglasses (F...</td>\n",
       "      <td>75% off</td>\n",
       "      <td>₹249</td>\n",
       "    </tr>\n",
       "    <tr>\n",
       "      <th>33</th>\n",
       "      <td>Sewell</td>\n",
       "      <td>Mirrored, Night Vision, UV Protection, Riding ...</td>\n",
       "      <td>8% off</td>\n",
       "      <td>₹735</td>\n",
       "    </tr>\n",
       "    <tr>\n",
       "      <th>34</th>\n",
       "      <td>ROZZETTA CRAFT</td>\n",
       "      <td>UV Protection, Gradient Retro Square Sunglasse...</td>\n",
       "      <td>10% off</td>\n",
       "      <td>₹809</td>\n",
       "    </tr>\n",
       "    <tr>\n",
       "      <th>35</th>\n",
       "      <td>hipe</td>\n",
       "      <td>Mirrored Wayfarer Sunglasses (55)</td>\n",
       "      <td>64% off</td>\n",
       "      <td>₹711</td>\n",
       "    </tr>\n",
       "    <tr>\n",
       "      <th>36</th>\n",
       "      <td>ROZZETTA CRAFT</td>\n",
       "      <td>UV Protection Rectangular Sunglasses (Free Size)</td>\n",
       "      <td>78% off</td>\n",
       "      <td>₹217</td>\n",
       "    </tr>\n",
       "    <tr>\n",
       "      <th>37</th>\n",
       "      <td>SRPM</td>\n",
       "      <td>Others Wayfarer, Retro Square Sunglasses (50)</td>\n",
       "      <td>84% off</td>\n",
       "      <td>₹405</td>\n",
       "    </tr>\n",
       "    <tr>\n",
       "      <th>38</th>\n",
       "      <td>New Specs</td>\n",
       "      <td>Mirrored, UV Protection, Riding Glasses, Other...</td>\n",
       "      <td>20% off</td>\n",
       "      <td>₹639</td>\n",
       "    </tr>\n",
       "    <tr>\n",
       "      <th>39</th>\n",
       "      <td>VINCENT CHASE</td>\n",
       "      <td>by Lenskart Polarized, UV Protection Cat-eye S...</td>\n",
       "      <td>50% off</td>\n",
       "      <td>₹1,234</td>\n",
       "    </tr>\n",
       "  </tbody>\n",
       "</table>\n",
       "</div>"
      ],
      "text/plain": [
       "       Sunglass Brand                                        Description  \\\n",
       "0       VINCENT CHASE     Polarized, UV Protection Round Sunglasses (51)   \n",
       "1      ROZZETTA CRAFT  UV Protection, Gradient Round Sunglasses (Free...   \n",
       "2            DAHAAZIL  UV Protection, Night Vision, Riding Glasses Wa...   \n",
       "3           New Specs   UV Protection Rectangular Sunglasses (Free Size)   \n",
       "4            Fastrack   UV Protection Rectangular Sunglasses (Free Size)   \n",
       "5           Elligator                UV Protection Round Sunglasses (54)   \n",
       "6              SUNBEE  UV Protection, Polarized, Mirrored Retro Squar...   \n",
       "7              AISLIN  Toughened Glass Lens, UV Protection Aviator, W...   \n",
       "8              SUNBEE  UV Protection, Polarized Wayfarer Sunglasses (...   \n",
       "9              PIRASO              UV Protection Aviator Sunglasses (54)   \n",
       "10               SRPM             UV Protection Wayfarer Sunglasses (50)   \n",
       "11           elegante  Polarized, Riding Glasses, Night Vision Sports...   \n",
       "12  SHAAH COLLECTIONS  UV Protection, Polarized, Mirrored Rectangular...   \n",
       "13           Fastrack      UV Protection Wayfarer Sunglasses (Free Size)   \n",
       "14             PIRASO              UV Protection Aviator Sunglasses (54)   \n",
       "15          ROYAL SON  UV Protection, Polarized Wayfarer Sunglasses (54)   \n",
       "16           Fastrack       UV Protection Aviator Sunglasses (Free Size)   \n",
       "17             PIRASO              UV Protection Aviator Sunglasses (58)   \n",
       "18             PIRASO         UV Protection Retro Square Sunglasses (52)   \n",
       "19     ROZZETTA CRAFT     UV Protection Spectacle Sunglasses (Free Size)   \n",
       "20         Lee Topper  Riding Glasses Wrap-around Sunglasses (Free Size)   \n",
       "21         Lee Topper       UV Protection Cat-eye Sunglasses (Free Size)   \n",
       "22     ROZZETTA CRAFT  Polarized, Riding Glasses Sports, Wrap-around ...   \n",
       "23          ROYAL SON  UV Protection, Polarized Wayfarer Sunglasses (54)   \n",
       "24             PIRASO             UV Protection Wayfarer Sunglasses (32)   \n",
       "25             PIRASO              UV Protection Aviator Sunglasses (54)   \n",
       "26             PIRASO           UV Protection Over-sized Sunglasses (65)   \n",
       "27           elegante  Polarized, Riding Glasses, Night Vision Sports...   \n",
       "28  SHAAH COLLECTIONS         UV Protection Round Sunglasses (Free Size)   \n",
       "29           Fastrack              UV Protection Aviator Sunglasses (58)   \n",
       "30              NuVew               UV Protection Sports Sunglasses (62)   \n",
       "31             GANSTA              UV Protection Aviator Sunglasses (57)   \n",
       "32           Fastrack  Gradient, UV Protection Wayfarer Sunglasses (F...   \n",
       "33             Sewell  Mirrored, Night Vision, UV Protection, Riding ...   \n",
       "34     ROZZETTA CRAFT  UV Protection, Gradient Retro Square Sunglasse...   \n",
       "35               hipe                  Mirrored Wayfarer Sunglasses (55)   \n",
       "36     ROZZETTA CRAFT   UV Protection Rectangular Sunglasses (Free Size)   \n",
       "37               SRPM      Others Wayfarer, Retro Square Sunglasses (50)   \n",
       "38          New Specs  Mirrored, UV Protection, Riding Glasses, Other...   \n",
       "39      VINCENT CHASE  by Lenskart Polarized, UV Protection Cat-eye S...   \n",
       "\n",
       "   % Discount   Price  \n",
       "0     81% off    ₹379  \n",
       "1     57% off    ₹849  \n",
       "2     10% off    ₹899  \n",
       "3     84% off    ₹314  \n",
       "4     15% off    ₹759  \n",
       "5     85% off    ₹269  \n",
       "6     85% off    ₹289  \n",
       "7     83% off    ₹330  \n",
       "8     52% off    ₹949  \n",
       "9     80% off    ₹598  \n",
       "10    62% off    ₹265  \n",
       "11    69% off    ₹616  \n",
       "12    75% off    ₹245  \n",
       "13    79% off    ₹268  \n",
       "14    10% off    ₹899  \n",
       "15    52% off    ₹949  \n",
       "16    79% off    ₹329  \n",
       "17    79% off    ₹664  \n",
       "18    67% off    ₹260  \n",
       "19    69% off    ₹616  \n",
       "20    52% off    ₹949  \n",
       "21    25% off    ₹599  \n",
       "22    82% off    ₹269  \n",
       "23    55% off    ₹530  \n",
       "24    25% off    ₹899  \n",
       "25    82% off    ₹269  \n",
       "26    86% off    ₹214  \n",
       "27    74% off    ₹379  \n",
       "28    67% off    ₹498  \n",
       "29    81% off    ₹379  \n",
       "30    80% off    ₹324  \n",
       "31    65% off    ₹699  \n",
       "32    75% off    ₹249  \n",
       "33     8% off    ₹735  \n",
       "34    10% off    ₹809  \n",
       "35    64% off    ₹711  \n",
       "36    78% off    ₹217  \n",
       "37    84% off    ₹405  \n",
       "38    20% off    ₹639  \n",
       "39    50% off  ₹1,234  "
      ]
     },
     "execution_count": 41,
     "metadata": {},
     "output_type": "execute_result"
    }
   ],
   "source": [
    "df=pd.DataFrame()\n",
    "\n",
    "\n",
    "df['Sunglass Brand'] = brand\n",
    "df['Description'] = description\n",
    "df['% Discount'] = discount\n",
    "df['Price'] = price\n",
    "df"
   ]
  },
  {
   "cell_type": "code",
   "execution_count": null,
   "id": "b67d1d43",
   "metadata": {},
   "outputs": [],
   "source": []
  },
  {
   "cell_type": "code",
   "execution_count": null,
   "id": "f36fbe10",
   "metadata": {},
   "outputs": [],
   "source": []
  },
  {
   "cell_type": "code",
   "execution_count": 277,
   "id": "e6311e64",
   "metadata": {},
   "outputs": [],
   "source": [
    "#Ques.5\n",
    "\n",
    "import selenium\n",
    "from selenium import webdriver\n",
    "from selenium.webdriver.common.by import By\n",
    "from selenium.webdriver.common.keys import Keys\n",
    "\n",
    "import pandas as pd\n",
    "import warnings\n",
    "warnings.filterwarnings(\"ignore\")\n"
   ]
  },
  {
   "cell_type": "code",
   "execution_count": 278,
   "id": "01f728e7",
   "metadata": {},
   "outputs": [],
   "source": [
    "browser = webdriver.Chrome()\n",
    "browser.get('https://www.flipkart.com/')"
   ]
  },
  {
   "cell_type": "code",
   "execution_count": 279,
   "id": "cc6107cf",
   "metadata": {},
   "outputs": [
    {
     "data": {
      "text/plain": [
       "<selenium.webdriver.remote.webelement.WebElement (session=\"cbfe799ed6492ebc102bf9b4c9b63c55\", element=\"06eaa539-8286-4a08-aca5-f6a26a505e2f\")>"
      ]
     },
     "execution_count": 279,
     "metadata": {},
     "output_type": "execute_result"
    }
   ],
   "source": [
    "prod_search = browser.find_element(By.XPATH,\"/html/body/div[1]/div/div[1]/div[1]/div[2]/div[2]/form/div/div/input\")\n",
    "prod_search"
   ]
  },
  {
   "cell_type": "code",
   "execution_count": 280,
   "id": "465fe39a",
   "metadata": {},
   "outputs": [],
   "source": [
    "prod_search.send_keys(\"iphone 11\")\n"
   ]
  },
  {
   "cell_type": "code",
   "execution_count": 283,
   "id": "daec6543",
   "metadata": {},
   "outputs": [
    {
     "data": {
      "text/plain": [
       "<selenium.webdriver.remote.webelement.WebElement (session=\"cbfe799ed6492ebc102bf9b4c9b63c55\", element=\"ffd989d4-4cf4-444a-bcd5-d754034cf880\")>"
      ]
     },
     "execution_count": 283,
     "metadata": {},
     "output_type": "execute_result"
    }
   ],
   "source": [
    "go_btn = browser.find_element(By.XPATH,\"/html/body/div[1]/div/div[1]/div[1]/div[2]/div[2]/form/div/button\")\n",
    "go_btn"
   ]
  },
  {
   "cell_type": "code",
   "execution_count": 284,
   "id": "1f71b7c1",
   "metadata": {},
   "outputs": [],
   "source": [
    "go_btn.click()"
   ]
  },
  {
   "cell_type": "code",
   "execution_count": 299,
   "id": "a9f4c7ce",
   "metadata": {},
   "outputs": [],
   "source": [
    "select_iphone = browser.find_element(By.XPATH,'//div[@class=\"_4rR01T\"]')\n",
    "select_iphone\n",
    "\n",
    "select_iphone.click()"
   ]
  },
  {
   "cell_type": "code",
   "execution_count": 319,
   "id": "2e828f9e",
   "metadata": {},
   "outputs": [
    {
     "ename": "TypeError",
     "evalue": "'WebElement' object is not iterable",
     "output_type": "error",
     "traceback": [
      "\u001b[1;31m---------------------------------------------------------------------------\u001b[0m",
      "\u001b[1;31mTypeError\u001b[0m                                 Traceback (most recent call last)",
      "\u001b[1;32m~\\AppData\\Local\\Temp/ipykernel_7900/10690577.py\u001b[0m in \u001b[0;36m<module>\u001b[1;34m\u001b[0m\n\u001b[0;32m      3\u001b[0m \u001b[0mrating\u001b[0m \u001b[1;33m=\u001b[0m \u001b[1;33m[\u001b[0m\u001b[1;33m]\u001b[0m\u001b[1;33m\u001b[0m\u001b[1;33m\u001b[0m\u001b[0m\n\u001b[0;32m      4\u001b[0m \u001b[1;33m\u001b[0m\u001b[0m\n\u001b[1;32m----> 5\u001b[1;33m \u001b[1;32mfor\u001b[0m \u001b[0mi\u001b[0m \u001b[1;32min\u001b[0m \u001b[0mrating_tag\u001b[0m\u001b[1;33m:\u001b[0m\u001b[1;33m\u001b[0m\u001b[1;33m\u001b[0m\u001b[0m\n\u001b[0m\u001b[0;32m      6\u001b[0m \u001b[1;33m\u001b[0m\u001b[0m\n\u001b[0;32m      7\u001b[0m     \u001b[0mrating\u001b[0m\u001b[1;33m.\u001b[0m\u001b[0mappend\u001b[0m\u001b[1;33m(\u001b[0m\u001b[0mi\u001b[0m\u001b[1;33m.\u001b[0m\u001b[0mtext\u001b[0m\u001b[1;33m)\u001b[0m\u001b[1;33m\u001b[0m\u001b[1;33m\u001b[0m\u001b[0m\n",
      "\u001b[1;31mTypeError\u001b[0m: 'WebElement' object is not iterable"
     ]
    }
   ],
   "source": [
    "rating_tag = browser.find_element(By.XPATH,'//div[@class=\"_3LWZlK\"]')\n",
    "\n",
    "rating = []\n",
    "\n",
    "for i in rating_tag:\n",
    "         \n",
    "    rating.append(i.text) \n",
    "\n",
    "rating"
   ]
  },
  {
   "cell_type": "code",
   "execution_count": 53,
   "id": "f7dc6401",
   "metadata": {},
   "outputs": [
    {
     "data": {
      "text/plain": [
       "['Classy product',\n",
       " 'Fair',\n",
       " 'Worth every penny',\n",
       " 'Worth every penny',\n",
       " 'Just wow!',\n",
       " 'Delightful',\n",
       " 'Great product',\n",
       " 'Unsatisfactory',\n",
       " 'Best in the market!',\n",
       " 'Great product']"
      ]
     },
     "execution_count": 53,
     "metadata": {},
     "output_type": "execute_result"
    }
   ],
   "source": [
    "sum_rev = browser.find_elements(By.XPATH,'//p[@class=\"_2-N8zT\"]')\n",
    "\n",
    "\n",
    "Summary1 = []\n",
    "\n",
    "\n",
    "for i in sum_rev:\n",
    "    \n",
    "    Summary1.append(i.text) \n",
    "\n",
    "    \n",
    "\n",
    "Summary1"
   ]
  },
  {
   "cell_type": "code",
   "execution_count": 54,
   "id": "c551a8a0",
   "metadata": {},
   "outputs": [
    {
     "data": {
      "text/plain": [
       "['Sunglasses are Just awesome and good looking pure transparent',\n",
       " 'Not bad but good product rate wise',\n",
       " 'Worth for the money, awesome product and quality is really good. Brand name (Fastrack) speaks👍.',\n",
       " 'Awesome quality ......superb look',\n",
       " \"If one's looking for comfortable wear. Please go for this product. It's amazing..! It fits me perfectly. Thank you for this cool product.\",\n",
       " 'Nice product Good Quality 👍🏻😊',\n",
       " 'Very good 👍 product 😘 and number one quality 😍\\nI am so happy 🥳😃 buying this product 😎',\n",
       " 'Not a good product 👎',\n",
       " 'Osmm product thanq flipcart I loved it🥰',\n",
       " 'This product is highly good']"
      ]
     },
     "execution_count": 54,
     "metadata": {},
     "output_type": "execute_result"
    }
   ],
   "source": [
    "det_summary = browser.find_elements(By.XPATH,'//div[@class=\"t-ZTKy\"]')\n",
    "\n",
    "\n",
    "Summary2 = []\n",
    "\n",
    "for i in det_summary:\n",
    "    \n",
    "    Summary2.append(i.text) \n",
    "\n",
    "Summary2"
   ]
  },
  {
   "cell_type": "code",
   "execution_count": 55,
   "id": "c2d1ec0f",
   "metadata": {},
   "outputs": [
    {
     "data": {
      "text/html": [
       "<div>\n",
       "<style scoped>\n",
       "    .dataframe tbody tr th:only-of-type {\n",
       "        vertical-align: middle;\n",
       "    }\n",
       "\n",
       "    .dataframe tbody tr th {\n",
       "        vertical-align: top;\n",
       "    }\n",
       "\n",
       "    .dataframe thead th {\n",
       "        text-align: right;\n",
       "    }\n",
       "</style>\n",
       "<table border=\"1\" class=\"dataframe\">\n",
       "  <thead>\n",
       "    <tr style=\"text-align: right;\">\n",
       "      <th></th>\n",
       "      <th>Review Summary</th>\n",
       "      <th>Detailed Summary</th>\n",
       "    </tr>\n",
       "  </thead>\n",
       "  <tbody>\n",
       "    <tr>\n",
       "      <th>0</th>\n",
       "      <td>Classy product</td>\n",
       "      <td>Sunglasses are Just awesome and good looking p...</td>\n",
       "    </tr>\n",
       "    <tr>\n",
       "      <th>1</th>\n",
       "      <td>Fair</td>\n",
       "      <td>Not bad but good product rate wise</td>\n",
       "    </tr>\n",
       "    <tr>\n",
       "      <th>2</th>\n",
       "      <td>Worth every penny</td>\n",
       "      <td>Worth for the money, awesome product and quali...</td>\n",
       "    </tr>\n",
       "    <tr>\n",
       "      <th>3</th>\n",
       "      <td>Worth every penny</td>\n",
       "      <td>Awesome quality ......superb look</td>\n",
       "    </tr>\n",
       "    <tr>\n",
       "      <th>4</th>\n",
       "      <td>Just wow!</td>\n",
       "      <td>If one's looking for comfortable wear. Please ...</td>\n",
       "    </tr>\n",
       "    <tr>\n",
       "      <th>5</th>\n",
       "      <td>Delightful</td>\n",
       "      <td>Nice product Good Quality 👍🏻😊</td>\n",
       "    </tr>\n",
       "    <tr>\n",
       "      <th>6</th>\n",
       "      <td>Great product</td>\n",
       "      <td>Very good 👍 product 😘 and number one quality 😍...</td>\n",
       "    </tr>\n",
       "    <tr>\n",
       "      <th>7</th>\n",
       "      <td>Unsatisfactory</td>\n",
       "      <td>Not a good product 👎</td>\n",
       "    </tr>\n",
       "    <tr>\n",
       "      <th>8</th>\n",
       "      <td>Best in the market!</td>\n",
       "      <td>Osmm product thanq flipcart I loved it🥰</td>\n",
       "    </tr>\n",
       "    <tr>\n",
       "      <th>9</th>\n",
       "      <td>Great product</td>\n",
       "      <td>This product is highly good</td>\n",
       "    </tr>\n",
       "  </tbody>\n",
       "</table>\n",
       "</div>"
      ],
      "text/plain": [
       "        Review Summary                                   Detailed Summary\n",
       "0       Classy product  Sunglasses are Just awesome and good looking p...\n",
       "1                 Fair                 Not bad but good product rate wise\n",
       "2    Worth every penny  Worth for the money, awesome product and quali...\n",
       "3    Worth every penny                  Awesome quality ......superb look\n",
       "4            Just wow!  If one's looking for comfortable wear. Please ...\n",
       "5           Delightful                      Nice product Good Quality 👍🏻😊\n",
       "6        Great product  Very good 👍 product 😘 and number one quality 😍...\n",
       "7       Unsatisfactory                               Not a good product 👎\n",
       "8  Best in the market!            Osmm product thanq flipcart I loved it🥰\n",
       "9        Great product                        This product is highly good"
      ]
     },
     "execution_count": 55,
     "metadata": {},
     "output_type": "execute_result"
    }
   ],
   "source": [
    "df=pd.DataFrame()\n",
    "\n",
    "\n",
    "#df['Rating'] = rating\n",
    "df['Review Summary'] = Summary1\n",
    "df['Detailed Summary'] = Summary2\n",
    "df"
   ]
  },
  {
   "cell_type": "code",
   "execution_count": null,
   "id": "300e4542",
   "metadata": {},
   "outputs": [],
   "source": []
  },
  {
   "cell_type": "code",
   "execution_count": 87,
   "id": "7387d636",
   "metadata": {},
   "outputs": [],
   "source": [
    "#Ques.6\n",
    "\n",
    "import selenium\n",
    "from selenium import webdriver\n",
    "from selenium.webdriver.common.by import By\n",
    "from selenium.webdriver.common.keys import Keys\n",
    "\n",
    "import pandas as pd\n",
    "import warnings\n",
    "warnings.filterwarnings(\"ignore\")\n"
   ]
  },
  {
   "cell_type": "code",
   "execution_count": 88,
   "id": "ca294319",
   "metadata": {},
   "outputs": [],
   "source": [
    "browser = webdriver.Chrome()\n",
    "browser.get('https://www.flipkart.com/')"
   ]
  },
  {
   "cell_type": "code",
   "execution_count": 89,
   "id": "3668f9a6",
   "metadata": {},
   "outputs": [
    {
     "data": {
      "text/plain": [
       "<selenium.webdriver.remote.webelement.WebElement (session=\"6016d08290c0c36436c4013706e89919\", element=\"f5293d43-f57f-4a1c-b5b2-a508f5d9e1fc\")>"
      ]
     },
     "execution_count": 89,
     "metadata": {},
     "output_type": "execute_result"
    }
   ],
   "source": [
    "prod_search = browser.find_element(By.XPATH,\"/html/body/div[1]/div/div[1]/div[1]/div[2]/div[2]/form/div/div/input\")\n",
    "prod_search"
   ]
  },
  {
   "cell_type": "code",
   "execution_count": 90,
   "id": "f77143bd",
   "metadata": {},
   "outputs": [],
   "source": [
    "prod_search = prod_search.send_keys(\"sneakers\")"
   ]
  },
  {
   "cell_type": "code",
   "execution_count": null,
   "id": "8d458781",
   "metadata": {},
   "outputs": [],
   "source": []
  },
  {
   "cell_type": "code",
   "execution_count": 91,
   "id": "a451087b",
   "metadata": {},
   "outputs": [],
   "source": [
    "cross_page = browser.find_element(By.XPATH,\"/html/body/div[2]/div/div/button\")"
   ]
  },
  {
   "cell_type": "code",
   "execution_count": 92,
   "id": "061ba0fd",
   "metadata": {},
   "outputs": [
    {
     "data": {
      "text/plain": [
       "<selenium.webdriver.remote.webelement.WebElement (session=\"6016d08290c0c36436c4013706e89919\", element=\"bb434ba5-5a0a-4419-87f2-5bee17ac5429\")>"
      ]
     },
     "execution_count": 92,
     "metadata": {},
     "output_type": "execute_result"
    }
   ],
   "source": [
    "cross_page"
   ]
  },
  {
   "cell_type": "code",
   "execution_count": 93,
   "id": "2950c534",
   "metadata": {},
   "outputs": [],
   "source": [
    "cross_page.click()"
   ]
  },
  {
   "cell_type": "code",
   "execution_count": 94,
   "id": "63d84e57",
   "metadata": {},
   "outputs": [
    {
     "data": {
      "text/plain": [
       "<selenium.webdriver.remote.webelement.WebElement (session=\"6016d08290c0c36436c4013706e89919\", element=\"75a7bfdf-bf04-4e3f-9ec1-d4220e3242f6\")>"
      ]
     },
     "execution_count": 94,
     "metadata": {},
     "output_type": "execute_result"
    }
   ],
   "source": [
    "go_btn = browser.find_element(By.XPATH,\"/html/body/div[1]/div/div[1]/div[1]/div[2]/div[2]/form/div/button\")\n",
    "go_btn"
   ]
  },
  {
   "cell_type": "code",
   "execution_count": 95,
   "id": "6275e655",
   "metadata": {},
   "outputs": [],
   "source": [
    "go_btn.click()"
   ]
  },
  {
   "cell_type": "code",
   "execution_count": 102,
   "id": "46886909",
   "metadata": {},
   "outputs": [
    {
     "ename": "TypeError",
     "evalue": "'list' object is not callable",
     "output_type": "error",
     "traceback": [
      "\u001b[1;31m---------------------------------------------------------------------------\u001b[0m",
      "\u001b[1;31mTypeError\u001b[0m                                 Traceback (most recent call last)",
      "\u001b[1;32m~\\AppData\\Local\\Temp/ipykernel_10340/45401940.py\u001b[0m in \u001b[0;36m<module>\u001b[1;34m\u001b[0m\n\u001b[0;32m      5\u001b[0m \u001b[1;32mfor\u001b[0m \u001b[0mi\u001b[0m \u001b[1;32min\u001b[0m \u001b[0msneaker_type\u001b[0m\u001b[1;33m:\u001b[0m\u001b[1;33m\u001b[0m\u001b[1;33m\u001b[0m\u001b[0m\n\u001b[0;32m      6\u001b[0m \u001b[1;33m\u001b[0m\u001b[0m\n\u001b[1;32m----> 7\u001b[1;33m     \u001b[0msneaker_name\u001b[0m\u001b[1;33m(\u001b[0m\u001b[0mi\u001b[0m\u001b[1;33m.\u001b[0m\u001b[0mtext\u001b[0m\u001b[1;33m)\u001b[0m\u001b[1;33m\u001b[0m\u001b[1;33m\u001b[0m\u001b[0m\n\u001b[0m\u001b[0;32m      8\u001b[0m \u001b[1;33m\u001b[0m\u001b[0m\n\u001b[0;32m      9\u001b[0m \u001b[0msneaker_name\u001b[0m\u001b[1;33m\u001b[0m\u001b[1;33m\u001b[0m\u001b[0m\n",
      "\u001b[1;31mTypeError\u001b[0m: 'list' object is not callable"
     ]
    }
   ],
   "source": [
    "sneaker_type = browser.find_elements(By.XPATH,'//div[@class=\"_2B099V\"]')\n",
    "\n",
    "sneaker_name = []\n",
    "\n",
    "for i in sneaker_type:\n",
    "    \n",
    "    sneaker_name(i.text)\n",
    "    \n",
    "sneaker_name"
   ]
  },
  {
   "cell_type": "code",
   "execution_count": 103,
   "id": "d518acb5",
   "metadata": {},
   "outputs": [
    {
     "ename": "TypeError",
     "evalue": "'list' object is not callable",
     "output_type": "error",
     "traceback": [
      "\u001b[1;31m---------------------------------------------------------------------------\u001b[0m",
      "\u001b[1;31mTypeError\u001b[0m                                 Traceback (most recent call last)",
      "\u001b[1;32m~\\AppData\\Local\\Temp/ipykernel_10340/364047295.py\u001b[0m in \u001b[0;36m<module>\u001b[1;34m\u001b[0m\n\u001b[0;32m      5\u001b[0m \u001b[1;32mfor\u001b[0m \u001b[0mi\u001b[0m \u001b[1;32min\u001b[0m \u001b[0msneaker_des\u001b[0m\u001b[1;33m:\u001b[0m\u001b[1;33m\u001b[0m\u001b[1;33m\u001b[0m\u001b[0m\n\u001b[0;32m      6\u001b[0m \u001b[1;33m\u001b[0m\u001b[0m\n\u001b[1;32m----> 7\u001b[1;33m     \u001b[0mdescription\u001b[0m\u001b[1;33m(\u001b[0m\u001b[0mi\u001b[0m\u001b[1;33m.\u001b[0m\u001b[0mtext\u001b[0m\u001b[1;33m)\u001b[0m\u001b[1;33m\u001b[0m\u001b[1;33m\u001b[0m\u001b[0m\n\u001b[0m\u001b[0;32m      8\u001b[0m \u001b[1;33m\u001b[0m\u001b[0m\n\u001b[0;32m      9\u001b[0m \u001b[0mdescription\u001b[0m\u001b[1;33m\u001b[0m\u001b[1;33m\u001b[0m\u001b[0m\n",
      "\u001b[1;31mTypeError\u001b[0m: 'list' object is not callable"
     ]
    }
   ],
   "source": [
    "sneaker_des = browser.find_elements(By.XPATH,'//a[@class=\"IRpwTa _2-ICcC\"]')\n",
    "\n",
    "description = []\n",
    "\n",
    "for i in sneaker_des:\n",
    "    \n",
    "    description(i.text)\n",
    "    \n",
    "description"
   ]
  },
  {
   "cell_type": "code",
   "execution_count": 98,
   "id": "3193a4be",
   "metadata": {},
   "outputs": [
    {
     "ename": "TypeError",
     "evalue": "'list' object is not callable",
     "output_type": "error",
     "traceback": [
      "\u001b[1;31m---------------------------------------------------------------------------\u001b[0m",
      "\u001b[1;31mTypeError\u001b[0m                                 Traceback (most recent call last)",
      "\u001b[1;32m~\\AppData\\Local\\Temp/ipykernel_10340/937434324.py\u001b[0m in \u001b[0;36m<module>\u001b[1;34m\u001b[0m\n\u001b[0;32m      5\u001b[0m \u001b[1;32mfor\u001b[0m \u001b[0mi\u001b[0m \u001b[1;32min\u001b[0m \u001b[0mprice_tag\u001b[0m\u001b[1;33m:\u001b[0m\u001b[1;33m\u001b[0m\u001b[1;33m\u001b[0m\u001b[0m\n\u001b[0;32m      6\u001b[0m \u001b[1;33m\u001b[0m\u001b[0m\n\u001b[1;32m----> 7\u001b[1;33m     \u001b[0mprice\u001b[0m\u001b[1;33m(\u001b[0m\u001b[0mi\u001b[0m\u001b[1;33m.\u001b[0m\u001b[0mtext\u001b[0m\u001b[1;33m)\u001b[0m\u001b[1;33m\u001b[0m\u001b[1;33m\u001b[0m\u001b[0m\n\u001b[0m\u001b[0;32m      8\u001b[0m \u001b[1;33m\u001b[0m\u001b[0m\n\u001b[0;32m      9\u001b[0m \u001b[0mprice\u001b[0m\u001b[1;33m\u001b[0m\u001b[1;33m\u001b[0m\u001b[0m\n",
      "\u001b[1;31mTypeError\u001b[0m: 'list' object is not callable"
     ]
    }
   ],
   "source": [
    "price_tag = browser.find_elements(By.XPATH,'//div[@class=\"_30jeq3\"]')\n",
    "\n",
    "price = []\n",
    "\n",
    "for i in price_tag:\n",
    "    \n",
    "    price(i.text)\n",
    "    \n",
    "price"
   ]
  },
  {
   "cell_type": "code",
   "execution_count": 99,
   "id": "2f19e21c",
   "metadata": {},
   "outputs": [
    {
     "data": {
      "text/html": [
       "<div>\n",
       "<style scoped>\n",
       "    .dataframe tbody tr th:only-of-type {\n",
       "        vertical-align: middle;\n",
       "    }\n",
       "\n",
       "    .dataframe tbody tr th {\n",
       "        vertical-align: top;\n",
       "    }\n",
       "\n",
       "    .dataframe thead th {\n",
       "        text-align: right;\n",
       "    }\n",
       "</style>\n",
       "<table border=\"1\" class=\"dataframe\">\n",
       "  <thead>\n",
       "    <tr style=\"text-align: right;\">\n",
       "      <th></th>\n",
       "      <th>Description</th>\n",
       "      <th>Price</th>\n",
       "    </tr>\n",
       "  </thead>\n",
       "  <tbody>\n",
       "  </tbody>\n",
       "</table>\n",
       "</div>"
      ],
      "text/plain": [
       "Empty DataFrame\n",
       "Columns: [Description, Price]\n",
       "Index: []"
      ]
     },
     "execution_count": 99,
     "metadata": {},
     "output_type": "execute_result"
    }
   ],
   "source": [
    "df=pd.DataFrame()\n",
    "\n",
    "\n",
    "#df['Sneaker Brand'] = sneaker_name\n",
    "df['Description'] = description\n",
    "df['Price'] = price\n",
    "df"
   ]
  },
  {
   "cell_type": "code",
   "execution_count": null,
   "id": "e976be0e",
   "metadata": {},
   "outputs": [],
   "source": []
  },
  {
   "cell_type": "code",
   "execution_count": null,
   "id": "04430c93",
   "metadata": {},
   "outputs": [],
   "source": []
  },
  {
   "cell_type": "code",
   "execution_count": null,
   "id": "dd95c171",
   "metadata": {},
   "outputs": [],
   "source": []
  },
  {
   "cell_type": "code",
   "execution_count": null,
   "id": "4f885ec5",
   "metadata": {},
   "outputs": [],
   "source": []
  },
  {
   "cell_type": "code",
   "execution_count": null,
   "id": "731d0430",
   "metadata": {},
   "outputs": [],
   "source": []
  },
  {
   "cell_type": "code",
   "execution_count": 263,
   "id": "6b1a39bc",
   "metadata": {},
   "outputs": [],
   "source": [
    "#Ques.7\n",
    "\n",
    "import selenium\n",
    "from selenium import webdriver\n",
    "from selenium.webdriver.common.by import By\n",
    "from selenium.webdriver.common.keys import Keys\n",
    "\n",
    "import pandas as pd\n",
    "import warnings\n",
    "warnings.filterwarnings(\"ignore\")"
   ]
  },
  {
   "cell_type": "code",
   "execution_count": 264,
   "id": "e3c65565",
   "metadata": {},
   "outputs": [
    {
     "ename": "WebDriverException",
     "evalue": "Message: unknown error: cannot determine loading status\nfrom unknown error: unexpected command response\n  (Session info: chrome=103.0.5060.114)\nStacktrace:\nBacktrace:\n\tOrdinal0 [0x00596463+2188387]\n\tOrdinal0 [0x0052E461+1762401]\n\tOrdinal0 [0x00443D78+802168]\n\tOrdinal0 [0x00437210+750096]\n\tOrdinal0 [0x0043675A+747354]\n\tOrdinal0 [0x00435D3F+744767]\n\tOrdinal0 [0x00434C28+740392]\n\tOrdinal0 [0x00435228+741928]\n\tOrdinal0 [0x0043EF2F+782127]\n\tOrdinal0 [0x00449FBB+827323]\n\tOrdinal0 [0x0044D310+840464]\n\tOrdinal0 [0x004354F6+742646]\n\tOrdinal0 [0x00449BF3+826355]\n\tOrdinal0 [0x0049CF6D+1167213]\n\tOrdinal0 [0x0048C5F6+1099254]\n\tOrdinal0 [0x00466BE0+945120]\n\tOrdinal0 [0x00467AD6+948950]\n\tGetHandleVerifier [0x008371F2+2712546]\n\tGetHandleVerifier [0x0082886D+2652765]\n\tGetHandleVerifier [0x0062002A+520730]\n\tGetHandleVerifier [0x0061EE06+516086]\n\tOrdinal0 [0x0053468B+1787531]\n\tOrdinal0 [0x00538E88+1805960]\n\tOrdinal0 [0x00538F75+1806197]\n\tOrdinal0 [0x00541DF1+1842673]\n\tBaseThreadInitThunk [0x766D6739+25]\n\tRtlGetFullPathName_UEx [0x77878FEF+1215]\n\tRtlGetFullPathName_UEx [0x77878FBD+1165]\n",
     "output_type": "error",
     "traceback": [
      "\u001b[1;31m---------------------------------------------------------------------------\u001b[0m",
      "\u001b[1;31mWebDriverException\u001b[0m                        Traceback (most recent call last)",
      "\u001b[1;32m~\\AppData\\Local\\Temp/ipykernel_7900/3085996971.py\u001b[0m in \u001b[0;36m<module>\u001b[1;34m\u001b[0m\n\u001b[0;32m      1\u001b[0m \u001b[0mbrowser\u001b[0m \u001b[1;33m=\u001b[0m \u001b[0mwebdriver\u001b[0m\u001b[1;33m.\u001b[0m\u001b[0mChrome\u001b[0m\u001b[1;33m(\u001b[0m\u001b[1;33m)\u001b[0m\u001b[1;33m\u001b[0m\u001b[1;33m\u001b[0m\u001b[0m\n\u001b[1;32m----> 2\u001b[1;33m \u001b[0mbrowser\u001b[0m\u001b[1;33m.\u001b[0m\u001b[0mget\u001b[0m\u001b[1;33m(\u001b[0m\u001b[1;34m'https://www.myntra.com/shoes'\u001b[0m\u001b[1;33m)\u001b[0m\u001b[1;33m\u001b[0m\u001b[1;33m\u001b[0m\u001b[0m\n\u001b[0m",
      "\u001b[1;32m~\\anaconda3\\lib\\site-packages\\selenium\\webdriver\\remote\\webdriver.py\u001b[0m in \u001b[0;36mget\u001b[1;34m(self, url)\u001b[0m\n\u001b[0;32m    445\u001b[0m         \u001b[0mLoads\u001b[0m \u001b[0ma\u001b[0m \u001b[0mweb\u001b[0m \u001b[0mpage\u001b[0m \u001b[1;32min\u001b[0m \u001b[0mthe\u001b[0m \u001b[0mcurrent\u001b[0m \u001b[0mbrowser\u001b[0m \u001b[0msession\u001b[0m\u001b[1;33m.\u001b[0m\u001b[1;33m\u001b[0m\u001b[1;33m\u001b[0m\u001b[0m\n\u001b[0;32m    446\u001b[0m         \"\"\"\n\u001b[1;32m--> 447\u001b[1;33m         \u001b[0mself\u001b[0m\u001b[1;33m.\u001b[0m\u001b[0mexecute\u001b[0m\u001b[1;33m(\u001b[0m\u001b[0mCommand\u001b[0m\u001b[1;33m.\u001b[0m\u001b[0mGET\u001b[0m\u001b[1;33m,\u001b[0m \u001b[1;33m{\u001b[0m\u001b[1;34m'url'\u001b[0m\u001b[1;33m:\u001b[0m \u001b[0murl\u001b[0m\u001b[1;33m}\u001b[0m\u001b[1;33m)\u001b[0m\u001b[1;33m\u001b[0m\u001b[1;33m\u001b[0m\u001b[0m\n\u001b[0m\u001b[0;32m    448\u001b[0m \u001b[1;33m\u001b[0m\u001b[0m\n\u001b[0;32m    449\u001b[0m     \u001b[1;33m@\u001b[0m\u001b[0mproperty\u001b[0m\u001b[1;33m\u001b[0m\u001b[1;33m\u001b[0m\u001b[0m\n",
      "\u001b[1;32m~\\anaconda3\\lib\\site-packages\\selenium\\webdriver\\remote\\webdriver.py\u001b[0m in \u001b[0;36mexecute\u001b[1;34m(self, driver_command, params)\u001b[0m\n\u001b[0;32m    433\u001b[0m         \u001b[0mresponse\u001b[0m \u001b[1;33m=\u001b[0m \u001b[0mself\u001b[0m\u001b[1;33m.\u001b[0m\u001b[0mcommand_executor\u001b[0m\u001b[1;33m.\u001b[0m\u001b[0mexecute\u001b[0m\u001b[1;33m(\u001b[0m\u001b[0mdriver_command\u001b[0m\u001b[1;33m,\u001b[0m \u001b[0mparams\u001b[0m\u001b[1;33m)\u001b[0m\u001b[1;33m\u001b[0m\u001b[1;33m\u001b[0m\u001b[0m\n\u001b[0;32m    434\u001b[0m         \u001b[1;32mif\u001b[0m \u001b[0mresponse\u001b[0m\u001b[1;33m:\u001b[0m\u001b[1;33m\u001b[0m\u001b[1;33m\u001b[0m\u001b[0m\n\u001b[1;32m--> 435\u001b[1;33m             \u001b[0mself\u001b[0m\u001b[1;33m.\u001b[0m\u001b[0merror_handler\u001b[0m\u001b[1;33m.\u001b[0m\u001b[0mcheck_response\u001b[0m\u001b[1;33m(\u001b[0m\u001b[0mresponse\u001b[0m\u001b[1;33m)\u001b[0m\u001b[1;33m\u001b[0m\u001b[1;33m\u001b[0m\u001b[0m\n\u001b[0m\u001b[0;32m    436\u001b[0m             response['value'] = self._unwrap_value(\n\u001b[0;32m    437\u001b[0m                 response.get('value', None))\n",
      "\u001b[1;32m~\\anaconda3\\lib\\site-packages\\selenium\\webdriver\\remote\\errorhandler.py\u001b[0m in \u001b[0;36mcheck_response\u001b[1;34m(self, response)\u001b[0m\n\u001b[0;32m    245\u001b[0m                 \u001b[0malert_text\u001b[0m \u001b[1;33m=\u001b[0m \u001b[0mvalue\u001b[0m\u001b[1;33m[\u001b[0m\u001b[1;34m'alert'\u001b[0m\u001b[1;33m]\u001b[0m\u001b[1;33m.\u001b[0m\u001b[0mget\u001b[0m\u001b[1;33m(\u001b[0m\u001b[1;34m'text'\u001b[0m\u001b[1;33m)\u001b[0m\u001b[1;33m\u001b[0m\u001b[1;33m\u001b[0m\u001b[0m\n\u001b[0;32m    246\u001b[0m             \u001b[1;32mraise\u001b[0m \u001b[0mexception_class\u001b[0m\u001b[1;33m(\u001b[0m\u001b[0mmessage\u001b[0m\u001b[1;33m,\u001b[0m \u001b[0mscreen\u001b[0m\u001b[1;33m,\u001b[0m \u001b[0mstacktrace\u001b[0m\u001b[1;33m,\u001b[0m \u001b[0malert_text\u001b[0m\u001b[1;33m)\u001b[0m  \u001b[1;31m# type: ignore[call-arg]  # mypy is not smart enough here\u001b[0m\u001b[1;33m\u001b[0m\u001b[1;33m\u001b[0m\u001b[0m\n\u001b[1;32m--> 247\u001b[1;33m         \u001b[1;32mraise\u001b[0m \u001b[0mexception_class\u001b[0m\u001b[1;33m(\u001b[0m\u001b[0mmessage\u001b[0m\u001b[1;33m,\u001b[0m \u001b[0mscreen\u001b[0m\u001b[1;33m,\u001b[0m \u001b[0mstacktrace\u001b[0m\u001b[1;33m)\u001b[0m\u001b[1;33m\u001b[0m\u001b[1;33m\u001b[0m\u001b[0m\n\u001b[0m\u001b[0;32m    248\u001b[0m \u001b[1;33m\u001b[0m\u001b[0m\n\u001b[0;32m    249\u001b[0m     \u001b[1;32mdef\u001b[0m \u001b[0m_value_or_default\u001b[0m\u001b[1;33m(\u001b[0m\u001b[0mself\u001b[0m\u001b[1;33m,\u001b[0m \u001b[0mobj\u001b[0m\u001b[1;33m:\u001b[0m \u001b[0mMapping\u001b[0m\u001b[1;33m[\u001b[0m\u001b[0m_KT\u001b[0m\u001b[1;33m,\u001b[0m \u001b[0m_VT\u001b[0m\u001b[1;33m]\u001b[0m\u001b[1;33m,\u001b[0m \u001b[0mkey\u001b[0m\u001b[1;33m:\u001b[0m \u001b[0m_KT\u001b[0m\u001b[1;33m,\u001b[0m \u001b[0mdefault\u001b[0m\u001b[1;33m:\u001b[0m \u001b[0m_VT\u001b[0m\u001b[1;33m)\u001b[0m \u001b[1;33m->\u001b[0m \u001b[0m_VT\u001b[0m\u001b[1;33m:\u001b[0m\u001b[1;33m\u001b[0m\u001b[1;33m\u001b[0m\u001b[0m\n",
      "\u001b[1;31mWebDriverException\u001b[0m: Message: unknown error: cannot determine loading status\nfrom unknown error: unexpected command response\n  (Session info: chrome=103.0.5060.114)\nStacktrace:\nBacktrace:\n\tOrdinal0 [0x00596463+2188387]\n\tOrdinal0 [0x0052E461+1762401]\n\tOrdinal0 [0x00443D78+802168]\n\tOrdinal0 [0x00437210+750096]\n\tOrdinal0 [0x0043675A+747354]\n\tOrdinal0 [0x00435D3F+744767]\n\tOrdinal0 [0x00434C28+740392]\n\tOrdinal0 [0x00435228+741928]\n\tOrdinal0 [0x0043EF2F+782127]\n\tOrdinal0 [0x00449FBB+827323]\n\tOrdinal0 [0x0044D310+840464]\n\tOrdinal0 [0x004354F6+742646]\n\tOrdinal0 [0x00449BF3+826355]\n\tOrdinal0 [0x0049CF6D+1167213]\n\tOrdinal0 [0x0048C5F6+1099254]\n\tOrdinal0 [0x00466BE0+945120]\n\tOrdinal0 [0x00467AD6+948950]\n\tGetHandleVerifier [0x008371F2+2712546]\n\tGetHandleVerifier [0x0082886D+2652765]\n\tGetHandleVerifier [0x0062002A+520730]\n\tGetHandleVerifier [0x0061EE06+516086]\n\tOrdinal0 [0x0053468B+1787531]\n\tOrdinal0 [0x00538E88+1805960]\n\tOrdinal0 [0x00538F75+1806197]\n\tOrdinal0 [0x00541DF1+1842673]\n\tBaseThreadInitThunk [0x766D6739+25]\n\tRtlGetFullPathName_UEx [0x77878FEF+1215]\n\tRtlGetFullPathName_UEx [0x77878FBD+1165]\n"
     ]
    }
   ],
   "source": [
    "browser = webdriver.Chrome()\n",
    "browser.get('https://www.myntra.com/shoes')"
   ]
  },
  {
   "cell_type": "code",
   "execution_count": null,
   "id": "e4fb2ae0",
   "metadata": {},
   "outputs": [],
   "source": [
    "#right click is disabled on this page. inspect is not working\n",
    "\n",
    "#discussed about the issue in Ticket #10337"
   ]
  },
  {
   "cell_type": "code",
   "execution_count": 265,
   "id": "e6fc1f69",
   "metadata": {},
   "outputs": [
    {
     "ename": "WebDriverException",
     "evalue": "Message: chrome not reachable\n  (Session info: chrome=103.0.5060.114)\nStacktrace:\nBacktrace:\n\tOrdinal0 [0x00596463+2188387]\n\tOrdinal0 [0x0052E461+1762401]\n\tOrdinal0 [0x00443C40+801856]\n\tOrdinal0 [0x00438932+756018]\n\tOrdinal0 [0x00439168+758120]\n\tOrdinal0 [0x0043AA22+764450]\n\tOrdinal0 [0x00434379+738169]\n\tOrdinal0 [0x004450D0+807120]\n\tOrdinal0 [0x0049C402+1164290]\n\tOrdinal0 [0x0048C5F6+1099254]\n\tOrdinal0 [0x00466BE0+945120]\n\tOrdinal0 [0x00467AD6+948950]\n\tGetHandleVerifier [0x008371F2+2712546]\n\tGetHandleVerifier [0x0082886D+2652765]\n\tGetHandleVerifier [0x0062002A+520730]\n\tGetHandleVerifier [0x0061EE06+516086]\n\tOrdinal0 [0x0053468B+1787531]\n\tOrdinal0 [0x00538E88+1805960]\n\tOrdinal0 [0x00538F75+1806197]\n\tOrdinal0 [0x00541DF1+1842673]\n\tBaseThreadInitThunk [0x766D6739+25]\n\tRtlGetFullPathName_UEx [0x77878FEF+1215]\n\tRtlGetFullPathName_UEx [0x77878FBD+1165]\n",
     "output_type": "error",
     "traceback": [
      "\u001b[1;31m---------------------------------------------------------------------------\u001b[0m",
      "\u001b[1;31mWebDriverException\u001b[0m                        Traceback (most recent call last)",
      "\u001b[1;32m~\\AppData\\Local\\Temp/ipykernel_7900/1416045488.py\u001b[0m in \u001b[0;36m<module>\u001b[1;34m\u001b[0m\n\u001b[1;32m----> 1\u001b[1;33m \u001b[0mprod_search\u001b[0m\u001b[1;33m.\u001b[0m\u001b[0msend_keys\u001b[0m\u001b[1;33m(\u001b[0m\u001b[1;34m\"sneakers\"\u001b[0m\u001b[1;33m)\u001b[0m\u001b[1;33m\u001b[0m\u001b[1;33m\u001b[0m\u001b[0m\n\u001b[0m",
      "\u001b[1;32m~\\anaconda3\\lib\\site-packages\\selenium\\webdriver\\remote\\webelement.py\u001b[0m in \u001b[0;36msend_keys\u001b[1;34m(self, *value)\u001b[0m\n\u001b[0;32m    221\u001b[0m                 \u001b[0mvalue\u001b[0m \u001b[1;33m=\u001b[0m \u001b[1;34m'\\n'\u001b[0m\u001b[1;33m.\u001b[0m\u001b[0mjoin\u001b[0m\u001b[1;33m(\u001b[0m\u001b[0mremote_files\u001b[0m\u001b[1;33m)\u001b[0m\u001b[1;33m\u001b[0m\u001b[1;33m\u001b[0m\u001b[0m\n\u001b[0;32m    222\u001b[0m \u001b[1;33m\u001b[0m\u001b[0m\n\u001b[1;32m--> 223\u001b[1;33m         self._execute(Command.SEND_KEYS_TO_ELEMENT,\n\u001b[0m\u001b[0;32m    224\u001b[0m                       {'text': \"\".join(keys_to_typing(value)),\n\u001b[0;32m    225\u001b[0m                        'value': keys_to_typing(value)})\n",
      "\u001b[1;32m~\\anaconda3\\lib\\site-packages\\selenium\\webdriver\\remote\\webelement.py\u001b[0m in \u001b[0;36m_execute\u001b[1;34m(self, command, params)\u001b[0m\n\u001b[0;32m    394\u001b[0m             \u001b[0mparams\u001b[0m \u001b[1;33m=\u001b[0m \u001b[1;33m{\u001b[0m\u001b[1;33m}\u001b[0m\u001b[1;33m\u001b[0m\u001b[1;33m\u001b[0m\u001b[0m\n\u001b[0;32m    395\u001b[0m         \u001b[0mparams\u001b[0m\u001b[1;33m[\u001b[0m\u001b[1;34m'id'\u001b[0m\u001b[1;33m]\u001b[0m \u001b[1;33m=\u001b[0m \u001b[0mself\u001b[0m\u001b[1;33m.\u001b[0m\u001b[0m_id\u001b[0m\u001b[1;33m\u001b[0m\u001b[1;33m\u001b[0m\u001b[0m\n\u001b[1;32m--> 396\u001b[1;33m         \u001b[1;32mreturn\u001b[0m \u001b[0mself\u001b[0m\u001b[1;33m.\u001b[0m\u001b[0m_parent\u001b[0m\u001b[1;33m.\u001b[0m\u001b[0mexecute\u001b[0m\u001b[1;33m(\u001b[0m\u001b[0mcommand\u001b[0m\u001b[1;33m,\u001b[0m \u001b[0mparams\u001b[0m\u001b[1;33m)\u001b[0m\u001b[1;33m\u001b[0m\u001b[1;33m\u001b[0m\u001b[0m\n\u001b[0m\u001b[0;32m    397\u001b[0m \u001b[1;33m\u001b[0m\u001b[0m\n\u001b[0;32m    398\u001b[0m     \u001b[1;32mdef\u001b[0m \u001b[0mfind_element\u001b[0m\u001b[1;33m(\u001b[0m\u001b[0mself\u001b[0m\u001b[1;33m,\u001b[0m \u001b[0mby\u001b[0m\u001b[1;33m=\u001b[0m\u001b[0mBy\u001b[0m\u001b[1;33m.\u001b[0m\u001b[0mID\u001b[0m\u001b[1;33m,\u001b[0m \u001b[0mvalue\u001b[0m\u001b[1;33m=\u001b[0m\u001b[1;32mNone\u001b[0m\u001b[1;33m)\u001b[0m \u001b[1;33m->\u001b[0m \u001b[0mWebElement\u001b[0m\u001b[1;33m:\u001b[0m\u001b[1;33m\u001b[0m\u001b[1;33m\u001b[0m\u001b[0m\n",
      "\u001b[1;32m~\\anaconda3\\lib\\site-packages\\selenium\\webdriver\\remote\\webdriver.py\u001b[0m in \u001b[0;36mexecute\u001b[1;34m(self, driver_command, params)\u001b[0m\n\u001b[0;32m    433\u001b[0m         \u001b[0mresponse\u001b[0m \u001b[1;33m=\u001b[0m \u001b[0mself\u001b[0m\u001b[1;33m.\u001b[0m\u001b[0mcommand_executor\u001b[0m\u001b[1;33m.\u001b[0m\u001b[0mexecute\u001b[0m\u001b[1;33m(\u001b[0m\u001b[0mdriver_command\u001b[0m\u001b[1;33m,\u001b[0m \u001b[0mparams\u001b[0m\u001b[1;33m)\u001b[0m\u001b[1;33m\u001b[0m\u001b[1;33m\u001b[0m\u001b[0m\n\u001b[0;32m    434\u001b[0m         \u001b[1;32mif\u001b[0m \u001b[0mresponse\u001b[0m\u001b[1;33m:\u001b[0m\u001b[1;33m\u001b[0m\u001b[1;33m\u001b[0m\u001b[0m\n\u001b[1;32m--> 435\u001b[1;33m             \u001b[0mself\u001b[0m\u001b[1;33m.\u001b[0m\u001b[0merror_handler\u001b[0m\u001b[1;33m.\u001b[0m\u001b[0mcheck_response\u001b[0m\u001b[1;33m(\u001b[0m\u001b[0mresponse\u001b[0m\u001b[1;33m)\u001b[0m\u001b[1;33m\u001b[0m\u001b[1;33m\u001b[0m\u001b[0m\n\u001b[0m\u001b[0;32m    436\u001b[0m             response['value'] = self._unwrap_value(\n\u001b[0;32m    437\u001b[0m                 response.get('value', None))\n",
      "\u001b[1;32m~\\anaconda3\\lib\\site-packages\\selenium\\webdriver\\remote\\errorhandler.py\u001b[0m in \u001b[0;36mcheck_response\u001b[1;34m(self, response)\u001b[0m\n\u001b[0;32m    245\u001b[0m                 \u001b[0malert_text\u001b[0m \u001b[1;33m=\u001b[0m \u001b[0mvalue\u001b[0m\u001b[1;33m[\u001b[0m\u001b[1;34m'alert'\u001b[0m\u001b[1;33m]\u001b[0m\u001b[1;33m.\u001b[0m\u001b[0mget\u001b[0m\u001b[1;33m(\u001b[0m\u001b[1;34m'text'\u001b[0m\u001b[1;33m)\u001b[0m\u001b[1;33m\u001b[0m\u001b[1;33m\u001b[0m\u001b[0m\n\u001b[0;32m    246\u001b[0m             \u001b[1;32mraise\u001b[0m \u001b[0mexception_class\u001b[0m\u001b[1;33m(\u001b[0m\u001b[0mmessage\u001b[0m\u001b[1;33m,\u001b[0m \u001b[0mscreen\u001b[0m\u001b[1;33m,\u001b[0m \u001b[0mstacktrace\u001b[0m\u001b[1;33m,\u001b[0m \u001b[0malert_text\u001b[0m\u001b[1;33m)\u001b[0m  \u001b[1;31m# type: ignore[call-arg]  # mypy is not smart enough here\u001b[0m\u001b[1;33m\u001b[0m\u001b[1;33m\u001b[0m\u001b[0m\n\u001b[1;32m--> 247\u001b[1;33m         \u001b[1;32mraise\u001b[0m \u001b[0mexception_class\u001b[0m\u001b[1;33m(\u001b[0m\u001b[0mmessage\u001b[0m\u001b[1;33m,\u001b[0m \u001b[0mscreen\u001b[0m\u001b[1;33m,\u001b[0m \u001b[0mstacktrace\u001b[0m\u001b[1;33m)\u001b[0m\u001b[1;33m\u001b[0m\u001b[1;33m\u001b[0m\u001b[0m\n\u001b[0m\u001b[0;32m    248\u001b[0m \u001b[1;33m\u001b[0m\u001b[0m\n\u001b[0;32m    249\u001b[0m     \u001b[1;32mdef\u001b[0m \u001b[0m_value_or_default\u001b[0m\u001b[1;33m(\u001b[0m\u001b[0mself\u001b[0m\u001b[1;33m,\u001b[0m \u001b[0mobj\u001b[0m\u001b[1;33m:\u001b[0m \u001b[0mMapping\u001b[0m\u001b[1;33m[\u001b[0m\u001b[0m_KT\u001b[0m\u001b[1;33m,\u001b[0m \u001b[0m_VT\u001b[0m\u001b[1;33m]\u001b[0m\u001b[1;33m,\u001b[0m \u001b[0mkey\u001b[0m\u001b[1;33m:\u001b[0m \u001b[0m_KT\u001b[0m\u001b[1;33m,\u001b[0m \u001b[0mdefault\u001b[0m\u001b[1;33m:\u001b[0m \u001b[0m_VT\u001b[0m\u001b[1;33m)\u001b[0m \u001b[1;33m->\u001b[0m \u001b[0m_VT\u001b[0m\u001b[1;33m:\u001b[0m\u001b[1;33m\u001b[0m\u001b[1;33m\u001b[0m\u001b[0m\n",
      "\u001b[1;31mWebDriverException\u001b[0m: Message: chrome not reachable\n  (Session info: chrome=103.0.5060.114)\nStacktrace:\nBacktrace:\n\tOrdinal0 [0x00596463+2188387]\n\tOrdinal0 [0x0052E461+1762401]\n\tOrdinal0 [0x00443C40+801856]\n\tOrdinal0 [0x00438932+756018]\n\tOrdinal0 [0x00439168+758120]\n\tOrdinal0 [0x0043AA22+764450]\n\tOrdinal0 [0x00434379+738169]\n\tOrdinal0 [0x004450D0+807120]\n\tOrdinal0 [0x0049C402+1164290]\n\tOrdinal0 [0x0048C5F6+1099254]\n\tOrdinal0 [0x00466BE0+945120]\n\tOrdinal0 [0x00467AD6+948950]\n\tGetHandleVerifier [0x008371F2+2712546]\n\tGetHandleVerifier [0x0082886D+2652765]\n\tGetHandleVerifier [0x0062002A+520730]\n\tGetHandleVerifier [0x0061EE06+516086]\n\tOrdinal0 [0x0053468B+1787531]\n\tOrdinal0 [0x00538E88+1805960]\n\tOrdinal0 [0x00538F75+1806197]\n\tOrdinal0 [0x00541DF1+1842673]\n\tBaseThreadInitThunk [0x766D6739+25]\n\tRtlGetFullPathName_UEx [0x77878FEF+1215]\n\tRtlGetFullPathName_UEx [0x77878FBD+1165]\n"
     ]
    }
   ],
   "source": [
    "prod_search.send_keys(\"sneakers\")"
   ]
  },
  {
   "cell_type": "code",
   "execution_count": null,
   "id": "0e3c84d6",
   "metadata": {},
   "outputs": [],
   "source": []
  },
  {
   "cell_type": "code",
   "execution_count": null,
   "id": "d84d7e98",
   "metadata": {},
   "outputs": [],
   "source": []
  },
  {
   "cell_type": "code",
   "execution_count": null,
   "id": "8b7074a4",
   "metadata": {},
   "outputs": [],
   "source": []
  },
  {
   "cell_type": "code",
   "execution_count": null,
   "id": "c1e43cd2",
   "metadata": {},
   "outputs": [],
   "source": []
  },
  {
   "cell_type": "code",
   "execution_count": null,
   "id": "8c958175",
   "metadata": {},
   "outputs": [],
   "source": []
  },
  {
   "cell_type": "code",
   "execution_count": 86,
   "id": "7bfbe3fb",
   "metadata": {},
   "outputs": [],
   "source": [
    "#Ques.8\n",
    "\n",
    "import selenium\n",
    "from selenium import webdriver\n",
    "from selenium.webdriver.common.by import By\n",
    "from selenium.webdriver.common.keys import Keys\n",
    "\n",
    "import pandas as pd\n",
    "import warnings\n",
    "warnings.filterwarnings(\"ignore\")"
   ]
  },
  {
   "cell_type": "code",
   "execution_count": 87,
   "id": "ac032851",
   "metadata": {},
   "outputs": [],
   "source": [
    "browser = webdriver.Chrome()\n",
    "browser.get('https://www.amazon.in/')"
   ]
  },
  {
   "cell_type": "code",
   "execution_count": 90,
   "id": "6e380c6a",
   "metadata": {},
   "outputs": [
    {
     "data": {
      "text/plain": [
       "<selenium.webdriver.remote.webelement.WebElement (session=\"0f7b6b45279b3a13d887a97649b201de\", element=\"67c6e71d-92b7-43dc-bf40-0943f2c12eb8\")>"
      ]
     },
     "execution_count": 90,
     "metadata": {},
     "output_type": "execute_result"
    }
   ],
   "source": [
    "search_prod = browser.find_element(By.XPATH,'//input[@type=\"text\"]')\n",
    "search_prod"
   ]
  },
  {
   "cell_type": "code",
   "execution_count": 91,
   "id": "3679138d",
   "metadata": {},
   "outputs": [],
   "source": [
    "search_prod.send_keys(\"Laptop\")"
   ]
  },
  {
   "cell_type": "code",
   "execution_count": 92,
   "id": "fd9ca112",
   "metadata": {},
   "outputs": [
    {
     "data": {
      "text/plain": [
       "<selenium.webdriver.remote.webelement.WebElement (session=\"0f7b6b45279b3a13d887a97649b201de\", element=\"584f696b-76d3-4059-ae39-48ffa60bfef3\")>"
      ]
     },
     "execution_count": 92,
     "metadata": {},
     "output_type": "execute_result"
    }
   ],
   "source": [
    "go_btn = browser.find_element(By.XPATH,\"/html/body/div[1]/header/div/div[1]/div[2]/div/form/div[3]/div\")\n",
    "go_btn\n"
   ]
  },
  {
   "cell_type": "code",
   "execution_count": 93,
   "id": "d73e2acb",
   "metadata": {},
   "outputs": [],
   "source": [
    "go_btn.click()"
   ]
  },
  {
   "cell_type": "code",
   "execution_count": 94,
   "id": "2dda6f09",
   "metadata": {},
   "outputs": [
    {
     "data": {
      "text/plain": [
       "<selenium.webdriver.remote.webelement.WebElement (session=\"0f7b6b45279b3a13d887a97649b201de\", element=\"8290e0ba-2707-4103-86e6-8c31336969d4\")>"
      ]
     },
     "execution_count": 94,
     "metadata": {},
     "output_type": "execute_result"
    }
   ],
   "source": [
    "cpu_type = browser.find_element(By.XPATH,\"/html/body/div[1]/div[2]/div[1]/div[2]/div/div[3]/span/div[1]/div/div/div[5]/ul[2]/li[12]/span/a/div/label/i\")\n",
    "cpu_type"
   ]
  },
  {
   "cell_type": "code",
   "execution_count": 95,
   "id": "e61ffd75",
   "metadata": {},
   "outputs": [],
   "source": [
    "cpu_type.click()"
   ]
  },
  {
   "cell_type": "code",
   "execution_count": 100,
   "id": "5423e894",
   "metadata": {},
   "outputs": [
    {
     "data": {
      "text/plain": [
       "['Lenovo IdeaPad Slim 5 Pro Intel Core i7 11th Gen 14\" (35.56cm) 2.2K IPS Thin & Light Laptop (16GB/512GB SSD/Win11/Office 2021/Backlit/3Yr Warranty/3months Game Pass/Storm Grey/1.38Kg), 82L3006YIN',\n",
       " 'Fujitsu UH-X 11th Gen Intel Core i7 13.3” FHD IPS 400Nits Thin & Light Laptop(16GB/512GB SSD/Windows 11/Office 2021/Iris Xe Graphics/Backlit Kb/Fingerprint Reader/2Yr Warranty/Black/878gms),4ZR1F38024',\n",
       " 'ASUS Vivobook 15, 15.6-inch (39.62 cms) FHD, Intel Core i7-1065G7 10th Gen, Thin and Light Laptop (16GB/512GB SSD/Iris Plus Graphics/Windows 11/Office 2021/Silver/1.8 kg), X515JA-EJ701WS',\n",
       " 'Hp Pavilion 15 12Th Gen Intel Core I7 16Gb Sdram/1Tb Ssd 15.6 Inches (39.6Cm) Fhd,IPS/Intel Iris Xe Graphics/B&O/Windows 11 Home/Alexa/Backlit Kb/Fpr/Mso 2021/1.75Kg, 15-Eg2039Tu, Natural Silver',\n",
       " 'Lenovo IdeaPad Slim 5 Pro Intel Core i7 11th Gen 14\" (35.56cm) 2.2K IPS Thin & Light Laptop (16GB/512GB SSD/Win11/Office 2021/Backlit/3Yr Warranty/3months Game Pass/Storm Grey/1.38Kg), 82L3006YIN',\n",
       " 'Hp Pavilion X360 11Th Gen Intel Core I7 14 Inches Fhd Multitouch 2In1 Laptop (16Gb Ram/512Gb Ssd/B&O/Windows 11 Home/Fpr/Backlit Kb/Intel Iris Xe Graphics/Pen/Alexa/Ms Office/Silver/1.52Kg)14-Dy1047Tu',\n",
       " 'HP Envy 11th Gen Intel Evo Core i7 14 inch(35.6 cm) WUXGA Anti-Glare Display 2-in-1 Laptop(16GB RAM/1TB SSD/GTX 1650 4GB Graphics/400 nits/Win 11/MS Office/FPR/B&O/Alexa Built-in/1.59 Kg), 14-eb0021TX',\n",
       " 'ASUS Zenbook 14 OLED (2022), 14\" (35.56 cms) 2.8K OLED 16:10 90Hz, Intel Core Evo i7-1260P 12th Gen, Thin and Light Laptop (16GB/512GB SSD/Windows 11/Office 2021/Blue/1.39 kg), UX3402ZA-KM731WS',\n",
       " 'HP Pavilion 14 12th Gen Intel Core i7 16GB SDRAM/1TB SSD 14 inch(35.6cm) FHD,IPS,Micro-Edge Display/Intel UHD Graphics/B&O/Win 11/Alexa Built-in/Backlit KB/FPR/MSO 2021/Natural Silver, 14-dv2015TU',\n",
       " 'Lenovo ThinkPad E14 Intel Core i7 11th Gen 14-inch (35.56cm) FHD TN Antiglare Thin and Light Laptop (16GB RAM/512GB SSD/Windows 11 Home/Microsoft Office H&S 2021/FPR/Black/1.59 kg), 20TAS1B400']"
      ]
     },
     "execution_count": 100,
     "metadata": {},
     "output_type": "execute_result"
    }
   ],
   "source": [
    "title_tag = browser.find_elements(By.XPATH,'//h2[@class=\"a-size-mini a-spacing-none a-color-base s-line-clamp-2\"]')\n",
    "\n",
    "title = []\n",
    "\n",
    "for i in title_tag[0:10]:\n",
    "    \n",
    "     title.append(i.text) \n",
    "\n",
    "title   \n"
   ]
  },
  {
   "cell_type": "code",
   "execution_count": 116,
   "id": "3c3cbdbe",
   "metadata": {},
   "outputs": [
    {
     "data": {
      "text/plain": [
       "['']"
      ]
     },
     "execution_count": 116,
     "metadata": {},
     "output_type": "execute_result"
    }
   ],
   "source": [
    "rating_tag = browser.find_elements(By.XPATH,'//i[@class=\"a-icon a-icon-star a-star-4\"]')\n",
    "\n",
    "rating = []\n",
    "\n",
    "for i in rating_tag[0:10]:\n",
    "    \n",
    "     rating.append(i.text) \n",
    "\n",
    "rating   #find the right class\n"
   ]
  },
  {
   "cell_type": "code",
   "execution_count": 113,
   "id": "8d9ceb97",
   "metadata": {},
   "outputs": [
    {
     "data": {
      "text/plain": [
       "['', '', '', '', '']"
      ]
     },
     "execution_count": 113,
     "metadata": {},
     "output_type": "execute_result"
    }
   ],
   "source": [
    "price_tag = browser.find_elements(By.XPATH,'//span[@aria-label=\"3.8 out of 5 stars\"]')\n",
    "\n",
    "\n",
    "price = []\n",
    "\n",
    "for i in price_tag[0:10]:\n",
    "    \n",
    "    price.append(i.text) \n",
    "    \n",
    "\n",
    "price"
   ]
  },
  {
   "cell_type": "code",
   "execution_count": 109,
   "id": "35c4614b",
   "metadata": {},
   "outputs": [
    {
     "data": {
      "text/html": [
       "<div>\n",
       "<style scoped>\n",
       "    .dataframe tbody tr th:only-of-type {\n",
       "        vertical-align: middle;\n",
       "    }\n",
       "\n",
       "    .dataframe tbody tr th {\n",
       "        vertical-align: top;\n",
       "    }\n",
       "\n",
       "    .dataframe thead th {\n",
       "        text-align: right;\n",
       "    }\n",
       "</style>\n",
       "<table border=\"1\" class=\"dataframe\">\n",
       "  <thead>\n",
       "    <tr style=\"text-align: right;\">\n",
       "      <th></th>\n",
       "      <th>Laptop Name</th>\n",
       "      <th>Rating</th>\n",
       "      <th>Price</th>\n",
       "    </tr>\n",
       "  </thead>\n",
       "  <tbody>\n",
       "    <tr>\n",
       "      <th>0</th>\n",
       "      <td>Lenovo IdeaPad Slim 5 Pro Intel Core i7 11th G...</td>\n",
       "      <td></td>\n",
       "      <td>75,990</td>\n",
       "    </tr>\n",
       "    <tr>\n",
       "      <th>1</th>\n",
       "      <td>Fujitsu UH-X 11th Gen Intel Core i7 13.3” FHD ...</td>\n",
       "      <td></td>\n",
       "      <td>84,990</td>\n",
       "    </tr>\n",
       "    <tr>\n",
       "      <th>2</th>\n",
       "      <td>ASUS Vivobook 15, 15.6-inch (39.62 cms) FHD, I...</td>\n",
       "      <td></td>\n",
       "      <td>57,890</td>\n",
       "    </tr>\n",
       "    <tr>\n",
       "      <th>3</th>\n",
       "      <td>Hp Pavilion 15 12Th Gen Intel Core I7 16Gb Sdr...</td>\n",
       "      <td></td>\n",
       "      <td>87,900</td>\n",
       "    </tr>\n",
       "    <tr>\n",
       "      <th>4</th>\n",
       "      <td>Lenovo IdeaPad Slim 5 Pro Intel Core i7 11th G...</td>\n",
       "      <td></td>\n",
       "      <td>75,990</td>\n",
       "    </tr>\n",
       "    <tr>\n",
       "      <th>5</th>\n",
       "      <td>Hp Pavilion X360 11Th Gen Intel Core I7 14 Inc...</td>\n",
       "      <td></td>\n",
       "      <td>82,990</td>\n",
       "    </tr>\n",
       "    <tr>\n",
       "      <th>6</th>\n",
       "      <td>HP Envy 11th Gen Intel Evo Core i7 14 inch(35....</td>\n",
       "      <td></td>\n",
       "      <td>99,499</td>\n",
       "    </tr>\n",
       "    <tr>\n",
       "      <th>7</th>\n",
       "      <td>ASUS Zenbook 14 OLED (2022), 14\" (35.56 cms) 2...</td>\n",
       "      <td></td>\n",
       "      <td>1,04,990</td>\n",
       "    </tr>\n",
       "    <tr>\n",
       "      <th>8</th>\n",
       "      <td>HP Pavilion 14 12th Gen Intel Core i7 16GB SDR...</td>\n",
       "      <td></td>\n",
       "      <td>86,990</td>\n",
       "    </tr>\n",
       "    <tr>\n",
       "      <th>9</th>\n",
       "      <td>Lenovo ThinkPad E14 Intel Core i7 11th Gen 14-...</td>\n",
       "      <td></td>\n",
       "      <td>94,990</td>\n",
       "    </tr>\n",
       "  </tbody>\n",
       "</table>\n",
       "</div>"
      ],
      "text/plain": [
       "                                         Laptop Name Rating     Price\n",
       "0  Lenovo IdeaPad Slim 5 Pro Intel Core i7 11th G...           75,990\n",
       "1  Fujitsu UH-X 11th Gen Intel Core i7 13.3” FHD ...           84,990\n",
       "2  ASUS Vivobook 15, 15.6-inch (39.62 cms) FHD, I...           57,890\n",
       "3  Hp Pavilion 15 12Th Gen Intel Core I7 16Gb Sdr...           87,900\n",
       "4  Lenovo IdeaPad Slim 5 Pro Intel Core i7 11th G...           75,990\n",
       "5  Hp Pavilion X360 11Th Gen Intel Core I7 14 Inc...           82,990\n",
       "6  HP Envy 11th Gen Intel Evo Core i7 14 inch(35....           99,499\n",
       "7  ASUS Zenbook 14 OLED (2022), 14\" (35.56 cms) 2...         1,04,990\n",
       "8  HP Pavilion 14 12th Gen Intel Core i7 16GB SDR...           86,990\n",
       "9  Lenovo ThinkPad E14 Intel Core i7 11th Gen 14-...           94,990"
      ]
     },
     "execution_count": 109,
     "metadata": {},
     "output_type": "execute_result"
    }
   ],
   "source": [
    "df=pd.DataFrame()\n",
    "\n",
    "df['Laptop Name'] = title\n",
    "df['Rating'] = rating\n",
    "df['Price'] = price\n",
    "\n",
    "df"
   ]
  },
  {
   "cell_type": "code",
   "execution_count": null,
   "id": "aa4472d6",
   "metadata": {},
   "outputs": [],
   "source": []
  },
  {
   "cell_type": "code",
   "execution_count": null,
   "id": "ea3bb84a",
   "metadata": {},
   "outputs": [],
   "source": []
  },
  {
   "cell_type": "code",
   "execution_count": null,
   "id": "7016796b",
   "metadata": {},
   "outputs": [],
   "source": []
  },
  {
   "cell_type": "code",
   "execution_count": null,
   "id": "9ffc7e95",
   "metadata": {},
   "outputs": [],
   "source": []
  },
  {
   "cell_type": "code",
   "execution_count": null,
   "id": "312fbf07",
   "metadata": {},
   "outputs": [],
   "source": []
  },
  {
   "cell_type": "code",
   "execution_count": 131,
   "id": "14e20551",
   "metadata": {},
   "outputs": [],
   "source": [
    "#Ques.9\n",
    "\n",
    "import selenium\n",
    "from selenium import webdriver\n",
    "from selenium.webdriver.common.by import By\n",
    "from selenium.webdriver.common.keys import Keys\n",
    "\n",
    "import pandas as pd\n",
    "import warnings\n",
    "warnings.filterwarnings(\"ignore\")"
   ]
  },
  {
   "cell_type": "code",
   "execution_count": 132,
   "id": "3238f159",
   "metadata": {},
   "outputs": [],
   "source": [
    "browser = webdriver.Chrome()\n",
    "browser.get('https://www.ambitionbox.com/')"
   ]
  },
  {
   "cell_type": "code",
   "execution_count": 133,
   "id": "31fd81ca",
   "metadata": {},
   "outputs": [],
   "source": [
    "jobs_btn = browser.find_element(By.XPATH,\"/html/body/div[1]/nav/nav/a[6]\")\n",
    "jobs_btn\n",
    "\n",
    "jobs_btn.click()"
   ]
  },
  {
   "cell_type": "code",
   "execution_count": 134,
   "id": "7ba9173b",
   "metadata": {},
   "outputs": [
    {
     "data": {
      "text/plain": [
       "<selenium.webdriver.remote.webelement.WebElement (session=\"bf4243edf43589f25e37246c7f7b1788\", element=\"61495286-eb1e-45c1-9dc1-19d0d499c229\")>"
      ]
     },
     "execution_count": 134,
     "metadata": {},
     "output_type": "execute_result"
    }
   ],
   "source": [
    "srch_job = browser.find_element(By.XPATH,\"/html/body/div/div/div/div[2]/div[1]/div[1]/div/div/div/div/span/input\")\n",
    "srch_job\n"
   ]
  },
  {
   "cell_type": "code",
   "execution_count": 135,
   "id": "8f608fa9",
   "metadata": {},
   "outputs": [],
   "source": [
    "srch_job.send_keys(\"Data Scientist\")"
   ]
  },
  {
   "cell_type": "code",
   "execution_count": 136,
   "id": "1bc47c2d",
   "metadata": {},
   "outputs": [],
   "source": [
    "go_btn = browser.find_element(By.XPATH,\"/html/body/div/div/div/div[2]/div[1]/div[1]/div/div/div/button\")\n",
    "go_btn\n",
    "\n",
    "go_btn.click()"
   ]
  },
  {
   "cell_type": "code",
   "execution_count": 138,
   "id": "e33db6da",
   "metadata": {},
   "outputs": [
    {
     "data": {
      "text/plain": [
       "<selenium.webdriver.remote.webelement.WebElement (session=\"bf4243edf43589f25e37246c7f7b1788\", element=\"648772d4-4412-47ab-b992-4a5ece8feab2\")>"
      ]
     },
     "execution_count": 138,
     "metadata": {},
     "output_type": "execute_result"
    }
   ],
   "source": [
    "loc_chk = browser.find_element(By.XPATH,\"/html/body/div/div/div/div[2]/div[1]/div[2]/div[1]/div/div/div/div[2]/div[2]/div/div[3]/div[1]/div[7]/div/label\")\n",
    "loc_chk"
   ]
  },
  {
   "cell_type": "code",
   "execution_count": 139,
   "id": "61949e81",
   "metadata": {},
   "outputs": [
    {
     "data": {
      "text/plain": [
       "['Data Scientist: Artificial Intelligence',\n",
       " 'Data Scientist: Advanced Analytics',\n",
       " 'Principal - Data Scientist',\n",
       " 'Data Scientist: Artificial Intelligence',\n",
       " 'Data Scientist: Artificial Intelligence',\n",
       " 'Senior Data Scientist',\n",
       " 'AVP / VP Data Scientist (Model Validation)',\n",
       " 'Data Scientist',\n",
       " 'Data Scientist',\n",
       " 'Data Scientist']"
      ]
     },
     "execution_count": 139,
     "metadata": {},
     "output_type": "execute_result"
    }
   ],
   "source": [
    "pos_tag = browser.find_elements(By.XPATH,'//a[@class=\"title noclick\"]')\n",
    "\n",
    "position = []\n",
    "\n",
    "for i in pos_tag[0:10]:\n",
    "    \n",
    "    position.append(i.text) \n",
    "\n",
    "\n",
    "position"
   ]
  },
  {
   "cell_type": "code",
   "execution_count": 140,
   "id": "659a3155",
   "metadata": {},
   "outputs": [
    {
     "data": {
      "text/plain": [
       "['IBM India Pvt. Limited',\n",
       " 'IBM India Pvt. Limited',\n",
       " 'Schneider Electric India Pvt. Ltd.',\n",
       " 'IBM India Pvt. Limited',\n",
       " 'IBM India Pvt. Limited',\n",
       " 'Walmart Labs',\n",
       " 'J.P. Morgan Services India Private Limited',\n",
       " 'Shell India Markets Private Limited',\n",
       " 'IBM India Pvt. Limited',\n",
       " 'IBM India Pvt. Limited']"
      ]
     },
     "execution_count": 140,
     "metadata": {},
     "output_type": "execute_result"
    }
   ],
   "source": [
    "\n",
    "company_tag = browser.find_elements(By.XPATH,'//p[@class=\"company body-medium\"]')\n",
    "\n",
    "company = []\n",
    "\n",
    "for i in company_tag[0:10]:\n",
    "    company.append(i.text) \n",
    "\n",
    "\n",
    "company"
   ]
  },
  {
   "cell_type": "code",
   "execution_count": 157,
   "id": "c26168e3",
   "metadata": {},
   "outputs": [
    {
     "data": {
      "text/plain": [
       "['1d ago',\n",
       " 'via naukri.com',\n",
       " '2d ago',\n",
       " 'via naukri.com',\n",
       " '2d ago',\n",
       " 'via naukri.com',\n",
       " '2d ago',\n",
       " 'via naukri.com',\n",
       " '2d ago',\n",
       " 'via naukri.com']"
      ]
     },
     "execution_count": 157,
     "metadata": {},
     "output_type": "execute_result"
    }
   ],
   "source": [
    "days_tag = browser.find_elements(By.XPATH,'//span[@class=\"body-small-l\"]')\n",
    "\n",
    "daysposted = []\n",
    "\n",
    "for i in days_tag[0:10]:\n",
    "    \n",
    "    daysposted.append(i.text)\n",
    "    \n",
    "\n",
    "daysposted\n",
    "\n",
    "\n",
    "#there are two seperate parts giving the timeframe and the website name..i am unable to split it"
   ]
  },
  {
   "cell_type": "code",
   "execution_count": 152,
   "id": "f8c752a4",
   "metadata": {},
   "outputs": [
    {
     "data": {
      "text/plain": [
       "['4.2', '4.2', '4.2', '4.2', '4.2', '4.2', '4.2', '4.4', '4.2', '4.2']"
      ]
     },
     "execution_count": 152,
     "metadata": {},
     "output_type": "execute_result"
    }
   ],
   "source": [
    "rate_tag = browser.find_elements(By.XPATH,'//span[@class=\"body-small\"]')\n",
    "\n",
    "rating = []\n",
    "\n",
    "for i in rate_tag[0:10]:\n",
    "    rating.append(i.text)\n",
    "\n",
    "rating"
   ]
  },
  {
   "cell_type": "code",
   "execution_count": 158,
   "id": "b0ad6b4b",
   "metadata": {},
   "outputs": [
    {
     "data": {
      "text/html": [
       "<div>\n",
       "<style scoped>\n",
       "    .dataframe tbody tr th:only-of-type {\n",
       "        vertical-align: middle;\n",
       "    }\n",
       "\n",
       "    .dataframe tbody tr th {\n",
       "        vertical-align: top;\n",
       "    }\n",
       "\n",
       "    .dataframe thead th {\n",
       "        text-align: right;\n",
       "    }\n",
       "</style>\n",
       "<table border=\"1\" class=\"dataframe\">\n",
       "  <thead>\n",
       "    <tr style=\"text-align: right;\">\n",
       "      <th></th>\n",
       "      <th>Job Role</th>\n",
       "      <th>Company Name</th>\n",
       "      <th>Company Rating</th>\n",
       "    </tr>\n",
       "  </thead>\n",
       "  <tbody>\n",
       "    <tr>\n",
       "      <th>0</th>\n",
       "      <td>Data Scientist: Artificial Intelligence</td>\n",
       "      <td>IBM India Pvt. Limited</td>\n",
       "      <td>4.2</td>\n",
       "    </tr>\n",
       "    <tr>\n",
       "      <th>1</th>\n",
       "      <td>Data Scientist: Advanced Analytics</td>\n",
       "      <td>IBM India Pvt. Limited</td>\n",
       "      <td>4.2</td>\n",
       "    </tr>\n",
       "    <tr>\n",
       "      <th>2</th>\n",
       "      <td>Principal - Data Scientist</td>\n",
       "      <td>Schneider Electric India Pvt. Ltd.</td>\n",
       "      <td>4.2</td>\n",
       "    </tr>\n",
       "    <tr>\n",
       "      <th>3</th>\n",
       "      <td>Data Scientist: Artificial Intelligence</td>\n",
       "      <td>IBM India Pvt. Limited</td>\n",
       "      <td>4.2</td>\n",
       "    </tr>\n",
       "    <tr>\n",
       "      <th>4</th>\n",
       "      <td>Data Scientist: Artificial Intelligence</td>\n",
       "      <td>IBM India Pvt. Limited</td>\n",
       "      <td>4.2</td>\n",
       "    </tr>\n",
       "    <tr>\n",
       "      <th>5</th>\n",
       "      <td>Senior Data Scientist</td>\n",
       "      <td>Walmart Labs</td>\n",
       "      <td>4.2</td>\n",
       "    </tr>\n",
       "    <tr>\n",
       "      <th>6</th>\n",
       "      <td>AVP / VP Data Scientist (Model Validation)</td>\n",
       "      <td>J.P. Morgan Services India Private Limited</td>\n",
       "      <td>4.2</td>\n",
       "    </tr>\n",
       "    <tr>\n",
       "      <th>7</th>\n",
       "      <td>Data Scientist</td>\n",
       "      <td>Shell India Markets Private Limited</td>\n",
       "      <td>4.4</td>\n",
       "    </tr>\n",
       "    <tr>\n",
       "      <th>8</th>\n",
       "      <td>Data Scientist</td>\n",
       "      <td>IBM India Pvt. Limited</td>\n",
       "      <td>4.2</td>\n",
       "    </tr>\n",
       "    <tr>\n",
       "      <th>9</th>\n",
       "      <td>Data Scientist</td>\n",
       "      <td>IBM India Pvt. Limited</td>\n",
       "      <td>4.2</td>\n",
       "    </tr>\n",
       "  </tbody>\n",
       "</table>\n",
       "</div>"
      ],
      "text/plain": [
       "                                     Job Role  \\\n",
       "0     Data Scientist: Artificial Intelligence   \n",
       "1          Data Scientist: Advanced Analytics   \n",
       "2                  Principal - Data Scientist   \n",
       "3     Data Scientist: Artificial Intelligence   \n",
       "4     Data Scientist: Artificial Intelligence   \n",
       "5                       Senior Data Scientist   \n",
       "6  AVP / VP Data Scientist (Model Validation)   \n",
       "7                              Data Scientist   \n",
       "8                              Data Scientist   \n",
       "9                              Data Scientist   \n",
       "\n",
       "                                 Company Name Company Rating  \n",
       "0                      IBM India Pvt. Limited            4.2  \n",
       "1                      IBM India Pvt. Limited            4.2  \n",
       "2          Schneider Electric India Pvt. Ltd.            4.2  \n",
       "3                      IBM India Pvt. Limited            4.2  \n",
       "4                      IBM India Pvt. Limited            4.2  \n",
       "5                                Walmart Labs            4.2  \n",
       "6  J.P. Morgan Services India Private Limited            4.2  \n",
       "7         Shell India Markets Private Limited            4.4  \n",
       "8                      IBM India Pvt. Limited            4.2  \n",
       "9                      IBM India Pvt. Limited            4.2  "
      ]
     },
     "execution_count": 158,
     "metadata": {},
     "output_type": "execute_result"
    }
   ],
   "source": [
    "df = pd.DataFrame()\n",
    "\n",
    "df['Job Role'] = position\n",
    "df['Company Name'] = company\n",
    "df['Company Rating'] = rating\n",
    "#df['Job Posted'] = daysposted\n",
    "df"
   ]
  },
  {
   "cell_type": "code",
   "execution_count": null,
   "id": "f9965546",
   "metadata": {},
   "outputs": [],
   "source": []
  },
  {
   "cell_type": "code",
   "execution_count": null,
   "id": "35623aa0",
   "metadata": {},
   "outputs": [],
   "source": []
  },
  {
   "cell_type": "code",
   "execution_count": null,
   "id": "bab08e17",
   "metadata": {},
   "outputs": [],
   "source": []
  },
  {
   "cell_type": "code",
   "execution_count": 159,
   "id": "89c8122f",
   "metadata": {},
   "outputs": [],
   "source": [
    "#Ques.10\n",
    "\n",
    "import selenium\n",
    "from selenium import webdriver\n",
    "from selenium.webdriver.common.by import By\n",
    "from selenium.webdriver.common.keys import Keys\n",
    "\n",
    "import pandas as pd\n",
    "import warnings\n",
    "warnings.filterwarnings(\"ignore\")\n",
    "\n",
    "browser = webdriver.Chrome()\n",
    "browser.get('https://www.ambitionbox.com/')"
   ]
  },
  {
   "cell_type": "code",
   "execution_count": 160,
   "id": "df6fac6d",
   "metadata": {},
   "outputs": [
    {
     "data": {
      "text/plain": [
       "<selenium.webdriver.remote.webelement.WebElement (session=\"8a5886dddfb07da46a1812327438ccb6\", element=\"983c069a-e2f3-463f-a78c-4c50324ad154\")>"
      ]
     },
     "execution_count": 160,
     "metadata": {},
     "output_type": "execute_result"
    }
   ],
   "source": [
    "slry_btn = browser.find_element(By.XPATH,\"/html/body/div[1]/nav/nav/a[4]\")\n",
    "slry_btn"
   ]
  },
  {
   "cell_type": "code",
   "execution_count": 161,
   "id": "cc06c3ea",
   "metadata": {},
   "outputs": [],
   "source": [
    "slry_btn.click()"
   ]
  },
  {
   "cell_type": "code",
   "execution_count": 162,
   "id": "98a737a9",
   "metadata": {},
   "outputs": [
    {
     "data": {
      "text/plain": [
       "<selenium.webdriver.remote.webelement.WebElement (session=\"8a5886dddfb07da46a1812327438ccb6\", element=\"f221136f-2261-4035-b2ec-992408d7a4e5\")>"
      ]
     },
     "execution_count": 162,
     "metadata": {},
     "output_type": "execute_result"
    }
   ],
   "source": [
    "srch_job = browser.find_element(By.XPATH,\"/html/body/div/div/div/main/section[1]/div[2]/div[1]/span/input\")\n",
    "srch_job"
   ]
  },
  {
   "cell_type": "code",
   "execution_count": 163,
   "id": "2f261fac",
   "metadata": {},
   "outputs": [],
   "source": [
    "srch_job.send_keys(\"Data Scientist\")"
   ]
  },
  {
   "cell_type": "code",
   "execution_count": 164,
   "id": "b5646b66",
   "metadata": {},
   "outputs": [
    {
     "ename": "NoSuchElementException",
     "evalue": "Message: no such element: Unable to locate element: {\"method\":\"xpath\",\"selector\":\"/html/body/div/div/div/main/section[1]/div[2]/div[1]/span/div/div/div[1]\"}\n  (Session info: chrome=103.0.5060.114)\nStacktrace:\nBacktrace:\n\tOrdinal0 [0x004F6463+2188387]\n\tOrdinal0 [0x0048E461+1762401]\n\tOrdinal0 [0x003A3D78+802168]\n\tOrdinal0 [0x003D1880+989312]\n\tOrdinal0 [0x003D1B1B+989979]\n\tOrdinal0 [0x003FE912+1173778]\n\tOrdinal0 [0x003EC824+1099812]\n\tOrdinal0 [0x003FCC22+1166370]\n\tOrdinal0 [0x003EC5F6+1099254]\n\tOrdinal0 [0x003C6BE0+945120]\n\tOrdinal0 [0x003C7AD6+948950]\n\tGetHandleVerifier [0x007971F2+2712546]\n\tGetHandleVerifier [0x0078886D+2652765]\n\tGetHandleVerifier [0x0058002A+520730]\n\tGetHandleVerifier [0x0057EE06+516086]\n\tOrdinal0 [0x0049468B+1787531]\n\tOrdinal0 [0x00498E88+1805960]\n\tOrdinal0 [0x00498F75+1806197]\n\tOrdinal0 [0x004A1DF1+1842673]\n\tBaseThreadInitThunk [0x766D6739+25]\n\tRtlGetFullPathName_UEx [0x77878FEF+1215]\n\tRtlGetFullPathName_UEx [0x77878FBD+1165]\n",
     "output_type": "error",
     "traceback": [
      "\u001b[1;31m---------------------------------------------------------------------------\u001b[0m",
      "\u001b[1;31mNoSuchElementException\u001b[0m                    Traceback (most recent call last)",
      "\u001b[1;32m~\\AppData\\Local\\Temp/ipykernel_10340/2722485392.py\u001b[0m in \u001b[0;36m<module>\u001b[1;34m\u001b[0m\n\u001b[1;32m----> 1\u001b[1;33m \u001b[0msrch_job\u001b[0m \u001b[1;33m=\u001b[0m \u001b[0mbrowser\u001b[0m\u001b[1;33m.\u001b[0m\u001b[0mfind_element\u001b[0m\u001b[1;33m(\u001b[0m\u001b[0mBy\u001b[0m\u001b[1;33m.\u001b[0m\u001b[0mXPATH\u001b[0m\u001b[1;33m,\u001b[0m\u001b[1;34m\"/html/body/div/div/div/main/section[1]/div[2]/div[1]/span/div/div/div[1]\"\u001b[0m\u001b[1;33m)\u001b[0m\u001b[1;33m\u001b[0m\u001b[1;33m\u001b[0m\u001b[0m\n\u001b[0m\u001b[0;32m      2\u001b[0m \u001b[0msrch_job\u001b[0m\u001b[1;33m\u001b[0m\u001b[1;33m\u001b[0m\u001b[0m\n\u001b[0;32m      3\u001b[0m  \u001b[1;31m#this step to find and click on data scientist is not working\u001b[0m\u001b[1;33m\u001b[0m\u001b[1;33m\u001b[0m\u001b[0m\n",
      "\u001b[1;32m~\\anaconda3\\lib\\site-packages\\selenium\\webdriver\\remote\\webdriver.py\u001b[0m in \u001b[0;36mfind_element\u001b[1;34m(self, by, value)\u001b[0m\n\u001b[0;32m    855\u001b[0m             \u001b[0mvalue\u001b[0m \u001b[1;33m=\u001b[0m \u001b[1;34m'[name=\"%s\"]'\u001b[0m \u001b[1;33m%\u001b[0m \u001b[0mvalue\u001b[0m\u001b[1;33m\u001b[0m\u001b[1;33m\u001b[0m\u001b[0m\n\u001b[0;32m    856\u001b[0m \u001b[1;33m\u001b[0m\u001b[0m\n\u001b[1;32m--> 857\u001b[1;33m         return self.execute(Command.FIND_ELEMENT, {\n\u001b[0m\u001b[0;32m    858\u001b[0m             \u001b[1;34m'using'\u001b[0m\u001b[1;33m:\u001b[0m \u001b[0mby\u001b[0m\u001b[1;33m,\u001b[0m\u001b[1;33m\u001b[0m\u001b[1;33m\u001b[0m\u001b[0m\n\u001b[0;32m    859\u001b[0m             'value': value})['value']\n",
      "\u001b[1;32m~\\anaconda3\\lib\\site-packages\\selenium\\webdriver\\remote\\webdriver.py\u001b[0m in \u001b[0;36mexecute\u001b[1;34m(self, driver_command, params)\u001b[0m\n\u001b[0;32m    433\u001b[0m         \u001b[0mresponse\u001b[0m \u001b[1;33m=\u001b[0m \u001b[0mself\u001b[0m\u001b[1;33m.\u001b[0m\u001b[0mcommand_executor\u001b[0m\u001b[1;33m.\u001b[0m\u001b[0mexecute\u001b[0m\u001b[1;33m(\u001b[0m\u001b[0mdriver_command\u001b[0m\u001b[1;33m,\u001b[0m \u001b[0mparams\u001b[0m\u001b[1;33m)\u001b[0m\u001b[1;33m\u001b[0m\u001b[1;33m\u001b[0m\u001b[0m\n\u001b[0;32m    434\u001b[0m         \u001b[1;32mif\u001b[0m \u001b[0mresponse\u001b[0m\u001b[1;33m:\u001b[0m\u001b[1;33m\u001b[0m\u001b[1;33m\u001b[0m\u001b[0m\n\u001b[1;32m--> 435\u001b[1;33m             \u001b[0mself\u001b[0m\u001b[1;33m.\u001b[0m\u001b[0merror_handler\u001b[0m\u001b[1;33m.\u001b[0m\u001b[0mcheck_response\u001b[0m\u001b[1;33m(\u001b[0m\u001b[0mresponse\u001b[0m\u001b[1;33m)\u001b[0m\u001b[1;33m\u001b[0m\u001b[1;33m\u001b[0m\u001b[0m\n\u001b[0m\u001b[0;32m    436\u001b[0m             response['value'] = self._unwrap_value(\n\u001b[0;32m    437\u001b[0m                 response.get('value', None))\n",
      "\u001b[1;32m~\\anaconda3\\lib\\site-packages\\selenium\\webdriver\\remote\\errorhandler.py\u001b[0m in \u001b[0;36mcheck_response\u001b[1;34m(self, response)\u001b[0m\n\u001b[0;32m    245\u001b[0m                 \u001b[0malert_text\u001b[0m \u001b[1;33m=\u001b[0m \u001b[0mvalue\u001b[0m\u001b[1;33m[\u001b[0m\u001b[1;34m'alert'\u001b[0m\u001b[1;33m]\u001b[0m\u001b[1;33m.\u001b[0m\u001b[0mget\u001b[0m\u001b[1;33m(\u001b[0m\u001b[1;34m'text'\u001b[0m\u001b[1;33m)\u001b[0m\u001b[1;33m\u001b[0m\u001b[1;33m\u001b[0m\u001b[0m\n\u001b[0;32m    246\u001b[0m             \u001b[1;32mraise\u001b[0m \u001b[0mexception_class\u001b[0m\u001b[1;33m(\u001b[0m\u001b[0mmessage\u001b[0m\u001b[1;33m,\u001b[0m \u001b[0mscreen\u001b[0m\u001b[1;33m,\u001b[0m \u001b[0mstacktrace\u001b[0m\u001b[1;33m,\u001b[0m \u001b[0malert_text\u001b[0m\u001b[1;33m)\u001b[0m  \u001b[1;31m# type: ignore[call-arg]  # mypy is not smart enough here\u001b[0m\u001b[1;33m\u001b[0m\u001b[1;33m\u001b[0m\u001b[0m\n\u001b[1;32m--> 247\u001b[1;33m         \u001b[1;32mraise\u001b[0m \u001b[0mexception_class\u001b[0m\u001b[1;33m(\u001b[0m\u001b[0mmessage\u001b[0m\u001b[1;33m,\u001b[0m \u001b[0mscreen\u001b[0m\u001b[1;33m,\u001b[0m \u001b[0mstacktrace\u001b[0m\u001b[1;33m)\u001b[0m\u001b[1;33m\u001b[0m\u001b[1;33m\u001b[0m\u001b[0m\n\u001b[0m\u001b[0;32m    248\u001b[0m \u001b[1;33m\u001b[0m\u001b[0m\n\u001b[0;32m    249\u001b[0m     \u001b[1;32mdef\u001b[0m \u001b[0m_value_or_default\u001b[0m\u001b[1;33m(\u001b[0m\u001b[0mself\u001b[0m\u001b[1;33m,\u001b[0m \u001b[0mobj\u001b[0m\u001b[1;33m:\u001b[0m \u001b[0mMapping\u001b[0m\u001b[1;33m[\u001b[0m\u001b[0m_KT\u001b[0m\u001b[1;33m,\u001b[0m \u001b[0m_VT\u001b[0m\u001b[1;33m]\u001b[0m\u001b[1;33m,\u001b[0m \u001b[0mkey\u001b[0m\u001b[1;33m:\u001b[0m \u001b[0m_KT\u001b[0m\u001b[1;33m,\u001b[0m \u001b[0mdefault\u001b[0m\u001b[1;33m:\u001b[0m \u001b[0m_VT\u001b[0m\u001b[1;33m)\u001b[0m \u001b[1;33m->\u001b[0m \u001b[0m_VT\u001b[0m\u001b[1;33m:\u001b[0m\u001b[1;33m\u001b[0m\u001b[1;33m\u001b[0m\u001b[0m\n",
      "\u001b[1;31mNoSuchElementException\u001b[0m: Message: no such element: Unable to locate element: {\"method\":\"xpath\",\"selector\":\"/html/body/div/div/div/main/section[1]/div[2]/div[1]/span/div/div/div[1]\"}\n  (Session info: chrome=103.0.5060.114)\nStacktrace:\nBacktrace:\n\tOrdinal0 [0x004F6463+2188387]\n\tOrdinal0 [0x0048E461+1762401]\n\tOrdinal0 [0x003A3D78+802168]\n\tOrdinal0 [0x003D1880+989312]\n\tOrdinal0 [0x003D1B1B+989979]\n\tOrdinal0 [0x003FE912+1173778]\n\tOrdinal0 [0x003EC824+1099812]\n\tOrdinal0 [0x003FCC22+1166370]\n\tOrdinal0 [0x003EC5F6+1099254]\n\tOrdinal0 [0x003C6BE0+945120]\n\tOrdinal0 [0x003C7AD6+948950]\n\tGetHandleVerifier [0x007971F2+2712546]\n\tGetHandleVerifier [0x0078886D+2652765]\n\tGetHandleVerifier [0x0058002A+520730]\n\tGetHandleVerifier [0x0057EE06+516086]\n\tOrdinal0 [0x0049468B+1787531]\n\tOrdinal0 [0x00498E88+1805960]\n\tOrdinal0 [0x00498F75+1806197]\n\tOrdinal0 [0x004A1DF1+1842673]\n\tBaseThreadInitThunk [0x766D6739+25]\n\tRtlGetFullPathName_UEx [0x77878FEF+1215]\n\tRtlGetFullPathName_UEx [0x77878FBD+1165]\n"
     ]
    }
   ],
   "source": [
    "srch_job = browser.find_element(By.XPATH,\"/html/body/div/div/div/main/section[1]/div[2]/div[1]/span/div/div/div[1]\")\n",
    "srch_job\n",
    " #this step to find and click on data scientist is not working. clicked manually\n"
   ]
  },
  {
   "cell_type": "code",
   "execution_count": 165,
   "id": "47ed4ea9",
   "metadata": {},
   "outputs": [
    {
     "ename": "ElementClickInterceptedException",
     "evalue": "Message: element click intercepted: Element <input type=\"searchbox\" id=\"jobProfileSearchbox\" placeholder=\"Search job profiles\" autocomplete=\"off\" value=\"\" data-v-4c07f399=\"\" class=\"tt-input\" spellcheck=\"false\" dir=\"auto\" aria-activedescendant=\"\" aria-owns=\"jobProfileSearchbox_listbox\" role=\"combobox\" aria-readonly=\"true\" aria-autocomplete=\"list\" style=\"position: relative; vertical-align: top;\"> is not clickable at point (252, 11). Other element would receive the click: <div class=\"nav-list-left\">...</div>\n  (Session info: chrome=103.0.5060.114)\nStacktrace:\nBacktrace:\n\tOrdinal0 [0x004F6463+2188387]\n\tOrdinal0 [0x0048E461+1762401]\n\tOrdinal0 [0x003A3D78+802168]\n\tOrdinal0 [0x003D7F9B+1015707]\n\tOrdinal0 [0x003D5F68+1007464]\n\tOrdinal0 [0x003D3C6B+998507]\n\tOrdinal0 [0x003D29D9+993753]\n\tOrdinal0 [0x003C8613+951827]\n\tOrdinal0 [0x003EC7DC+1099740]\n\tOrdinal0 [0x003C7FF4+950260]\n\tOrdinal0 [0x003EC9F4+1100276]\n\tOrdinal0 [0x003FCC22+1166370]\n\tOrdinal0 [0x003EC5F6+1099254]\n\tOrdinal0 [0x003C6BE0+945120]\n\tOrdinal0 [0x003C7AD6+948950]\n\tGetHandleVerifier [0x007971F2+2712546]\n\tGetHandleVerifier [0x0078886D+2652765]\n\tGetHandleVerifier [0x0058002A+520730]\n\tGetHandleVerifier [0x0057EE06+516086]\n\tOrdinal0 [0x0049468B+1787531]\n\tOrdinal0 [0x00498E88+1805960]\n\tOrdinal0 [0x00498F75+1806197]\n\tOrdinal0 [0x004A1DF1+1842673]\n\tBaseThreadInitThunk [0x766D6739+25]\n\tRtlGetFullPathName_UEx [0x77878FEF+1215]\n\tRtlGetFullPathName_UEx [0x77878FBD+1165]\n",
     "output_type": "error",
     "traceback": [
      "\u001b[1;31m---------------------------------------------------------------------------\u001b[0m",
      "\u001b[1;31mElementClickInterceptedException\u001b[0m          Traceback (most recent call last)",
      "\u001b[1;32m~\\AppData\\Local\\Temp/ipykernel_10340/122132277.py\u001b[0m in \u001b[0;36m<module>\u001b[1;34m\u001b[0m\n\u001b[1;32m----> 1\u001b[1;33m \u001b[0msrch_job\u001b[0m\u001b[1;33m.\u001b[0m\u001b[0mclick\u001b[0m\u001b[1;33m(\u001b[0m\u001b[1;33m)\u001b[0m \u001b[1;31m#this is not working\u001b[0m\u001b[1;33m\u001b[0m\u001b[1;33m\u001b[0m\u001b[0m\n\u001b[0m",
      "\u001b[1;32m~\\anaconda3\\lib\\site-packages\\selenium\\webdriver\\remote\\webelement.py\u001b[0m in \u001b[0;36mclick\u001b[1;34m(self)\u001b[0m\n\u001b[0;32m     86\u001b[0m     \u001b[1;32mdef\u001b[0m \u001b[0mclick\u001b[0m\u001b[1;33m(\u001b[0m\u001b[0mself\u001b[0m\u001b[1;33m)\u001b[0m \u001b[1;33m->\u001b[0m \u001b[1;32mNone\u001b[0m\u001b[1;33m:\u001b[0m\u001b[1;33m\u001b[0m\u001b[1;33m\u001b[0m\u001b[0m\n\u001b[0;32m     87\u001b[0m         \u001b[1;34m\"\"\"Clicks the element.\"\"\"\u001b[0m\u001b[1;33m\u001b[0m\u001b[1;33m\u001b[0m\u001b[0m\n\u001b[1;32m---> 88\u001b[1;33m         \u001b[0mself\u001b[0m\u001b[1;33m.\u001b[0m\u001b[0m_execute\u001b[0m\u001b[1;33m(\u001b[0m\u001b[0mCommand\u001b[0m\u001b[1;33m.\u001b[0m\u001b[0mCLICK_ELEMENT\u001b[0m\u001b[1;33m)\u001b[0m\u001b[1;33m\u001b[0m\u001b[1;33m\u001b[0m\u001b[0m\n\u001b[0m\u001b[0;32m     89\u001b[0m \u001b[1;33m\u001b[0m\u001b[0m\n\u001b[0;32m     90\u001b[0m     \u001b[1;32mdef\u001b[0m \u001b[0msubmit\u001b[0m\u001b[1;33m(\u001b[0m\u001b[0mself\u001b[0m\u001b[1;33m)\u001b[0m\u001b[1;33m:\u001b[0m\u001b[1;33m\u001b[0m\u001b[1;33m\u001b[0m\u001b[0m\n",
      "\u001b[1;32m~\\anaconda3\\lib\\site-packages\\selenium\\webdriver\\remote\\webelement.py\u001b[0m in \u001b[0;36m_execute\u001b[1;34m(self, command, params)\u001b[0m\n\u001b[0;32m    394\u001b[0m             \u001b[0mparams\u001b[0m \u001b[1;33m=\u001b[0m \u001b[1;33m{\u001b[0m\u001b[1;33m}\u001b[0m\u001b[1;33m\u001b[0m\u001b[1;33m\u001b[0m\u001b[0m\n\u001b[0;32m    395\u001b[0m         \u001b[0mparams\u001b[0m\u001b[1;33m[\u001b[0m\u001b[1;34m'id'\u001b[0m\u001b[1;33m]\u001b[0m \u001b[1;33m=\u001b[0m \u001b[0mself\u001b[0m\u001b[1;33m.\u001b[0m\u001b[0m_id\u001b[0m\u001b[1;33m\u001b[0m\u001b[1;33m\u001b[0m\u001b[0m\n\u001b[1;32m--> 396\u001b[1;33m         \u001b[1;32mreturn\u001b[0m \u001b[0mself\u001b[0m\u001b[1;33m.\u001b[0m\u001b[0m_parent\u001b[0m\u001b[1;33m.\u001b[0m\u001b[0mexecute\u001b[0m\u001b[1;33m(\u001b[0m\u001b[0mcommand\u001b[0m\u001b[1;33m,\u001b[0m \u001b[0mparams\u001b[0m\u001b[1;33m)\u001b[0m\u001b[1;33m\u001b[0m\u001b[1;33m\u001b[0m\u001b[0m\n\u001b[0m\u001b[0;32m    397\u001b[0m \u001b[1;33m\u001b[0m\u001b[0m\n\u001b[0;32m    398\u001b[0m     \u001b[1;32mdef\u001b[0m \u001b[0mfind_element\u001b[0m\u001b[1;33m(\u001b[0m\u001b[0mself\u001b[0m\u001b[1;33m,\u001b[0m \u001b[0mby\u001b[0m\u001b[1;33m=\u001b[0m\u001b[0mBy\u001b[0m\u001b[1;33m.\u001b[0m\u001b[0mID\u001b[0m\u001b[1;33m,\u001b[0m \u001b[0mvalue\u001b[0m\u001b[1;33m=\u001b[0m\u001b[1;32mNone\u001b[0m\u001b[1;33m)\u001b[0m \u001b[1;33m->\u001b[0m \u001b[0mWebElement\u001b[0m\u001b[1;33m:\u001b[0m\u001b[1;33m\u001b[0m\u001b[1;33m\u001b[0m\u001b[0m\n",
      "\u001b[1;32m~\\anaconda3\\lib\\site-packages\\selenium\\webdriver\\remote\\webdriver.py\u001b[0m in \u001b[0;36mexecute\u001b[1;34m(self, driver_command, params)\u001b[0m\n\u001b[0;32m    433\u001b[0m         \u001b[0mresponse\u001b[0m \u001b[1;33m=\u001b[0m \u001b[0mself\u001b[0m\u001b[1;33m.\u001b[0m\u001b[0mcommand_executor\u001b[0m\u001b[1;33m.\u001b[0m\u001b[0mexecute\u001b[0m\u001b[1;33m(\u001b[0m\u001b[0mdriver_command\u001b[0m\u001b[1;33m,\u001b[0m \u001b[0mparams\u001b[0m\u001b[1;33m)\u001b[0m\u001b[1;33m\u001b[0m\u001b[1;33m\u001b[0m\u001b[0m\n\u001b[0;32m    434\u001b[0m         \u001b[1;32mif\u001b[0m \u001b[0mresponse\u001b[0m\u001b[1;33m:\u001b[0m\u001b[1;33m\u001b[0m\u001b[1;33m\u001b[0m\u001b[0m\n\u001b[1;32m--> 435\u001b[1;33m             \u001b[0mself\u001b[0m\u001b[1;33m.\u001b[0m\u001b[0merror_handler\u001b[0m\u001b[1;33m.\u001b[0m\u001b[0mcheck_response\u001b[0m\u001b[1;33m(\u001b[0m\u001b[0mresponse\u001b[0m\u001b[1;33m)\u001b[0m\u001b[1;33m\u001b[0m\u001b[1;33m\u001b[0m\u001b[0m\n\u001b[0m\u001b[0;32m    436\u001b[0m             response['value'] = self._unwrap_value(\n\u001b[0;32m    437\u001b[0m                 response.get('value', None))\n",
      "\u001b[1;32m~\\anaconda3\\lib\\site-packages\\selenium\\webdriver\\remote\\errorhandler.py\u001b[0m in \u001b[0;36mcheck_response\u001b[1;34m(self, response)\u001b[0m\n\u001b[0;32m    245\u001b[0m                 \u001b[0malert_text\u001b[0m \u001b[1;33m=\u001b[0m \u001b[0mvalue\u001b[0m\u001b[1;33m[\u001b[0m\u001b[1;34m'alert'\u001b[0m\u001b[1;33m]\u001b[0m\u001b[1;33m.\u001b[0m\u001b[0mget\u001b[0m\u001b[1;33m(\u001b[0m\u001b[1;34m'text'\u001b[0m\u001b[1;33m)\u001b[0m\u001b[1;33m\u001b[0m\u001b[1;33m\u001b[0m\u001b[0m\n\u001b[0;32m    246\u001b[0m             \u001b[1;32mraise\u001b[0m \u001b[0mexception_class\u001b[0m\u001b[1;33m(\u001b[0m\u001b[0mmessage\u001b[0m\u001b[1;33m,\u001b[0m \u001b[0mscreen\u001b[0m\u001b[1;33m,\u001b[0m \u001b[0mstacktrace\u001b[0m\u001b[1;33m,\u001b[0m \u001b[0malert_text\u001b[0m\u001b[1;33m)\u001b[0m  \u001b[1;31m# type: ignore[call-arg]  # mypy is not smart enough here\u001b[0m\u001b[1;33m\u001b[0m\u001b[1;33m\u001b[0m\u001b[0m\n\u001b[1;32m--> 247\u001b[1;33m         \u001b[1;32mraise\u001b[0m \u001b[0mexception_class\u001b[0m\u001b[1;33m(\u001b[0m\u001b[0mmessage\u001b[0m\u001b[1;33m,\u001b[0m \u001b[0mscreen\u001b[0m\u001b[1;33m,\u001b[0m \u001b[0mstacktrace\u001b[0m\u001b[1;33m)\u001b[0m\u001b[1;33m\u001b[0m\u001b[1;33m\u001b[0m\u001b[0m\n\u001b[0m\u001b[0;32m    248\u001b[0m \u001b[1;33m\u001b[0m\u001b[0m\n\u001b[0;32m    249\u001b[0m     \u001b[1;32mdef\u001b[0m \u001b[0m_value_or_default\u001b[0m\u001b[1;33m(\u001b[0m\u001b[0mself\u001b[0m\u001b[1;33m,\u001b[0m \u001b[0mobj\u001b[0m\u001b[1;33m:\u001b[0m \u001b[0mMapping\u001b[0m\u001b[1;33m[\u001b[0m\u001b[0m_KT\u001b[0m\u001b[1;33m,\u001b[0m \u001b[0m_VT\u001b[0m\u001b[1;33m]\u001b[0m\u001b[1;33m,\u001b[0m \u001b[0mkey\u001b[0m\u001b[1;33m:\u001b[0m \u001b[0m_KT\u001b[0m\u001b[1;33m,\u001b[0m \u001b[0mdefault\u001b[0m\u001b[1;33m:\u001b[0m \u001b[0m_VT\u001b[0m\u001b[1;33m)\u001b[0m \u001b[1;33m->\u001b[0m \u001b[0m_VT\u001b[0m\u001b[1;33m:\u001b[0m\u001b[1;33m\u001b[0m\u001b[1;33m\u001b[0m\u001b[0m\n",
      "\u001b[1;31mElementClickInterceptedException\u001b[0m: Message: element click intercepted: Element <input type=\"searchbox\" id=\"jobProfileSearchbox\" placeholder=\"Search job profiles\" autocomplete=\"off\" value=\"\" data-v-4c07f399=\"\" class=\"tt-input\" spellcheck=\"false\" dir=\"auto\" aria-activedescendant=\"\" aria-owns=\"jobProfileSearchbox_listbox\" role=\"combobox\" aria-readonly=\"true\" aria-autocomplete=\"list\" style=\"position: relative; vertical-align: top;\"> is not clickable at point (252, 11). Other element would receive the click: <div class=\"nav-list-left\">...</div>\n  (Session info: chrome=103.0.5060.114)\nStacktrace:\nBacktrace:\n\tOrdinal0 [0x004F6463+2188387]\n\tOrdinal0 [0x0048E461+1762401]\n\tOrdinal0 [0x003A3D78+802168]\n\tOrdinal0 [0x003D7F9B+1015707]\n\tOrdinal0 [0x003D5F68+1007464]\n\tOrdinal0 [0x003D3C6B+998507]\n\tOrdinal0 [0x003D29D9+993753]\n\tOrdinal0 [0x003C8613+951827]\n\tOrdinal0 [0x003EC7DC+1099740]\n\tOrdinal0 [0x003C7FF4+950260]\n\tOrdinal0 [0x003EC9F4+1100276]\n\tOrdinal0 [0x003FCC22+1166370]\n\tOrdinal0 [0x003EC5F6+1099254]\n\tOrdinal0 [0x003C6BE0+945120]\n\tOrdinal0 [0x003C7AD6+948950]\n\tGetHandleVerifier [0x007971F2+2712546]\n\tGetHandleVerifier [0x0078886D+2652765]\n\tGetHandleVerifier [0x0058002A+520730]\n\tGetHandleVerifier [0x0057EE06+516086]\n\tOrdinal0 [0x0049468B+1787531]\n\tOrdinal0 [0x00498E88+1805960]\n\tOrdinal0 [0x00498F75+1806197]\n\tOrdinal0 [0x004A1DF1+1842673]\n\tBaseThreadInitThunk [0x766D6739+25]\n\tRtlGetFullPathName_UEx [0x77878FEF+1215]\n\tRtlGetFullPathName_UEx [0x77878FBD+1165]\n"
     ]
    }
   ],
   "source": [
    "srch_job.click() #this is not working"
   ]
  },
  {
   "cell_type": "code",
   "execution_count": 182,
   "id": "51a6c791",
   "metadata": {},
   "outputs": [
    {
     "data": {
      "text/plain": [
       "['Walmart\\nData Scientist Salary\\n3 yrs experience (based on 12 salaries)',\n",
       " 'Ab Inbev\\nData Scientist Salary\\n3-4 yrs experience (based on 33 salaries)',\n",
       " 'ZS\\nData Scientist Salary\\n2 yrs experience (based on 15 salaries)',\n",
       " 'Optum\\nData Scientist Salary\\n3-4 yrs experience (based on 32 salaries)',\n",
       " 'Reliance Jio\\nData Scientist Salary\\n3-4 yrs experience (based on 21 salaries)',\n",
       " 'Fractal Analytics\\nData Scientist Salary\\n2-4 yrs experience (based on 89 salaries)',\n",
       " 'Tiger Analytics\\nData Scientist Salary\\n2-4 yrs experience (based on 51 salaries)',\n",
       " 'UnitedHealth\\nData Scientist Salary\\n2-4 yrs experience (based on 57 salaries)',\n",
       " 'EXL Service\\nData Scientist Salary\\n3-4 yrs experience (based on 21 salaries)',\n",
       " 'Deloitte\\nData Scientist Salary\\n2-4 yrs experience (based on 69 salaries)']"
      ]
     },
     "execution_count": 182,
     "metadata": {},
     "output_type": "execute_result"
    }
   ],
   "source": [
    " \n",
    "Compny=browser.find_elements(By.XPATH,'//div[@class=\"company-info\"]')\n",
    "                             \n",
    "comp = []\n",
    "\n",
    "for i in Compny[0:10]:\n",
    "\n",
    "    comp.append(i.text)\n",
    "        \n",
    "comp"
   ]
  },
  {
   "cell_type": "code",
   "execution_count": 183,
   "id": "ead2f948",
   "metadata": {},
   "outputs": [
    {
     "data": {
      "text/plain": [
       "['3 yrs experience (based on 12 salaries)',\n",
       " '3-4 yrs experience (based on 33 salaries)',\n",
       " '2 yrs experience (based on 15 salaries)',\n",
       " '3-4 yrs experience (based on 32 salaries)',\n",
       " '3-4 yrs experience (based on 21 salaries)',\n",
       " '2-4 yrs experience (based on 89 salaries)',\n",
       " '2-4 yrs experience (based on 51 salaries)',\n",
       " '2-4 yrs experience (based on 57 salaries)',\n",
       " '3-4 yrs experience (based on 21 salaries)',\n",
       " '2-4 yrs experience (based on 69 salaries)']"
      ]
     },
     "execution_count": 183,
     "metadata": {},
     "output_type": "execute_result"
    }
   ],
   "source": [
    "exp_tag = browser.find_elements(By.XPATH,'//div[@class=\"sbold-list-header\"]')\n",
    "\n",
    "\n",
    "experience_req = []\n",
    "\n",
    "for i in exp_tag[0:10]:\n",
    "    \n",
    "    experience_req.append(i.text)\n",
    "\n",
    "\n",
    "experience_req"
   ]
  },
  {
   "cell_type": "code",
   "execution_count": 184,
   "id": "e2d97420",
   "metadata": {},
   "outputs": [
    {
     "data": {
      "text/plain": [
       "['₹ 25.0L',\n",
       " '₹ 36.0L',\n",
       " '₹ 15.0L',\n",
       " '₹ 26.2L',\n",
       " '₹ 11.0L',\n",
       " '₹ 22.0L',\n",
       " '₹ 11.0L',\n",
       " '₹ 22.5L',\n",
       " '₹ 5.6L',\n",
       " '₹ 26.2L']"
      ]
     },
     "execution_count": 184,
     "metadata": {},
     "output_type": "execute_result"
    }
   ],
   "source": [
    "min_sal = browser.find_elements(By.XPATH,'//div[@class=\"value body-medium\"]')\n",
    "\n",
    "\n",
    "Minimum_Salary = []\n",
    "\n",
    "for i in min_sal[0:10]:\n",
    "    Minimum_Salary.append(i.text)\n",
    "\n",
    "Minimum_Salary"
   ]
  },
  {
   "cell_type": "code",
   "execution_count": 185,
   "id": "319ae44d",
   "metadata": {},
   "outputs": [
    {
     "data": {
      "text/plain": [
       "['₹ 25.0L',\n",
       " '₹ 36.0L',\n",
       " '₹ 15.0L',\n",
       " '₹ 26.2L',\n",
       " '₹ 11.0L',\n",
       " '₹ 22.0L',\n",
       " '₹ 11.0L',\n",
       " '₹ 22.5L',\n",
       " '₹ 5.6L',\n",
       " '₹ 26.2L']"
      ]
     },
     "execution_count": 185,
     "metadata": {},
     "output_type": "execute_result"
    }
   ],
   "source": [
    "max_sal = browser.find_elements(By.XPATH,'//div[@class=\"value body-medium\"]')\n",
    "\n",
    "\n",
    "Maximum_Salary = []\n",
    "\n",
    "for i in max_sal[0:10]:\n",
    "    \n",
    "    Maximum_Salary.append(i.text)\n",
    "\n",
    "\n",
    "Maximum_Salary"
   ]
  },
  {
   "cell_type": "code",
   "execution_count": 186,
   "id": "d2c4bcf4",
   "metadata": {},
   "outputs": [
    {
     "data": {
      "text/plain": [
       "['₹ 30.6L',\n",
       " '₹ 20.8L',\n",
       " '₹ 16.7L',\n",
       " '₹ 15.9L',\n",
       " '₹ 15.7L',\n",
       " '₹ 15.5L',\n",
       " '₹ 14.8L',\n",
       " '₹ 14.0L',\n",
       " '₹ 13.2L',\n",
       " '₹ 12.8L']"
      ]
     },
     "execution_count": 186,
     "metadata": {},
     "output_type": "execute_result"
    }
   ],
   "source": [
    "avg_sal = browser.find_elements(By.XPATH,'//p[@class=\"averageCtc\"]')\n",
    "\n",
    "Average_Salary = []\n",
    "\n",
    "for i in avg_sal[0:10]:\n",
    "    \n",
    "    Average_Salary.append(i.text)\n",
    "\n",
    "\n",
    "Average_Salary"
   ]
  },
  {
   "cell_type": "code",
   "execution_count": 187,
   "id": "66fd95cd",
   "metadata": {},
   "outputs": [
    {
     "data": {
      "text/html": [
       "<div>\n",
       "<style scoped>\n",
       "    .dataframe tbody tr th:only-of-type {\n",
       "        vertical-align: middle;\n",
       "    }\n",
       "\n",
       "    .dataframe tbody tr th {\n",
       "        vertical-align: top;\n",
       "    }\n",
       "\n",
       "    .dataframe thead th {\n",
       "        text-align: right;\n",
       "    }\n",
       "</style>\n",
       "<table border=\"1\" class=\"dataframe\">\n",
       "  <thead>\n",
       "    <tr style=\"text-align: right;\">\n",
       "      <th></th>\n",
       "      <th>Company Name</th>\n",
       "      <th>Experience Required</th>\n",
       "      <th>Minimum Salary</th>\n",
       "      <th>Maximum Salary</th>\n",
       "      <th>Average Salary</th>\n",
       "    </tr>\n",
       "  </thead>\n",
       "  <tbody>\n",
       "    <tr>\n",
       "      <th>0</th>\n",
       "      <td>Walmart\\nData Scientist Salary\\n3 yrs experien...</td>\n",
       "      <td>3 yrs experience (based on 12 salaries)</td>\n",
       "      <td>₹ 25.0L</td>\n",
       "      <td>₹ 25.0L</td>\n",
       "      <td>₹ 25.0L</td>\n",
       "    </tr>\n",
       "    <tr>\n",
       "      <th>1</th>\n",
       "      <td>Ab Inbev\\nData Scientist Salary\\n3-4 yrs exper...</td>\n",
       "      <td>3-4 yrs experience (based on 33 salaries)</td>\n",
       "      <td>₹ 36.0L</td>\n",
       "      <td>₹ 36.0L</td>\n",
       "      <td>₹ 36.0L</td>\n",
       "    </tr>\n",
       "    <tr>\n",
       "      <th>2</th>\n",
       "      <td>ZS\\nData Scientist Salary\\n2 yrs experience (b...</td>\n",
       "      <td>2 yrs experience (based on 15 salaries)</td>\n",
       "      <td>₹ 15.0L</td>\n",
       "      <td>₹ 15.0L</td>\n",
       "      <td>₹ 15.0L</td>\n",
       "    </tr>\n",
       "    <tr>\n",
       "      <th>3</th>\n",
       "      <td>Optum\\nData Scientist Salary\\n3-4 yrs experien...</td>\n",
       "      <td>3-4 yrs experience (based on 32 salaries)</td>\n",
       "      <td>₹ 26.2L</td>\n",
       "      <td>₹ 26.2L</td>\n",
       "      <td>₹ 26.2L</td>\n",
       "    </tr>\n",
       "    <tr>\n",
       "      <th>4</th>\n",
       "      <td>Reliance Jio\\nData Scientist Salary\\n3-4 yrs e...</td>\n",
       "      <td>3-4 yrs experience (based on 21 salaries)</td>\n",
       "      <td>₹ 11.0L</td>\n",
       "      <td>₹ 11.0L</td>\n",
       "      <td>₹ 11.0L</td>\n",
       "    </tr>\n",
       "    <tr>\n",
       "      <th>5</th>\n",
       "      <td>Fractal Analytics\\nData Scientist Salary\\n2-4 ...</td>\n",
       "      <td>2-4 yrs experience (based on 89 salaries)</td>\n",
       "      <td>₹ 22.0L</td>\n",
       "      <td>₹ 22.0L</td>\n",
       "      <td>₹ 22.0L</td>\n",
       "    </tr>\n",
       "    <tr>\n",
       "      <th>6</th>\n",
       "      <td>Tiger Analytics\\nData Scientist Salary\\n2-4 yr...</td>\n",
       "      <td>2-4 yrs experience (based on 51 salaries)</td>\n",
       "      <td>₹ 11.0L</td>\n",
       "      <td>₹ 11.0L</td>\n",
       "      <td>₹ 11.0L</td>\n",
       "    </tr>\n",
       "    <tr>\n",
       "      <th>7</th>\n",
       "      <td>UnitedHealth\\nData Scientist Salary\\n2-4 yrs e...</td>\n",
       "      <td>2-4 yrs experience (based on 57 salaries)</td>\n",
       "      <td>₹ 22.5L</td>\n",
       "      <td>₹ 22.5L</td>\n",
       "      <td>₹ 22.5L</td>\n",
       "    </tr>\n",
       "    <tr>\n",
       "      <th>8</th>\n",
       "      <td>EXL Service\\nData Scientist Salary\\n3-4 yrs ex...</td>\n",
       "      <td>3-4 yrs experience (based on 21 salaries)</td>\n",
       "      <td>₹ 5.6L</td>\n",
       "      <td>₹ 5.6L</td>\n",
       "      <td>₹ 5.6L</td>\n",
       "    </tr>\n",
       "    <tr>\n",
       "      <th>9</th>\n",
       "      <td>Deloitte\\nData Scientist Salary\\n2-4 yrs exper...</td>\n",
       "      <td>2-4 yrs experience (based on 69 salaries)</td>\n",
       "      <td>₹ 26.2L</td>\n",
       "      <td>₹ 26.2L</td>\n",
       "      <td>₹ 26.2L</td>\n",
       "    </tr>\n",
       "  </tbody>\n",
       "</table>\n",
       "</div>"
      ],
      "text/plain": [
       "                                        Company Name  \\\n",
       "0  Walmart\\nData Scientist Salary\\n3 yrs experien...   \n",
       "1  Ab Inbev\\nData Scientist Salary\\n3-4 yrs exper...   \n",
       "2  ZS\\nData Scientist Salary\\n2 yrs experience (b...   \n",
       "3  Optum\\nData Scientist Salary\\n3-4 yrs experien...   \n",
       "4  Reliance Jio\\nData Scientist Salary\\n3-4 yrs e...   \n",
       "5  Fractal Analytics\\nData Scientist Salary\\n2-4 ...   \n",
       "6  Tiger Analytics\\nData Scientist Salary\\n2-4 yr...   \n",
       "7  UnitedHealth\\nData Scientist Salary\\n2-4 yrs e...   \n",
       "8  EXL Service\\nData Scientist Salary\\n3-4 yrs ex...   \n",
       "9  Deloitte\\nData Scientist Salary\\n2-4 yrs exper...   \n",
       "\n",
       "                         Experience Required Minimum Salary Maximum Salary  \\\n",
       "0    3 yrs experience (based on 12 salaries)        ₹ 25.0L        ₹ 25.0L   \n",
       "1  3-4 yrs experience (based on 33 salaries)        ₹ 36.0L        ₹ 36.0L   \n",
       "2    2 yrs experience (based on 15 salaries)        ₹ 15.0L        ₹ 15.0L   \n",
       "3  3-4 yrs experience (based on 32 salaries)        ₹ 26.2L        ₹ 26.2L   \n",
       "4  3-4 yrs experience (based on 21 salaries)        ₹ 11.0L        ₹ 11.0L   \n",
       "5  2-4 yrs experience (based on 89 salaries)        ₹ 22.0L        ₹ 22.0L   \n",
       "6  2-4 yrs experience (based on 51 salaries)        ₹ 11.0L        ₹ 11.0L   \n",
       "7  2-4 yrs experience (based on 57 salaries)        ₹ 22.5L        ₹ 22.5L   \n",
       "8  3-4 yrs experience (based on 21 salaries)         ₹ 5.6L         ₹ 5.6L   \n",
       "9  2-4 yrs experience (based on 69 salaries)        ₹ 26.2L        ₹ 26.2L   \n",
       "\n",
       "  Average Salary  \n",
       "0        ₹ 25.0L  \n",
       "1        ₹ 36.0L  \n",
       "2        ₹ 15.0L  \n",
       "3        ₹ 26.2L  \n",
       "4        ₹ 11.0L  \n",
       "5        ₹ 22.0L  \n",
       "6        ₹ 11.0L  \n",
       "7        ₹ 22.5L  \n",
       "8         ₹ 5.6L  \n",
       "9        ₹ 26.2L  "
      ]
     },
     "execution_count": 187,
     "metadata": {},
     "output_type": "execute_result"
    }
   ],
   "source": [
    "df=pd.DataFrame()\n",
    "\n",
    "\n",
    "df['Company Name'] = comp\n",
    "df['Experience Required'] = experience_req\n",
    "df['Minimum Salary'] = Minimum_Salary\n",
    "df['Maximum Salary'] = Minimum_Salary\n",
    "df['Average Salary'] = Minimum_Salary\n",
    "df"
   ]
  },
  {
   "cell_type": "code",
   "execution_count": null,
   "id": "bcbb9197",
   "metadata": {},
   "outputs": [],
   "source": []
  },
  {
   "cell_type": "code",
   "execution_count": null,
   "id": "265c67eb",
   "metadata": {},
   "outputs": [],
   "source": []
  }
 ],
 "metadata": {
  "kernelspec": {
   "display_name": "Python 3 (ipykernel)",
   "language": "python",
   "name": "python3"
  },
  "language_info": {
   "codemirror_mode": {
    "name": "ipython",
    "version": 3
   },
   "file_extension": ".py",
   "mimetype": "text/x-python",
   "name": "python",
   "nbconvert_exporter": "python",
   "pygments_lexer": "ipython3",
   "version": "3.9.7"
  }
 },
 "nbformat": 4,
 "nbformat_minor": 5
}
